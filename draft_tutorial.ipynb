{
 "cells": [
  {
   "cell_type": "markdown",
   "metadata": {
    "id": "T8rvGO8rI-ww"
   },
   "source": [
    "# Exploring the Impacts of Architecture and Scale on GNN Performance on Relational Data\n",
    "By: Joseph Guman, Atindra Jha, and Christopher Pondoc"
   ]
  },
  {
   "cell_type": "markdown",
   "metadata": {},
   "source": [
    "## Introduction\n",
    "Welcome back to Relbench! In this tutorial, we'll dive a bit deeper into the benchmark + Relational Deep Learning and explore several choices around architecture, scale, and generalizability. In particular, we'll look to answer the following questions:\n",
    "\n",
    "1. Can we train our Relational Deep Learning on one entity classification task and expect strong zero-shot performance on another entity classification task? What happens if we finetune the model?\n",
    "2. How does our choice of using embedding models to generate expressive node features impact our performance on node classification tasks?\n",
    "3. How can we alter and/or extend the architecture of our existing Relational Deep Learning model to improve performance on different tasks?\n",
    "\n",
    "This notebook already assumes you've looked through the tutorials on [loading in data](https://github.com/snap-stanford/relbench/blob/main/tutorials/load_data.ipynb) and [training a model](https://github.com/snap-stanford/relbench/blob/main/tutorials/train_model.ipynb), as our walkthrough uses those guides as a launchpad to explore deeper questions. If you haven't had a chance to look through those notebooks, we suggest starting there first.\n",
    "\n",
    "With all that being said, let's get started!"
   ]
  },
  {
   "cell_type": "markdown",
   "metadata": {},
   "source": [
    "## Question 0: Why Relational Deep Learning\n",
    "Before getting started, let's motivate the use of Relational Deep Learning by defining a non-GNN baseline to compare against. One of the main issues with older methods -- such as tabular methods or even just using standard statistical ML algorithms -- is that they either only work on one table or require lots of heavy feature engineering to reap the benefits of GNNs. On the other hand, Relational Deep Learning allows us to learn directly on relational data without feature engineering.\n",
    "\n",
    "For our baseline, let's use a classical statiscal model. In particular, let's use [LightGBM](https://lightgbm.readthedocs.io/en/stable/), which is a gradient boosting framework that uses tree-based learning algorithms."
   ]
  },
  {
   "cell_type": "code",
   "execution_count": 1,
   "metadata": {},
   "outputs": [
    {
     "name": "stderr",
     "output_type": "stream",
     "text": [
      "/home/cpondoc/classes/cs224w/project/env/lib/python3.9/site-packages/sentence_transformers/cross_encoder/CrossEncoder.py:13: TqdmWarning: IProgress not found. Please update jupyter and ipywidgets. See https://ipywidgets.readthedocs.io/en/stable/user_install.html\n",
      "  from tqdm.autonotebook import tqdm, trange\n"
     ]
    },
    {
     "name": "stdout",
     "output_type": "stream",
     "text": [
      "Loading Database object from /home/cpondoc/.cache/relbench/rel-f1/db...\n",
      "Done in 0.02 seconds.\n"
     ]
    },
    {
     "name": "stderr",
     "output_type": "stream",
     "text": [
      "Embedding raw data in mini-batch: 100%|██████████| 45/45 [00:00<00:00, 165.68it/s]\n",
      "Embedding raw data in mini-batch: 100%|██████████| 45/45 [00:00<00:00, 246.03it/s]\n",
      "Embedding raw data in mini-batch: 100%|██████████| 45/45 [00:00<00:00, 246.42it/s]\n",
      "Embedding raw data in mini-batch: 100%|██████████| 45/45 [00:00<00:00, 224.15it/s]\n",
      "Embedding raw data in mini-batch: 100%|██████████| 45/45 [00:00<00:00, 248.37it/s]\n",
      "Embedding raw data in mini-batch: 100%|██████████| 3/3 [00:00<00:00, 285.49it/s]\n",
      "Embedding raw data in mini-batch: 100%|██████████| 3/3 [00:00<00:00, 281.21it/s]\n",
      "Embedding raw data in mini-batch: 100%|██████████| 3/3 [00:00<00:00, 286.29it/s]\n",
      "Embedding raw data in mini-batch: 100%|██████████| 3/3 [00:00<00:00, 228.77it/s]\n",
      "Embedding raw data in mini-batch: 100%|██████████| 3/3 [00:00<00:00, 276.64it/s]\n",
      "Embedding raw data in mini-batch: 100%|██████████| 3/3 [00:00<00:00, 212.32it/s]\n",
      "Embedding raw data in mini-batch: 100%|██████████| 3/3 [00:00<00:00, 230.23it/s]\n",
      "Embedding raw data in mini-batch: 100%|██████████| 3/3 [00:00<00:00, 229.07it/s]\n",
      "Embedding raw data in mini-batch: 100%|██████████| 3/3 [00:00<00:00, 195.13it/s]\n",
      "Embedding raw data in mini-batch: 100%|██████████| 3/3 [00:00<00:00, 226.14it/s]\n",
      "[I 2024-12-06 15:32:44,623] A new study created in memory with name: no-name-f269b952-6b5d-49f7-a100-ecb3c696f04c\n",
      "/home/cpondoc/classes/cs224w/project/env/lib/python3.9/site-packages/lightgbm/engine.py:186: LGBMDeprecationWarning: Argument 'categorical_feature' to train() is deprecated and will be removed in a future release. Set 'categorical_feature' when calling lightgbm.Dataset() instead. See https://github.com/microsoft/LightGBM/issues/6435.\n",
      "  _emit_dataset_kwarg_warning(\"train\", \"categorical_feature\")\n",
      "[I 2024-12-06 15:32:48,435] Trial 0 finished with value: 0.6722902494331067 and parameters: {'max_depth': 4, 'learning_rate': 0.021816611956758554, 'num_leaves': 811, 'subsample': 0.17281654449169184, 'colsample_bytree': 0.2237425286291762, 'lambda_l1': 0.000373151191600059, 'lambda_l2': 0.008031010523910323, 'min_data_in_leaf': 10}. Best is trial 0 with value: 0.6722902494331067.\n",
      "/home/cpondoc/classes/cs224w/project/env/lib/python3.9/site-packages/lightgbm/engine.py:186: LGBMDeprecationWarning: Argument 'categorical_feature' to train() is deprecated and will be removed in a future release. Set 'categorical_feature' when calling lightgbm.Dataset() instead. See https://github.com/microsoft/LightGBM/issues/6435.\n",
      "  _emit_dataset_kwarg_warning(\"train\", \"categorical_feature\")\n",
      "[I 2024-12-06 15:32:50,471] Trial 1 finished with value: 0.6654603174603175 and parameters: {'max_depth': 6, 'learning_rate': 0.06082500102338001, 'num_leaves': 682, 'subsample': 0.14352786063245954, 'colsample_bytree': 0.9239584587692603, 'lambda_l1': 0.007425823919884825, 'lambda_l2': 2.076778416266723e-06, 'min_data_in_leaf': 52}. Best is trial 0 with value: 0.6722902494331067.\n",
      "/home/cpondoc/classes/cs224w/project/env/lib/python3.9/site-packages/lightgbm/engine.py:186: LGBMDeprecationWarning: Argument 'categorical_feature' to train() is deprecated and will be removed in a future release. Set 'categorical_feature' when calling lightgbm.Dataset() instead. See https://github.com/microsoft/LightGBM/issues/6435.\n",
      "  _emit_dataset_kwarg_warning(\"train\", \"categorical_feature\")\n",
      "[I 2024-12-06 15:32:51,611] Trial 2 finished with value: 0.6759727891156463 and parameters: {'max_depth': 3, 'learning_rate': 0.09122686077002999, 'num_leaves': 8, 'subsample': 0.5425164946645681, 'colsample_bytree': 0.47860211668656044, 'lambda_l1': 0.4006997812076416, 'lambda_l2': 4.737786588447141e-08, 'min_data_in_leaf': 40}. Best is trial 2 with value: 0.6759727891156463.\n",
      "/home/cpondoc/classes/cs224w/project/env/lib/python3.9/site-packages/lightgbm/engine.py:186: LGBMDeprecationWarning: Argument 'categorical_feature' to train() is deprecated and will be removed in a future release. Set 'categorical_feature' when calling lightgbm.Dataset() instead. See https://github.com/microsoft/LightGBM/issues/6435.\n",
      "  _emit_dataset_kwarg_warning(\"train\", \"categorical_feature\")\n",
      "[LightGBM] [Fatal] Reducing `min_data_in_leaf` with `feature_pre_filter=true` may cause unexpected behaviour for features that were pre-filtered by the larger `min_data_in_leaf`.\n",
      "You need to set `feature_pre_filter=false` to dynamically change the `min_data_in_leaf`.\n",
      "[LightGBM] [Fatal] Reducing `min_data_in_leaf` with `feature_pre_filter=true` may cause unexpected behaviour for features that were pre-filtered by the larger `min_data_in_leaf`.\n",
      "You need to set `feature_pre_filter=false` to dynamically change the `min_data_in_leaf`.\n",
      "[I 2024-12-06 15:32:59,352] Trial 3 finished with value: 0.6438458049886622 and parameters: {'max_depth': 7, 'learning_rate': 0.05037206280777363, 'num_leaves': 346, 'subsample': 0.6483406492676125, 'colsample_bytree': 0.6796015440348215, 'lambda_l1': 1.725447594531557e-08, 'lambda_l2': 0.0011474338705424613, 'min_data_in_leaf': 7}. Best is trial 2 with value: 0.6759727891156463.\n",
      "/home/cpondoc/classes/cs224w/project/env/lib/python3.9/site-packages/lightgbm/engine.py:186: LGBMDeprecationWarning: Argument 'categorical_feature' to train() is deprecated and will be removed in a future release. Set 'categorical_feature' when calling lightgbm.Dataset() instead. See https://github.com/microsoft/LightGBM/issues/6435.\n",
      "  _emit_dataset_kwarg_warning(\"train\", \"categorical_feature\")\n",
      "[I 2024-12-06 15:33:01,521] Trial 4 finished with value: 0.630530612244898 and parameters: {'max_depth': 8, 'learning_rate': 0.002513215908744613, 'num_leaves': 501, 'subsample': 0.32196788823032424, 'colsample_bytree': 0.35368004722716095, 'lambda_l1': 0.0016711683999084115, 'lambda_l2': 2.658595352421535e-06, 'min_data_in_leaf': 37}. Best is trial 2 with value: 0.6759727891156463.\n",
      "/home/cpondoc/classes/cs224w/project/env/lib/python3.9/site-packages/lightgbm/engine.py:186: LGBMDeprecationWarning: Argument 'categorical_feature' to train() is deprecated and will be removed in a future release. Set 'categorical_feature' when calling lightgbm.Dataset() instead. See https://github.com/microsoft/LightGBM/issues/6435.\n",
      "  _emit_dataset_kwarg_warning(\"train\", \"categorical_feature\")\n",
      "[I 2024-12-06 15:33:06,353] Trial 5 finished with value: 0.6465124716553288 and parameters: {'max_depth': 10, 'learning_rate': 0.06405011762803062, 'num_leaves': 454, 'subsample': 0.7913956786694626, 'colsample_bytree': 0.4041376949272406, 'lambda_l1': 0.011698455053994566, 'lambda_l2': 1.0745541745849308e-08, 'min_data_in_leaf': 36}. Best is trial 2 with value: 0.6759727891156463.\n",
      "/home/cpondoc/classes/cs224w/project/env/lib/python3.9/site-packages/lightgbm/engine.py:186: LGBMDeprecationWarning: Argument 'categorical_feature' to train() is deprecated and will be removed in a future release. Set 'categorical_feature' when calling lightgbm.Dataset() instead. See https://github.com/microsoft/LightGBM/issues/6435.\n",
      "  _emit_dataset_kwarg_warning(\"train\", \"categorical_feature\")\n",
      "[I 2024-12-06 15:33:14,938] Trial 6 finished with value: 0.6241814058956917 and parameters: {'max_depth': 9, 'learning_rate': 0.0023852446511041596, 'num_leaves': 391, 'subsample': 0.747919071924212, 'colsample_bytree': 0.44572089825760386, 'lambda_l1': 0.013545797222443588, 'lambda_l2': 2.4273662932500707e-06, 'min_data_in_leaf': 51}. Best is trial 2 with value: 0.6759727891156463.\n",
      "/home/cpondoc/classes/cs224w/project/env/lib/python3.9/site-packages/lightgbm/engine.py:186: LGBMDeprecationWarning: Argument 'categorical_feature' to train() is deprecated and will be removed in a future release. Set 'categorical_feature' when calling lightgbm.Dataset() instead. See https://github.com/microsoft/LightGBM/issues/6435.\n",
      "  _emit_dataset_kwarg_warning(\"train\", \"categorical_feature\")\n",
      "[I 2024-12-06 15:33:16,175] Trial 7 finished with value: 0.6558548752834468 and parameters: {'max_depth': 8, 'learning_rate': 0.027049690544521093, 'num_leaves': 627, 'subsample': 0.24602066448375887, 'colsample_bytree': 0.22357160503267648, 'lambda_l1': 0.07448782926604541, 'lambda_l2': 8.41287337193154, 'min_data_in_leaf': 68}. Best is trial 2 with value: 0.6759727891156463.\n",
      "/home/cpondoc/classes/cs224w/project/env/lib/python3.9/site-packages/lightgbm/engine.py:186: LGBMDeprecationWarning: Argument 'categorical_feature' to train() is deprecated and will be removed in a future release. Set 'categorical_feature' when calling lightgbm.Dataset() instead. See https://github.com/microsoft/LightGBM/issues/6435.\n",
      "  _emit_dataset_kwarg_warning(\"train\", \"categorical_feature\")\n",
      "[I 2024-12-06 15:33:18,249] Trial 8 finished with value: 0.6642902494331065 and parameters: {'max_depth': 3, 'learning_rate': 0.004129247849105431, 'num_leaves': 679, 'subsample': 0.30435908937273115, 'colsample_bytree': 0.6877784901822057, 'lambda_l1': 4.718740741119566e-08, 'lambda_l2': 1.5671080427778466e-09, 'min_data_in_leaf': 53}. Best is trial 2 with value: 0.6759727891156463.\n",
      "/home/cpondoc/classes/cs224w/project/env/lib/python3.9/site-packages/lightgbm/engine.py:186: LGBMDeprecationWarning: Argument 'categorical_feature' to train() is deprecated and will be removed in a future release. Set 'categorical_feature' when calling lightgbm.Dataset() instead. See https://github.com/microsoft/LightGBM/issues/6435.\n",
      "  _emit_dataset_kwarg_warning(\"train\", \"categorical_feature\")\n",
      "[I 2024-12-06 15:33:21,652] Trial 9 finished with value: 0.6455873015873017 and parameters: {'max_depth': 7, 'learning_rate': 0.009719918551497222, 'num_leaves': 943, 'subsample': 0.5895384992101148, 'colsample_bytree': 0.5443101932110945, 'lambda_l1': 7.687243472934353e-08, 'lambda_l2': 0.809757196029906, 'min_data_in_leaf': 57}. Best is trial 2 with value: 0.6759727891156463.\n",
      "/home/cpondoc/classes/cs224w/project/env/lib/python3.9/site-packages/lightgbm/engine.py:186: LGBMDeprecationWarning: Argument 'categorical_feature' to train() is deprecated and will be removed in a future release. Set 'categorical_feature' when calling lightgbm.Dataset() instead. See https://github.com/microsoft/LightGBM/issues/6435.\n",
      "  _emit_dataset_kwarg_warning(\"train\", \"categorical_feature\")\n"
     ]
    },
    {
     "name": "stdout",
     "output_type": "stream",
     "text": [
      "Train: {'average_precision': np.float64(0.9648215170792156), 'accuracy': 0.8803785820699325, 'f1': np.float64(0.9363843967003775), 'roc_auc': np.float64(0.7986179326016077)}\n",
      "Val: {'average_precision': np.float64(0.8824602257190515), 'accuracy': 0.7791519434628975, 'f1': np.float64(0.8758689175769613), 'roc_auc': np.float64(0.6759727891156463)}\n",
      "Test: {'average_precision': np.float64(0.8438215523942226), 'accuracy': 0.7051282051282052, 'f1': np.float64(0.8270676691729323), 'roc_auc': np.float64(0.7202215390621187)}\n"
     ]
    }
   ],
   "source": [
    "# Run LightGBM baseline\n",
    "from src.models.baseline import train_model\n",
    "\n",
    "train_metrics, val_metrics, test_metrics = train_model(\"rel-f1\", \"driver-dnf\")\n",
    "\n",
    "# Print corresponding statistics\n",
    "print(f\"Train: {train_metrics}\")\n",
    "print(f\"Val: {val_metrics}\")\n",
    "print(f\"Test: {test_metrics}\")"
   ]
  },
  {
   "cell_type": "markdown",
   "metadata": {},
   "source": [
    "Great! It looks like just by taking together all of raw tables and merging them together, we're able to achieve reasonable baseline performance. Let's see if we can do better without having to merge together all of the tables, though, with Relational Deep Learning!"
   ]
  },
  {
   "cell_type": "markdown",
   "metadata": {},
   "source": [
    "## Question 1: Can we generalize?\n",
    "Let's take a look at our first question, which involves looking at whether our Relational Deep Learning model can generalize to other tasks with/without finetuning."
   ]
  },
  {
   "cell_type": "markdown",
   "metadata": {},
   "source": [
    "Let's first start by looking setting up Relbench. As with the other tutorials, we're taking a look at the `rel-f1` dataset and focusing on node classification tasks. We'll begin by training a model on the `driver-dnf` task, which predicts whether a driver will not finish a race in the next month."
   ]
  },
  {
   "cell_type": "code",
   "execution_count": 2,
   "metadata": {},
   "outputs": [],
   "source": [
    "from src.tasks.tasks import initialize_task, db_to_graph\n",
    "import torch\n",
    "from torch.nn import BCEWithLogitsLoss\n",
    "from torch_geometric.seed import seed_everything\n",
    "\n",
    "# Set up dataset and task, define metrics and loss\n",
    "dataset, task, train_table, val_table, test_table = initialize_task(\n",
    "    \"rel-f1\", \"driver-dnf\"\n",
    ")\n",
    "loss_fn = BCEWithLogitsLoss()\n",
    "\n",
    "# Set up device\n",
    "seed_everything(42)\n",
    "device = torch.device(\"cuda\" if torch.cuda.is_available() else \"cpu\")"
   ]
  },
  {
   "cell_type": "markdown",
   "metadata": {},
   "source": [
    "We can then preprocess all of our Relbench data."
   ]
  },
  {
   "cell_type": "code",
   "execution_count": 3,
   "metadata": {},
   "outputs": [
    {
     "name": "stderr",
     "output_type": "stream",
     "text": [
      "/home/cpondoc/classes/cs224w/project/env/lib/python3.9/site-packages/torch_frame/utils/io.py:98: FutureWarning: You are using `torch.load` with `weights_only=False` (the current default value), which uses the default pickle module implicitly. It is possible to construct malicious pickle data which will execute arbitrary code during unpickling (See https://github.com/pytorch/pytorch/blob/main/SECURITY.md#untrusted-models for more details). In a future release, the default value for `weights_only` will be flipped to `True`. This limits the functions that could be executed during unpickling. Arbitrary objects will no longer be allowed to be loaded via this mode unless they are explicitly allowlisted by the user via `torch.serialization.add_safe_globals`. We recommend you start setting `weights_only=True` for any use case where you don't have full control of the loaded file. Please open an issue on GitHub for any issues related to this experimental feature.\n",
      "  tf_dict, col_stats = torch.load(path)\n",
      "/home/cpondoc/classes/cs224w/project/env/lib/python3.9/site-packages/torch_frame/utils/io.py:98: FutureWarning: You are using `torch.load` with `weights_only=False` (the current default value), which uses the default pickle module implicitly. It is possible to construct malicious pickle data which will execute arbitrary code during unpickling (See https://github.com/pytorch/pytorch/blob/main/SECURITY.md#untrusted-models for more details). In a future release, the default value for `weights_only` will be flipped to `True`. This limits the functions that could be executed during unpickling. Arbitrary objects will no longer be allowed to be loaded via this mode unless they are explicitly allowlisted by the user via `torch.serialization.add_safe_globals`. We recommend you start setting `weights_only=True` for any use case where you don't have full control of the loaded file. Please open an issue on GitHub for any issues related to this experimental feature.\n",
      "  tf_dict, col_stats = torch.load(path)\n",
      "/home/cpondoc/classes/cs224w/project/env/lib/python3.9/site-packages/torch_frame/utils/io.py:98: FutureWarning: You are using `torch.load` with `weights_only=False` (the current default value), which uses the default pickle module implicitly. It is possible to construct malicious pickle data which will execute arbitrary code during unpickling (See https://github.com/pytorch/pytorch/blob/main/SECURITY.md#untrusted-models for more details). In a future release, the default value for `weights_only` will be flipped to `True`. This limits the functions that could be executed during unpickling. Arbitrary objects will no longer be allowed to be loaded via this mode unless they are explicitly allowlisted by the user via `torch.serialization.add_safe_globals`. We recommend you start setting `weights_only=True` for any use case where you don't have full control of the loaded file. Please open an issue on GitHub for any issues related to this experimental feature.\n",
      "  tf_dict, col_stats = torch.load(path)\n",
      "/home/cpondoc/classes/cs224w/project/env/lib/python3.9/site-packages/torch_frame/utils/io.py:98: FutureWarning: You are using `torch.load` with `weights_only=False` (the current default value), which uses the default pickle module implicitly. It is possible to construct malicious pickle data which will execute arbitrary code during unpickling (See https://github.com/pytorch/pytorch/blob/main/SECURITY.md#untrusted-models for more details). In a future release, the default value for `weights_only` will be flipped to `True`. This limits the functions that could be executed during unpickling. Arbitrary objects will no longer be allowed to be loaded via this mode unless they are explicitly allowlisted by the user via `torch.serialization.add_safe_globals`. We recommend you start setting `weights_only=True` for any use case where you don't have full control of the loaded file. Please open an issue on GitHub for any issues related to this experimental feature.\n",
      "  tf_dict, col_stats = torch.load(path)\n",
      "/home/cpondoc/classes/cs224w/project/env/lib/python3.9/site-packages/torch_frame/utils/io.py:98: FutureWarning: You are using `torch.load` with `weights_only=False` (the current default value), which uses the default pickle module implicitly. It is possible to construct malicious pickle data which will execute arbitrary code during unpickling (See https://github.com/pytorch/pytorch/blob/main/SECURITY.md#untrusted-models for more details). In a future release, the default value for `weights_only` will be flipped to `True`. This limits the functions that could be executed during unpickling. Arbitrary objects will no longer be allowed to be loaded via this mode unless they are explicitly allowlisted by the user via `torch.serialization.add_safe_globals`. We recommend you start setting `weights_only=True` for any use case where you don't have full control of the loaded file. Please open an issue on GitHub for any issues related to this experimental feature.\n",
      "  tf_dict, col_stats = torch.load(path)\n",
      "/home/cpondoc/classes/cs224w/project/env/lib/python3.9/site-packages/torch_frame/utils/io.py:98: FutureWarning: You are using `torch.load` with `weights_only=False` (the current default value), which uses the default pickle module implicitly. It is possible to construct malicious pickle data which will execute arbitrary code during unpickling (See https://github.com/pytorch/pytorch/blob/main/SECURITY.md#untrusted-models for more details). In a future release, the default value for `weights_only` will be flipped to `True`. This limits the functions that could be executed during unpickling. Arbitrary objects will no longer be allowed to be loaded via this mode unless they are explicitly allowlisted by the user via `torch.serialization.add_safe_globals`. We recommend you start setting `weights_only=True` for any use case where you don't have full control of the loaded file. Please open an issue on GitHub for any issues related to this experimental feature.\n",
      "  tf_dict, col_stats = torch.load(path)\n",
      "/home/cpondoc/classes/cs224w/project/env/lib/python3.9/site-packages/torch_frame/utils/io.py:98: FutureWarning: You are using `torch.load` with `weights_only=False` (the current default value), which uses the default pickle module implicitly. It is possible to construct malicious pickle data which will execute arbitrary code during unpickling (See https://github.com/pytorch/pytorch/blob/main/SECURITY.md#untrusted-models for more details). In a future release, the default value for `weights_only` will be flipped to `True`. This limits the functions that could be executed during unpickling. Arbitrary objects will no longer be allowed to be loaded via this mode unless they are explicitly allowlisted by the user via `torch.serialization.add_safe_globals`. We recommend you start setting `weights_only=True` for any use case where you don't have full control of the loaded file. Please open an issue on GitHub for any issues related to this experimental feature.\n",
      "  tf_dict, col_stats = torch.load(path)\n",
      "/home/cpondoc/classes/cs224w/project/env/lib/python3.9/site-packages/torch_frame/utils/io.py:98: FutureWarning: You are using `torch.load` with `weights_only=False` (the current default value), which uses the default pickle module implicitly. It is possible to construct malicious pickle data which will execute arbitrary code during unpickling (See https://github.com/pytorch/pytorch/blob/main/SECURITY.md#untrusted-models for more details). In a future release, the default value for `weights_only` will be flipped to `True`. This limits the functions that could be executed during unpickling. Arbitrary objects will no longer be allowed to be loaded via this mode unless they are explicitly allowlisted by the user via `torch.serialization.add_safe_globals`. We recommend you start setting `weights_only=True` for any use case where you don't have full control of the loaded file. Please open an issue on GitHub for any issues related to this experimental feature.\n",
      "  tf_dict, col_stats = torch.load(path)\n",
      "/home/cpondoc/classes/cs224w/project/env/lib/python3.9/site-packages/torch_frame/utils/io.py:98: FutureWarning: You are using `torch.load` with `weights_only=False` (the current default value), which uses the default pickle module implicitly. It is possible to construct malicious pickle data which will execute arbitrary code during unpickling (See https://github.com/pytorch/pytorch/blob/main/SECURITY.md#untrusted-models for more details). In a future release, the default value for `weights_only` will be flipped to `True`. This limits the functions that could be executed during unpickling. Arbitrary objects will no longer be allowed to be loaded via this mode unless they are explicitly allowlisted by the user via `torch.serialization.add_safe_globals`. We recommend you start setting `weights_only=True` for any use case where you don't have full control of the loaded file. Please open an issue on GitHub for any issues related to this experimental feature.\n",
      "  tf_dict, col_stats = torch.load(path)\n"
     ]
    }
   ],
   "source": [
    "import os\n",
    "from relbench.modeling.graph import make_pkey_fkey_graph\n",
    "from torch_frame.config.text_embedder import TextEmbedderConfig\n",
    "from src.embeddings.glove import GloveTextEmbedding\n",
    "\n",
    "# Preprocess the database data and set up our text embedder\n",
    "db, col_to_stype_dict = db_to_graph(dataset)\n",
    "text_embedder_cfg = TextEmbedderConfig(\n",
    "    text_embedder=GloveTextEmbedding(device=device), batch_size=128\n",
    ")\n",
    "\n",
    "# Load in data used to train model\n",
    "root_dir = \"./data\"\n",
    "data, col_stats_dict = make_pkey_fkey_graph(\n",
    "    db,\n",
    "    col_to_stype_dict=col_to_stype_dict,\n",
    "    text_embedder_cfg=text_embedder_cfg,\n",
    "    cache_dir=os.path.join(root_dir, f\"rel-f1_materialized_cache\"),\n",
    ")"
   ]
  },
  {
   "cell_type": "markdown",
   "metadata": {},
   "source": [
    "Next, let's load in the data and have our model set up."
   ]
  },
  {
   "cell_type": "code",
   "execution_count": 4,
   "metadata": {},
   "outputs": [],
   "source": [
    "from src.models.loader import get_loader\n",
    "from src.models.rdl.graph_sage import RDLModel\n",
    "\n",
    "# Set up data loader and model\n",
    "loader_dict, entity_table = get_loader(train_table, val_table, test_table, task, data)\n",
    "model = RDLModel(\n",
    "    data=data,\n",
    "    col_stats_dict=col_stats_dict,\n",
    "    num_layers=2,\n",
    "    channels=128,\n",
    "    out_channels=1,\n",
    "    aggr=\"sum\",\n",
    "    norm=\"batch_norm\",\n",
    ").to(device)\n",
    "\n",
    "# if you try out different RelBench tasks you will need to change these\n",
    "optimizer = torch.optim.Adam(model.parameters(), lr=0.005)\n",
    "epochs = 10"
   ]
  },
  {
   "cell_type": "markdown",
   "metadata": {},
   "source": [
    "Finalize, let's initialize our training run, and evaluate our model!"
   ]
  },
  {
   "cell_type": "code",
   "execution_count": 5,
   "metadata": {},
   "outputs": [
    {
     "name": "stderr",
     "output_type": "stream",
     "text": [
      "100%|██████████| 23/23 [00:03<00:00,  7.35it/s]\n"
     ]
    },
    {
     "name": "stdout",
     "output_type": "stream",
     "text": [
      "Epoch: 01, Train loss: 0.37068689340108035, Val metrics: {'average_precision': np.float64(0.8413505292920975), 'accuracy': 0.7791519434628975, 'f1': np.float64(0.8758689175769613), 'roc_auc': np.float64(0.6053696145124716)}\n"
     ]
    },
    {
     "name": "stderr",
     "output_type": "stream",
     "text": [
      "100%|██████████| 23/23 [00:02<00:00,  8.70it/s]\n"
     ]
    },
    {
     "name": "stdout",
     "output_type": "stream",
     "text": [
      "Epoch: 02, Train loss: 0.34882388496971417, Val metrics: {'average_precision': np.float64(0.8726809886943294), 'accuracy': 0.7402826855123675, 'f1': np.float64(0.8470343392299687), 'roc_auc': np.float64(0.6628208616780045)}\n"
     ]
    },
    {
     "name": "stderr",
     "output_type": "stream",
     "text": [
      "100%|██████████| 23/23 [00:02<00:00,  8.69it/s]\n"
     ]
    },
    {
     "name": "stdout",
     "output_type": "stream",
     "text": [
      "Epoch: 03, Train loss: 0.3143500844849973, Val metrics: {'average_precision': np.float64(0.8890532330118283), 'accuracy': 0.7667844522968198, 'f1': np.float64(0.8658536585365854), 'roc_auc': np.float64(0.6923900226757369)}\n"
     ]
    },
    {
     "name": "stderr",
     "output_type": "stream",
     "text": [
      "100%|██████████| 23/23 [00:02<00:00,  8.71it/s]\n"
     ]
    },
    {
     "name": "stdout",
     "output_type": "stream",
     "text": [
      "Epoch: 04, Train loss: 0.30757490679427124, Val metrics: {'average_precision': np.float64(0.8971443173879122), 'accuracy': 0.7791519434628975, 'f1': np.float64(0.8758689175769613), 'roc_auc': np.float64(0.704671201814059)}\n"
     ]
    },
    {
     "name": "stderr",
     "output_type": "stream",
     "text": [
      "100%|██████████| 23/23 [00:02<00:00,  8.70it/s]\n"
     ]
    },
    {
     "name": "stdout",
     "output_type": "stream",
     "text": [
      "Epoch: 05, Train loss: 0.30686571981636107, Val metrics: {'average_precision': np.float64(0.8939879515409914), 'accuracy': 0.7438162544169611, 'f1': np.float64(0.8494288681204569), 'roc_auc': np.float64(0.686204081632653)}\n"
     ]
    },
    {
     "name": "stderr",
     "output_type": "stream",
     "text": [
      "100%|██████████| 23/23 [00:02<00:00,  8.67it/s]\n"
     ]
    },
    {
     "name": "stdout",
     "output_type": "stream",
     "text": [
      "Epoch: 06, Train loss: 0.29650747571272745, Val metrics: {'average_precision': np.float64(0.8905431336727115), 'accuracy': 0.6819787985865724, 'f1': np.float64(0.7862232779097387), 'roc_auc': np.float64(0.6805260770975057)}\n"
     ]
    },
    {
     "name": "stderr",
     "output_type": "stream",
     "text": [
      "100%|██████████| 23/23 [00:02<00:00,  8.67it/s]\n"
     ]
    },
    {
     "name": "stdout",
     "output_type": "stream",
     "text": [
      "Epoch: 07, Train loss: 0.2984018943999487, Val metrics: {'average_precision': np.float64(0.8852370461434751), 'accuracy': 0.598939929328622, 'f1': np.float64(0.691156462585034), 'roc_auc': np.float64(0.6672290249433106)}\n"
     ]
    },
    {
     "name": "stderr",
     "output_type": "stream",
     "text": [
      "100%|██████████| 23/23 [00:02<00:00,  8.72it/s]\n"
     ]
    },
    {
     "name": "stdout",
     "output_type": "stream",
     "text": [
      "Epoch: 08, Train loss: 0.29171781351455367, Val metrics: {'average_precision': np.float64(0.8946805587083126), 'accuracy': 0.6731448763250883, 'f1': np.float64(0.7718865598027127), 'roc_auc': np.float64(0.6937687074829932)}\n"
     ]
    },
    {
     "name": "stderr",
     "output_type": "stream",
     "text": [
      "100%|██████████| 23/23 [00:02<00:00,  8.62it/s]\n"
     ]
    },
    {
     "name": "stdout",
     "output_type": "stream",
     "text": [
      "Epoch: 09, Train loss: 0.28480575834980837, Val metrics: {'average_precision': np.float64(0.8946204837647489), 'accuracy': 0.7314487632508834, 'f1': np.float64(0.8276643990929705), 'roc_auc': np.float64(0.6991383219954648)}\n"
     ]
    },
    {
     "name": "stderr",
     "output_type": "stream",
     "text": [
      "100%|██████████| 23/23 [00:02<00:00,  8.58it/s]\n"
     ]
    },
    {
     "name": "stdout",
     "output_type": "stream",
     "text": [
      "Epoch: 10, Train loss: 0.285419514504441, Val metrics: {'average_precision': np.float64(0.8984329689565649), 'accuracy': 0.6236749116607774, 'f1': np.float64(0.7201051248357424), 'roc_auc': np.float64(0.7017142857142856)}\n",
      "Best val metrics: {'average_precision': np.float64(0.8967739202997403), 'accuracy': 0.7791519434628975, 'f1': np.float64(0.8758689175769613), 'roc_auc': np.float64(0.703092970521542)}\n",
      "Best test metrics: {'average_precision': np.float64(0.8485722598090208), 'accuracy': 0.7051282051282052, 'f1': np.float64(0.8270676691729323), 'roc_auc': np.float64(0.7220709510564582)}\n"
     ]
    }
   ],
   "source": [
    "from src.models.training import eval_model, training_run\n",
    "\n",
    "# Get model after a training run\n",
    "state_dict = training_run(\n",
    "    model, device, optimizer, task, loader_dict, val_table, loss_fn, entity_table\n",
    ")\n",
    "model.load_state_dict(state_dict)\n",
    "\n",
    "# Evaluate on val and test set\n",
    "eval_model(model, loader_dict, \"val\", task, device, val_table)\n",
    "eval_model(model, loader_dict, \"test\", task, device, None)"
   ]
  },
  {
   "cell_type": "markdown",
   "metadata": {},
   "source": [
    "As we can see, we are able to roughly replicate the results from the [core Relbench paper](https://huggingface.co/spaces/relbench/leaderboard). However, do the results generalize? To do so, let's load in the data for the other entity classification task within `rel-f1` -- `driver-top3` -- and see how we do. "
   ]
  },
  {
   "cell_type": "code",
   "execution_count": 6,
   "metadata": {},
   "outputs": [
    {
     "name": "stderr",
     "output_type": "stream",
     "text": [
      "/home/cpondoc/classes/cs224w/project/env/lib/python3.9/site-packages/torch_frame/utils/io.py:98: FutureWarning: You are using `torch.load` with `weights_only=False` (the current default value), which uses the default pickle module implicitly. It is possible to construct malicious pickle data which will execute arbitrary code during unpickling (See https://github.com/pytorch/pytorch/blob/main/SECURITY.md#untrusted-models for more details). In a future release, the default value for `weights_only` will be flipped to `True`. This limits the functions that could be executed during unpickling. Arbitrary objects will no longer be allowed to be loaded via this mode unless they are explicitly allowlisted by the user via `torch.serialization.add_safe_globals`. We recommend you start setting `weights_only=True` for any use case where you don't have full control of the loaded file. Please open an issue on GitHub for any issues related to this experimental feature.\n",
      "  tf_dict, col_stats = torch.load(path)\n",
      "/home/cpondoc/classes/cs224w/project/env/lib/python3.9/site-packages/torch_frame/utils/io.py:98: FutureWarning: You are using `torch.load` with `weights_only=False` (the current default value), which uses the default pickle module implicitly. It is possible to construct malicious pickle data which will execute arbitrary code during unpickling (See https://github.com/pytorch/pytorch/blob/main/SECURITY.md#untrusted-models for more details). In a future release, the default value for `weights_only` will be flipped to `True`. This limits the functions that could be executed during unpickling. Arbitrary objects will no longer be allowed to be loaded via this mode unless they are explicitly allowlisted by the user via `torch.serialization.add_safe_globals`. We recommend you start setting `weights_only=True` for any use case where you don't have full control of the loaded file. Please open an issue on GitHub for any issues related to this experimental feature.\n",
      "  tf_dict, col_stats = torch.load(path)\n",
      "/home/cpondoc/classes/cs224w/project/env/lib/python3.9/site-packages/torch_frame/utils/io.py:98: FutureWarning: You are using `torch.load` with `weights_only=False` (the current default value), which uses the default pickle module implicitly. It is possible to construct malicious pickle data which will execute arbitrary code during unpickling (See https://github.com/pytorch/pytorch/blob/main/SECURITY.md#untrusted-models for more details). In a future release, the default value for `weights_only` will be flipped to `True`. This limits the functions that could be executed during unpickling. Arbitrary objects will no longer be allowed to be loaded via this mode unless they are explicitly allowlisted by the user via `torch.serialization.add_safe_globals`. We recommend you start setting `weights_only=True` for any use case where you don't have full control of the loaded file. Please open an issue on GitHub for any issues related to this experimental feature.\n",
      "  tf_dict, col_stats = torch.load(path)\n",
      "/home/cpondoc/classes/cs224w/project/env/lib/python3.9/site-packages/torch_frame/utils/io.py:98: FutureWarning: You are using `torch.load` with `weights_only=False` (the current default value), which uses the default pickle module implicitly. It is possible to construct malicious pickle data which will execute arbitrary code during unpickling (See https://github.com/pytorch/pytorch/blob/main/SECURITY.md#untrusted-models for more details). In a future release, the default value for `weights_only` will be flipped to `True`. This limits the functions that could be executed during unpickling. Arbitrary objects will no longer be allowed to be loaded via this mode unless they are explicitly allowlisted by the user via `torch.serialization.add_safe_globals`. We recommend you start setting `weights_only=True` for any use case where you don't have full control of the loaded file. Please open an issue on GitHub for any issues related to this experimental feature.\n",
      "  tf_dict, col_stats = torch.load(path)\n",
      "/home/cpondoc/classes/cs224w/project/env/lib/python3.9/site-packages/torch_frame/utils/io.py:98: FutureWarning: You are using `torch.load` with `weights_only=False` (the current default value), which uses the default pickle module implicitly. It is possible to construct malicious pickle data which will execute arbitrary code during unpickling (See https://github.com/pytorch/pytorch/blob/main/SECURITY.md#untrusted-models for more details). In a future release, the default value for `weights_only` will be flipped to `True`. This limits the functions that could be executed during unpickling. Arbitrary objects will no longer be allowed to be loaded via this mode unless they are explicitly allowlisted by the user via `torch.serialization.add_safe_globals`. We recommend you start setting `weights_only=True` for any use case where you don't have full control of the loaded file. Please open an issue on GitHub for any issues related to this experimental feature.\n",
      "  tf_dict, col_stats = torch.load(path)\n",
      "/home/cpondoc/classes/cs224w/project/env/lib/python3.9/site-packages/torch_frame/utils/io.py:98: FutureWarning: You are using `torch.load` with `weights_only=False` (the current default value), which uses the default pickle module implicitly. It is possible to construct malicious pickle data which will execute arbitrary code during unpickling (See https://github.com/pytorch/pytorch/blob/main/SECURITY.md#untrusted-models for more details). In a future release, the default value for `weights_only` will be flipped to `True`. This limits the functions that could be executed during unpickling. Arbitrary objects will no longer be allowed to be loaded via this mode unless they are explicitly allowlisted by the user via `torch.serialization.add_safe_globals`. We recommend you start setting `weights_only=True` for any use case where you don't have full control of the loaded file. Please open an issue on GitHub for any issues related to this experimental feature.\n",
      "  tf_dict, col_stats = torch.load(path)\n",
      "/home/cpondoc/classes/cs224w/project/env/lib/python3.9/site-packages/torch_frame/utils/io.py:98: FutureWarning: You are using `torch.load` with `weights_only=False` (the current default value), which uses the default pickle module implicitly. It is possible to construct malicious pickle data which will execute arbitrary code during unpickling (See https://github.com/pytorch/pytorch/blob/main/SECURITY.md#untrusted-models for more details). In a future release, the default value for `weights_only` will be flipped to `True`. This limits the functions that could be executed during unpickling. Arbitrary objects will no longer be allowed to be loaded via this mode unless they are explicitly allowlisted by the user via `torch.serialization.add_safe_globals`. We recommend you start setting `weights_only=True` for any use case where you don't have full control of the loaded file. Please open an issue on GitHub for any issues related to this experimental feature.\n",
      "  tf_dict, col_stats = torch.load(path)\n",
      "/home/cpondoc/classes/cs224w/project/env/lib/python3.9/site-packages/torch_frame/utils/io.py:98: FutureWarning: You are using `torch.load` with `weights_only=False` (the current default value), which uses the default pickle module implicitly. It is possible to construct malicious pickle data which will execute arbitrary code during unpickling (See https://github.com/pytorch/pytorch/blob/main/SECURITY.md#untrusted-models for more details). In a future release, the default value for `weights_only` will be flipped to `True`. This limits the functions that could be executed during unpickling. Arbitrary objects will no longer be allowed to be loaded via this mode unless they are explicitly allowlisted by the user via `torch.serialization.add_safe_globals`. We recommend you start setting `weights_only=True` for any use case where you don't have full control of the loaded file. Please open an issue on GitHub for any issues related to this experimental feature.\n",
      "  tf_dict, col_stats = torch.load(path)\n",
      "/home/cpondoc/classes/cs224w/project/env/lib/python3.9/site-packages/torch_frame/utils/io.py:98: FutureWarning: You are using `torch.load` with `weights_only=False` (the current default value), which uses the default pickle module implicitly. It is possible to construct malicious pickle data which will execute arbitrary code during unpickling (See https://github.com/pytorch/pytorch/blob/main/SECURITY.md#untrusted-models for more details). In a future release, the default value for `weights_only` will be flipped to `True`. This limits the functions that could be executed during unpickling. Arbitrary objects will no longer be allowed to be loaded via this mode unless they are explicitly allowlisted by the user via `torch.serialization.add_safe_globals`. We recommend you start setting `weights_only=True` for any use case where you don't have full control of the loaded file. Please open an issue on GitHub for any issues related to this experimental feature.\n",
      "  tf_dict, col_stats = torch.load(path)\n"
     ]
    },
    {
     "name": "stdout",
     "output_type": "stream",
     "text": [
      "Best test metrics: {'average_precision': np.float64(0.11946463380334034), 'accuracy': 0.1763085399449036, 'f1': np.float64(0.2997658079625293), 'roc_auc': np.float64(0.21689485785953175)}\n"
     ]
    }
   ],
   "source": [
    "# Reuse functions to set up `driver-top3 task`\n",
    "dataset, task, train_table, val_table, test_table = initialize_task(\n",
    "    \"rel-f1\", \"driver-top3\"\n",
    ")\n",
    "db, col_to_stype_dict = db_to_graph(dataset)\n",
    "data, col_stats_dict = make_pkey_fkey_graph(\n",
    "    db,\n",
    "    col_to_stype_dict=col_to_stype_dict,\n",
    "    text_embedder_cfg=text_embedder_cfg,\n",
    "    cache_dir=os.path.join(root_dir, f\"rel-f1_materialized_cache\"),\n",
    ")\n",
    "\n",
    "loader_dict, entity_table = get_loader(train_table, val_table, test_table, task, data)\n",
    "model = RDLModel(\n",
    "    data=data,\n",
    "    col_stats_dict=col_stats_dict,\n",
    "    num_layers=2,\n",
    "    channels=128,\n",
    "    out_channels=1,\n",
    "    aggr=\"sum\",\n",
    "    norm=\"batch_norm\",\n",
    ").to(device)\n",
    "model.load_state_dict(state_dict)\n",
    "eval_model(model, loader_dict, \"test\", task, device, None)"
   ]
  },
  {
   "cell_type": "markdown",
   "metadata": {},
   "source": [
    "Unfortunately, trying out our model zero-shot does not yield amazing results. However, what happens if we use this model as a starting point for finetuning on the task? Let's experiment on fine-tuning this model with fewer epochs on the `driver-top3` task and checking its performance."
   ]
  },
  {
   "cell_type": "code",
   "execution_count": 7,
   "metadata": {},
   "outputs": [
    {
     "name": "stderr",
     "output_type": "stream",
     "text": [
      "100%|██████████| 3/3 [00:00<00:00,  7.14it/s]\n"
     ]
    },
    {
     "name": "stdout",
     "output_type": "stream",
     "text": [
      "Epoch: 01, Train loss: 1.627909775011115, Val metrics: {'average_precision': np.float64(0.1522469539811377), 'accuracy': 0.7976190476190477, 'f1': np.float64(0.0), 'roc_auc': np.float64(0.36931787640429303)}\n"
     ]
    },
    {
     "name": "stderr",
     "output_type": "stream",
     "text": [
      "100%|██████████| 3/3 [00:00<00:00,  7.42it/s]\n"
     ]
    },
    {
     "name": "stdout",
     "output_type": "stream",
     "text": [
      "Epoch: 02, Train loss: 0.4858022241661131, Val metrics: {'average_precision': np.float64(0.17421820768804014), 'accuracy': 0.7976190476190477, 'f1': np.float64(0.0), 'roc_auc': np.float64(0.46453208148931213)}\n"
     ]
    },
    {
     "name": "stderr",
     "output_type": "stream",
     "text": [
      "100%|██████████| 3/3 [00:00<00:00,  7.41it/s]\n"
     ]
    },
    {
     "name": "stdout",
     "output_type": "stream",
     "text": [
      "Epoch: 03, Train loss: 0.4729988264623432, Val metrics: {'average_precision': np.float64(0.20508834466628012), 'accuracy': 0.7976190476190477, 'f1': np.float64(0.0), 'roc_auc': np.float64(0.5640196377058286)}\n"
     ]
    },
    {
     "name": "stderr",
     "output_type": "stream",
     "text": [
      "100%|██████████| 3/3 [00:00<00:00,  7.40it/s]\n"
     ]
    },
    {
     "name": "stdout",
     "output_type": "stream",
     "text": [
      "Epoch: 04, Train loss: 0.47054723427195244, Val metrics: {'average_precision': np.float64(0.2944981584964439), 'accuracy': 0.7976190476190477, 'f1': np.float64(0.0), 'roc_auc': np.float64(0.6166884664313487)}\n"
     ]
    },
    {
     "name": "stderr",
     "output_type": "stream",
     "text": [
      "100%|██████████| 3/3 [00:00<00:00,  7.39it/s]\n"
     ]
    },
    {
     "name": "stdout",
     "output_type": "stream",
     "text": [
      "Epoch: 05, Train loss: 0.448161677836667, Val metrics: {'average_precision': np.float64(0.2945495242915126), 'accuracy': 0.7976190476190477, 'f1': np.float64(0.0), 'roc_auc': np.float64(0.6247693107093584)}\n",
      "Best val metrics: {'average_precision': np.float64(0.29902345995348373), 'accuracy': 0.7976190476190477, 'f1': np.float64(0.0), 'roc_auc': np.float64(0.6250918277758865)}\n",
      "Best test metrics: {'average_precision': np.float64(0.2853605701210025), 'accuracy': 0.8236914600550964, 'f1': np.float64(0.0), 'roc_auc': np.float64(0.7279211956521738)}\n"
     ]
    }
   ],
   "source": [
    "# Get model after a training run\n",
    "optimizer = torch.optim.Adam(model.parameters(), lr=0.005)\n",
    "state_dict = training_run(\n",
    "    model,\n",
    "    device,\n",
    "    optimizer,\n",
    "    task,\n",
    "    loader_dict,\n",
    "    val_table,\n",
    "    loss_fn,\n",
    "    entity_table,\n",
    "    epochs=5,\n",
    "    state_dict=state_dict,\n",
    ")\n",
    "model.load_state_dict(state_dict)\n",
    "\n",
    "# Evaluate on val and test set\n",
    "eval_model(model, loader_dict, \"val\", task, device, val_table)\n",
    "eval_model(model, loader_dict, \"test\", task, device, None)"
   ]
  },
  {
   "cell_type": "markdown",
   "metadata": {},
   "source": [
    "Nice! It looks like after we finetune even after just one epoch. we're able to practically replicate the Relbench results. Finally, let's compare this approach to simply training on the task from scratch."
   ]
  },
  {
   "cell_type": "code",
   "execution_count": 8,
   "metadata": {},
   "outputs": [
    {
     "name": "stderr",
     "output_type": "stream",
     "text": [
      "100%|██████████| 3/3 [00:00<00:00,  7.29it/s]\n"
     ]
    },
    {
     "name": "stdout",
     "output_type": "stream",
     "text": [
      "Epoch: 01, Train loss: 0.5626445334881037, Val metrics: {'average_precision': np.float64(0.2271742133087044), 'accuracy': 0.7976190476190477, 'f1': np.float64(0.0), 'roc_auc': np.float64(0.5867302144738492)}\n"
     ]
    },
    {
     "name": "stderr",
     "output_type": "stream",
     "text": [
      "100%|██████████| 3/3 [00:00<00:00,  7.33it/s]\n"
     ]
    },
    {
     "name": "stdout",
     "output_type": "stream",
     "text": [
      "Epoch: 02, Train loss: 0.4550412724349381, Val metrics: {'average_precision': np.float64(0.288867727900172), 'accuracy': 0.7976190476190477, 'f1': np.float64(0.0), 'roc_auc': np.float64(0.5994517209869022)}\n"
     ]
    },
    {
     "name": "stderr",
     "output_type": "stream",
     "text": [
      "100%|██████████| 3/3 [00:00<00:00,  7.38it/s]\n"
     ]
    },
    {
     "name": "stdout",
     "output_type": "stream",
     "text": [
      "Epoch: 03, Train loss: 0.4436462357893575, Val metrics: {'average_precision': np.float64(0.2396520436658074), 'accuracy': 0.7976190476190477, 'f1': np.float64(0.0), 'roc_auc': np.float64(0.6128899320922399)}\n"
     ]
    },
    {
     "name": "stderr",
     "output_type": "stream",
     "text": [
      "100%|██████████| 3/3 [00:00<00:00,  7.36it/s]\n"
     ]
    },
    {
     "name": "stdout",
     "output_type": "stream",
     "text": [
      "Epoch: 04, Train loss: 0.44413282804284726, Val metrics: {'average_precision': np.float64(0.2644073041769032), 'accuracy': 0.7976190476190477, 'f1': np.float64(0.0), 'roc_auc': np.float64(0.6043253122144381)}\n"
     ]
    },
    {
     "name": "stderr",
     "output_type": "stream",
     "text": [
      "100%|██████████| 3/3 [00:00<00:00,  7.37it/s]\n"
     ]
    },
    {
     "name": "stdout",
     "output_type": "stream",
     "text": [
      "Epoch: 05, Train loss: 0.4402065487896524, Val metrics: {'average_precision': np.float64(0.2749290980919358), 'accuracy': 0.7976190476190477, 'f1': np.float64(0.0), 'roc_auc': np.float64(0.6085897045385318)}\n"
     ]
    },
    {
     "name": "stderr",
     "output_type": "stream",
     "text": [
      "100%|██████████| 3/3 [00:00<00:00,  7.31it/s]\n"
     ]
    },
    {
     "name": "stdout",
     "output_type": "stream",
     "text": [
      "Epoch: 06, Train loss: 0.4382715794613691, Val metrics: {'average_precision': np.float64(0.28136799244831256), 'accuracy': 0.7976190476190477, 'f1': np.float64(0.0), 'roc_auc': np.float64(0.6087867983014101)}\n"
     ]
    },
    {
     "name": "stderr",
     "output_type": "stream",
     "text": [
      "100%|██████████| 3/3 [00:00<00:00,  7.36it/s]\n"
     ]
    },
    {
     "name": "stdout",
     "output_type": "stream",
     "text": [
      "Epoch: 07, Train loss: 0.43422940728052933, Val metrics: {'average_precision': np.float64(0.30639625138192794), 'accuracy': 0.7976190476190477, 'f1': np.float64(0.0), 'roc_auc': np.float64(0.6141979179731595)}\n"
     ]
    },
    {
     "name": "stderr",
     "output_type": "stream",
     "text": [
      "100%|██████████| 3/3 [00:00<00:00,  7.35it/s]\n"
     ]
    },
    {
     "name": "stdout",
     "output_type": "stream",
     "text": [
      "Epoch: 08, Train loss: 0.42793293245527714, Val metrics: {'average_precision': np.float64(0.30745570396109817), 'accuracy': 0.7976190476190477, 'f1': np.float64(0.0), 'roc_auc': np.float64(0.6284872157818351)}\n"
     ]
    },
    {
     "name": "stderr",
     "output_type": "stream",
     "text": [
      "100%|██████████| 3/3 [00:00<00:00,  7.36it/s]\n"
     ]
    },
    {
     "name": "stdout",
     "output_type": "stream",
     "text": [
      "Epoch: 09, Train loss: 0.412765081423966, Val metrics: {'average_precision': np.float64(0.3225662811786547), 'accuracy': 0.7976190476190477, 'f1': np.float64(0.0), 'roc_auc': np.float64(0.6512694630090842)}\n"
     ]
    },
    {
     "name": "stderr",
     "output_type": "stream",
     "text": [
      "100%|██████████| 3/3 [00:00<00:00,  7.33it/s]\n"
     ]
    },
    {
     "name": "stdout",
     "output_type": "stream",
     "text": [
      "Epoch: 10, Train loss: 0.38622126822461045, Val metrics: {'average_precision': np.float64(0.2571774250824307), 'accuracy': 0.7976190476190477, 'f1': np.float64(0.0), 'roc_auc': np.float64(0.6542437870670657)}\n",
      "Best val metrics: {'average_precision': np.float64(0.2571962086061911), 'accuracy': 0.7976190476190477, 'f1': np.float64(0.0), 'roc_auc': np.float64(0.6543154575262942)}\n",
      "Best test metrics: {'average_precision': np.float64(0.4109429240385473), 'accuracy': 0.8236914600550964, 'f1': np.float64(0.0), 'roc_auc': np.float64(0.8192281563545151)}\n"
     ]
    }
   ],
   "source": [
    "# Define a new model, don't load in old weights.\n",
    "base_model = RDLModel(\n",
    "    data=data,\n",
    "    col_stats_dict=col_stats_dict,\n",
    "    num_layers=2,\n",
    "    channels=128,\n",
    "    out_channels=1,\n",
    "    aggr=\"sum\",\n",
    "    norm=\"batch_norm\",\n",
    ").to(device)\n",
    "base_optimizer = torch.optim.Adam(base_model.parameters(), lr=0.005)\n",
    "base_state_dict = training_run(\n",
    "    base_model,\n",
    "    device,\n",
    "    base_optimizer,\n",
    "    task,\n",
    "    loader_dict,\n",
    "    val_table,\n",
    "    loss_fn,\n",
    "    entity_table,\n",
    "    epochs=10,\n",
    ")\n",
    "base_model.load_state_dict(base_state_dict)\n",
    "\n",
    "# Evaluate on val and test set\n",
    "eval_model(base_model, loader_dict, \"val\", task, device, val_table)\n",
    "eval_model(base_model, loader_dict, \"test\", task, device, None)"
   ]
  },
  {
   "cell_type": "markdown",
   "metadata": {},
   "source": [
    "Ultimately, we don't see much of a difference from starting from random weights to using a model pre-initialized from another entity classification task.\n",
    "\n",
    "### Challenge\n",
    "Does this trend necessarily work on larger and more diverse datasets? Depending on your compute availability, try out using different datasets, like `rel-amazon`, as well as across different types of tasks!"
   ]
  },
  {
   "cell_type": "markdown",
   "metadata": {},
   "source": [
    "## Question 2: Different expressiveness of node features?\n",
    "Next, let's take a look at using different embedding models for node features.\n",
    "\n",
    "The embedding models are used to help turn the tabular data into usable node features. In the Relbench tutorial, the team uses GloVe embeddings, but the paper also mentions utilizing BERT-style embeddings. In traditional NLP, BERT embeddings are much more popular given that they are contextual -- the vector representation depends on the surrounding words, compared to static embeddings used by GloVe -- and can handle words outside of their vocabulary. In addition, their embedding size is $768$ compared to GloVe's $300$, which introduces an opportunity for more expressiveness."
   ]
  },
  {
   "cell_type": "markdown",
   "metadata": {},
   "source": [
    "As an investigation, let's switch out our GloVe embedding model with BERT and retrain a new model from scratch on the `driver-dnf` task."
   ]
  },
  {
   "cell_type": "code",
   "execution_count": 9,
   "metadata": {},
   "outputs": [
    {
     "name": "stderr",
     "output_type": "stream",
     "text": [
      "WARNING:sentence_transformers.SentenceTransformer:No sentence-transformers model found with name google-bert/bert-base-uncased. Creating a new one with mean pooling.\n",
      "/home/cpondoc/classes/cs224w/project/env/lib/python3.9/site-packages/torch_frame/utils/io.py:98: FutureWarning: You are using `torch.load` with `weights_only=False` (the current default value), which uses the default pickle module implicitly. It is possible to construct malicious pickle data which will execute arbitrary code during unpickling (See https://github.com/pytorch/pytorch/blob/main/SECURITY.md#untrusted-models for more details). In a future release, the default value for `weights_only` will be flipped to `True`. This limits the functions that could be executed during unpickling. Arbitrary objects will no longer be allowed to be loaded via this mode unless they are explicitly allowlisted by the user via `torch.serialization.add_safe_globals`. We recommend you start setting `weights_only=True` for any use case where you don't have full control of the loaded file. Please open an issue on GitHub for any issues related to this experimental feature.\n",
      "  tf_dict, col_stats = torch.load(path)\n",
      "/home/cpondoc/classes/cs224w/project/env/lib/python3.9/site-packages/torch_frame/utils/io.py:98: FutureWarning: You are using `torch.load` with `weights_only=False` (the current default value), which uses the default pickle module implicitly. It is possible to construct malicious pickle data which will execute arbitrary code during unpickling (See https://github.com/pytorch/pytorch/blob/main/SECURITY.md#untrusted-models for more details). In a future release, the default value for `weights_only` will be flipped to `True`. This limits the functions that could be executed during unpickling. Arbitrary objects will no longer be allowed to be loaded via this mode unless they are explicitly allowlisted by the user via `torch.serialization.add_safe_globals`. We recommend you start setting `weights_only=True` for any use case where you don't have full control of the loaded file. Please open an issue on GitHub for any issues related to this experimental feature.\n",
      "  tf_dict, col_stats = torch.load(path)\n",
      "/home/cpondoc/classes/cs224w/project/env/lib/python3.9/site-packages/torch_frame/utils/io.py:98: FutureWarning: You are using `torch.load` with `weights_only=False` (the current default value), which uses the default pickle module implicitly. It is possible to construct malicious pickle data which will execute arbitrary code during unpickling (See https://github.com/pytorch/pytorch/blob/main/SECURITY.md#untrusted-models for more details). In a future release, the default value for `weights_only` will be flipped to `True`. This limits the functions that could be executed during unpickling. Arbitrary objects will no longer be allowed to be loaded via this mode unless they are explicitly allowlisted by the user via `torch.serialization.add_safe_globals`. We recommend you start setting `weights_only=True` for any use case where you don't have full control of the loaded file. Please open an issue on GitHub for any issues related to this experimental feature.\n",
      "  tf_dict, col_stats = torch.load(path)\n",
      "/home/cpondoc/classes/cs224w/project/env/lib/python3.9/site-packages/torch_frame/utils/io.py:98: FutureWarning: You are using `torch.load` with `weights_only=False` (the current default value), which uses the default pickle module implicitly. It is possible to construct malicious pickle data which will execute arbitrary code during unpickling (See https://github.com/pytorch/pytorch/blob/main/SECURITY.md#untrusted-models for more details). In a future release, the default value for `weights_only` will be flipped to `True`. This limits the functions that could be executed during unpickling. Arbitrary objects will no longer be allowed to be loaded via this mode unless they are explicitly allowlisted by the user via `torch.serialization.add_safe_globals`. We recommend you start setting `weights_only=True` for any use case where you don't have full control of the loaded file. Please open an issue on GitHub for any issues related to this experimental feature.\n",
      "  tf_dict, col_stats = torch.load(path)\n",
      "/home/cpondoc/classes/cs224w/project/env/lib/python3.9/site-packages/torch_frame/utils/io.py:98: FutureWarning: You are using `torch.load` with `weights_only=False` (the current default value), which uses the default pickle module implicitly. It is possible to construct malicious pickle data which will execute arbitrary code during unpickling (See https://github.com/pytorch/pytorch/blob/main/SECURITY.md#untrusted-models for more details). In a future release, the default value for `weights_only` will be flipped to `True`. This limits the functions that could be executed during unpickling. Arbitrary objects will no longer be allowed to be loaded via this mode unless they are explicitly allowlisted by the user via `torch.serialization.add_safe_globals`. We recommend you start setting `weights_only=True` for any use case where you don't have full control of the loaded file. Please open an issue on GitHub for any issues related to this experimental feature.\n",
      "  tf_dict, col_stats = torch.load(path)\n",
      "/home/cpondoc/classes/cs224w/project/env/lib/python3.9/site-packages/torch_frame/utils/io.py:98: FutureWarning: You are using `torch.load` with `weights_only=False` (the current default value), which uses the default pickle module implicitly. It is possible to construct malicious pickle data which will execute arbitrary code during unpickling (See https://github.com/pytorch/pytorch/blob/main/SECURITY.md#untrusted-models for more details). In a future release, the default value for `weights_only` will be flipped to `True`. This limits the functions that could be executed during unpickling. Arbitrary objects will no longer be allowed to be loaded via this mode unless they are explicitly allowlisted by the user via `torch.serialization.add_safe_globals`. We recommend you start setting `weights_only=True` for any use case where you don't have full control of the loaded file. Please open an issue on GitHub for any issues related to this experimental feature.\n",
      "  tf_dict, col_stats = torch.load(path)\n",
      "/home/cpondoc/classes/cs224w/project/env/lib/python3.9/site-packages/torch_frame/utils/io.py:98: FutureWarning: You are using `torch.load` with `weights_only=False` (the current default value), which uses the default pickle module implicitly. It is possible to construct malicious pickle data which will execute arbitrary code during unpickling (See https://github.com/pytorch/pytorch/blob/main/SECURITY.md#untrusted-models for more details). In a future release, the default value for `weights_only` will be flipped to `True`. This limits the functions that could be executed during unpickling. Arbitrary objects will no longer be allowed to be loaded via this mode unless they are explicitly allowlisted by the user via `torch.serialization.add_safe_globals`. We recommend you start setting `weights_only=True` for any use case where you don't have full control of the loaded file. Please open an issue on GitHub for any issues related to this experimental feature.\n",
      "  tf_dict, col_stats = torch.load(path)\n",
      "/home/cpondoc/classes/cs224w/project/env/lib/python3.9/site-packages/torch_frame/utils/io.py:98: FutureWarning: You are using `torch.load` with `weights_only=False` (the current default value), which uses the default pickle module implicitly. It is possible to construct malicious pickle data which will execute arbitrary code during unpickling (See https://github.com/pytorch/pytorch/blob/main/SECURITY.md#untrusted-models for more details). In a future release, the default value for `weights_only` will be flipped to `True`. This limits the functions that could be executed during unpickling. Arbitrary objects will no longer be allowed to be loaded via this mode unless they are explicitly allowlisted by the user via `torch.serialization.add_safe_globals`. We recommend you start setting `weights_only=True` for any use case where you don't have full control of the loaded file. Please open an issue on GitHub for any issues related to this experimental feature.\n",
      "  tf_dict, col_stats = torch.load(path)\n",
      "/home/cpondoc/classes/cs224w/project/env/lib/python3.9/site-packages/torch_frame/utils/io.py:98: FutureWarning: You are using `torch.load` with `weights_only=False` (the current default value), which uses the default pickle module implicitly. It is possible to construct malicious pickle data which will execute arbitrary code during unpickling (See https://github.com/pytorch/pytorch/blob/main/SECURITY.md#untrusted-models for more details). In a future release, the default value for `weights_only` will be flipped to `True`. This limits the functions that could be executed during unpickling. Arbitrary objects will no longer be allowed to be loaded via this mode unless they are explicitly allowlisted by the user via `torch.serialization.add_safe_globals`. We recommend you start setting `weights_only=True` for any use case where you don't have full control of the loaded file. Please open an issue on GitHub for any issues related to this experimental feature.\n",
      "  tf_dict, col_stats = torch.load(path)\n",
      "100%|██████████| 23/23 [00:02<00:00,  8.51it/s]\n"
     ]
    },
    {
     "name": "stdout",
     "output_type": "stream",
     "text": [
      "Epoch: 01, Train loss: 0.3697627618361727, Val metrics: {'average_precision': np.float64(0.8639765121043439), 'accuracy': 0.7561837455830389, 'f1': np.float64(0.8565488565488566), 'roc_auc': np.float64(0.664108843537415)}\n"
     ]
    },
    {
     "name": "stderr",
     "output_type": "stream",
     "text": [
      "100%|██████████| 23/23 [00:02<00:00,  8.54it/s]\n"
     ]
    },
    {
     "name": "stdout",
     "output_type": "stream",
     "text": [
      "Epoch: 02, Train loss: 0.32239440482574344, Val metrics: {'average_precision': np.float64(0.8884675620196203), 'accuracy': 0.7791519434628975, 'f1': np.float64(0.8758689175769613), 'roc_auc': np.float64(0.6762630385487529)}\n"
     ]
    },
    {
     "name": "stderr",
     "output_type": "stream",
     "text": [
      "100%|██████████| 23/23 [00:02<00:00,  8.52it/s]\n"
     ]
    },
    {
     "name": "stdout",
     "output_type": "stream",
     "text": [
      "Epoch: 03, Train loss: 0.3076100774274555, Val metrics: {'average_precision': np.float64(0.8955858525718), 'accuracy': 0.7561837455830389, 'f1': np.float64(0.8580246913580247), 'roc_auc': np.float64(0.6835011337868481)}\n"
     ]
    },
    {
     "name": "stderr",
     "output_type": "stream",
     "text": [
      "100%|██████████| 23/23 [00:02<00:00,  8.55it/s]\n"
     ]
    },
    {
     "name": "stdout",
     "output_type": "stream",
     "text": [
      "Epoch: 04, Train loss: 0.30052260996405095, Val metrics: {'average_precision': np.float64(0.8909765837009584), 'accuracy': 0.6819787985865724, 'f1': np.float64(0.7872340425531915), 'roc_auc': np.float64(0.6848616780045351)}\n"
     ]
    },
    {
     "name": "stderr",
     "output_type": "stream",
     "text": [
      "100%|██████████| 23/23 [00:02<00:00,  8.53it/s]\n"
     ]
    },
    {
     "name": "stdout",
     "output_type": "stream",
     "text": [
      "Epoch: 05, Train loss: 0.298121199352632, Val metrics: {'average_precision': np.float64(0.8960673649462172), 'accuracy': 0.7720848056537103, 'f1': np.float64(0.8665977249224406), 'roc_auc': np.float64(0.6991201814058957)}\n"
     ]
    },
    {
     "name": "stderr",
     "output_type": "stream",
     "text": [
      "100%|██████████| 23/23 [00:02<00:00,  8.45it/s]\n"
     ]
    },
    {
     "name": "stdout",
     "output_type": "stream",
     "text": [
      "Epoch: 06, Train loss: 0.29485130622681327, Val metrics: {'average_precision': np.float64(0.8942803521654727), 'accuracy': 0.696113074204947, 'f1': np.float64(0.7957244655581948), 'roc_auc': np.float64(0.695873015873016)}\n"
     ]
    },
    {
     "name": "stderr",
     "output_type": "stream",
     "text": [
      "100%|██████████| 23/23 [00:02<00:00,  8.35it/s]\n"
     ]
    },
    {
     "name": "stdout",
     "output_type": "stream",
     "text": [
      "Epoch: 07, Train loss: 0.28838506305461153, Val metrics: {'average_precision': np.float64(0.9012166417895685), 'accuracy': 0.7084805653710248, 'f1': np.float64(0.8065650644783119), 'roc_auc': np.float64(0.713687074829932)}\n"
     ]
    },
    {
     "name": "stderr",
     "output_type": "stream",
     "text": [
      "100%|██████████| 23/23 [00:02<00:00,  8.66it/s]\n"
     ]
    },
    {
     "name": "stdout",
     "output_type": "stream",
     "text": [
      "Epoch: 08, Train loss: 0.2882502089535236, Val metrics: {'average_precision': np.float64(0.9103748684769377), 'accuracy': 0.6130742049469965, 'f1': np.float64(0.6928471248246845), 'roc_auc': np.float64(0.7323537414965987)}\n"
     ]
    },
    {
     "name": "stderr",
     "output_type": "stream",
     "text": [
      "100%|██████████| 23/23 [00:02<00:00,  8.75it/s]\n"
     ]
    },
    {
     "name": "stdout",
     "output_type": "stream",
     "text": [
      "Epoch: 09, Train loss: 0.2890426506634484, Val metrics: {'average_precision': np.float64(0.898380592555454), 'accuracy': 0.7226148409893993, 'f1': np.float64(0.8180764774044033), 'roc_auc': np.float64(0.7067755102040816)}\n"
     ]
    },
    {
     "name": "stderr",
     "output_type": "stream",
     "text": [
      "100%|██████████| 23/23 [00:02<00:00,  8.78it/s]\n"
     ]
    },
    {
     "name": "stdout",
     "output_type": "stream",
     "text": [
      "Epoch: 10, Train loss: 0.28385589989941185, Val metrics: {'average_precision': np.float64(0.902983368575687), 'accuracy': 0.6749116607773852, 'f1': np.float64(0.773955773955774), 'roc_auc': np.float64(0.7134875283446713)}\n",
      "Best val metrics: {'average_precision': np.float64(0.910340172054631), 'accuracy': 0.6183745583038869, 'f1': np.float64(0.6974789915966386), 'roc_auc': np.float64(0.7321904761904762)}\n",
      "Best test metrics: {'average_precision': np.float64(0.8346510860029261), 'accuracy': 0.6680911680911681, 'f1': np.float64(0.7268464243845252), 'roc_auc': np.float64(0.7099497389352462)}\n"
     ]
    }
   ],
   "source": [
    "from src.embeddings.bert import BertTextEmbedding\n",
    "\n",
    "dataset, task, train_table, val_table, test_table = initialize_task(\n",
    "    \"rel-f1\", \"driver-dnf\"\n",
    ")\n",
    "\n",
    "# Preprocess the database data and set up our text embedder\n",
    "db, col_to_stype_dict = db_to_graph(dataset)\n",
    "text_embedder_cfg = TextEmbedderConfig(\n",
    "    text_embedder=BertTextEmbedding(device=device), batch_size=128\n",
    ")\n",
    "\n",
    "# Load in data used to train model\n",
    "data, col_stats_dict = make_pkey_fkey_graph(\n",
    "    db,\n",
    "    col_to_stype_dict=col_to_stype_dict,\n",
    "    text_embedder_cfg=text_embedder_cfg,\n",
    "    cache_dir=os.path.join(root_dir, f\"rel-f1_materialized_cache\"),\n",
    ")\n",
    "loader_dict, entity_table = get_loader(train_table, val_table, test_table, task, data)\n",
    "\n",
    "# Initialize new, untrained model using BERT embeddings\n",
    "bert_model = RDLModel(\n",
    "    data=data,\n",
    "    col_stats_dict=col_stats_dict,\n",
    "    num_layers=2,\n",
    "    channels=128,\n",
    "    out_channels=1,\n",
    "    aggr=\"sum\",\n",
    "    norm=\"batch_norm\",\n",
    ").to(device)\n",
    "bert_optimizer = torch.optim.Adam(bert_model.parameters(), lr=0.005)\n",
    "bert_state_dict = training_run(\n",
    "    bert_model,\n",
    "    device,\n",
    "    bert_optimizer,\n",
    "    task,\n",
    "    loader_dict,\n",
    "    val_table,\n",
    "    loss_fn,\n",
    "    entity_table,\n",
    "    epochs=10,\n",
    ")\n",
    "bert_model.load_state_dict(bert_state_dict)\n",
    "\n",
    "# Evaluate on val and test set\n",
    "eval_model(bert_model, loader_dict, \"val\", task, device, val_table)\n",
    "eval_model(bert_model, loader_dict, \"test\", task, device, None)"
   ]
  },
  {
   "cell_type": "markdown",
   "metadata": {},
   "source": [
    "We ultimately don't see that drastic of a difference between using BERT embeddings and GloVe embeddings. Despite being trained differently, the fact that the models are close in size and perform similarly on [general embedding benchmarks](https://huggingface.co/spaces/mteb/leaderboard) may suggest that the results will not be that drastic. \n",
    "\n",
    "### Challenge\n",
    "We encourage you to try larger models with even larger embedding dimensions -- to do so, use our `CustomTextEmbedding` class! To use this class, import it as below, and then specify the name of a model as used on HuggingFace:\n",
    "\n",
    "```python\n",
    "from src.embeddings.custom import CustomTextEmbedding\n",
    "text_embedder_cfg = TextEmbedderConfig(\n",
    "    text_embedder=CustomTextEmbedding(model_name=<INSERT_HUGGINGFACE_MODEL_HERE>, device=device), batch_size=128\n",
    ")\n",
    "```"
   ]
  },
  {
   "cell_type": "markdown",
   "metadata": {},
   "source": [
    "## Question 3: Different RDL model architectures?\n",
    "Finally, we experiment with different RDL model architectures. In particular, we investigate what happens as we add or subtract GNN layers from our model."
   ]
  },
  {
   "cell_type": "markdown",
   "metadata": {},
   "source": [
    "First, we double the number of GNN layers in our RDL pipeline, moving from `num_layers=2` to `num_layers=4`. The idea is that by adding more layers, we can create a more expressive network that can understand more complex relationships."
   ]
  },
  {
   "cell_type": "code",
   "execution_count": 10,
   "metadata": {},
   "outputs": [
    {
     "name": "stderr",
     "output_type": "stream",
     "text": [
      "100%|██████████| 23/23 [00:03<00:00,  6.43it/s]\n"
     ]
    },
    {
     "name": "stdout",
     "output_type": "stream",
     "text": [
      "Epoch: 01, Train loss: 0.3881759429837744, Val metrics: {'average_precision': np.float64(0.8344568772026486), 'accuracy': 0.7791519434628975, 'f1': np.float64(0.8758689175769613), 'roc_auc': np.float64(0.5962086167800453)}\n"
     ]
    },
    {
     "name": "stderr",
     "output_type": "stream",
     "text": [
      "100%|██████████| 23/23 [00:03<00:00,  6.45it/s]\n"
     ]
    },
    {
     "name": "stdout",
     "output_type": "stream",
     "text": [
      "Epoch: 02, Train loss: 0.3540312760410713, Val metrics: {'average_precision': np.float64(0.8367642571021501), 'accuracy': 0.7791519434628975, 'f1': np.float64(0.8758689175769613), 'roc_auc': np.float64(0.5942675736961451)}\n"
     ]
    },
    {
     "name": "stderr",
     "output_type": "stream",
     "text": [
      "100%|██████████| 23/23 [00:03<00:00,  6.43it/s]\n"
     ]
    },
    {
     "name": "stdout",
     "output_type": "stream",
     "text": [
      "Epoch: 03, Train loss: 0.3525613745201607, Val metrics: {'average_precision': np.float64(0.8464072878456553), 'accuracy': 0.7791519434628975, 'f1': np.float64(0.8758689175769613), 'roc_auc': np.float64(0.6260498866213151)}\n"
     ]
    },
    {
     "name": "stderr",
     "output_type": "stream",
     "text": [
      "100%|██████████| 23/23 [00:03<00:00,  6.40it/s]\n"
     ]
    },
    {
     "name": "stdout",
     "output_type": "stream",
     "text": [
      "Epoch: 04, Train loss: 0.32971405493012756, Val metrics: {'average_precision': np.float64(0.887762263436603), 'accuracy': 0.7791519434628975, 'f1': np.float64(0.8758689175769613), 'roc_auc': np.float64(0.6764444444444444)}\n"
     ]
    },
    {
     "name": "stderr",
     "output_type": "stream",
     "text": [
      "100%|██████████| 23/23 [00:03<00:00,  6.43it/s]\n"
     ]
    },
    {
     "name": "stdout",
     "output_type": "stream",
     "text": [
      "Epoch: 05, Train loss: 0.3125519689272731, Val metrics: {'average_precision': np.float64(0.8915756269059175), 'accuracy': 0.7473498233215548, 'f1': np.float64(0.8511966701352758), 'roc_auc': np.float64(0.6916281179138322)}\n"
     ]
    },
    {
     "name": "stderr",
     "output_type": "stream",
     "text": [
      "100%|██████████| 23/23 [00:03<00:00,  6.14it/s]\n"
     ]
    },
    {
     "name": "stdout",
     "output_type": "stream",
     "text": [
      "Epoch: 06, Train loss: 0.31262529428469477, Val metrics: {'average_precision': np.float64(0.8935602560319724), 'accuracy': 0.7314487632508834, 'f1': np.float64(0.8406708595387841), 'roc_auc': np.float64(0.6805079365079365)}\n"
     ]
    },
    {
     "name": "stderr",
     "output_type": "stream",
     "text": [
      "100%|██████████| 23/23 [00:03<00:00,  6.46it/s]\n"
     ]
    },
    {
     "name": "stdout",
     "output_type": "stream",
     "text": [
      "Epoch: 07, Train loss: 0.3036106764178535, Val metrics: {'average_precision': np.float64(0.8960856418972454), 'accuracy': 0.773851590106007, 'f1': np.float64(0.872), 'roc_auc': np.float64(0.6991201814058957)}\n"
     ]
    },
    {
     "name": "stderr",
     "output_type": "stream",
     "text": [
      "100%|██████████| 23/23 [00:03<00:00,  6.42it/s]\n"
     ]
    },
    {
     "name": "stdout",
     "output_type": "stream",
     "text": [
      "Epoch: 08, Train loss: 0.30175078662143207, Val metrics: {'average_precision': np.float64(0.9021201170865285), 'accuracy': 0.726148409893993, 'f1': np.float64(0.8349307774227902), 'roc_auc': np.float64(0.6952743764172336)}\n"
     ]
    },
    {
     "name": "stderr",
     "output_type": "stream",
     "text": [
      "100%|██████████| 23/23 [00:03<00:00,  6.45it/s]\n"
     ]
    },
    {
     "name": "stdout",
     "output_type": "stream",
     "text": [
      "Epoch: 09, Train loss: 0.30035592608422174, Val metrics: {'average_precision': np.float64(0.8909850809150603), 'accuracy': 0.7703180212014135, 'f1': np.float64(0.8681541582150102), 'roc_auc': np.float64(0.6942766439909297)}\n"
     ]
    },
    {
     "name": "stderr",
     "output_type": "stream",
     "text": [
      "100%|██████████| 23/23 [00:03<00:00,  6.41it/s]\n"
     ]
    },
    {
     "name": "stdout",
     "output_type": "stream",
     "text": [
      "Epoch: 10, Train loss: 0.2977251843376693, Val metrics: {'average_precision': np.float64(0.9000885935377556), 'accuracy': 0.7137809187279152, 'f1': np.float64(0.812933025404157), 'roc_auc': np.float64(0.7027482993197279)}\n",
      "Best val metrics: {'average_precision': np.float64(0.9007444543861309), 'accuracy': 0.7102473498233216, 'f1': np.float64(0.8106235565819861), 'roc_auc': np.float64(0.7047619047619048)}\n",
      "Best test metrics: {'average_precision': np.float64(0.8497889535900964), 'accuracy': 0.6866096866096866, 'f1': np.float64(0.7741273100616016), 'roc_auc': np.float64(0.7155272532084127)}\n"
     ]
    }
   ],
   "source": [
    "# Define a new model, don't load in old weights.\n",
    "deep_model = RDLModel(\n",
    "    data=data,\n",
    "    col_stats_dict=col_stats_dict,\n",
    "    num_layers=4,\n",
    "    channels=128,\n",
    "    out_channels=1,\n",
    "    aggr=\"sum\",\n",
    "    norm=\"batch_norm\",\n",
    ").to(device)\n",
    "deep_optimizer = torch.optim.Adam(deep_model.parameters(), lr=0.005)\n",
    "deep_state_dict = training_run(\n",
    "    deep_model,\n",
    "    device,\n",
    "    deep_optimizer,\n",
    "    task,\n",
    "    loader_dict,\n",
    "    val_table,\n",
    "    loss_fn,\n",
    "    entity_table,\n",
    "    epochs=10,\n",
    ")\n",
    "deep_model.load_state_dict(deep_state_dict)\n",
    "\n",
    "# Evaluate on val and test set\n",
    "eval_model(deep_model, loader_dict, \"val\", task, device, val_table)\n",
    "eval_model(deep_model, loader_dict, \"test\", task, device, None)"
   ]
  },
  {
   "cell_type": "markdown",
   "metadata": {},
   "source": [
    "As we see, training using $4$ layers actually makes the model perform worse over time. Thus, given the simplicity of the task and the size of dataset, it is likely that we are overfitting."
   ]
  },
  {
   "cell_type": "markdown",
   "metadata": {},
   "source": [
    "Given that using double the amount of layers leads to less optimal results, we can try the opposite strategy and halve the number of layers in the network."
   ]
  },
  {
   "cell_type": "code",
   "execution_count": 11,
   "metadata": {},
   "outputs": [
    {
     "name": "stderr",
     "output_type": "stream",
     "text": [
      "100%|██████████| 23/23 [00:02<00:00, 11.05it/s]\n"
     ]
    },
    {
     "name": "stdout",
     "output_type": "stream",
     "text": [
      "Epoch: 01, Train loss: 0.3751864998777913, Val metrics: {'average_precision': np.float64(0.8408527322359316), 'accuracy': 0.7791519434628975, 'f1': np.float64(0.8758689175769613), 'roc_auc': np.float64(0.6049342403628117)}\n"
     ]
    },
    {
     "name": "stderr",
     "output_type": "stream",
     "text": [
      "100%|██████████| 23/23 [00:02<00:00, 11.05it/s]\n"
     ]
    },
    {
     "name": "stdout",
     "output_type": "stream",
     "text": [
      "Epoch: 02, Train loss: 0.3511478803309495, Val metrics: {'average_precision': np.float64(0.8621855134101036), 'accuracy': 0.7791519434628975, 'f1': np.float64(0.8758689175769613), 'roc_auc': np.float64(0.6504126984126983)}\n"
     ]
    },
    {
     "name": "stderr",
     "output_type": "stream",
     "text": [
      "100%|██████████| 23/23 [00:02<00:00, 11.08it/s]\n"
     ]
    },
    {
     "name": "stdout",
     "output_type": "stream",
     "text": [
      "Epoch: 03, Train loss: 0.32105950418190143, Val metrics: {'average_precision': np.float64(0.901980132536226), 'accuracy': 0.773851590106007, 'f1': np.float64(0.8707070707070707), 'roc_auc': np.float64(0.7058321995464851)}\n"
     ]
    },
    {
     "name": "stderr",
     "output_type": "stream",
     "text": [
      "100%|██████████| 23/23 [00:02<00:00, 11.02it/s]\n"
     ]
    },
    {
     "name": "stdout",
     "output_type": "stream",
     "text": [
      "Epoch: 04, Train loss: 0.30425606151266904, Val metrics: {'average_precision': np.float64(0.9080646604765362), 'accuracy': 0.734982332155477, 'f1': np.float64(0.834070796460177), 'roc_auc': np.float64(0.7184580498866213)}\n"
     ]
    },
    {
     "name": "stderr",
     "output_type": "stream",
     "text": [
      "100%|██████████| 23/23 [00:02<00:00, 10.77it/s]\n"
     ]
    },
    {
     "name": "stdout",
     "output_type": "stream",
     "text": [
      "Epoch: 05, Train loss: 0.29858703346781473, Val metrics: {'average_precision': np.float64(0.9083570272668855), 'accuracy': 0.6925795053003534, 'f1': np.float64(0.7867647058823529), 'roc_auc': np.float64(0.7246439909297053)}\n"
     ]
    },
    {
     "name": "stderr",
     "output_type": "stream",
     "text": [
      "100%|██████████| 23/23 [00:02<00:00, 10.81it/s]\n"
     ]
    },
    {
     "name": "stdout",
     "output_type": "stream",
     "text": [
      "Epoch: 06, Train loss: 0.2965586706075333, Val metrics: {'average_precision': np.float64(0.9090093113148886), 'accuracy': 0.7438162544169611, 'f1': np.float64(0.8361581920903954), 'roc_auc': np.float64(0.724172335600907)}\n"
     ]
    },
    {
     "name": "stderr",
     "output_type": "stream",
     "text": [
      "100%|██████████| 23/23 [00:02<00:00, 10.89it/s]\n"
     ]
    },
    {
     "name": "stdout",
     "output_type": "stream",
     "text": [
      "Epoch: 07, Train loss: 0.2914397278928744, Val metrics: {'average_precision': np.float64(0.907877388391275), 'accuracy': 0.7614840989399293, 'f1': np.float64(0.8514851485148515), 'roc_auc': np.float64(0.7249523809523809)}\n"
     ]
    },
    {
     "name": "stderr",
     "output_type": "stream",
     "text": [
      "100%|██████████| 23/23 [00:02<00:00, 10.81it/s]\n"
     ]
    },
    {
     "name": "stdout",
     "output_type": "stream",
     "text": [
      "Epoch: 08, Train loss: 0.2925353284098287, Val metrics: {'average_precision': np.float64(0.9067794340316953), 'accuracy': 0.784452296819788, 'f1': np.float64(0.8737060041407867), 'roc_auc': np.float64(0.7194557823129252)}\n"
     ]
    },
    {
     "name": "stderr",
     "output_type": "stream",
     "text": [
      "100%|██████████| 23/23 [00:02<00:00, 10.89it/s]\n"
     ]
    },
    {
     "name": "stdout",
     "output_type": "stream",
     "text": [
      "Epoch: 09, Train loss: 0.2905816652717144, Val metrics: {'average_precision': np.float64(0.9059182089561669), 'accuracy': 0.7756183745583038, 'f1': np.float64(0.8733798604187437), 'roc_auc': np.float64(0.7191836734693879)}\n"
     ]
    },
    {
     "name": "stderr",
     "output_type": "stream",
     "text": [
      "100%|██████████| 23/23 [00:02<00:00, 11.09it/s]\n"
     ]
    },
    {
     "name": "stdout",
     "output_type": "stream",
     "text": [
      "Epoch: 10, Train loss: 0.28373547845243646, Val metrics: {'average_precision': np.float64(0.904110681542319), 'accuracy': 0.7791519434628975, 'f1': np.float64(0.8717948717948718), 'roc_auc': np.float64(0.7184761904761905)}\n",
      "Best val metrics: {'average_precision': np.float64(0.9078009395566446), 'accuracy': 0.7579505300353356, 'f1': np.float64(0.849615806805708), 'roc_auc': np.float64(0.7244444444444444)}\n",
      "Best test metrics: {'average_precision': np.float64(0.8490741640211072), 'accuracy': 0.7236467236467237, 'f1': np.float64(0.8207024029574861), 'roc_auc': np.float64(0.7179183135704875)}\n"
     ]
    }
   ],
   "source": [
    "# Define a new model, don't load in old weights.\n",
    "shallow_model = RDLModel(\n",
    "    data=data,\n",
    "    col_stats_dict=col_stats_dict,\n",
    "    num_layers=1,\n",
    "    channels=128,\n",
    "    out_channels=1,\n",
    "    aggr=\"sum\",\n",
    "    norm=\"batch_norm\",\n",
    ").to(device)\n",
    "shallow_optimizer = torch.optim.Adam(shallow_model.parameters(), lr=0.005)\n",
    "shallow_state_dict = training_run(\n",
    "    shallow_model,\n",
    "    device,\n",
    "    shallow_optimizer,\n",
    "    task,\n",
    "    loader_dict,\n",
    "    val_table,\n",
    "    loss_fn,\n",
    "    entity_table,\n",
    "    epochs=10,\n",
    ")\n",
    "shallow_model.load_state_dict(shallow_state_dict)\n",
    "\n",
    "# Evaluate on val and test set\n",
    "eval_model(shallow_model, loader_dict, \"val\", task, device, val_table)\n",
    "eval_model(shallow_model, loader_dict, \"test\", task, device, None)"
   ]
  },
  {
   "cell_type": "markdown",
   "metadata": {},
   "source": [
    "Interestingly enough, we see that even with half the number of layers, we do just about the same as with double the number of layers. Once again, this might be more task-specific as opposed to a general conclusion about GNNs and the RDL pipeline.\n",
    "\n",
    "### Challenge\n",
    "Does this trend necessarily hold on larger and more diverse datasets? Depending on your compute availability, try out using different datasets, like `rel-amazon`, as well as across different types of tasks!"
   ]
  },
  {
   "cell_type": "markdown",
   "metadata": {},
   "source": [
    "## Question 4: What about different graph layers?\n",
    "We can also just try using different graph layers, featured in PyG. Below is GCN."
   ]
  },
  {
   "cell_type": "code",
   "execution_count": 12,
   "metadata": {},
   "outputs": [
    {
     "name": "stderr",
     "output_type": "stream",
     "text": [
      "100%|██████████| 23/23 [00:03<00:00,  7.41it/s]\n"
     ]
    },
    {
     "name": "stdout",
     "output_type": "stream",
     "text": [
      "Epoch: 01, Train loss: 0.37916472586069816, Val metrics: {'average_precision': np.float64(0.8277198555546621), 'accuracy': 0.7791519434628975, 'f1': np.float64(0.8758689175769613), 'roc_auc': np.float64(0.5819047619047618)}\n"
     ]
    },
    {
     "name": "stderr",
     "output_type": "stream",
     "text": [
      "100%|██████████| 23/23 [00:03<00:00,  7.49it/s]\n"
     ]
    },
    {
     "name": "stdout",
     "output_type": "stream",
     "text": [
      "Epoch: 02, Train loss: 0.35965579074330256, Val metrics: {'average_precision': np.float64(0.8527877529438107), 'accuracy': 0.7791519434628975, 'f1': np.float64(0.8758689175769613), 'roc_auc': np.float64(0.6434739229024944)}\n"
     ]
    },
    {
     "name": "stderr",
     "output_type": "stream",
     "text": [
      "100%|██████████| 23/23 [00:03<00:00,  7.50it/s]\n"
     ]
    },
    {
     "name": "stdout",
     "output_type": "stream",
     "text": [
      "Epoch: 03, Train loss: 0.33311381354704717, Val metrics: {'average_precision': np.float64(0.8803021746906082), 'accuracy': 0.7791519434628975, 'f1': np.float64(0.8758689175769613), 'roc_auc': np.float64(0.667219954648526)}\n"
     ]
    },
    {
     "name": "stderr",
     "output_type": "stream",
     "text": [
      "100%|██████████| 23/23 [00:03<00:00,  7.44it/s]\n"
     ]
    },
    {
     "name": "stdout",
     "output_type": "stream",
     "text": [
      "Epoch: 04, Train loss: 0.31717397271933895, Val metrics: {'average_precision': np.float64(0.8921318802237763), 'accuracy': 0.7791519434628975, 'f1': np.float64(0.8758689175769613), 'roc_auc': np.float64(0.7018231292517007)}\n"
     ]
    },
    {
     "name": "stderr",
     "output_type": "stream",
     "text": [
      "100%|██████████| 23/23 [00:03<00:00,  7.45it/s]\n"
     ]
    },
    {
     "name": "stdout",
     "output_type": "stream",
     "text": [
      "Epoch: 05, Train loss: 0.30485369863554845, Val metrics: {'average_precision': np.float64(0.8913038366423687), 'accuracy': 0.7579505300353356, 'f1': np.float64(0.8462401795735129), 'roc_auc': np.float64(0.713297052154195)}\n"
     ]
    },
    {
     "name": "stderr",
     "output_type": "stream",
     "text": [
      "100%|██████████| 23/23 [00:03<00:00,  7.47it/s]\n"
     ]
    },
    {
     "name": "stdout",
     "output_type": "stream",
     "text": [
      "Epoch: 06, Train loss: 0.29967562582932433, Val metrics: {'average_precision': np.float64(0.8833437278119048), 'accuracy': 0.7720848056537103, 'f1': np.float64(0.8685015290519877), 'roc_auc': np.float64(0.6970068027210885)}\n"
     ]
    },
    {
     "name": "stderr",
     "output_type": "stream",
     "text": [
      "100%|██████████| 23/23 [00:03<00:00,  7.53it/s]\n"
     ]
    },
    {
     "name": "stdout",
     "output_type": "stream",
     "text": [
      "Epoch: 07, Train loss: 0.289253937282421, Val metrics: {'average_precision': np.float64(0.87746328936192), 'accuracy': 0.7826855123674912, 'f1': np.float64(0.8746177370030581), 'roc_auc': np.float64(0.688)}\n"
     ]
    },
    {
     "name": "stderr",
     "output_type": "stream",
     "text": [
      "100%|██████████| 23/23 [00:03<00:00,  7.51it/s]\n"
     ]
    },
    {
     "name": "stdout",
     "output_type": "stream",
     "text": [
      "Epoch: 08, Train loss: 0.287606537114852, Val metrics: {'average_precision': np.float64(0.8769214089777151), 'accuracy': 0.7685512367491166, 'f1': np.float64(0.8601921024546425), 'roc_auc': np.float64(0.6870839002267572)}\n"
     ]
    },
    {
     "name": "stderr",
     "output_type": "stream",
     "text": [
      "100%|██████████| 23/23 [00:03<00:00,  7.54it/s]\n"
     ]
    },
    {
     "name": "stdout",
     "output_type": "stream",
     "text": [
      "Epoch: 09, Train loss: 0.2846338074011531, Val metrics: {'average_precision': np.float64(0.8892736560649124), 'accuracy': 0.7685512367491166, 'f1': np.float64(0.8552486187845304), 'roc_auc': np.float64(0.7104852607709752)}\n"
     ]
    },
    {
     "name": "stderr",
     "output_type": "stream",
     "text": [
      "100%|██████████| 23/23 [00:03<00:00,  7.51it/s]\n"
     ]
    },
    {
     "name": "stdout",
     "output_type": "stream",
     "text": [
      "Epoch: 10, Train loss: 0.27974842263635563, Val metrics: {'average_precision': np.float64(0.8890342528582273), 'accuracy': 0.7597173144876325, 'f1': np.float64(0.8550106609808102), 'roc_auc': np.float64(0.7074376417233559)}\n",
      "Best val metrics: {'average_precision': np.float64(0.8916694835622336), 'accuracy': 0.7579505300353356, 'f1': np.float64(0.8462401795735129), 'roc_auc': np.float64(0.7143673469387753)}\n",
      "Best test metrics: {'average_precision': np.float64(0.8145662802287866), 'accuracy': 0.7094017094017094, 'f1': np.float64(0.7806451612903226), 'roc_auc': np.float64(0.6876787195627776)}\n"
     ]
    }
   ],
   "source": [
    "# Define a new model, don't load in old weights.\n",
    "from src.models.rdl.gat import RDLGATModel\n",
    "\n",
    "gcn_model = RDLGATModel(\n",
    "    data=data,\n",
    "    col_stats_dict=col_stats_dict,\n",
    "    num_layers=2,\n",
    "    channels=128,\n",
    "    out_channels=1,\n",
    "    aggr=\"sum\",\n",
    "    norm=\"batch_norm\",\n",
    ").to(device)\n",
    "gcn_optimizer = torch.optim.Adam(gcn_model.parameters(), lr=0.005)\n",
    "gcn_state_dict = training_run(\n",
    "    gcn_model,\n",
    "    device,\n",
    "    gcn_optimizer,\n",
    "    task,\n",
    "    loader_dict,\n",
    "    val_table,\n",
    "    loss_fn,\n",
    "    entity_table,\n",
    "    epochs=10,\n",
    ")\n",
    "gcn_model.load_state_dict(gcn_state_dict)\n",
    "\n",
    "# Evaluate on val and test set\n",
    "eval_model(gcn_model, loader_dict, \"val\", task, device, val_table)\n",
    "eval_model(gcn_model, loader_dict, \"test\", task, device, None)"
   ]
  }
 ],
 "metadata": {
  "accelerator": "GPU",
  "colab": {
   "authorship_tag": "ABX9TyPZLbeQ8nLws8bu/8tbPPMT",
   "gpuType": "T4",
   "provenance": []
  },
  "kernelspec": {
   "display_name": "env",
   "language": "python",
   "name": "python3"
  },
  "language_info": {
   "codemirror_mode": {
    "name": "ipython",
    "version": 3
   },
   "file_extension": ".py",
   "mimetype": "text/x-python",
   "name": "python",
   "nbconvert_exporter": "python",
   "pygments_lexer": "ipython3",
   "version": "3.9.20"
  }
 },
 "nbformat": 4,
 "nbformat_minor": 0
}
