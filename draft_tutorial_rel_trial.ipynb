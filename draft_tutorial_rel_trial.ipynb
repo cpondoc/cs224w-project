{
 "cells": [
  {
   "cell_type": "markdown",
   "metadata": {
    "id": "T8rvGO8rI-ww"
   },
   "source": [
    "# Exploring the Impacts of Architecture and Scale on GNN Performance on Relational Data\n",
    "By: Joseph Guman, Atindra Jha, and Christopher Pondoc"
   ]
  },
  {
   "cell_type": "markdown",
   "metadata": {},
   "source": [
    "## Introduction\n",
    "Welcome back to Relbench! In this tutorial, we'll dive a bit deeper into the benchmark + Relational Deep Learning and explore several choices around architecture, scale, and generalizability. In particular, we'll look to answer the following questions:\n",
    "\n",
    "1. Can we train our Relational Deep Learning on one entity classification task and expect strong zero-shot performance on another entity classification task? What happens if we finetune the model?\n",
    "2. How does our choice of using embedding models to generate expressive node features impact our performance on node classification tasks?\n",
    "3. How can we alter and/or extend the architecture of our existing Relational Deep Learning model to improve performance on different tasks?\n",
    "\n",
    "This notebook already assumes you've looked through the tutorials on [loading in data](https://github.com/snap-stanford/relbench/blob/main/tutorials/load_data.ipynb) and [training a model](https://github.com/snap-stanford/relbench/blob/main/tutorials/train_model.ipynb), as our walkthrough uses those guides as a launchpad to explore deeper questions. If you haven't had a chance to look through those notebooks, we suggest starting there first.\n",
    "\n",
    "With all that being said, let's get started!"
   ]
  },
  {
   "cell_type": "markdown",
   "metadata": {},
   "source": [
    "## Question 0: Why Relational Deep Learning\n",
    "Before getting started, let's motivate the use of Relational Deep Learning by defining a non-GNN baseline to compare against. One of the main issues with older methods -- such as tabular methods or even just using standard statistical ML algorithms -- is that they either only work on one table or require lots of heavy feature engineering to reap the benefits of GNNs. On the other hand, Relational Deep Learning allows us to learn directly on relational data without feature engineering.\n",
    "\n",
    "For our baseline, let's use a classical statiscal model. In particular, let's use [LightGBM](https://lightgbm.readthedocs.io/en/stable/), which is a gradient boosting framework that uses tree-based learning algorithms."
   ]
  },
  {
   "cell_type": "code",
   "execution_count": 1,
   "metadata": {},
   "outputs": [
    {
     "name": "stderr",
     "output_type": "stream",
     "text": [
      "/home/atindrajha/miniconda3/envs/relben/lib/python3.10/site-packages/tqdm/auto.py:21: TqdmWarning: IProgress not found. Please update jupyter and ipywidgets. See https://ipywidgets.readthedocs.io/en/stable/user_install.html\n",
      "  from .autonotebook import tqdm as notebook_tqdm\n"
     ]
    },
    {
     "name": "stdout",
     "output_type": "stream",
     "text": [
      "Loading Database object from /home/atindrajha/.cache/relbench/rel-trial/db...\n",
      "Done in 9.06 seconds.\n"
     ]
    },
    {
     "name": "stderr",
     "output_type": "stream",
     "text": [
      "/home/atindrajha/miniconda3/envs/relben/lib/python3.10/site-packages/torch_frame/utils/io.py:98: FutureWarning: You are using `torch.load` with `weights_only=False` (the current default value), which uses the default pickle module implicitly. It is possible to construct malicious pickle data which will execute arbitrary code during unpickling (See https://github.com/pytorch/pytorch/blob/main/SECURITY.md#untrusted-models for more details). In a future release, the default value for `weights_only` will be flipped to `True`. This limits the functions that could be executed during unpickling. Arbitrary objects will no longer be allowed to be loaded via this mode unless they are explicitly allowlisted by the user via `torch.serialization.add_safe_globals`. We recommend you start setting `weights_only=True` for any use case where you don't have full control of the loaded file. Please open an issue on GitHub for any issues related to this experimental feature.\n",
      "  tf_dict, col_stats = torch.load(path)\n",
      "Embedding raw data in mini-batch: 100%|██████████| 4/4 [00:00<00:00, 13.87it/s]\n",
      "Embedding raw data in mini-batch: 100%|██████████| 4/4 [00:00<00:00, 135.85it/s]\n",
      "Embedding raw data in mini-batch: 100%|██████████| 4/4 [00:00<00:00, 211.04it/s]\n",
      "Embedding raw data in mini-batch: 100%|██████████| 4/4 [00:00<00:00, 202.23it/s]\n",
      "Embedding raw data in mini-batch: 100%|██████████| 4/4 [00:00<00:00, 42.21it/s]\n",
      "Embedding raw data in mini-batch: 100%|██████████| 4/4 [00:00<00:00, 104.59it/s]\n",
      "Embedding raw data in mini-batch: 100%|██████████| 4/4 [00:00<00:00, 21.38it/s]\n",
      "Embedding raw data in mini-batch: 100%|██████████| 4/4 [00:00<00:00, 211.81it/s]\n",
      "Embedding raw data in mini-batch: 100%|██████████| 4/4 [00:00<00:00, 85.39it/s]\n",
      "Embedding raw data in mini-batch: 100%|██████████| 4/4 [00:00<00:00, 158.64it/s]\n",
      "Embedding raw data in mini-batch: 100%|██████████| 4/4 [00:00<00:00, 199.03it/s]\n",
      "Embedding raw data in mini-batch: 100%|██████████| 4/4 [00:00<00:00, 207.30it/s]\n",
      "Embedding raw data in mini-batch: 100%|██████████| 4/4 [00:00<00:00, 212.63it/s]\n",
      "Embedding raw data in mini-batch: 100%|██████████| 4/4 [00:00<00:00, 157.99it/s]\n",
      "Embedding raw data in mini-batch: 100%|██████████| 4/4 [00:00<00:00, 236.54it/s]\n",
      "Embedding raw data in mini-batch: 100%|██████████| 4/4 [00:00<00:00, 237.06it/s]\n",
      "Embedding raw data in mini-batch: 100%|██████████| 4/4 [00:00<00:00, 50.08it/s]\n",
      "Embedding raw data in mini-batch: 100%|██████████| 4/4 [00:00<00:00, 121.03it/s]\n",
      "Embedding raw data in mini-batch: 100%|██████████| 4/4 [00:00<00:00, 27.06it/s]\n",
      "Embedding raw data in mini-batch: 100%|██████████| 4/4 [00:00<00:00, 245.13it/s]\n",
      "Embedding raw data in mini-batch: 100%|██████████| 4/4 [00:00<00:00, 97.80it/s]\n",
      "Embedding raw data in mini-batch: 100%|██████████| 4/4 [00:00<00:00, 178.76it/s]\n",
      "Embedding raw data in mini-batch: 100%|██████████| 4/4 [00:00<00:00, 215.64it/s]\n",
      "Embedding raw data in mini-batch: 100%|██████████| 4/4 [00:00<00:00, 228.65it/s]\n",
      "[I 2024-12-10 04:45:31,352] A new study created in memory with name: no-name-669384ee-3386-459f-a9d3-92cfb3c47388\n",
      "/home/atindrajha/miniconda3/envs/relben/lib/python3.10/site-packages/lightgbm/engine.py:186: LGBMDeprecationWarning: Argument 'categorical_feature' to train() is deprecated and will be removed in a future release. Set 'categorical_feature' when calling lightgbm.Dataset() instead. See https://github.com/microsoft/LightGBM/issues/6435.\n",
      "  _emit_dataset_kwarg_warning(\"train\", \"categorical_feature\")\n",
      "[I 2024-12-10 04:45:51,057] Trial 0 finished with value: 0.6591389346807304 and parameters: {'max_depth': 6, 'learning_rate': 0.001384018617365137, 'num_leaves': 391, 'subsample': 0.7551525153397277, 'colsample_bytree': 0.31795313690927623, 'lambda_l1': 0.003944454286907726, 'lambda_l2': 0.0003747219021935066, 'min_data_in_leaf': 83}. Best is trial 0 with value: 0.6591389346807304.\n",
      "/home/atindrajha/miniconda3/envs/relben/lib/python3.10/site-packages/lightgbm/engine.py:186: LGBMDeprecationWarning: Argument 'categorical_feature' to train() is deprecated and will be removed in a future release. Set 'categorical_feature' when calling lightgbm.Dataset() instead. See https://github.com/microsoft/LightGBM/issues/6435.\n",
      "  _emit_dataset_kwarg_warning(\"train\", \"categorical_feature\")\n",
      "[LightGBM] [Fatal] Reducing `min_data_in_leaf` with `feature_pre_filter=true` may cause unexpected behaviour for features that were pre-filtered by the larger `min_data_in_leaf`.\n",
      "You need to set `feature_pre_filter=false` to dynamically change the `min_data_in_leaf`.\n",
      "[LightGBM] [Fatal] Reducing `min_data_in_leaf` with `feature_pre_filter=true` may cause unexpected behaviour for features that were pre-filtered by the larger `min_data_in_leaf`.\n",
      "You need to set `feature_pre_filter=false` to dynamically change the `min_data_in_leaf`.\n",
      "[I 2024-12-10 04:46:49,188] Trial 1 finished with value: 0.6649288104396465 and parameters: {'max_depth': 6, 'learning_rate': 0.007924127307575397, 'num_leaves': 139, 'subsample': 0.22699692806767485, 'colsample_bytree': 0.6312625388798233, 'lambda_l1': 0.0627237117271647, 'lambda_l2': 8.62919284878809e-08, 'min_data_in_leaf': 28}. Best is trial 1 with value: 0.6649288104396465.\n",
      "/home/atindrajha/miniconda3/envs/relben/lib/python3.10/site-packages/lightgbm/engine.py:186: LGBMDeprecationWarning: Argument 'categorical_feature' to train() is deprecated and will be removed in a future release. Set 'categorical_feature' when calling lightgbm.Dataset() instead. See https://github.com/microsoft/LightGBM/issues/6435.\n",
      "  _emit_dataset_kwarg_warning(\"train\", \"categorical_feature\")\n",
      "[LightGBM] [Fatal] Reducing `min_data_in_leaf` with `feature_pre_filter=true` may cause unexpected behaviour for features that were pre-filtered by the larger `min_data_in_leaf`.\n",
      "You need to set `feature_pre_filter=false` to dynamically change the `min_data_in_leaf`.\n",
      "[LightGBM] [Fatal] Reducing `min_data_in_leaf` with `feature_pre_filter=true` may cause unexpected behaviour for features that were pre-filtered by the larger `min_data_in_leaf`.\n",
      "You need to set `feature_pre_filter=false` to dynamically change the `min_data_in_leaf`.\n",
      "[I 2024-12-10 04:57:30,996] Trial 2 finished with value: 0.6757535550105209 and parameters: {'max_depth': 11, 'learning_rate': 0.0024790377916839765, 'num_leaves': 788, 'subsample': 0.7369346602759719, 'colsample_bytree': 0.7083209591097461, 'lambda_l1': 1.1545817860240623e-07, 'lambda_l2': 1.9877317345724064e-07, 'min_data_in_leaf': 3}. Best is trial 2 with value: 0.6757535550105209.\n",
      "/home/atindrajha/miniconda3/envs/relben/lib/python3.10/site-packages/lightgbm/engine.py:186: LGBMDeprecationWarning: Argument 'categorical_feature' to train() is deprecated and will be removed in a future release. Set 'categorical_feature' when calling lightgbm.Dataset() instead. See https://github.com/microsoft/LightGBM/issues/6435.\n",
      "  _emit_dataset_kwarg_warning(\"train\", \"categorical_feature\")\n",
      "[I 2024-12-10 04:58:46,541] Trial 3 finished with value: 0.6662735269546415 and parameters: {'max_depth': 4, 'learning_rate': 0.0011095615815744433, 'num_leaves': 327, 'subsample': 0.6489808309463265, 'colsample_bytree': 0.809087678904603, 'lambda_l1': 0.12703305575712312, 'lambda_l2': 0.24402565556142977, 'min_data_in_leaf': 100}. Best is trial 2 with value: 0.6757535550105209.\n",
      "/home/atindrajha/miniconda3/envs/relben/lib/python3.10/site-packages/lightgbm/engine.py:186: LGBMDeprecationWarning: Argument 'categorical_feature' to train() is deprecated and will be removed in a future release. Set 'categorical_feature' when calling lightgbm.Dataset() instead. See https://github.com/microsoft/LightGBM/issues/6435.\n",
      "  _emit_dataset_kwarg_warning(\"train\", \"categorical_feature\")\n",
      "[I 2024-12-10 04:59:19,705] Trial 4 finished with value: 0.6898038322186929 and parameters: {'max_depth': 7, 'learning_rate': 0.022497011009971802, 'num_leaves': 464, 'subsample': 0.6869708125474241, 'colsample_bytree': 0.8419174942785823, 'lambda_l1': 1.877505621110753e-06, 'lambda_l2': 0.14193696578033357, 'min_data_in_leaf': 98}. Best is trial 4 with value: 0.6898038322186929.\n",
      "/home/atindrajha/miniconda3/envs/relben/lib/python3.10/site-packages/lightgbm/engine.py:186: LGBMDeprecationWarning: Argument 'categorical_feature' to train() is deprecated and will be removed in a future release. Set 'categorical_feature' when calling lightgbm.Dataset() instead. See https://github.com/microsoft/LightGBM/issues/6435.\n",
      "  _emit_dataset_kwarg_warning(\"train\", \"categorical_feature\")\n",
      "[I 2024-12-10 04:59:30,097] Trial 5 finished with value: 0.6720991426873779 and parameters: {'max_depth': 5, 'learning_rate': 0.08508058409113788, 'num_leaves': 564, 'subsample': 0.5487770876275385, 'colsample_bytree': 0.461204176395933, 'lambda_l1': 0.20195503610137674, 'lambda_l2': 1.3625732125236465e-07, 'min_data_in_leaf': 33}. Best is trial 4 with value: 0.6898038322186929.\n",
      "/home/atindrajha/miniconda3/envs/relben/lib/python3.10/site-packages/lightgbm/engine.py:186: LGBMDeprecationWarning: Argument 'categorical_feature' to train() is deprecated and will be removed in a future release. Set 'categorical_feature' when calling lightgbm.Dataset() instead. See https://github.com/microsoft/LightGBM/issues/6435.\n",
      "  _emit_dataset_kwarg_warning(\"train\", \"categorical_feature\")\n",
      "[I 2024-12-10 04:59:33,880] Trial 6 finished with value: 0.6311456001858478 and parameters: {'max_depth': 11, 'learning_rate': 0.0016641234726975233, 'num_leaves': 550, 'subsample': 0.12887561123767005, 'colsample_bytree': 0.2583744845214733, 'lambda_l1': 2.807621698376443e-05, 'lambda_l2': 5.255578672853758e-08, 'min_data_in_leaf': 96}. Best is trial 4 with value: 0.6898038322186929.\n",
      "/home/atindrajha/miniconda3/envs/relben/lib/python3.10/site-packages/lightgbm/engine.py:186: LGBMDeprecationWarning: Argument 'categorical_feature' to train() is deprecated and will be removed in a future release. Set 'categorical_feature' when calling lightgbm.Dataset() instead. See https://github.com/microsoft/LightGBM/issues/6435.\n",
      "  _emit_dataset_kwarg_warning(\"train\", \"categorical_feature\")\n",
      "[I 2024-12-10 04:59:42,677] Trial 7 finished with value: 0.6544681668520679 and parameters: {'max_depth': 6, 'learning_rate': 0.0013097221006346238, 'num_leaves': 586, 'subsample': 0.543133617313324, 'colsample_bytree': 0.3125727611150156, 'lambda_l1': 0.02141379472293223, 'lambda_l2': 0.0005503710419070101, 'min_data_in_leaf': 84}. Best is trial 4 with value: 0.6898038322186929.\n",
      "/home/atindrajha/miniconda3/envs/relben/lib/python3.10/site-packages/lightgbm/engine.py:186: LGBMDeprecationWarning: Argument 'categorical_feature' to train() is deprecated and will be removed in a future release. Set 'categorical_feature' when calling lightgbm.Dataset() instead. See https://github.com/microsoft/LightGBM/issues/6435.\n",
      "  _emit_dataset_kwarg_warning(\"train\", \"categorical_feature\")\n",
      "[I 2024-12-10 05:00:19,958] Trial 8 finished with value: 0.6729837070394346 and parameters: {'max_depth': 10, 'learning_rate': 0.03653239383870352, 'num_leaves': 110, 'subsample': 0.5156298224774812, 'colsample_bytree': 0.15642327697010389, 'lambda_l1': 0.2992298376728893, 'lambda_l2': 1.3229118021574206e-08, 'min_data_in_leaf': 17}. Best is trial 4 with value: 0.6898038322186929.\n",
      "/home/atindrajha/miniconda3/envs/relben/lib/python3.10/site-packages/lightgbm/engine.py:186: LGBMDeprecationWarning: Argument 'categorical_feature' to train() is deprecated and will be removed in a future release. Set 'categorical_feature' when calling lightgbm.Dataset() instead. See https://github.com/microsoft/LightGBM/issues/6435.\n",
      "  _emit_dataset_kwarg_warning(\"train\", \"categorical_feature\")\n",
      "[I 2024-12-10 05:01:28,069] Trial 9 finished with value: 0.6799395994442434 and parameters: {'max_depth': 6, 'learning_rate': 0.0070363920542991535, 'num_leaves': 900, 'subsample': 0.9953211795172173, 'colsample_bytree': 0.5750416848941411, 'lambda_l1': 6.063456723839985e-07, 'lambda_l2': 0.005713041849165372, 'min_data_in_leaf': 40}. Best is trial 4 with value: 0.6898038322186929.\n",
      "/home/atindrajha/miniconda3/envs/relben/lib/python3.10/site-packages/lightgbm/engine.py:186: LGBMDeprecationWarning: Argument 'categorical_feature' to train() is deprecated and will be removed in a future release. Set 'categorical_feature' when calling lightgbm.Dataset() instead. See https://github.com/microsoft/LightGBM/issues/6435.\n",
      "  _emit_dataset_kwarg_warning(\"train\", \"categorical_feature\")\n"
     ]
    },
    {
     "name": "stdout",
     "output_type": "stream",
     "text": [
      "Train: {'average_precision': np.float64(0.9181137893348127), 'accuracy': 0.7100216775054193, 'f1': np.float64(0.8126481361775479), 'roc_auc': np.float64(0.8664334401906966)}\n",
      "Val: {'average_precision': np.float64(0.7515713565478817), 'accuracy': 0.6114583333333333, 'f1': np.float64(0.7432897453544391), 'roc_auc': np.float64(0.6898038322186929)}\n",
      "Test: {'average_precision': np.float64(0.7648462871285229), 'accuracy': 0.64, 'f1': np.float64(0.7610619469026548), 'roc_auc': np.float64(0.7145339193394113)}\n"
     ]
    }
   ],
   "source": [
    "# Run LightGBM baseline\n",
    "from src.models.baseline import train_model\n",
    "\n",
    "train_metrics, val_metrics, test_metrics = train_model(\"rel-trial\", \"study-outcome\")\n",
    "\n",
    "# Print corresponding statistics\n",
    "print(f\"Train: {train_metrics}\")\n",
    "print(f\"Val: {val_metrics}\")\n",
    "print(f\"Test: {test_metrics}\")"
   ]
  },
  {
   "cell_type": "markdown",
   "metadata": {},
   "source": [
    "Great! It looks like just by taking together all of raw tables and merging them together, we're able to achieve reasonable baseline performance. Let's see if we can do better without having to merge together all of the tables, though, with Relational Deep Learning!"
   ]
  },
  {
   "cell_type": "markdown",
   "metadata": {},
   "source": [
    "## Question 1: Can we generalize?\n",
    "Let's take a look at our first question, which involves looking at whether our Relational Deep Learning model can generalize to other tasks with/without finetuning."
   ]
  },
  {
   "cell_type": "markdown",
   "metadata": {},
   "source": [
    "Let's first start by looking setting up Relbench. As with the other tutorials, we're taking a look at the `rel-f1` dataset and focusing on node classification tasks. We'll begin by training a model on the `driver-dnf` task, which predicts whether a driver will not finish a race in the next month."
   ]
  },
  {
   "cell_type": "code",
   "execution_count": 2,
   "metadata": {},
   "outputs": [],
   "source": [
    "from src.tasks.tasks import initialize_task, db_to_graph\n",
    "import torch\n",
    "from torch.nn import BCEWithLogitsLoss\n",
    "from torch_geometric.seed import seed_everything\n",
    "\n",
    "# Set up dataset and task, define metrics and loss\n",
    "dataset, task, train_table, val_table, test_table = initialize_task(\n",
    "    \"rel-trial\", \"study-outcome\"\n",
    ")\n",
    "loss_fn = BCEWithLogitsLoss()\n",
    "\n",
    "# Set up device\n",
    "seed_everything(42)\n",
    "device = torch.device(\"cuda\" if torch.cuda.is_available() else \"cpu\")"
   ]
  },
  {
   "cell_type": "markdown",
   "metadata": {},
   "source": [
    "We can then preprocess all of our Relbench data."
   ]
  },
  {
   "cell_type": "code",
   "execution_count": 3,
   "metadata": {},
   "outputs": [
    {
     "name": "stderr",
     "output_type": "stream",
     "text": [
      "Embedding raw data in mini-batch: 100%|██████████| 3541/3541 [00:11<00:00, 321.35it/s]\n",
      "Embedding raw data in mini-batch: 100%|██████████| 3541/3541 [00:10<00:00, 327.63it/s]\n",
      "Embedding raw data in mini-batch: 100%|██████████| 3541/3541 [00:13<00:00, 258.37it/s]\n",
      "Embedding raw data in mini-batch: 100%|██████████| 3541/3541 [00:10<00:00, 338.31it/s]\n",
      "Embedding raw data in mini-batch: 100%|██████████| 3541/3541 [00:10<00:00, 344.44it/s]\n",
      "Embedding raw data in mini-batch: 100%|██████████| 1765/1765 [00:04<00:00, 376.67it/s]\n",
      "Embedding raw data in mini-batch: 100%|██████████| 1765/1765 [00:05<00:00, 320.93it/s]\n",
      "Embedding raw data in mini-batch: 100%|██████████| 1765/1765 [00:07<00:00, 233.32it/s]\n",
      "Embedding raw data in mini-batch: 100%|██████████| 1765/1765 [00:05<00:00, 323.05it/s]\n",
      "Embedding raw data in mini-batch: 100%|██████████| 1765/1765 [00:05<00:00, 328.01it/s]\n",
      "Embedding raw data in mini-batch: 100%|██████████| 1765/1765 [00:05<00:00, 321.04it/s]\n",
      "Embedding raw data in mini-batch: 100%|██████████| 1765/1765 [00:05<00:00, 323.53it/s]\n",
      "Embedding raw data in mini-batch: 100%|██████████| 1765/1765 [00:04<00:00, 362.52it/s]\n",
      "Embedding raw data in mini-batch: 100%|██████████| 1765/1765 [00:05<00:00, 301.17it/s]\n",
      "Embedding raw data in mini-batch: 100%|██████████| 1765/1765 [00:05<00:00, 312.75it/s]\n",
      "Embedding raw data in mini-batch: 100%|██████████| 1947/1947 [00:06<00:00, 308.14it/s]\n",
      "Embedding raw data in mini-batch: 100%|██████████| 1947/1947 [00:05<00:00, 336.18it/s]\n",
      "Embedding raw data in mini-batch: 100%|██████████| 1947/1947 [00:05<00:00, 365.93it/s]\n",
      "Embedding raw data in mini-batch: 100%|██████████| 1947/1947 [00:05<00:00, 335.06it/s]\n",
      "Embedding raw data in mini-batch: 100%|██████████| 1947/1947 [00:05<00:00, 363.88it/s]\n",
      "Embedding raw data in mini-batch: 100%|██████████| 416/416 [00:01<00:00, 340.94it/s]\n",
      "Embedding raw data in mini-batch: 100%|██████████| 416/416 [00:01<00:00, 265.29it/s]\n",
      "Embedding raw data in mini-batch: 100%|██████████| 2979/2979 [00:09<00:00, 306.30it/s]\n",
      "Embedding raw data in mini-batch: 100%|██████████| 2979/2979 [00:09<00:00, 305.11it/s]\n",
      "Embedding raw data in mini-batch: 100%|██████████| 32/32 [00:00<00:00, 287.02it/s]\n",
      "Embedding raw data in mini-batch: 100%|██████████| 3219/3219 [00:26<00:00, 121.72it/s]\n",
      "Embedding raw data in mini-batch: 100%|██████████| 3219/3219 [00:09<00:00, 325.59it/s]\n",
      "Embedding raw data in mini-batch: 100%|██████████| 3219/3219 [00:09<00:00, 333.32it/s]\n",
      "Embedding raw data in mini-batch: 100%|██████████| 3219/3219 [00:09<00:00, 327.93it/s]\n",
      "Embedding raw data in mini-batch: 100%|██████████| 3219/3219 [00:15<00:00, 206.77it/s]\n",
      "Embedding raw data in mini-batch: 100%|██████████| 3219/3219 [00:12<00:00, 256.81it/s]\n",
      "Embedding raw data in mini-batch: 100%|██████████| 3219/3219 [00:14<00:00, 216.37it/s]\n",
      "Embedding raw data in mini-batch: 100%|██████████| 3219/3219 [00:10<00:00, 317.09it/s]\n",
      "Embedding raw data in mini-batch: 100%|██████████| 3219/3219 [00:08<00:00, 368.78it/s]\n",
      "Embedding raw data in mini-batch: 100%|██████████| 28/28 [00:00<00:00, 304.97it/s]\n",
      "Embedding raw data in mini-batch: 100%|██████████| 1952/1952 [00:47<00:00, 40.76it/s]\n",
      "Embedding raw data in mini-batch: 100%|██████████| 1952/1952 [00:05<00:00, 366.05it/s]\n",
      "Embedding raw data in mini-batch: 100%|██████████| 1952/1952 [00:05<00:00, 341.52it/s]\n",
      "Embedding raw data in mini-batch: 100%|██████████| 1952/1952 [00:06<00:00, 324.12it/s]\n",
      "Embedding raw data in mini-batch: 100%|██████████| 1952/1952 [00:06<00:00, 281.58it/s]\n",
      "Embedding raw data in mini-batch: 100%|██████████| 1952/1952 [00:05<00:00, 340.63it/s]\n",
      "Embedding raw data in mini-batch: 100%|██████████| 1952/1952 [00:05<00:00, 331.27it/s]\n",
      "Embedding raw data in mini-batch: 100%|██████████| 1952/1952 [00:05<00:00, 344.00it/s]\n",
      "Embedding raw data in mini-batch: 100%|██████████| 1952/1952 [00:05<00:00, 364.77it/s]\n",
      "Embedding raw data in mini-batch: 100%|██████████| 1952/1952 [00:25<00:00, 77.06it/s]\n",
      "Embedding raw data in mini-batch: 100%|██████████| 1952/1952 [00:09<00:00, 205.52it/s]\n",
      "Embedding raw data in mini-batch: 100%|██████████| 1952/1952 [00:49<00:00, 39.64it/s]\n",
      "Embedding raw data in mini-batch: 100%|██████████| 1952/1952 [00:05<00:00, 377.86it/s]\n",
      "Embedding raw data in mini-batch: 100%|██████████| 1952/1952 [00:11<00:00, 169.76it/s]\n",
      "Embedding raw data in mini-batch: 100%|██████████| 1952/1952 [00:07<00:00, 278.70it/s]\n",
      "Embedding raw data in mini-batch: 100%|██████████| 1952/1952 [00:05<00:00, 349.45it/s]\n",
      "Embedding raw data in mini-batch: 100%|██████████| 1952/1952 [00:05<00:00, 371.46it/s]\n"
     ]
    }
   ],
   "source": [
    "import os\n",
    "from relbench.modeling.graph import make_pkey_fkey_graph\n",
    "from torch_frame.config.text_embedder import TextEmbedderConfig\n",
    "from src.embeddings.glove import GloveTextEmbedding\n",
    "\n",
    "# Preprocess the database data and set up our text embedder\n",
    "db, col_to_stype_dict = db_to_graph(dataset)\n",
    "text_embedder_cfg = TextEmbedderConfig(\n",
    "    text_embedder=GloveTextEmbedding(device=device), batch_size=128\n",
    ")\n",
    "\n",
    "# Load in data used to train model\n",
    "root_dir = \"./data\"\n",
    "data, col_stats_dict = make_pkey_fkey_graph(\n",
    "    db,\n",
    "    col_to_stype_dict=col_to_stype_dict,\n",
    "    text_embedder_cfg=text_embedder_cfg,\n",
    "    cache_dir=os.path.join(root_dir, f\"rel-trial_materialized_cache\"),\n",
    ")"
   ]
  },
  {
   "cell_type": "markdown",
   "metadata": {},
   "source": [
    "Next, let's load in the data and have our model set up."
   ]
  },
  {
   "cell_type": "code",
   "execution_count": 4,
   "metadata": {},
   "outputs": [],
   "source": [
    "from src.models.loader import get_loader\n",
    "from src.models.rdl.graph_sage import RDLModel\n",
    "\n",
    "# Set up data loader and model\n",
    "loader_dict, entity_table = get_loader(train_table, val_table, test_table, task, data)\n",
    "model = RDLModel(\n",
    "    data=data,\n",
    "    col_stats_dict=col_stats_dict,\n",
    "    num_layers=2,\n",
    "    channels=128,\n",
    "    out_channels=1,\n",
    "    aggr=\"sum\",\n",
    "    norm=\"batch_norm\",\n",
    ").to(device)\n",
    "\n",
    "# if you try out different RelBench tasks you will need to change these\n",
    "optimizer = torch.optim.Adam(model.parameters(), lr=0.005)\n",
    "epochs = 10"
   ]
  },
  {
   "cell_type": "markdown",
   "metadata": {},
   "source": [
    "Finalize, let's initialize our training run, and evaluate our model!"
   ]
  },
  {
   "cell_type": "code",
   "execution_count": 5,
   "metadata": {},
   "outputs": [
    {
     "name": "stderr",
     "output_type": "stream",
     "text": [
      "100%|██████████| 24/24 [00:04<00:00,  5.44it/s]\n"
     ]
    },
    {
     "name": "stdout",
     "output_type": "stream",
     "text": [
      "Epoch: 01, Train loss: 0.6798719839690347, Val metrics: {'average_precision': np.float64(0.6057521352889602), 'accuracy': 0.4708333333333333, 'f1': np.float64(0.4879032258064516), 'roc_auc': np.float64(0.511407752893821)}\n"
     ]
    },
    {
     "name": "stderr",
     "output_type": "stream",
     "text": [
      "100%|██████████| 24/24 [00:03<00:00,  6.49it/s]\n"
     ]
    },
    {
     "name": "stdout",
     "output_type": "stream",
     "text": [
      "Epoch: 02, Train loss: 0.6473589315202926, Val metrics: {'average_precision': np.float64(0.6423074602695072), 'accuracy': 0.5635416666666667, 'f1': np.float64(0.618049225159526), 'roc_auc': np.float64(0.5787597335584952)}\n"
     ]
    },
    {
     "name": "stderr",
     "output_type": "stream",
     "text": [
      "100%|██████████| 24/24 [00:03<00:00,  6.45it/s]\n"
     ]
    },
    {
     "name": "stdout",
     "output_type": "stream",
     "text": [
      "Epoch: 03, Train loss: 0.6381012721520495, Val metrics: {'average_precision': np.float64(0.6779341886121673), 'accuracy': 0.540625, 'f1': np.float64(0.5201305767138193), 'roc_auc': np.float64(0.6003645477329689)}\n"
     ]
    },
    {
     "name": "stderr",
     "output_type": "stream",
     "text": [
      "100%|██████████| 24/24 [00:03<00:00,  6.49it/s]\n"
     ]
    },
    {
     "name": "stdout",
     "output_type": "stream",
     "text": [
      "Epoch: 04, Train loss: 0.6188964268575614, Val metrics: {'average_precision': np.float64(0.7017021450697447), 'accuracy': 0.5854166666666667, 'f1': np.float64(0.6098039215686275), 'roc_auc': np.float64(0.6295775088344748)}\n"
     ]
    },
    {
     "name": "stderr",
     "output_type": "stream",
     "text": [
      "100%|██████████| 24/24 [00:03<00:00,  6.52it/s]\n"
     ]
    },
    {
     "name": "stdout",
     "output_type": "stream",
     "text": [
      "Epoch: 05, Train loss: 0.5994201990113728, Val metrics: {'average_precision': np.float64(0.7137517535077765), 'accuracy': 0.5791666666666667, 'f1': np.float64(0.5637149028077754), 'roc_auc': np.float64(0.6456336920733207)}\n"
     ]
    },
    {
     "name": "stderr",
     "output_type": "stream",
     "text": [
      "100%|██████████| 24/24 [00:03<00:00,  6.51it/s]\n"
     ]
    },
    {
     "name": "stdout",
     "output_type": "stream",
     "text": [
      "Epoch: 06, Train loss: 0.5865825800989516, Val metrics: {'average_precision': np.float64(0.7169400940462877), 'accuracy': 0.584375, 'f1': np.float64(0.5873836608066184), 'roc_auc': np.float64(0.6355326819723105)}\n"
     ]
    },
    {
     "name": "stderr",
     "output_type": "stream",
     "text": [
      "100%|██████████| 24/24 [00:03<00:00,  6.50it/s]\n"
     ]
    },
    {
     "name": "stdout",
     "output_type": "stream",
     "text": [
      "Epoch: 07, Train loss: 0.5764976019002168, Val metrics: {'average_precision': np.float64(0.6941098915998433), 'accuracy': 0.5739583333333333, 'f1': np.float64(0.5914085914085914), 'roc_auc': np.float64(0.6226260839263935)}\n"
     ]
    },
    {
     "name": "stderr",
     "output_type": "stream",
     "text": [
      "100%|██████████| 24/24 [00:03<00:00,  6.45it/s]\n"
     ]
    },
    {
     "name": "stdout",
     "output_type": "stream",
     "text": [
      "Epoch: 08, Train loss: 0.5653726690328775, Val metrics: {'average_precision': np.float64(0.7062120467864057), 'accuracy': 0.6104166666666667, 'f1': np.float64(0.6678507992895204), 'roc_auc': np.float64(0.6391602893150882)}\n"
     ]
    },
    {
     "name": "stderr",
     "output_type": "stream",
     "text": [
      "100%|██████████| 24/24 [00:03<00:00,  6.48it/s]\n"
     ]
    },
    {
     "name": "stdout",
     "output_type": "stream",
     "text": [
      "Epoch: 09, Train loss: 0.5570247438583291, Val metrics: {'average_precision': np.float64(0.6902323835196141), 'accuracy': 0.58125, 'f1': np.float64(0.6058823529411764), 'roc_auc': np.float64(0.6303682557552526)}\n"
     ]
    },
    {
     "name": "stderr",
     "output_type": "stream",
     "text": [
      "100%|██████████| 24/24 [00:03<00:00,  6.48it/s]\n"
     ]
    },
    {
     "name": "stdout",
     "output_type": "stream",
     "text": [
      "Epoch: 10, Train loss: 0.5440233108280539, Val metrics: {'average_precision': np.float64(0.703095512700997), 'accuracy': 0.60625, 'f1': np.float64(0.6519337016574586), 'roc_auc': np.float64(0.636488726272008)}\n",
      "Best val metrics: {'average_precision': np.float64(0.7137339102301548), 'accuracy': 0.5791666666666667, 'f1': np.float64(0.5637149028077754), 'roc_auc': np.float64(0.6455130696616765)}\n",
      "Best test metrics: {'average_precision': np.float64(0.7251640965730705), 'accuracy': 0.5890909090909091, 'f1': np.float64(0.5725094577553594), 'roc_auc': np.float64(0.6700265155642731)}\n"
     ]
    },
    {
     "data": {
      "text/plain": [
       "{'average_precision': np.float64(0.7251640965730705),\n",
       " 'accuracy': 0.5890909090909091,\n",
       " 'f1': np.float64(0.5725094577553594),\n",
       " 'roc_auc': np.float64(0.6700265155642731)}"
      ]
     },
     "execution_count": 5,
     "metadata": {},
     "output_type": "execute_result"
    }
   ],
   "source": [
    "from src.models.training import eval_model, training_run\n",
    "\n",
    "# Get model after a training run\n",
    "state_dict = training_run(\n",
    "    model, device, optimizer, task, loader_dict, val_table, loss_fn, entity_table\n",
    ")\n",
    "model.load_state_dict(state_dict)\n",
    "\n",
    "# Evaluate on val and test set\n",
    "eval_model(model, loader_dict, \"val\", task, device, val_table)\n",
    "eval_model(model, loader_dict, \"test\", task, device, None)"
   ]
  },
  {
   "cell_type": "markdown",
   "metadata": {},
   "source": [
    "As we can see, we are able to roughly replicate the results from the [core Relbench paper](https://huggingface.co/spaces/relbench/leaderboard). However, do the results generalize? To do so, let's load in the data for the other entity classification task within `rel-f1` -- `driver-top3` -- and see how we do. "
   ]
  },
  {
   "cell_type": "code",
   "execution_count": 6,
   "metadata": {},
   "outputs": [
    {
     "name": "stderr",
     "output_type": "stream",
     "text": [
      "/home/cpondoc/classes/cs224w/project/env/lib/python3.9/site-packages/torch_frame/utils/io.py:98: FutureWarning: You are using `torch.load` with `weights_only=False` (the current default value), which uses the default pickle module implicitly. It is possible to construct malicious pickle data which will execute arbitrary code during unpickling (See https://github.com/pytorch/pytorch/blob/main/SECURITY.md#untrusted-models for more details). In a future release, the default value for `weights_only` will be flipped to `True`. This limits the functions that could be executed during unpickling. Arbitrary objects will no longer be allowed to be loaded via this mode unless they are explicitly allowlisted by the user via `torch.serialization.add_safe_globals`. We recommend you start setting `weights_only=True` for any use case where you don't have full control of the loaded file. Please open an issue on GitHub for any issues related to this experimental feature.\n",
      "  tf_dict, col_stats = torch.load(path)\n",
      "/home/cpondoc/classes/cs224w/project/env/lib/python3.9/site-packages/torch_frame/utils/io.py:98: FutureWarning: You are using `torch.load` with `weights_only=False` (the current default value), which uses the default pickle module implicitly. It is possible to construct malicious pickle data which will execute arbitrary code during unpickling (See https://github.com/pytorch/pytorch/blob/main/SECURITY.md#untrusted-models for more details). In a future release, the default value for `weights_only` will be flipped to `True`. This limits the functions that could be executed during unpickling. Arbitrary objects will no longer be allowed to be loaded via this mode unless they are explicitly allowlisted by the user via `torch.serialization.add_safe_globals`. We recommend you start setting `weights_only=True` for any use case where you don't have full control of the loaded file. Please open an issue on GitHub for any issues related to this experimental feature.\n",
      "  tf_dict, col_stats = torch.load(path)\n",
      "/home/cpondoc/classes/cs224w/project/env/lib/python3.9/site-packages/torch_frame/utils/io.py:98: FutureWarning: You are using `torch.load` with `weights_only=False` (the current default value), which uses the default pickle module implicitly. It is possible to construct malicious pickle data which will execute arbitrary code during unpickling (See https://github.com/pytorch/pytorch/blob/main/SECURITY.md#untrusted-models for more details). In a future release, the default value for `weights_only` will be flipped to `True`. This limits the functions that could be executed during unpickling. Arbitrary objects will no longer be allowed to be loaded via this mode unless they are explicitly allowlisted by the user via `torch.serialization.add_safe_globals`. We recommend you start setting `weights_only=True` for any use case where you don't have full control of the loaded file. Please open an issue on GitHub for any issues related to this experimental feature.\n",
      "  tf_dict, col_stats = torch.load(path)\n",
      "/home/cpondoc/classes/cs224w/project/env/lib/python3.9/site-packages/torch_frame/utils/io.py:98: FutureWarning: You are using `torch.load` with `weights_only=False` (the current default value), which uses the default pickle module implicitly. It is possible to construct malicious pickle data which will execute arbitrary code during unpickling (See https://github.com/pytorch/pytorch/blob/main/SECURITY.md#untrusted-models for more details). In a future release, the default value for `weights_only` will be flipped to `True`. This limits the functions that could be executed during unpickling. Arbitrary objects will no longer be allowed to be loaded via this mode unless they are explicitly allowlisted by the user via `torch.serialization.add_safe_globals`. We recommend you start setting `weights_only=True` for any use case where you don't have full control of the loaded file. Please open an issue on GitHub for any issues related to this experimental feature.\n",
      "  tf_dict, col_stats = torch.load(path)\n",
      "/home/cpondoc/classes/cs224w/project/env/lib/python3.9/site-packages/torch_frame/utils/io.py:98: FutureWarning: You are using `torch.load` with `weights_only=False` (the current default value), which uses the default pickle module implicitly. It is possible to construct malicious pickle data which will execute arbitrary code during unpickling (See https://github.com/pytorch/pytorch/blob/main/SECURITY.md#untrusted-models for more details). In a future release, the default value for `weights_only` will be flipped to `True`. This limits the functions that could be executed during unpickling. Arbitrary objects will no longer be allowed to be loaded via this mode unless they are explicitly allowlisted by the user via `torch.serialization.add_safe_globals`. We recommend you start setting `weights_only=True` for any use case where you don't have full control of the loaded file. Please open an issue on GitHub for any issues related to this experimental feature.\n",
      "  tf_dict, col_stats = torch.load(path)\n",
      "/home/cpondoc/classes/cs224w/project/env/lib/python3.9/site-packages/torch_frame/utils/io.py:98: FutureWarning: You are using `torch.load` with `weights_only=False` (the current default value), which uses the default pickle module implicitly. It is possible to construct malicious pickle data which will execute arbitrary code during unpickling (See https://github.com/pytorch/pytorch/blob/main/SECURITY.md#untrusted-models for more details). In a future release, the default value for `weights_only` will be flipped to `True`. This limits the functions that could be executed during unpickling. Arbitrary objects will no longer be allowed to be loaded via this mode unless they are explicitly allowlisted by the user via `torch.serialization.add_safe_globals`. We recommend you start setting `weights_only=True` for any use case where you don't have full control of the loaded file. Please open an issue on GitHub for any issues related to this experimental feature.\n",
      "  tf_dict, col_stats = torch.load(path)\n",
      "/home/cpondoc/classes/cs224w/project/env/lib/python3.9/site-packages/torch_frame/utils/io.py:98: FutureWarning: You are using `torch.load` with `weights_only=False` (the current default value), which uses the default pickle module implicitly. It is possible to construct malicious pickle data which will execute arbitrary code during unpickling (See https://github.com/pytorch/pytorch/blob/main/SECURITY.md#untrusted-models for more details). In a future release, the default value for `weights_only` will be flipped to `True`. This limits the functions that could be executed during unpickling. Arbitrary objects will no longer be allowed to be loaded via this mode unless they are explicitly allowlisted by the user via `torch.serialization.add_safe_globals`. We recommend you start setting `weights_only=True` for any use case where you don't have full control of the loaded file. Please open an issue on GitHub for any issues related to this experimental feature.\n",
      "  tf_dict, col_stats = torch.load(path)\n",
      "/home/cpondoc/classes/cs224w/project/env/lib/python3.9/site-packages/torch_frame/utils/io.py:98: FutureWarning: You are using `torch.load` with `weights_only=False` (the current default value), which uses the default pickle module implicitly. It is possible to construct malicious pickle data which will execute arbitrary code during unpickling (See https://github.com/pytorch/pytorch/blob/main/SECURITY.md#untrusted-models for more details). In a future release, the default value for `weights_only` will be flipped to `True`. This limits the functions that could be executed during unpickling. Arbitrary objects will no longer be allowed to be loaded via this mode unless they are explicitly allowlisted by the user via `torch.serialization.add_safe_globals`. We recommend you start setting `weights_only=True` for any use case where you don't have full control of the loaded file. Please open an issue on GitHub for any issues related to this experimental feature.\n",
      "  tf_dict, col_stats = torch.load(path)\n",
      "/home/cpondoc/classes/cs224w/project/env/lib/python3.9/site-packages/torch_frame/utils/io.py:98: FutureWarning: You are using `torch.load` with `weights_only=False` (the current default value), which uses the default pickle module implicitly. It is possible to construct malicious pickle data which will execute arbitrary code during unpickling (See https://github.com/pytorch/pytorch/blob/main/SECURITY.md#untrusted-models for more details). In a future release, the default value for `weights_only` will be flipped to `True`. This limits the functions that could be executed during unpickling. Arbitrary objects will no longer be allowed to be loaded via this mode unless they are explicitly allowlisted by the user via `torch.serialization.add_safe_globals`. We recommend you start setting `weights_only=True` for any use case where you don't have full control of the loaded file. Please open an issue on GitHub for any issues related to this experimental feature.\n",
      "  tf_dict, col_stats = torch.load(path)\n"
     ]
    },
    {
     "name": "stdout",
     "output_type": "stream",
     "text": [
      "Best test metrics: {'average_precision': np.float64(0.11989571788952383), 'accuracy': 0.1763085399449036, 'f1': np.float64(0.2997658079625293), 'roc_auc': np.float64(0.22318535744147155)}\n"
     ]
    }
   ],
   "source": [
    "# Logging Results\n",
    "part1_top3_labels = [\"Trained on DNF, Zero-Shot on Top 3\"]\n",
    "part1_top3_scores = []\n",
    "\n",
    "# Reuse functions to set up `driver-top3 task`\n",
    "dataset, task, train_table, val_table, test_table = initialize_task(\n",
    "    \"rel-f1\", \"driver-top3\"\n",
    ")\n",
    "db, col_to_stype_dict = db_to_graph(dataset)\n",
    "data, col_stats_dict = make_pkey_fkey_graph(\n",
    "    db,\n",
    "    col_to_stype_dict=col_to_stype_dict,\n",
    "    text_embedder_cfg=text_embedder_cfg,\n",
    "    cache_dir=os.path.join(root_dir, f\"rel-f1_materialized_cache\"),\n",
    ")\n",
    "\n",
    "loader_dict, entity_table = get_loader(train_table, val_table, test_table, task, data)\n",
    "model = RDLModel(\n",
    "    data=data,\n",
    "    col_stats_dict=col_stats_dict,\n",
    "    num_layers=2,\n",
    "    channels=128,\n",
    "    out_channels=1,\n",
    "    aggr=\"sum\",\n",
    "    norm=\"batch_norm\",\n",
    ").to(device)\n",
    "model.load_state_dict(state_dict)\n",
    "\n",
    "test_metrics = eval_model(model, loader_dict, \"test\", task, device, None)\n",
    "part1_top3_scores.append(test_metrics[\"roc_auc\"])"
   ]
  },
  {
   "cell_type": "markdown",
   "metadata": {},
   "source": [
    "Unfortunately, trying out our model zero-shot does not yield amazing results. However, what happens if we use this model as a starting point for finetuning on the task? Let's experiment on fine-tuning this model with fewer epochs on the `driver-top3` task and checking its performance."
   ]
  },
  {
   "cell_type": "code",
   "execution_count": 7,
   "metadata": {},
   "outputs": [
    {
     "name": "stderr",
     "output_type": "stream",
     "text": [
      "100%|██████████| 3/3 [00:00<00:00,  7.22it/s]\n"
     ]
    },
    {
     "name": "stdout",
     "output_type": "stream",
     "text": [
      "Epoch: 01, Train loss: 1.639284673040211, Val metrics: {'average_precision': np.float64(0.14728540366282888), 'accuracy': 0.7976190476190477, 'f1': np.float64(0.0), 'roc_auc': np.float64(0.34905305405744386)}\n"
     ]
    },
    {
     "name": "stderr",
     "output_type": "stream",
     "text": [
      "100%|██████████| 3/3 [00:00<00:00,  7.35it/s]\n"
     ]
    },
    {
     "name": "stdout",
     "output_type": "stream",
     "text": [
      "Epoch: 02, Train loss: 0.48509415092066493, Val metrics: {'average_precision': np.float64(0.171917953693579), 'accuracy': 0.7976190476190477, 'f1': np.float64(0.0), 'roc_auc': np.float64(0.4566304133593736)}\n"
     ]
    },
    {
     "name": "stderr",
     "output_type": "stream",
     "text": [
      "100%|██████████| 3/3 [00:00<00:00,  7.39it/s]\n"
     ]
    },
    {
     "name": "stdout",
     "output_type": "stream",
     "text": [
      "Epoch: 03, Train loss: 0.4745342663192608, Val metrics: {'average_precision': np.float64(0.18442118124806922), 'accuracy': 0.7976190476190477, 'f1': np.float64(0.0), 'roc_auc': np.float64(0.49891598430416945)}\n"
     ]
    },
    {
     "name": "stderr",
     "output_type": "stream",
     "text": [
      "100%|██████████| 3/3 [00:00<00:00,  7.29it/s]\n"
     ]
    },
    {
     "name": "stdout",
     "output_type": "stream",
     "text": [
      "Epoch: 04, Train loss: 0.47394828521491683, Val metrics: {'average_precision': np.float64(0.22698676947191532), 'accuracy': 0.7976190476190477, 'f1': np.float64(0.0), 'roc_auc': np.float64(0.5993979681424808)}\n"
     ]
    },
    {
     "name": "stderr",
     "output_type": "stream",
     "text": [
      "100%|██████████| 3/3 [00:00<00:00,  7.21it/s]\n"
     ]
    },
    {
     "name": "stdout",
     "output_type": "stream",
     "text": [
      "Epoch: 05, Train loss: 0.4523361379670286, Val metrics: {'average_precision': np.float64(0.26742661964186965), 'accuracy': 0.7976190476190477, 'f1': np.float64(0.0), 'roc_auc': np.float64(0.6190177563562739)}\n",
      "Best val metrics: {'average_precision': np.float64(0.2708041950031774), 'accuracy': 0.7976190476190477, 'f1': np.float64(0.0), 'roc_auc': np.float64(0.6189281682822382)}\n",
      "Best test metrics: {'average_precision': np.float64(0.27375862724918876), 'accuracy': 0.8236914600550964, 'f1': np.float64(0.0), 'roc_auc': np.float64(0.7198931333612039)}\n"
     ]
    }
   ],
   "source": [
    "# Logging Results\n",
    "part1_top3_labels.append(\"Trained on DNF, Finetuned on Top 3\")\n",
    "\n",
    "# Get model after a training run\n",
    "optimizer = torch.optim.Adam(model.parameters(), lr=0.005)\n",
    "state_dict = training_run(\n",
    "    model,\n",
    "    device,\n",
    "    optimizer,\n",
    "    task,\n",
    "    loader_dict,\n",
    "    val_table,\n",
    "    loss_fn,\n",
    "    entity_table,\n",
    "    epochs=5,\n",
    "    state_dict=state_dict,\n",
    ")\n",
    "model.load_state_dict(state_dict)\n",
    "\n",
    "# Evaluate on val and test set\n",
    "eval_model(model, loader_dict, \"val\", task, device, val_table)\n",
    "test_metrics = eval_model(model, loader_dict, \"test\", task, device, None)\n",
    "part1_top3_scores.append(test_metrics[\"roc_auc\"])"
   ]
  },
  {
   "cell_type": "markdown",
   "metadata": {},
   "source": [
    "Nice! It looks like after we finetune even after just one epoch. we're able to practically replicate the Relbench results. Finally, let's compare this approach to simply training on the task from scratch."
   ]
  },
  {
   "cell_type": "code",
   "execution_count": 8,
   "metadata": {},
   "outputs": [
    {
     "name": "stderr",
     "output_type": "stream",
     "text": [
      "100%|██████████| 3/3 [00:00<00:00,  7.07it/s]\n"
     ]
    },
    {
     "name": "stdout",
     "output_type": "stream",
     "text": [
      "Epoch: 01, Train loss: 0.5626445334881037, Val metrics: {'average_precision': np.float64(0.227159543030445), 'accuracy': 0.7976190476190477, 'f1': np.float64(0.0), 'roc_auc': np.float64(0.5866943792442351)}\n"
     ]
    },
    {
     "name": "stderr",
     "output_type": "stream",
     "text": [
      "100%|██████████| 3/3 [00:00<00:00,  7.25it/s]\n"
     ]
    },
    {
     "name": "stdout",
     "output_type": "stream",
     "text": [
      "Epoch: 02, Train loss: 0.4550411024978226, Val metrics: {'average_precision': np.float64(0.28866008341458116), 'accuracy': 0.7976190476190477, 'f1': np.float64(0.0), 'roc_auc': np.float64(0.599415885757288)}\n"
     ]
    },
    {
     "name": "stderr",
     "output_type": "stream",
     "text": [
      "100%|██████████| 3/3 [00:00<00:00,  7.30it/s]\n"
     ]
    },
    {
     "name": "stdout",
     "output_type": "stream",
     "text": [
      "Epoch: 03, Train loss: 0.443644638688848, Val metrics: {'average_precision': np.float64(0.23953689227320318), 'accuracy': 0.7976190476190477, 'f1': np.float64(0.0), 'roc_auc': np.float64(0.6128720144774328)}\n"
     ]
    },
    {
     "name": "stderr",
     "output_type": "stream",
     "text": [
      "100%|██████████| 3/3 [00:00<00:00,  7.44it/s]\n"
     ]
    },
    {
     "name": "stdout",
     "output_type": "stream",
     "text": [
      "Epoch: 04, Train loss: 0.4441276410951142, Val metrics: {'average_precision': np.float64(0.264517232875632), 'accuracy': 0.7976190476190477, 'f1': np.float64(0.0), 'roc_auc': np.float64(0.6044776119402986)}\n"
     ]
    },
    {
     "name": "stderr",
     "output_type": "stream",
     "text": [
      "100%|██████████| 3/3 [00:00<00:00,  7.45it/s]\n"
     ]
    },
    {
     "name": "stdout",
     "output_type": "stream",
     "text": [
      "Epoch: 05, Train loss: 0.4402070232258844, Val metrics: {'average_precision': np.float64(0.27103845115728553), 'accuracy': 0.7976190476190477, 'f1': np.float64(0.0), 'roc_auc': np.float64(0.6088405511458315)}\n"
     ]
    },
    {
     "name": "stderr",
     "output_type": "stream",
     "text": [
      "100%|██████████| 3/3 [00:00<00:00,  7.45it/s]\n"
     ]
    },
    {
     "name": "stdout",
     "output_type": "stream",
     "text": [
      "Epoch: 06, Train loss: 0.43822961521430626, Val metrics: {'average_precision': np.float64(0.2787161397517894), 'accuracy': 0.7976190476190477, 'f1': np.float64(0.0), 'roc_auc': np.float64(0.6089480568346742)}\n"
     ]
    },
    {
     "name": "stderr",
     "output_type": "stream",
     "text": [
      "100%|██████████| 3/3 [00:00<00:00,  7.54it/s]\n"
     ]
    },
    {
     "name": "stdout",
     "output_type": "stream",
     "text": [
      "Epoch: 07, Train loss: 0.43435023166652265, Val metrics: {'average_precision': np.float64(0.30611592693945494), 'accuracy': 0.7976190476190477, 'f1': np.float64(0.0), 'roc_auc': np.float64(0.6138395656770171)}\n"
     ]
    },
    {
     "name": "stderr",
     "output_type": "stream",
     "text": [
      "100%|██████████| 3/3 [00:00<00:00,  7.04it/s]\n"
     ]
    },
    {
     "name": "stdout",
     "output_type": "stream",
     "text": [
      "Epoch: 08, Train loss: 0.4280760323481479, Val metrics: {'average_precision': np.float64(0.3066721270146239), 'accuracy': 0.7976190476190477, 'f1': np.float64(0.0), 'roc_auc': np.float64(0.6294099729444017)}\n"
     ]
    },
    {
     "name": "stderr",
     "output_type": "stream",
     "text": [
      "100%|██████████| 3/3 [00:00<00:00,  7.16it/s]\n"
     ]
    },
    {
     "name": "stdout",
     "output_type": "stream",
     "text": [
      "Epoch: 09, Train loss: 0.41308748026028086, Val metrics: {'average_precision': np.float64(0.3231005463354249), 'accuracy': 0.7976190476190477, 'f1': np.float64(0.0), 'roc_auc': np.float64(0.651824909068105)}\n"
     ]
    },
    {
     "name": "stderr",
     "output_type": "stream",
     "text": [
      "100%|██████████| 3/3 [00:00<00:00,  7.45it/s]\n"
     ]
    },
    {
     "name": "stdout",
     "output_type": "stream",
     "text": [
      "Epoch: 10, Train loss: 0.3865009982191186, Val metrics: {'average_precision': np.float64(0.25816415803362214), 'accuracy': 0.7976190476190477, 'f1': np.float64(0.0), 'roc_auc': np.float64(0.654458798444751)}\n",
      "Best val metrics: {'average_precision': np.float64(0.2579389462582274), 'accuracy': 0.7976190476190477, 'f1': np.float64(0.0), 'roc_auc': np.float64(0.6544050456003296)}\n",
      "Best test metrics: {'average_precision': np.float64(0.4096289159065684), 'accuracy': 0.8236914600550964, 'f1': np.float64(0.0), 'roc_auc': np.float64(0.8188035639632107)}\n"
     ]
    },
    {
     "data": {
      "image/png": "[encoded data removed]",
      "text/plain": [
       "<Figure size 640x480 with 1 Axes>"
      ]
     },
     "metadata": {},
     "output_type": "display_data"
    }
   ],
   "source": [
    "# Logging Results\n",
    "from src.models.viz import create_bar_graph\n",
    "part1_top3_labels.append(\"Trained on Top 3 Task\")\n",
    "\n",
    "# Define a new model, don't load in old weights.\n",
    "base_model = RDLModel(\n",
    "    data=data,\n",
    "    col_stats_dict=col_stats_dict,\n",
    "    num_layers=2,\n",
    "    channels=128,\n",
    "    out_channels=1,\n",
    "    aggr=\"sum\",\n",
    "    norm=\"batch_norm\",\n",
    ").to(device)\n",
    "base_optimizer = torch.optim.Adam(base_model.parameters(), lr=0.005)\n",
    "base_state_dict = training_run(\n",
    "    base_model,\n",
    "    device,\n",
    "    base_optimizer,\n",
    "    task,\n",
    "    loader_dict,\n",
    "    val_table,\n",
    "    loss_fn,\n",
    "    entity_table,\n",
    "    epochs=10,\n",
    ")\n",
    "base_model.load_state_dict(base_state_dict)\n",
    "\n",
    "# Evaluate on val and test set\n",
    "eval_model(base_model, loader_dict, \"val\", task, device, val_table)\n",
    "test_metrics = eval_model(base_model, loader_dict, \"test\", task, device, None)\n",
    "part1_top3_scores.append(test_metrics[\"roc_auc\"])\n",
    "\n",
    "# Finally, graph all of the results\n",
    "create_bar_graph(part1_top3_labels, part1_top3_scores, title='ROC AUC on Top 3 Task vs. Different Training Tasks', x_label=\"Model\", y_label=\"ROC AUC on Top 3 Task\")"
   ]
  },
  {
   "cell_type": "markdown",
   "metadata": {},
   "source": [
    "Ultimately, we don't see much of a difference from starting from random weights to using a model pre-initialized from another entity classification task.\n",
    "\n",
    "### Challenge\n",
    "Does this trend necessarily work on larger and more diverse datasets? Depending on your compute availability, try out using different datasets, like `rel-amazon`, as well as across different types of tasks!"
   ]
  },
  {
   "cell_type": "markdown",
   "metadata": {},
   "source": [
    "## Question 2: Different expressiveness of node features?\n",
    "Next, let's take a look at using different embedding models for node features.\n",
    "\n",
    "The embedding models are used to help turn the tabular data into usable node features. In the Relbench tutorial, the team uses GloVe embeddings, but the paper also mentions utilizing BERT-style embeddings. In traditional NLP, BERT embeddings are much more popular given that they are contextual -- the vector representation depends on the surrounding words, compared to static embeddings used by GloVe -- and can handle words outside of their vocabulary. In addition, their embedding size is $768$ compared to GloVe's $300$, which introduces an opportunity for more expressiveness."
   ]
  },
  {
   "cell_type": "markdown",
   "metadata": {},
   "source": [
    "As an investigation, let's switch out our GloVe embedding model with BERT and retrain a new model from scratch on the `driver-dnf` task."
   ]
  },
  {
   "cell_type": "code",
   "execution_count": 9,
   "metadata": {},
   "outputs": [
    {
     "name": "stderr",
     "output_type": "stream",
     "text": [
      "WARNING:sentence_transformers.SentenceTransformer:No sentence-transformers model found with name google-bert/bert-base-uncased. Creating a new one with mean pooling.\n",
      "/home/cpondoc/classes/cs224w/project/env/lib/python3.9/site-packages/torch_frame/utils/io.py:98: FutureWarning: You are using `torch.load` with `weights_only=False` (the current default value), which uses the default pickle module implicitly. It is possible to construct malicious pickle data which will execute arbitrary code during unpickling (See https://github.com/pytorch/pytorch/blob/main/SECURITY.md#untrusted-models for more details). In a future release, the default value for `weights_only` will be flipped to `True`. This limits the functions that could be executed during unpickling. Arbitrary objects will no longer be allowed to be loaded via this mode unless they are explicitly allowlisted by the user via `torch.serialization.add_safe_globals`. We recommend you start setting `weights_only=True` for any use case where you don't have full control of the loaded file. Please open an issue on GitHub for any issues related to this experimental feature.\n",
      "  tf_dict, col_stats = torch.load(path)\n",
      "/home/cpondoc/classes/cs224w/project/env/lib/python3.9/site-packages/torch_frame/utils/io.py:98: FutureWarning: You are using `torch.load` with `weights_only=False` (the current default value), which uses the default pickle module implicitly. It is possible to construct malicious pickle data which will execute arbitrary code during unpickling (See https://github.com/pytorch/pytorch/blob/main/SECURITY.md#untrusted-models for more details). In a future release, the default value for `weights_only` will be flipped to `True`. This limits the functions that could be executed during unpickling. Arbitrary objects will no longer be allowed to be loaded via this mode unless they are explicitly allowlisted by the user via `torch.serialization.add_safe_globals`. We recommend you start setting `weights_only=True` for any use case where you don't have full control of the loaded file. Please open an issue on GitHub for any issues related to this experimental feature.\n",
      "  tf_dict, col_stats = torch.load(path)\n",
      "/home/cpondoc/classes/cs224w/project/env/lib/python3.9/site-packages/torch_frame/utils/io.py:98: FutureWarning: You are using `torch.load` with `weights_only=False` (the current default value), which uses the default pickle module implicitly. It is possible to construct malicious pickle data which will execute arbitrary code during unpickling (See https://github.com/pytorch/pytorch/blob/main/SECURITY.md#untrusted-models for more details). In a future release, the default value for `weights_only` will be flipped to `True`. This limits the functions that could be executed during unpickling. Arbitrary objects will no longer be allowed to be loaded via this mode unless they are explicitly allowlisted by the user via `torch.serialization.add_safe_globals`. We recommend you start setting `weights_only=True` for any use case where you don't have full control of the loaded file. Please open an issue on GitHub for any issues related to this experimental feature.\n",
      "  tf_dict, col_stats = torch.load(path)\n",
      "/home/cpondoc/classes/cs224w/project/env/lib/python3.9/site-packages/torch_frame/utils/io.py:98: FutureWarning: You are using `torch.load` with `weights_only=False` (the current default value), which uses the default pickle module implicitly. It is possible to construct malicious pickle data which will execute arbitrary code during unpickling (See https://github.com/pytorch/pytorch/blob/main/SECURITY.md#untrusted-models for more details). In a future release, the default value for `weights_only` will be flipped to `True`. This limits the functions that could be executed during unpickling. Arbitrary objects will no longer be allowed to be loaded via this mode unless they are explicitly allowlisted by the user via `torch.serialization.add_safe_globals`. We recommend you start setting `weights_only=True` for any use case where you don't have full control of the loaded file. Please open an issue on GitHub for any issues related to this experimental feature.\n",
      "  tf_dict, col_stats = torch.load(path)\n",
      "/home/cpondoc/classes/cs224w/project/env/lib/python3.9/site-packages/torch_frame/utils/io.py:98: FutureWarning: You are using `torch.load` with `weights_only=False` (the current default value), which uses the default pickle module implicitly. It is possible to construct malicious pickle data which will execute arbitrary code during unpickling (See https://github.com/pytorch/pytorch/blob/main/SECURITY.md#untrusted-models for more details). In a future release, the default value for `weights_only` will be flipped to `True`. This limits the functions that could be executed during unpickling. Arbitrary objects will no longer be allowed to be loaded via this mode unless they are explicitly allowlisted by the user via `torch.serialization.add_safe_globals`. We recommend you start setting `weights_only=True` for any use case where you don't have full control of the loaded file. Please open an issue on GitHub for any issues related to this experimental feature.\n",
      "  tf_dict, col_stats = torch.load(path)\n",
      "/home/cpondoc/classes/cs224w/project/env/lib/python3.9/site-packages/torch_frame/utils/io.py:98: FutureWarning: You are using `torch.load` with `weights_only=False` (the current default value), which uses the default pickle module implicitly. It is possible to construct malicious pickle data which will execute arbitrary code during unpickling (See https://github.com/pytorch/pytorch/blob/main/SECURITY.md#untrusted-models for more details). In a future release, the default value for `weights_only` will be flipped to `True`. This limits the functions that could be executed during unpickling. Arbitrary objects will no longer be allowed to be loaded via this mode unless they are explicitly allowlisted by the user via `torch.serialization.add_safe_globals`. We recommend you start setting `weights_only=True` for any use case where you don't have full control of the loaded file. Please open an issue on GitHub for any issues related to this experimental feature.\n",
      "  tf_dict, col_stats = torch.load(path)\n",
      "/home/cpondoc/classes/cs224w/project/env/lib/python3.9/site-packages/torch_frame/utils/io.py:98: FutureWarning: You are using `torch.load` with `weights_only=False` (the current default value), which uses the default pickle module implicitly. It is possible to construct malicious pickle data which will execute arbitrary code during unpickling (See https://github.com/pytorch/pytorch/blob/main/SECURITY.md#untrusted-models for more details). In a future release, the default value for `weights_only` will be flipped to `True`. This limits the functions that could be executed during unpickling. Arbitrary objects will no longer be allowed to be loaded via this mode unless they are explicitly allowlisted by the user via `torch.serialization.add_safe_globals`. We recommend you start setting `weights_only=True` for any use case where you don't have full control of the loaded file. Please open an issue on GitHub for any issues related to this experimental feature.\n",
      "  tf_dict, col_stats = torch.load(path)\n",
      "/home/cpondoc/classes/cs224w/project/env/lib/python3.9/site-packages/torch_frame/utils/io.py:98: FutureWarning: You are using `torch.load` with `weights_only=False` (the current default value), which uses the default pickle module implicitly. It is possible to construct malicious pickle data which will execute arbitrary code during unpickling (See https://github.com/pytorch/pytorch/blob/main/SECURITY.md#untrusted-models for more details). In a future release, the default value for `weights_only` will be flipped to `True`. This limits the functions that could be executed during unpickling. Arbitrary objects will no longer be allowed to be loaded via this mode unless they are explicitly allowlisted by the user via `torch.serialization.add_safe_globals`. We recommend you start setting `weights_only=True` for any use case where you don't have full control of the loaded file. Please open an issue on GitHub for any issues related to this experimental feature.\n",
      "  tf_dict, col_stats = torch.load(path)\n",
      "/home/cpondoc/classes/cs224w/project/env/lib/python3.9/site-packages/torch_frame/utils/io.py:98: FutureWarning: You are using `torch.load` with `weights_only=False` (the current default value), which uses the default pickle module implicitly. It is possible to construct malicious pickle data which will execute arbitrary code during unpickling (See https://github.com/pytorch/pytorch/blob/main/SECURITY.md#untrusted-models for more details). In a future release, the default value for `weights_only` will be flipped to `True`. This limits the functions that could be executed during unpickling. Arbitrary objects will no longer be allowed to be loaded via this mode unless they are explicitly allowlisted by the user via `torch.serialization.add_safe_globals`. We recommend you start setting `weights_only=True` for any use case where you don't have full control of the loaded file. Please open an issue on GitHub for any issues related to this experimental feature.\n",
      "  tf_dict, col_stats = torch.load(path)\n",
      "100%|██████████| 23/23 [00:02<00:00,  8.42it/s]\n"
     ]
    },
    {
     "name": "stdout",
     "output_type": "stream",
     "text": [
      "Epoch: 01, Train loss: 0.36976365918355136, Val metrics: {'average_precision': np.float64(0.864067285844061), 'accuracy': 0.7561837455830389, 'f1': np.float64(0.8565488565488566), 'roc_auc': np.float64(0.6644535147392291)}\n"
     ]
    },
    {
     "name": "stderr",
     "output_type": "stream",
     "text": [
      "100%|██████████| 23/23 [00:02<00:00,  8.33it/s]\n"
     ]
    },
    {
     "name": "stdout",
     "output_type": "stream",
     "text": [
      "Epoch: 02, Train loss: 0.3226512016673185, Val metrics: {'average_precision': np.float64(0.8888754290218038), 'accuracy': 0.7791519434628975, 'f1': np.float64(0.8758689175769613), 'roc_auc': np.float64(0.6781133786848073)}\n"
     ]
    },
    {
     "name": "stderr",
     "output_type": "stream",
     "text": [
      "100%|██████████| 23/23 [00:02<00:00,  8.36it/s]\n"
     ]
    },
    {
     "name": "stdout",
     "output_type": "stream",
     "text": [
      "Epoch: 03, Train loss: 0.3075944838630632, Val metrics: {'average_precision': np.float64(0.8946407917723236), 'accuracy': 0.7473498233215548, 'f1': np.float64(0.8518134715025907), 'roc_auc': np.float64(0.6847528344671202)}\n"
     ]
    },
    {
     "name": "stderr",
     "output_type": "stream",
     "text": [
      "100%|██████████| 23/23 [00:02<00:00,  8.38it/s]\n"
     ]
    },
    {
     "name": "stdout",
     "output_type": "stream",
     "text": [
      "Epoch: 04, Train loss: 0.30062098561771994, Val metrics: {'average_precision': np.float64(0.891362807270948), 'accuracy': 0.6819787985865724, 'f1': np.float64(0.7872340425531915), 'roc_auc': np.float64(0.681687074829932)}\n"
     ]
    },
    {
     "name": "stderr",
     "output_type": "stream",
     "text": [
      "100%|██████████| 23/23 [00:02<00:00,  8.51it/s]\n"
     ]
    },
    {
     "name": "stdout",
     "output_type": "stream",
     "text": [
      "Epoch: 05, Train loss: 0.2966285985041204, Val metrics: {'average_precision': np.float64(0.8936280643521604), 'accuracy': 0.7826855123674912, 'f1': np.float64(0.869287991498406), 'roc_auc': np.float64(0.6940226757369614)}\n"
     ]
    },
    {
     "name": "stderr",
     "output_type": "stream",
     "text": [
      "100%|██████████| 23/23 [00:02<00:00,  8.26it/s]\n"
     ]
    },
    {
     "name": "stdout",
     "output_type": "stream",
     "text": [
      "Epoch: 06, Train loss: 0.29555716868788695, Val metrics: {'average_precision': np.float64(0.8954459770782635), 'accuracy': 0.6448763250883393, 'f1': np.float64(0.7478042659974906), 'roc_auc': np.float64(0.6946575963718821)}\n"
     ]
    },
    {
     "name": "stderr",
     "output_type": "stream",
     "text": [
      "100%|██████████| 23/23 [00:02<00:00,  8.55it/s]\n"
     ]
    },
    {
     "name": "stdout",
     "output_type": "stream",
     "text": [
      "Epoch: 07, Train loss: 0.2893441775889602, Val metrics: {'average_precision': np.float64(0.8996443676525172), 'accuracy': 0.6537102473498233, 'f1': np.float64(0.7574257425742574), 'roc_auc': np.float64(0.707718820861678)}\n"
     ]
    },
    {
     "name": "stderr",
     "output_type": "stream",
     "text": [
      "100%|██████████| 23/23 [00:02<00:00,  8.39it/s]\n"
     ]
    },
    {
     "name": "stdout",
     "output_type": "stream",
     "text": [
      "Epoch: 08, Train loss: 0.28691676522563253, Val metrics: {'average_precision': np.float64(0.9035867838891305), 'accuracy': 0.5671378091872792, 'f1': np.float64(0.6454413892908828), 'roc_auc': np.float64(0.7149750566893425)}\n"
     ]
    },
    {
     "name": "stderr",
     "output_type": "stream",
     "text": [
      "100%|██████████| 23/23 [00:02<00:00,  8.39it/s]\n"
     ]
    },
    {
     "name": "stdout",
     "output_type": "stream",
     "text": [
      "Epoch: 09, Train loss: 0.28761154677790374, Val metrics: {'average_precision': np.float64(0.8969221971819668), 'accuracy': 0.6590106007067138, 'f1': np.float64(0.760248447204969), 'roc_auc': np.float64(0.707156462585034)}\n"
     ]
    },
    {
     "name": "stderr",
     "output_type": "stream",
     "text": [
      "100%|██████████| 23/23 [00:02<00:00,  8.63it/s]\n"
     ]
    },
    {
     "name": "stdout",
     "output_type": "stream",
     "text": [
      "Epoch: 10, Train loss: 0.28177421176535944, Val metrics: {'average_precision': np.float64(0.9014924785667969), 'accuracy': 0.7332155477031802, 'f1': np.float64(0.827033218785796), 'roc_auc': np.float64(0.7120725623582767)}\n",
      "Best val metrics: {'average_precision': np.float64(0.9033504932005887), 'accuracy': 0.5671378091872792, 'f1': np.float64(0.6454413892908828), 'roc_auc': np.float64(0.7138684807256235)}\n",
      "Best test metrics: {'average_precision': np.float64(0.846076090202711), 'accuracy': 0.6495726495726496, 'f1': np.float64(0.7050359712230215), 'roc_auc': np.float64(0.7227394720148343)}\n"
     ]
    },
    {
     "data": {
      "text/plain": [
       "{'average_precision': np.float64(0.846076090202711),\n",
       " 'accuracy': 0.6495726495726496,\n",
       " 'f1': np.float64(0.7050359712230215),\n",
       " 'roc_auc': np.float64(0.7227394720148343)}"
      ]
     },
     "execution_count": 9,
     "metadata": {},
     "output_type": "execute_result"
    }
   ],
   "source": [
    "from src.embeddings.bert import BertTextEmbedding\n",
    "\n",
    "dataset, task, train_table, val_table, test_table = initialize_task(\n",
    "    \"rel-f1\", \"driver-dnf\"\n",
    ")\n",
    "\n",
    "# Preprocess the database data and set up our text embedder\n",
    "db, col_to_stype_dict = db_to_graph(dataset)\n",
    "text_embedder_cfg = TextEmbedderConfig(\n",
    "    text_embedder=BertTextEmbedding(device=device), batch_size=128\n",
    ")\n",
    "\n",
    "# Load in data used to train model\n",
    "data, col_stats_dict = make_pkey_fkey_graph(\n",
    "    db,\n",
    "    col_to_stype_dict=col_to_stype_dict,\n",
    "    text_embedder_cfg=text_embedder_cfg,\n",
    "    cache_dir=os.path.join(root_dir, f\"rel-f1_materialized_cache\"),\n",
    ")\n",
    "loader_dict, entity_table = get_loader(train_table, val_table, test_table, task, data)\n",
    "\n",
    "# Initialize new, untrained model using BERT embeddings\n",
    "bert_model = RDLModel(\n",
    "    data=data,\n",
    "    col_stats_dict=col_stats_dict,\n",
    "    num_layers=2,\n",
    "    channels=128,\n",
    "    out_channels=1,\n",
    "    aggr=\"sum\",\n",
    "    norm=\"batch_norm\",\n",
    ").to(device)\n",
    "bert_optimizer = torch.optim.Adam(bert_model.parameters(), lr=0.005)\n",
    "bert_state_dict = training_run(\n",
    "    bert_model,\n",
    "    device,\n",
    "    bert_optimizer,\n",
    "    task,\n",
    "    loader_dict,\n",
    "    val_table,\n",
    "    loss_fn,\n",
    "    entity_table,\n",
    "    epochs=10,\n",
    ")\n",
    "bert_model.load_state_dict(bert_state_dict)\n",
    "\n",
    "# Evaluate on val and test set\n",
    "eval_model(bert_model, loader_dict, \"val\", task, device, val_table)\n",
    "eval_model(bert_model, loader_dict, \"test\", task, device, None)"
   ]
  },
  {
   "cell_type": "markdown",
   "metadata": {},
   "source": [
    "We ultimately don't see that drastic of a difference between using BERT embeddings and GloVe embeddings. Despite being trained differently, the fact that the models are close in size and perform similarly on [general embedding benchmarks](https://huggingface.co/spaces/mteb/leaderboard) may suggest that the results will not be that drastic. \n",
    "\n",
    "### Challenge\n",
    "We encourage you to try larger models with even larger embedding dimensions -- to do so, use our `CustomTextEmbedding` class! To use this class, import it as below, and then specify the name of a model as used on HuggingFace:\n",
    "\n",
    "```python\n",
    "from src.embeddings.custom import CustomTextEmbedding\n",
    "text_embedder_cfg = TextEmbedderConfig(\n",
    "    text_embedder=CustomTextEmbedding(model_name=<INSERT_HUGGINGFACE_MODEL_HERE>, device=device), batch_size=128\n",
    ")\n",
    "```"
   ]
  },
  {
   "cell_type": "markdown",
   "metadata": {},
   "source": [
    "## Question 3: Different RDL model architectures?\n",
    "Finally, we experiment with different RDL model architectures. In particular, we investigate what happens as we add or subtract GNN layers from our model."
   ]
  },
  {
   "cell_type": "markdown",
   "metadata": {},
   "source": [
    "### Changing the Number of GNN Layers\n",
    "\n",
    "First, we double the number of GNN layers in our RDL pipeline, moving from `num_layers=2` to `num_layers=4`. The idea is that by adding more layers, we can create a more expressive network that can understand more complex relationships."
   ]
  },
  {
   "cell_type": "code",
   "execution_count": 10,
   "metadata": {},
   "outputs": [
    {
     "name": "stderr",
     "output_type": "stream",
     "text": [
      "100%|██████████| 23/23 [00:03<00:00,  6.11it/s]\n"
     ]
    },
    {
     "name": "stdout",
     "output_type": "stream",
     "text": [
      "Epoch: 01, Train loss: 0.38817620850938217, Val metrics: {'average_precision': np.float64(0.834451042062309), 'accuracy': 0.7791519434628975, 'f1': np.float64(0.8758689175769613), 'roc_auc': np.float64(0.5961904761904762)}\n"
     ]
    },
    {
     "name": "stderr",
     "output_type": "stream",
     "text": [
      "100%|██████████| 23/23 [00:03<00:00,  6.49it/s]\n"
     ]
    },
    {
     "name": "stdout",
     "output_type": "stream",
     "text": [
      "Epoch: 02, Train loss: 0.35403942900424396, Val metrics: {'average_precision': np.float64(0.8370538249342192), 'accuracy': 0.7791519434628975, 'f1': np.float64(0.8758689175769613), 'roc_auc': np.float64(0.5941768707482993)}\n"
     ]
    },
    {
     "name": "stderr",
     "output_type": "stream",
     "text": [
      "100%|██████████| 23/23 [00:03<00:00,  6.45it/s]\n"
     ]
    },
    {
     "name": "stdout",
     "output_type": "stream",
     "text": [
      "Epoch: 03, Train loss: 0.35254166845988666, Val metrics: {'average_precision': np.float64(0.8468687289718924), 'accuracy': 0.7791519434628975, 'f1': np.float64(0.8758689175769613), 'roc_auc': np.float64(0.6265759637188208)}\n"
     ]
    },
    {
     "name": "stderr",
     "output_type": "stream",
     "text": [
      "100%|██████████| 23/23 [00:03<00:00,  6.52it/s]\n"
     ]
    },
    {
     "name": "stdout",
     "output_type": "stream",
     "text": [
      "Epoch: 04, Train loss: 0.3302738862465563, Val metrics: {'average_precision': np.float64(0.8812664808391816), 'accuracy': 0.7791519434628975, 'f1': np.float64(0.8758689175769613), 'roc_auc': np.float64(0.6532244897959184)}\n"
     ]
    },
    {
     "name": "stderr",
     "output_type": "stream",
     "text": [
      "100%|██████████| 23/23 [00:03<00:00,  6.36it/s]\n"
     ]
    },
    {
     "name": "stdout",
     "output_type": "stream",
     "text": [
      "Epoch: 05, Train loss: 0.31432807118538936, Val metrics: {'average_precision': np.float64(0.8932617008024832), 'accuracy': 0.7526501766784452, 'f1': np.float64(0.8553719008264463), 'roc_auc': np.float64(0.6837369614512472)}\n"
     ]
    },
    {
     "name": "stderr",
     "output_type": "stream",
     "text": [
      "100%|██████████| 23/23 [00:03<00:00,  6.25it/s]\n"
     ]
    },
    {
     "name": "stdout",
     "output_type": "stream",
     "text": [
      "Epoch: 06, Train loss: 0.3081416115367165, Val metrics: {'average_precision': np.float64(0.8947146135968074), 'accuracy': 0.765017667844523, 'f1': np.float64(0.86414708886619), 'roc_auc': np.float64(0.6950204081632654)}\n"
     ]
    },
    {
     "name": "stderr",
     "output_type": "stream",
     "text": [
      "100%|██████████| 23/23 [00:03<00:00,  6.35it/s]\n"
     ]
    },
    {
     "name": "stdout",
     "output_type": "stream",
     "text": [
      "Epoch: 07, Train loss: 0.3044914358280238, Val metrics: {'average_precision': np.float64(0.8985141600795197), 'accuracy': 0.715547703180212, 'f1': np.float64(0.8205128205128205), 'roc_auc': np.float64(0.694403628117914)}\n"
     ]
    },
    {
     "name": "stderr",
     "output_type": "stream",
     "text": [
      "100%|██████████| 23/23 [00:03<00:00,  6.27it/s]\n"
     ]
    },
    {
     "name": "stdout",
     "output_type": "stream",
     "text": [
      "Epoch: 08, Train loss: 0.2978561410257478, Val metrics: {'average_precision': np.float64(0.9034213013610154), 'accuracy': 0.734982332155477, 'f1': np.float64(0.8351648351648352), 'roc_auc': np.float64(0.7015147392290249)}\n"
     ]
    },
    {
     "name": "stderr",
     "output_type": "stream",
     "text": [
      "100%|██████████| 23/23 [00:03<00:00,  6.49it/s]\n"
     ]
    },
    {
     "name": "stdout",
     "output_type": "stream",
     "text": [
      "Epoch: 09, Train loss: 0.296705196422152, Val metrics: {'average_precision': np.float64(0.9019151168162699), 'accuracy': 0.765017667844523, 'f1': np.float64(0.86414708886619), 'roc_auc': np.float64(0.7032018140589569)}\n"
     ]
    },
    {
     "name": "stderr",
     "output_type": "stream",
     "text": [
      "100%|██████████| 23/23 [00:03<00:00,  6.34it/s]\n"
     ]
    },
    {
     "name": "stdout",
     "output_type": "stream",
     "text": [
      "Epoch: 10, Train loss: 0.2937868690915911, Val metrics: {'average_precision': np.float64(0.9019900514099213), 'accuracy': 0.6908127208480566, 'f1': np.float64(0.787363304981774), 'roc_auc': np.float64(0.7111655328798185)}\n",
      "Best val metrics: {'average_precision': np.float64(0.9025640921374812), 'accuracy': 0.6872791519434629, 'f1': np.float64(0.784409257003654), 'roc_auc': np.float64(0.7127256235827664)}\n",
      "Best test metrics: {'average_precision': np.float64(0.837491839300605), 'accuracy': 0.6994301994301995, 'f1': np.float64(0.7642458100558659), 'roc_auc': np.float64(0.6985946420729029)}\n"
     ]
    },
    {
     "data": {
      "text/plain": [
       "{'average_precision': np.float64(0.837491839300605),\n",
       " 'accuracy': 0.6994301994301995,\n",
       " 'f1': np.float64(0.7642458100558659),\n",
       " 'roc_auc': np.float64(0.6985946420729029)}"
      ]
     },
     "execution_count": 10,
     "metadata": {},
     "output_type": "execute_result"
    }
   ],
   "source": [
    "# Define a new model, don't load in old weights.\n",
    "deep_model = RDLModel(\n",
    "    data=data,\n",
    "    col_stats_dict=col_stats_dict,\n",
    "    num_layers=4,\n",
    "    channels=128,\n",
    "    out_channels=1,\n",
    "    aggr=\"sum\",\n",
    "    norm=\"batch_norm\",\n",
    ").to(device)\n",
    "deep_optimizer = torch.optim.Adam(deep_model.parameters(), lr=0.005)\n",
    "deep_state_dict = training_run(\n",
    "    deep_model,\n",
    "    device,\n",
    "    deep_optimizer,\n",
    "    task,\n",
    "    loader_dict,\n",
    "    val_table,\n",
    "    loss_fn,\n",
    "    entity_table,\n",
    "    epochs=10,\n",
    ")\n",
    "deep_model.load_state_dict(deep_state_dict)\n",
    "\n",
    "# Evaluate on val and test set\n",
    "eval_model(deep_model, loader_dict, \"val\", task, device, val_table)\n",
    "eval_model(deep_model, loader_dict, \"test\", task, device, None)"
   ]
  },
  {
   "cell_type": "markdown",
   "metadata": {},
   "source": [
    "As we see, training using $4$ layers actually makes the model perform worse over time. Thus, given the simplicity of the task and the size of dataset, it is likely that we are overfitting. In particular, this is because of over-smoothing. Recall that a receptive field is the set of nodes that determine the embedding of a node of interest. However, if we have too many layers, we might have it so that all node embeddings converge to the same value."
   ]
  },
  {
   "cell_type": "markdown",
   "metadata": {},
   "source": [
    "Given that using double the amount of layers leads to less optimal results, we can try the opposite strategy and halve the number of layers in the network."
   ]
  },
  {
   "cell_type": "code",
   "execution_count": 11,
   "metadata": {},
   "outputs": [
    {
     "name": "stderr",
     "output_type": "stream",
     "text": [
      "100%|██████████| 23/23 [00:02<00:00, 11.07it/s]\n"
     ]
    },
    {
     "name": "stdout",
     "output_type": "stream",
     "text": [
      "Epoch: 01, Train loss: 0.37518749954186276, Val metrics: {'average_precision': np.float64(0.8408616402280328), 'accuracy': 0.7791519434628975, 'f1': np.float64(0.8758689175769613), 'roc_auc': np.float64(0.6049523809523809)}\n"
     ]
    },
    {
     "name": "stderr",
     "output_type": "stream",
     "text": [
      "100%|██████████| 23/23 [00:02<00:00, 10.98it/s]\n"
     ]
    },
    {
     "name": "stdout",
     "output_type": "stream",
     "text": [
      "Epoch: 02, Train loss: 0.35113759071023987, Val metrics: {'average_precision': np.float64(0.86220004758921), 'accuracy': 0.7791519434628975, 'f1': np.float64(0.8758689175769613), 'roc_auc': np.float64(0.6503945578231292)}\n"
     ]
    },
    {
     "name": "stderr",
     "output_type": "stream",
     "text": [
      "100%|██████████| 23/23 [00:02<00:00, 11.06it/s]\n"
     ]
    },
    {
     "name": "stdout",
     "output_type": "stream",
     "text": [
      "Epoch: 03, Train loss: 0.32091867947764385, Val metrics: {'average_precision': np.float64(0.9025118521305773), 'accuracy': 0.7720848056537103, 'f1': np.float64(0.8695652173913043), 'roc_auc': np.float64(0.7062312925170068)}\n"
     ]
    },
    {
     "name": "stderr",
     "output_type": "stream",
     "text": [
      "100%|██████████| 23/23 [00:02<00:00, 11.04it/s]\n"
     ]
    },
    {
     "name": "stdout",
     "output_type": "stream",
     "text": [
      "Epoch: 04, Train loss: 0.3042044218682812, Val metrics: {'average_precision': np.float64(0.9079835089485592), 'accuracy': 0.7314487632508834, 'f1': np.float64(0.8303571428571429), 'roc_auc': np.float64(0.718766439909297)}\n"
     ]
    },
    {
     "name": "stderr",
     "output_type": "stream",
     "text": [
      "100%|██████████| 23/23 [00:02<00:00, 11.29it/s]\n"
     ]
    },
    {
     "name": "stdout",
     "output_type": "stream",
     "text": [
      "Epoch: 05, Train loss: 0.2985327654798049, Val metrics: {'average_precision': np.float64(0.9084920331819641), 'accuracy': 0.696113074204947, 'f1': np.float64(0.7902439024390244), 'roc_auc': np.float64(0.7240090702947846)}\n"
     ]
    },
    {
     "name": "stderr",
     "output_type": "stream",
     "text": [
      "100%|██████████| 23/23 [00:02<00:00, 11.32it/s]\n"
     ]
    },
    {
     "name": "stdout",
     "output_type": "stream",
     "text": [
      "Epoch: 06, Train loss: 0.29605394690359166, Val metrics: {'average_precision': np.float64(0.907485049890505), 'accuracy': 0.7243816254416962, 'f1': np.float64(0.8206896551724138), 'roc_auc': np.float64(0.7202176870748299)}\n"
     ]
    },
    {
     "name": "stderr",
     "output_type": "stream",
     "text": [
      "100%|██████████| 23/23 [00:02<00:00, 11.30it/s]\n"
     ]
    },
    {
     "name": "stdout",
     "output_type": "stream",
     "text": [
      "Epoch: 07, Train loss: 0.2918851364427795, Val metrics: {'average_precision': np.float64(0.9069665060309037), 'accuracy': 0.7667844522968198, 'f1': np.float64(0.8562091503267973), 'roc_auc': np.float64(0.7238820861678004)}\n"
     ]
    },
    {
     "name": "stderr",
     "output_type": "stream",
     "text": [
      "100%|██████████| 23/23 [00:02<00:00, 11.28it/s]\n"
     ]
    },
    {
     "name": "stdout",
     "output_type": "stream",
     "text": [
      "Epoch: 08, Train loss: 0.2922655565809612, Val metrics: {'average_precision': np.float64(0.9065148189689545), 'accuracy': 0.7773851590106007, 'f1': np.float64(0.8711656441717791), 'roc_auc': np.float64(0.7191655328798185)}\n"
     ]
    },
    {
     "name": "stderr",
     "output_type": "stream",
     "text": [
      "100%|██████████| 23/23 [00:02<00:00, 11.24it/s]\n"
     ]
    },
    {
     "name": "stdout",
     "output_type": "stream",
     "text": [
      "Epoch: 09, Train loss: 0.29153688029062, Val metrics: {'average_precision': np.float64(0.9049253473004437), 'accuracy': 0.7773851590106007, 'f1': np.float64(0.8747514910536779), 'roc_auc': np.float64(0.7165351473922903)}\n"
     ]
    },
    {
     "name": "stderr",
     "output_type": "stream",
     "text": [
      "100%|██████████| 23/23 [00:02<00:00, 11.27it/s]\n"
     ]
    },
    {
     "name": "stdout",
     "output_type": "stream",
     "text": [
      "Epoch: 10, Train loss: 0.2833296151920055, Val metrics: {'average_precision': np.float64(0.9043489819345572), 'accuracy': 0.7862190812720848, 'f1': np.float64(0.8743509865005192), 'roc_auc': np.float64(0.7229387755102039)}\n",
      "Best val metrics: {'average_precision': np.float64(0.9080873156084119), 'accuracy': 0.696113074204947, 'f1': np.float64(0.7902439024390244), 'roc_auc': np.float64(0.722612244897959)}\n",
      "Best test metrics: {'average_precision': np.float64(0.8540296841624423), 'accuracy': 0.688034188034188, 'f1': np.float64(0.7730569948186529), 'roc_auc': np.float64(0.7137168789342703)}\n"
     ]
    },
    {
     "data": {
      "text/plain": [
       "{'average_precision': np.float64(0.8540296841624423),\n",
       " 'accuracy': 0.688034188034188,\n",
       " 'f1': np.float64(0.7730569948186529),\n",
       " 'roc_auc': np.float64(0.7137168789342703)}"
      ]
     },
     "execution_count": 11,
     "metadata": {},
     "output_type": "execute_result"
    }
   ],
   "source": [
    "# Define a new model, don't load in old weights.\n",
    "shallow_model = RDLModel(\n",
    "    data=data,\n",
    "    col_stats_dict=col_stats_dict,\n",
    "    num_layers=1,\n",
    "    channels=128,\n",
    "    out_channels=1,\n",
    "    aggr=\"sum\",\n",
    "    norm=\"batch_norm\",\n",
    ").to(device)\n",
    "shallow_optimizer = torch.optim.Adam(shallow_model.parameters(), lr=0.005)\n",
    "shallow_state_dict = training_run(\n",
    "    shallow_model,\n",
    "    device,\n",
    "    shallow_optimizer,\n",
    "    task,\n",
    "    loader_dict,\n",
    "    val_table,\n",
    "    loss_fn,\n",
    "    entity_table,\n",
    "    epochs=10,\n",
    ")\n",
    "shallow_model.load_state_dict(shallow_state_dict)\n",
    "\n",
    "# Evaluate on val and test set\n",
    "eval_model(shallow_model, loader_dict, \"val\", task, device, val_table)\n",
    "eval_model(shallow_model, loader_dict, \"test\", task, device, None)"
   ]
  },
  {
   "cell_type": "markdown",
   "metadata": {},
   "source": [
    "Interestingly enough, we see that even with half the number of layers, we do just about the same as with double the number of layers. Once again, this might be more task-specific as opposed to a general conclusion about GNNs and the RDL pipeline.\n",
    "\n",
    "Finally, we try one last experiment, where we iterate the number of layers from 1 to 10."
   ]
  },
  {
   "cell_type": "code",
   "execution_count": 12,
   "metadata": {},
   "outputs": [
    {
     "name": "stdout",
     "output_type": "stream",
     "text": [
      "\n",
      "Number of Layers = 1\n"
     ]
    },
    {
     "name": "stderr",
     "output_type": "stream",
     "text": [
      "100%|██████████| 23/23 [00:02<00:00, 11.26it/s]\n"
     ]
    },
    {
     "name": "stdout",
     "output_type": "stream",
     "text": [
      "Epoch: 01, Train loss: 0.3826223786738468, Val metrics: {'average_precision': np.float64(0.8553229152840066), 'accuracy': 0.7791519434628975, 'f1': np.float64(0.8758689175769613), 'roc_auc': np.float64(0.6435736961451247)}\n"
     ]
    },
    {
     "name": "stderr",
     "output_type": "stream",
     "text": [
      "100%|██████████| 23/23 [00:02<00:00, 11.31it/s]\n"
     ]
    },
    {
     "name": "stdout",
     "output_type": "stream",
     "text": [
      "Epoch: 02, Train loss: 0.33262481090377083, Val metrics: {'average_precision': np.float64(0.8900853101100542), 'accuracy': 0.7420494699646644, 'f1': np.float64(0.8463157894736842), 'roc_auc': np.float64(0.6870566893424036)}\n"
     ]
    },
    {
     "name": "stderr",
     "output_type": "stream",
     "text": [
      "100%|██████████| 23/23 [00:02<00:00, 11.27it/s]\n"
     ]
    },
    {
     "name": "stdout",
     "output_type": "stream",
     "text": [
      "Epoch: 03, Train loss: 0.3119771442089686, Val metrics: {'average_precision': np.float64(0.8953172155795537), 'accuracy': 0.7367491166077739, 'f1': np.float64(0.8426610348468849), 'roc_auc': np.float64(0.6930430839002267)}\n"
     ]
    },
    {
     "name": "stderr",
     "output_type": "stream",
     "text": [
      "100%|██████████| 23/23 [00:02<00:00, 11.23it/s]\n"
     ]
    },
    {
     "name": "stdout",
     "output_type": "stream",
     "text": [
      "Epoch: 04, Train loss: 0.3063944281897404, Val metrics: {'average_precision': np.float64(0.9016766125618205), 'accuracy': 0.7332155477031802, 'f1': np.float64(0.8338833883388339), 'roc_auc': np.float64(0.705578231292517)}\n"
     ]
    },
    {
     "name": "stderr",
     "output_type": "stream",
     "text": [
      "100%|██████████| 23/23 [00:02<00:00, 11.23it/s]\n"
     ]
    },
    {
     "name": "stdout",
     "output_type": "stream",
     "text": [
      "Epoch: 05, Train loss: 0.3002770604761129, Val metrics: {'average_precision': np.float64(0.904956260406582), 'accuracy': 0.7491166077738516, 'f1': np.float64(0.8456521739130435), 'roc_auc': np.float64(0.7143038548752835)}\n"
     ]
    },
    {
     "name": "stderr",
     "output_type": "stream",
     "text": [
      "100%|██████████| 23/23 [00:02<00:00, 11.32it/s]\n"
     ]
    },
    {
     "name": "stdout",
     "output_type": "stream",
     "text": [
      "Epoch: 06, Train loss: 0.29719861554186433, Val metrics: {'average_precision': np.float64(0.9068590094466362), 'accuracy': 0.7561837455830389, 'f1': np.float64(0.8516129032258064), 'roc_auc': np.float64(0.7199274376417233)}\n"
     ]
    },
    {
     "name": "stderr",
     "output_type": "stream",
     "text": [
      "100%|██████████| 23/23 [00:02<00:00, 11.29it/s]\n"
     ]
    },
    {
     "name": "stdout",
     "output_type": "stream",
     "text": [
      "Epoch: 07, Train loss: 0.2913506769943839, Val metrics: {'average_precision': np.float64(0.9071360680851793), 'accuracy': 0.7438162544169611, 'f1': np.float64(0.8394241417497231), 'roc_auc': np.float64(0.720108843537415)}\n"
     ]
    },
    {
     "name": "stderr",
     "output_type": "stream",
     "text": [
      "100%|██████████| 23/23 [00:02<00:00, 11.26it/s]\n"
     ]
    },
    {
     "name": "stdout",
     "output_type": "stream",
     "text": [
      "Epoch: 08, Train loss: 0.29327471596197413, Val metrics: {'average_precision': np.float64(0.9068692435333432), 'accuracy': 0.7544169611307421, 'f1': np.float64(0.8490770901194354), 'roc_auc': np.float64(0.7211065759637187)}\n"
     ]
    },
    {
     "name": "stderr",
     "output_type": "stream",
     "text": [
      "100%|██████████| 23/23 [00:02<00:00, 11.31it/s]\n"
     ]
    },
    {
     "name": "stdout",
     "output_type": "stream",
     "text": [
      "Epoch: 09, Train loss: 0.28969919351427825, Val metrics: {'average_precision': np.float64(0.9056357529638769), 'accuracy': 0.7473498233215548, 'f1': np.float64(0.8443960826985855), 'roc_auc': np.float64(0.7145578231292518)}\n"
     ]
    },
    {
     "name": "stderr",
     "output_type": "stream",
     "text": [
      "100%|██████████| 23/23 [00:02<00:00, 11.30it/s]\n"
     ]
    },
    {
     "name": "stdout",
     "output_type": "stream",
     "text": [
      "Epoch: 10, Train loss: 0.2836031342992314, Val metrics: {'average_precision': np.float64(0.9058587204630918), 'accuracy': 0.7208480565371025, 'f1': np.float64(0.8208616780045351), 'roc_auc': np.float64(0.7183129251700681)}\n",
      "Best val metrics: {'average_precision': np.float64(0.9069546396937207), 'accuracy': 0.7526501766784452, 'f1': np.float64(0.8471615720524017), 'roc_auc': np.float64(0.7212154195011338)}\n",
      "Best test metrics: {'average_precision': np.float64(0.8525004944189877), 'accuracy': 0.7236467236467237, 'f1': np.float64(0.8207024029574861), 'roc_auc': np.float64(0.7187283462645782)}\n",
      "\n",
      "Number of Layers = 2\n"
     ]
    },
    {
     "name": "stderr",
     "output_type": "stream",
     "text": [
      "100%|██████████| 23/23 [00:02<00:00,  8.47it/s]\n"
     ]
    },
    {
     "name": "stdout",
     "output_type": "stream",
     "text": [
      "Epoch: 01, Train loss: 0.3743260099095766, Val metrics: {'average_precision': np.float64(0.8433198742968568), 'accuracy': 0.7791519434628975, 'f1': np.float64(0.8758689175769613), 'roc_auc': np.float64(0.6218049886621315)}\n"
     ]
    },
    {
     "name": "stderr",
     "output_type": "stream",
     "text": [
      "100%|██████████| 23/23 [00:02<00:00,  8.43it/s]\n"
     ]
    },
    {
     "name": "stdout",
     "output_type": "stream",
     "text": [
      "Epoch: 02, Train loss: 0.3344549620488954, Val metrics: {'average_precision': np.float64(0.8898641618117431), 'accuracy': 0.7455830388692579, 'f1': np.float64(0.85), 'roc_auc': np.float64(0.6882539682539682)}\n"
     ]
    },
    {
     "name": "stderr",
     "output_type": "stream",
     "text": [
      "100%|██████████| 23/23 [00:02<00:00,  8.52it/s]\n"
     ]
    },
    {
     "name": "stdout",
     "output_type": "stream",
     "text": [
      "Epoch: 03, Train loss: 0.3177548697594223, Val metrics: {'average_precision': np.float64(0.8865455474229401), 'accuracy': 0.7402826855123675, 'f1': np.float64(0.8414239482200647), 'roc_auc': np.float64(0.6875102040816327)}\n"
     ]
    },
    {
     "name": "stderr",
     "output_type": "stream",
     "text": [
      "100%|██████████| 23/23 [00:02<00:00,  8.54it/s]\n"
     ]
    },
    {
     "name": "stdout",
     "output_type": "stream",
     "text": [
      "Epoch: 04, Train loss: 0.309557106164051, Val metrics: {'average_precision': np.float64(0.8964075998196287), 'accuracy': 0.734982332155477, 'f1': np.float64(0.8362445414847162), 'roc_auc': np.float64(0.693297052154195)}\n"
     ]
    },
    {
     "name": "stderr",
     "output_type": "stream",
     "text": [
      "100%|██████████| 23/23 [00:02<00:00,  8.52it/s]\n"
     ]
    },
    {
     "name": "stdout",
     "output_type": "stream",
     "text": [
      "Epoch: 05, Train loss: 0.3020340779887816, Val metrics: {'average_precision': np.float64(0.8951571817092883), 'accuracy': 0.6855123674911661, 'f1': np.float64(0.7900943396226415), 'roc_auc': np.float64(0.6947664399092971)}\n"
     ]
    },
    {
     "name": "stderr",
     "output_type": "stream",
     "text": [
      "100%|██████████| 23/23 [00:02<00:00,  8.51it/s]\n"
     ]
    },
    {
     "name": "stdout",
     "output_type": "stream",
     "text": [
      "Epoch: 06, Train loss: 0.29950978224779573, Val metrics: {'average_precision': np.float64(0.9012861691938108), 'accuracy': 0.7720848056537103, 'f1': np.float64(0.8695652173913043), 'roc_auc': np.float64(0.7042902494331066)}\n"
     ]
    },
    {
     "name": "stderr",
     "output_type": "stream",
     "text": [
      "100%|██████████| 23/23 [00:02<00:00,  8.58it/s]\n"
     ]
    },
    {
     "name": "stdout",
     "output_type": "stream",
     "text": [
      "Epoch: 07, Train loss: 0.297238381983845, Val metrics: {'average_precision': np.float64(0.8922442233491651), 'accuracy': 0.7720848056537103, 'f1': np.float64(0.8602383531960996), 'roc_auc': np.float64(0.693532879818594)}\n"
     ]
    },
    {
     "name": "stderr",
     "output_type": "stream",
     "text": [
      "100%|██████████| 23/23 [00:02<00:00,  8.66it/s]\n"
     ]
    },
    {
     "name": "stdout",
     "output_type": "stream",
     "text": [
      "Epoch: 08, Train loss: 0.29052829917155626, Val metrics: {'average_precision': np.float64(0.8938014259148144), 'accuracy': 0.6713780918727915, 'f1': np.float64(0.7726161369193154), 'roc_auc': np.float64(0.6969795918367347)}\n"
     ]
    },
    {
     "name": "stderr",
     "output_type": "stream",
     "text": [
      "100%|██████████| 23/23 [00:02<00:00,  8.58it/s]\n"
     ]
    },
    {
     "name": "stdout",
     "output_type": "stream",
     "text": [
      "Epoch: 09, Train loss: 0.28894288277565444, Val metrics: {'average_precision': np.float64(0.8976265595715676), 'accuracy': 0.773851590106007, 'f1': np.float64(0.8593406593406593), 'roc_auc': np.float64(0.7052698412698413)}\n"
     ]
    },
    {
     "name": "stderr",
     "output_type": "stream",
     "text": [
      "100%|██████████| 23/23 [00:02<00:00,  8.56it/s]\n"
     ]
    },
    {
     "name": "stdout",
     "output_type": "stream",
     "text": [
      "Epoch: 10, Train loss: 0.2908251843259395, Val metrics: {'average_precision': np.float64(0.8997671541953296), 'accuracy': 0.6448763250883393, 'f1': np.float64(0.7503105590062111), 'roc_auc': np.float64(0.7073741496598639)}\n",
      "Best val metrics: {'average_precision': np.float64(0.8998853822352891), 'accuracy': 0.6448763250883393, 'f1': np.float64(0.7503105590062111), 'roc_auc': np.float64(0.7074648526077097)}\n",
      "Best test metrics: {'average_precision': np.float64(0.8467396627175622), 'accuracy': 0.7193732193732194, 'f1': np.float64(0.7902023429179978), 'roc_auc': np.float64(0.745776606646172)}\n",
      "\n",
      "Number of Layers = 3\n"
     ]
    },
    {
     "name": "stderr",
     "output_type": "stream",
     "text": [
      "100%|██████████| 23/23 [00:03<00:00,  7.28it/s]\n"
     ]
    },
    {
     "name": "stdout",
     "output_type": "stream",
     "text": [
      "Epoch: 01, Train loss: 0.36540699344389216, Val metrics: {'average_precision': np.float64(0.8373260614750087), 'accuracy': 0.7791519434628975, 'f1': np.float64(0.8758689175769613), 'roc_auc': np.float64(0.6057142857142858)}\n"
     ]
    },
    {
     "name": "stderr",
     "output_type": "stream",
     "text": [
      "100%|██████████| 23/23 [00:03<00:00,  6.95it/s]\n"
     ]
    },
    {
     "name": "stdout",
     "output_type": "stream",
     "text": [
      "Epoch: 02, Train loss: 0.35675915995004376, Val metrics: {'average_precision': np.float64(0.8484441538882868), 'accuracy': 0.7791519434628975, 'f1': np.float64(0.8758689175769613), 'roc_auc': np.float64(0.6326530612244898)}\n"
     ]
    },
    {
     "name": "stderr",
     "output_type": "stream",
     "text": [
      "100%|██████████| 23/23 [00:03<00:00,  7.35it/s]\n"
     ]
    },
    {
     "name": "stdout",
     "output_type": "stream",
     "text": [
      "Epoch: 03, Train loss: 0.33002465272041703, Val metrics: {'average_precision': np.float64(0.8867921445055075), 'accuracy': 0.6413427561837456, 'f1': np.float64(0.748451053283767), 'roc_auc': np.float64(0.6695691609977323)}\n"
     ]
    },
    {
     "name": "stderr",
     "output_type": "stream",
     "text": [
      "100%|██████████| 23/23 [00:03<00:00,  7.36it/s]\n"
     ]
    },
    {
     "name": "stdout",
     "output_type": "stream",
     "text": [
      "Epoch: 04, Train loss: 0.3156746087912328, Val metrics: {'average_precision': np.float64(0.8927261304976664), 'accuracy': 0.7809187279151943, 'f1': np.float64(0.876), 'roc_auc': np.float64(0.6971609977324263)}\n"
     ]
    },
    {
     "name": "stderr",
     "output_type": "stream",
     "text": [
      "100%|██████████| 23/23 [00:03<00:00,  7.37it/s]\n"
     ]
    },
    {
     "name": "stdout",
     "output_type": "stream",
     "text": [
      "Epoch: 05, Train loss: 0.3130023913842728, Val metrics: {'average_precision': np.float64(0.897630192651385), 'accuracy': 0.7561837455830389, 'f1': np.float64(0.8580246913580247), 'roc_auc': np.float64(0.6941678004535148)}\n"
     ]
    },
    {
     "name": "stderr",
     "output_type": "stream",
     "text": [
      "100%|██████████| 23/23 [00:03<00:00,  7.34it/s]\n"
     ]
    },
    {
     "name": "stdout",
     "output_type": "stream",
     "text": [
      "Epoch: 06, Train loss: 0.30674242082992725, Val metrics: {'average_precision': np.float64(0.8915170866090015), 'accuracy': 0.7473498233215548, 'f1': np.float64(0.8518134715025907), 'roc_auc': np.float64(0.6958730158730159)}\n"
     ]
    },
    {
     "name": "stderr",
     "output_type": "stream",
     "text": [
      "100%|██████████| 23/23 [00:03<00:00,  7.37it/s]\n"
     ]
    },
    {
     "name": "stdout",
     "output_type": "stream",
     "text": [
      "Epoch: 07, Train loss: 0.30710634371900253, Val metrics: {'average_precision': np.float64(0.897800277752596), 'accuracy': 0.7809187279151943, 'f1': np.float64(0.8767395626242545), 'roc_auc': np.float64(0.6981950113378685)}\n"
     ]
    },
    {
     "name": "stderr",
     "output_type": "stream",
     "text": [
      "100%|██████████| 23/23 [00:03<00:00,  7.33it/s]\n"
     ]
    },
    {
     "name": "stdout",
     "output_type": "stream",
     "text": [
      "Epoch: 08, Train loss: 0.30058701078737765, Val metrics: {'average_precision': np.float64(0.8942009874644524), 'accuracy': 0.6360424028268551, 'f1': np.float64(0.739240506329114), 'roc_auc': np.float64(0.6889433106575964)}\n"
     ]
    },
    {
     "name": "stderr",
     "output_type": "stream",
     "text": [
      "100%|██████████| 23/23 [00:03<00:00,  7.37it/s]\n"
     ]
    },
    {
     "name": "stdout",
     "output_type": "stream",
     "text": [
      "Epoch: 09, Train loss: 0.3046442057293269, Val metrics: {'average_precision': np.float64(0.8796323353622273), 'accuracy': 0.6678445229681979, 'f1': np.float64(0.7684729064039408), 'roc_auc': np.float64(0.6804353741496598)}\n"
     ]
    },
    {
     "name": "stderr",
     "output_type": "stream",
     "text": [
      "100%|██████████| 23/23 [00:03<00:00,  7.38it/s]\n"
     ]
    },
    {
     "name": "stdout",
     "output_type": "stream",
     "text": [
      "Epoch: 10, Train loss: 0.2964144840636728, Val metrics: {'average_precision': np.float64(0.8953814906807646), 'accuracy': 0.7031802120141343, 'f1': np.float64(0.8009478672985783), 'roc_auc': np.float64(0.7040725623582766)}\n",
      "Best val metrics: {'average_precision': np.float64(0.8951683283437144), 'accuracy': 0.7049469964664311, 'f1': np.float64(0.8023668639053254), 'roc_auc': np.float64(0.7039818594104308)}\n",
      "Best test metrics: {'average_precision': np.float64(0.839237114903534), 'accuracy': 0.717948717948718, 'f1': np.float64(0.7847826086956522), 'roc_auc': np.float64(0.7209046991655688)}\n",
      "\n",
      "Number of Layers = 4\n"
     ]
    },
    {
     "name": "stderr",
     "output_type": "stream",
     "text": [
      "100%|██████████| 23/23 [00:03<00:00,  6.54it/s]\n"
     ]
    },
    {
     "name": "stdout",
     "output_type": "stream",
     "text": [
      "Epoch: 01, Train loss: 0.371715160655616, Val metrics: {'average_precision': np.float64(0.8318322634369733), 'accuracy': 0.7791519434628975, 'f1': np.float64(0.8758689175769613), 'roc_auc': np.float64(0.5825215419501133)}\n"
     ]
    },
    {
     "name": "stderr",
     "output_type": "stream",
     "text": [
      "100%|██████████| 23/23 [00:03<00:00,  6.53it/s]\n"
     ]
    },
    {
     "name": "stdout",
     "output_type": "stream",
     "text": [
      "Epoch: 02, Train loss: 0.3552042812451129, Val metrics: {'average_precision': np.float64(0.8314052155457712), 'accuracy': 0.7791519434628975, 'f1': np.float64(0.8758689175769613), 'roc_auc': np.float64(0.5938956916099773)}\n"
     ]
    },
    {
     "name": "stderr",
     "output_type": "stream",
     "text": [
      "100%|██████████| 23/23 [00:03<00:00,  6.48it/s]\n"
     ]
    },
    {
     "name": "stdout",
     "output_type": "stream",
     "text": [
      "Epoch: 03, Train loss: 0.352481406871218, Val metrics: {'average_precision': np.float64(0.837064686156353), 'accuracy': 0.7791519434628975, 'f1': np.float64(0.8758689175769613), 'roc_auc': np.float64(0.5986213151927438)}\n"
     ]
    },
    {
     "name": "stderr",
     "output_type": "stream",
     "text": [
      "100%|██████████| 23/23 [00:03<00:00,  6.54it/s]\n"
     ]
    },
    {
     "name": "stdout",
     "output_type": "stream",
     "text": [
      "Epoch: 04, Train loss: 0.3476405347869729, Val metrics: {'average_precision': np.float64(0.8616848378863413), 'accuracy': 0.7791519434628975, 'f1': np.float64(0.8758689175769613), 'roc_auc': np.float64(0.6520997732426304)}\n"
     ]
    },
    {
     "name": "stderr",
     "output_type": "stream",
     "text": [
      "100%|██████████| 23/23 [00:03<00:00,  6.53it/s]\n"
     ]
    },
    {
     "name": "stdout",
     "output_type": "stream",
     "text": [
      "Epoch: 05, Train loss: 0.336553281978662, Val metrics: {'average_precision': np.float64(0.8785159998587417), 'accuracy': 0.6625441696113075, 'f1': np.float64(0.7755581668625147), 'roc_auc': np.float64(0.6516643990929705)}\n"
     ]
    },
    {
     "name": "stderr",
     "output_type": "stream",
     "text": [
      "100%|██████████| 23/23 [00:03<00:00,  6.53it/s]\n"
     ]
    },
    {
     "name": "stdout",
     "output_type": "stream",
     "text": [
      "Epoch: 06, Train loss: 0.31064589807001236, Val metrics: {'average_precision': np.float64(0.8887297415372348), 'accuracy': 0.7402826855123675, 'f1': np.float64(0.8403908794788274), 'roc_auc': np.float64(0.6860226757369614)}\n"
     ]
    },
    {
     "name": "stderr",
     "output_type": "stream",
     "text": [
      "100%|██████████| 23/23 [00:03<00:00,  6.53it/s]\n"
     ]
    },
    {
     "name": "stdout",
     "output_type": "stream",
     "text": [
      "Epoch: 07, Train loss: 0.31022252463279, Val metrics: {'average_precision': np.float64(0.8864739822661546), 'accuracy': 0.7614840989399293, 'f1': np.float64(0.8618219037871033), 'roc_auc': np.float64(0.6828843537414966)}\n"
     ]
    },
    {
     "name": "stderr",
     "output_type": "stream",
     "text": [
      "100%|██████████| 23/23 [00:03<00:00,  6.51it/s]\n"
     ]
    },
    {
     "name": "stdout",
     "output_type": "stream",
     "text": [
      "Epoch: 08, Train loss: 0.3084263144492393, Val metrics: {'average_precision': np.float64(0.8984740520067978), 'accuracy': 0.734982332155477, 'f1': np.float64(0.8383620689655172), 'roc_auc': np.float64(0.6926802721088435)}\n"
     ]
    },
    {
     "name": "stderr",
     "output_type": "stream",
     "text": [
      "100%|██████████| 23/23 [00:03<00:00,  6.47it/s]\n"
     ]
    },
    {
     "name": "stdout",
     "output_type": "stream",
     "text": [
      "Epoch: 09, Train loss: 0.3063507124764632, Val metrics: {'average_precision': np.float64(0.8991527407790766), 'accuracy': 0.6908127208480566, 'f1': np.float64(0.7933884297520661), 'roc_auc': np.float64(0.6960181405895691)}\n"
     ]
    },
    {
     "name": "stderr",
     "output_type": "stream",
     "text": [
      "100%|██████████| 23/23 [00:03<00:00,  6.39it/s]\n"
     ]
    },
    {
     "name": "stdout",
     "output_type": "stream",
     "text": [
      "Epoch: 10, Train loss: 0.30801313994340546, Val metrics: {'average_precision': np.float64(0.8965928891578175), 'accuracy': 0.6837455830388692, 'f1': np.float64(0.7866507747318237), 'roc_auc': np.float64(0.6974512471655329)}\n",
      "Best val metrics: {'average_precision': np.float64(0.896167381862982), 'accuracy': 0.6890459363957597, 'f1': np.float64(0.7904761904761904), 'roc_auc': np.float64(0.6962176870748299)}\n",
      "Best test metrics: {'average_precision': np.float64(0.844332996439698), 'accuracy': 0.6908831908831908, 'f1': np.float64(0.7769784172661871), 'roc_auc': np.float64(0.7140633387010198)}\n",
      "\n",
      "Number of Layers = 5\n"
     ]
    },
    {
     "name": "stderr",
     "output_type": "stream",
     "text": [
      "100%|██████████| 23/23 [00:03<00:00,  5.79it/s]\n"
     ]
    },
    {
     "name": "stdout",
     "output_type": "stream",
     "text": [
      "Epoch: 01, Train loss: 0.37283312263126056, Val metrics: {'average_precision': np.float64(0.834065033089693), 'accuracy': 0.7791519434628975, 'f1': np.float64(0.8758689175769613), 'roc_auc': np.float64(0.5859954648526077)}\n"
     ]
    },
    {
     "name": "stderr",
     "output_type": "stream",
     "text": [
      "100%|██████████| 23/23 [00:03<00:00,  5.77it/s]\n"
     ]
    },
    {
     "name": "stdout",
     "output_type": "stream",
     "text": [
      "Epoch: 02, Train loss: 0.35526487459779965, Val metrics: {'average_precision': np.float64(0.8360282078147792), 'accuracy': 0.7791519434628975, 'f1': np.float64(0.8758689175769613), 'roc_auc': np.float64(0.5967528344671202)}\n"
     ]
    },
    {
     "name": "stderr",
     "output_type": "stream",
     "text": [
      "100%|██████████| 23/23 [00:04<00:00,  5.62it/s]\n"
     ]
    },
    {
     "name": "stdout",
     "output_type": "stream",
     "text": [
      "Epoch: 03, Train loss: 0.35517817362457393, Val metrics: {'average_precision': np.float64(0.8358241313555039), 'accuracy': 0.7791519434628975, 'f1': np.float64(0.8758689175769613), 'roc_auc': np.float64(0.5933696145124716)}\n"
     ]
    },
    {
     "name": "stderr",
     "output_type": "stream",
     "text": [
      "100%|██████████| 23/23 [00:03<00:00,  5.85it/s]\n"
     ]
    },
    {
     "name": "stdout",
     "output_type": "stream",
     "text": [
      "Epoch: 04, Train loss: 0.3552259573195988, Val metrics: {'average_precision': np.float64(0.8390621404181866), 'accuracy': 0.7791519434628975, 'f1': np.float64(0.8758689175769613), 'roc_auc': np.float64(0.5977596371882086)}\n"
     ]
    },
    {
     "name": "stderr",
     "output_type": "stream",
     "text": [
      "100%|██████████| 23/23 [00:03<00:00,  5.86it/s]\n"
     ]
    },
    {
     "name": "stdout",
     "output_type": "stream",
     "text": [
      "Epoch: 05, Train loss: 0.3555421923114921, Val metrics: {'average_precision': np.float64(0.839316916805772), 'accuracy': 0.7791519434628975, 'f1': np.float64(0.8758689175769613), 'roc_auc': np.float64(0.6000816326530612)}\n"
     ]
    },
    {
     "name": "stderr",
     "output_type": "stream",
     "text": [
      "100%|██████████| 23/23 [00:03<00:00,  5.82it/s]\n"
     ]
    },
    {
     "name": "stdout",
     "output_type": "stream",
     "text": [
      "Epoch: 06, Train loss: 0.35082297531825696, Val metrics: {'average_precision': np.float64(0.8374218136043102), 'accuracy': 0.7791519434628975, 'f1': np.float64(0.8758689175769613), 'roc_auc': np.float64(0.6012426303854875)}\n"
     ]
    },
    {
     "name": "stderr",
     "output_type": "stream",
     "text": [
      "100%|██████████| 23/23 [00:04<00:00,  5.65it/s]\n"
     ]
    },
    {
     "name": "stdout",
     "output_type": "stream",
     "text": [
      "Epoch: 07, Train loss: 0.3528884064904668, Val metrics: {'average_precision': np.float64(0.8332177700210528), 'accuracy': 0.7791519434628975, 'f1': np.float64(0.8758689175769613), 'roc_auc': np.float64(0.5798730158730159)}\n"
     ]
    },
    {
     "name": "stderr",
     "output_type": "stream",
     "text": [
      "100%|██████████| 23/23 [00:04<00:00,  5.68it/s]\n"
     ]
    },
    {
     "name": "stdout",
     "output_type": "stream",
     "text": [
      "Epoch: 08, Train loss: 0.34989748629687095, Val metrics: {'average_precision': np.float64(0.8389640631413404), 'accuracy': 0.7791519434628975, 'f1': np.float64(0.8758689175769613), 'roc_auc': np.float64(0.600045351473923)}\n"
     ]
    },
    {
     "name": "stderr",
     "output_type": "stream",
     "text": [
      "100%|██████████| 23/23 [00:04<00:00,  5.56it/s]\n"
     ]
    },
    {
     "name": "stdout",
     "output_type": "stream",
     "text": [
      "Epoch: 09, Train loss: 0.3491126636260127, Val metrics: {'average_precision': np.float64(0.840644345938249), 'accuracy': 0.7791519434628975, 'f1': np.float64(0.8758689175769613), 'roc_auc': np.float64(0.598077097505669)}\n"
     ]
    },
    {
     "name": "stderr",
     "output_type": "stream",
     "text": [
      "100%|██████████| 23/23 [00:04<00:00,  5.30it/s]\n"
     ]
    },
    {
     "name": "stdout",
     "output_type": "stream",
     "text": [
      "Epoch: 10, Train loss: 0.34933974966765935, Val metrics: {'average_precision': np.float64(0.8419056536144729), 'accuracy': 0.7791519434628975, 'f1': np.float64(0.8758689175769613), 'roc_auc': np.float64(0.5983219954648527)}\n",
      "Best val metrics: {'average_precision': np.float64(0.8373659059653114), 'accuracy': 0.7791519434628975, 'f1': np.float64(0.8758689175769613), 'roc_auc': np.float64(0.6011337868480726)}\n",
      "Best test metrics: {'average_precision': np.float64(0.7921438230499332), 'accuracy': 0.7051282051282052, 'f1': np.float64(0.8270676691729323), 'roc_auc': np.float64(0.6644317571853804)}\n",
      "\n",
      "Number of Layers = 6\n"
     ]
    },
    {
     "name": "stderr",
     "output_type": "stream",
     "text": [
      "100%|██████████| 23/23 [00:09<00:00,  2.48it/s]\n"
     ]
    },
    {
     "name": "stdout",
     "output_type": "stream",
     "text": [
      "Epoch: 01, Train loss: 0.37810685117283793, Val metrics: {'average_precision': np.float64(0.8301734626581873), 'accuracy': 0.7791519434628975, 'f1': np.float64(0.8758689175769613), 'roc_auc': np.float64(0.5738140589569161)}\n"
     ]
    },
    {
     "name": "stderr",
     "output_type": "stream",
     "text": [
      "100%|██████████| 23/23 [00:04<00:00,  4.83it/s]\n"
     ]
    },
    {
     "name": "stdout",
     "output_type": "stream",
     "text": [
      "Epoch: 02, Train loss: 0.35535291144164854, Val metrics: {'average_precision': np.float64(0.835499592781001), 'accuracy': 0.7791519434628975, 'f1': np.float64(0.8758689175769613), 'roc_auc': np.float64(0.5954557823129252)}\n"
     ]
    },
    {
     "name": "stderr",
     "output_type": "stream",
     "text": [
      "100%|██████████| 23/23 [00:04<00:00,  4.96it/s]\n"
     ]
    },
    {
     "name": "stdout",
     "output_type": "stream",
     "text": [
      "Epoch: 03, Train loss: 0.3531977757361025, Val metrics: {'average_precision': np.float64(0.8386236230418498), 'accuracy': 0.7791519434628975, 'f1': np.float64(0.8758689175769613), 'roc_auc': np.float64(0.5973151927437641)}\n"
     ]
    },
    {
     "name": "stderr",
     "output_type": "stream",
     "text": [
      "100%|██████████| 23/23 [00:04<00:00,  4.97it/s]\n"
     ]
    },
    {
     "name": "stdout",
     "output_type": "stream",
     "text": [
      "Epoch: 04, Train loss: 0.3517201489287958, Val metrics: {'average_precision': np.float64(0.8404887272657516), 'accuracy': 0.7791519434628975, 'f1': np.float64(0.8758689175769613), 'roc_auc': np.float64(0.6022675736961451)}\n"
     ]
    },
    {
     "name": "stderr",
     "output_type": "stream",
     "text": [
      "100%|██████████| 23/23 [00:04<00:00,  5.19it/s]\n"
     ]
    },
    {
     "name": "stdout",
     "output_type": "stream",
     "text": [
      "Epoch: 05, Train loss: 0.350183285219769, Val metrics: {'average_precision': np.float64(0.835109756825201), 'accuracy': 0.7791519434628975, 'f1': np.float64(0.8758689175769613), 'roc_auc': np.float64(0.5950113378684807)}\n"
     ]
    },
    {
     "name": "stderr",
     "output_type": "stream",
     "text": [
      "100%|██████████| 23/23 [00:04<00:00,  5.13it/s]\n"
     ]
    },
    {
     "name": "stdout",
     "output_type": "stream",
     "text": [
      "Epoch: 06, Train loss: 0.3496234575153473, Val metrics: {'average_precision': np.float64(0.8429939905506832), 'accuracy': 0.7791519434628975, 'f1': np.float64(0.8758689175769613), 'roc_auc': np.float64(0.6033015873015873)}\n"
     ]
    },
    {
     "name": "stderr",
     "output_type": "stream",
     "text": [
      "100%|██████████| 23/23 [00:04<00:00,  5.20it/s]\n"
     ]
    },
    {
     "name": "stdout",
     "output_type": "stream",
     "text": [
      "Epoch: 07, Train loss: 0.3495445919829783, Val metrics: {'average_precision': np.float64(0.8407435735543944), 'accuracy': 0.7791519434628975, 'f1': np.float64(0.8758689175769613), 'roc_auc': np.float64(0.5932154195011338)}\n"
     ]
    },
    {
     "name": "stderr",
     "output_type": "stream",
     "text": [
      "100%|██████████| 23/23 [00:04<00:00,  5.15it/s]\n"
     ]
    },
    {
     "name": "stdout",
     "output_type": "stream",
     "text": [
      "Epoch: 08, Train loss: 0.34886452982411276, Val metrics: {'average_precision': np.float64(0.8384895043196945), 'accuracy': 0.7791519434628975, 'f1': np.float64(0.8758689175769613), 'roc_auc': np.float64(0.5824580498866213)}\n"
     ]
    },
    {
     "name": "stderr",
     "output_type": "stream",
     "text": [
      "100%|██████████| 23/23 [00:04<00:00,  5.11it/s]\n"
     ]
    },
    {
     "name": "stdout",
     "output_type": "stream",
     "text": [
      "Epoch: 09, Train loss: 0.34903724204437747, Val metrics: {'average_precision': np.float64(0.8397390326529528), 'accuracy': 0.7791519434628975, 'f1': np.float64(0.8758689175769613), 'roc_auc': np.float64(0.592907029478458)}\n"
     ]
    },
    {
     "name": "stderr",
     "output_type": "stream",
     "text": [
      "100%|██████████| 23/23 [00:04<00:00,  5.14it/s]\n"
     ]
    },
    {
     "name": "stdout",
     "output_type": "stream",
     "text": [
      "Epoch: 10, Train loss: 0.34864998210083437, Val metrics: {'average_precision': np.float64(0.8416093291791913), 'accuracy': 0.7791519434628975, 'f1': np.float64(0.8758689175769613), 'roc_auc': np.float64(0.5966621315192744)}\n",
      "Best val metrics: {'average_precision': np.float64(0.8430886255216727), 'accuracy': 0.7791519434628975, 'f1': np.float64(0.8758689175769613), 'roc_auc': np.float64(0.6028843537414965)}\n",
      "Best test metrics: {'average_precision': np.float64(0.8089892972500436), 'accuracy': 0.7051282051282052, 'f1': np.float64(0.8270676691729323), 'roc_auc': np.float64(0.6794466403162056)}\n",
      "\n",
      "Number of Layers = 7\n"
     ]
    },
    {
     "name": "stderr",
     "output_type": "stream",
     "text": [
      "100%|██████████| 23/23 [00:05<00:00,  4.43it/s]\n"
     ]
    },
    {
     "name": "stdout",
     "output_type": "stream",
     "text": [
      "Epoch: 01, Train loss: 0.36704404625087395, Val metrics: {'average_precision': np.float64(0.8330494139873579), 'accuracy': 0.7791519434628975, 'f1': np.float64(0.8758689175769613), 'roc_auc': np.float64(0.5962630385487528)}\n"
     ]
    },
    {
     "name": "stderr",
     "output_type": "stream",
     "text": [
      "100%|██████████| 23/23 [00:05<00:00,  4.41it/s]\n"
     ]
    },
    {
     "name": "stdout",
     "output_type": "stream",
     "text": [
      "Epoch: 02, Train loss: 0.3542426384939089, Val metrics: {'average_precision': np.float64(0.8369083917651754), 'accuracy': 0.7791519434628975, 'f1': np.float64(0.8758689175769613), 'roc_auc': np.float64(0.5976417233560091)}\n"
     ]
    },
    {
     "name": "stderr",
     "output_type": "stream",
     "text": [
      "100%|██████████| 23/23 [00:05<00:00,  4.34it/s]\n"
     ]
    },
    {
     "name": "stdout",
     "output_type": "stream",
     "text": [
      "Epoch: 03, Train loss: 0.35391472622813563, Val metrics: {'average_precision': np.float64(0.8396129038745606), 'accuracy': 0.7791519434628975, 'f1': np.float64(0.8758689175769613), 'roc_auc': np.float64(0.6002176870748299)}\n"
     ]
    },
    {
     "name": "stderr",
     "output_type": "stream",
     "text": [
      "100%|██████████| 23/23 [00:05<00:00,  4.54it/s]\n"
     ]
    },
    {
     "name": "stdout",
     "output_type": "stream",
     "text": [
      "Epoch: 04, Train loss: 0.3532313640555787, Val metrics: {'average_precision': np.float64(0.8360335292864227), 'accuracy': 0.7791519434628975, 'f1': np.float64(0.8758689175769613), 'roc_auc': np.float64(0.5983219954648527)}\n"
     ]
    },
    {
     "name": "stderr",
     "output_type": "stream",
     "text": [
      "100%|██████████| 23/23 [00:04<00:00,  4.71it/s]\n"
     ]
    },
    {
     "name": "stdout",
     "output_type": "stream",
     "text": [
      "Epoch: 05, Train loss: 0.35258137818839524, Val metrics: {'average_precision': np.float64(0.835115608625447), 'accuracy': 0.7791519434628975, 'f1': np.float64(0.8758689175769613), 'roc_auc': np.float64(0.5841541950113378)}\n"
     ]
    },
    {
     "name": "stderr",
     "output_type": "stream",
     "text": [
      "100%|██████████| 23/23 [00:04<00:00,  4.66it/s]\n"
     ]
    },
    {
     "name": "stdout",
     "output_type": "stream",
     "text": [
      "Epoch: 06, Train loss: 0.350826970472228, Val metrics: {'average_precision': np.float64(0.8404499624075724), 'accuracy': 0.7791519434628975, 'f1': np.float64(0.8758689175769613), 'roc_auc': np.float64(0.5999092970521542)}\n"
     ]
    },
    {
     "name": "stderr",
     "output_type": "stream",
     "text": [
      "100%|██████████| 23/23 [00:04<00:00,  4.74it/s]\n"
     ]
    },
    {
     "name": "stdout",
     "output_type": "stream",
     "text": [
      "Epoch: 07, Train loss: 0.34937368285414655, Val metrics: {'average_precision': np.float64(0.8413672862485775), 'accuracy': 0.7791519434628975, 'f1': np.float64(0.8758689175769613), 'roc_auc': np.float64(0.5979773242630385)}\n"
     ]
    },
    {
     "name": "stderr",
     "output_type": "stream",
     "text": [
      "100%|██████████| 23/23 [00:04<00:00,  4.71it/s]\n"
     ]
    },
    {
     "name": "stdout",
     "output_type": "stream",
     "text": [
      "Epoch: 08, Train loss: 0.35071920951851704, Val metrics: {'average_precision': np.float64(0.8405297957476612), 'accuracy': 0.7402826855123675, 'f1': np.float64(0.8489208633093526), 'roc_auc': np.float64(0.6005351473922903)}\n"
     ]
    },
    {
     "name": "stderr",
     "output_type": "stream",
     "text": [
      "100%|██████████| 23/23 [00:04<00:00,  4.73it/s]\n"
     ]
    },
    {
     "name": "stdout",
     "output_type": "stream",
     "text": [
      "Epoch: 09, Train loss: 0.3505127596877102, Val metrics: {'average_precision': np.float64(0.8393452479904318), 'accuracy': 0.7791519434628975, 'f1': np.float64(0.8758689175769613), 'roc_auc': np.float64(0.601687074829932)}\n"
     ]
    },
    {
     "name": "stderr",
     "output_type": "stream",
     "text": [
      "100%|██████████| 23/23 [00:04<00:00,  4.73it/s]\n"
     ]
    },
    {
     "name": "stdout",
     "output_type": "stream",
     "text": [
      "Epoch: 10, Train loss: 0.3490825170712617, Val metrics: {'average_precision': np.float64(0.8396506966787414), 'accuracy': 0.7791519434628975, 'f1': np.float64(0.8758689175769613), 'roc_auc': np.float64(0.6001995464852607)}\n",
      "Best val metrics: {'average_precision': np.float64(0.8393252993681686), 'accuracy': 0.7791519434628975, 'f1': np.float64(0.8758689175769613), 'roc_auc': np.float64(0.6019138321995465)}\n",
      "Best test metrics: {'average_precision': np.float64(0.8023556792853501), 'accuracy': 0.7051282051282052, 'f1': np.float64(0.8270676691729323), 'roc_auc': np.float64(0.6737276143073245)}\n",
      "\n",
      "Number of Layers = 8\n"
     ]
    },
    {
     "name": "stderr",
     "output_type": "stream",
     "text": [
      "100%|██████████| 23/23 [00:05<00:00,  4.33it/s]\n"
     ]
    },
    {
     "name": "stdout",
     "output_type": "stream",
     "text": [
      "Epoch: 01, Train loss: 0.37491007911449625, Val metrics: {'average_precision': np.float64(0.8367525923751188), 'accuracy': 0.7791519434628975, 'f1': np.float64(0.8758689175769613), 'roc_auc': np.float64(0.5992653061224491)}\n"
     ]
    },
    {
     "name": "stderr",
     "output_type": "stream",
     "text": [
      "100%|██████████| 23/23 [00:05<00:00,  4.33it/s]\n"
     ]
    },
    {
     "name": "stdout",
     "output_type": "stream",
     "text": [
      "Epoch: 02, Train loss: 0.35411825068585556, Val metrics: {'average_precision': np.float64(0.838959416828867), 'accuracy': 0.7791519434628975, 'f1': np.float64(0.8758689175769613), 'roc_auc': np.float64(0.5989387755102041)}\n"
     ]
    },
    {
     "name": "stderr",
     "output_type": "stream",
     "text": [
      "100%|██████████| 23/23 [00:05<00:00,  4.35it/s]\n"
     ]
    },
    {
     "name": "stdout",
     "output_type": "stream",
     "text": [
      "Epoch: 03, Train loss: 0.3548357431539237, Val metrics: {'average_precision': np.float64(0.840585205446071), 'accuracy': 0.7791519434628975, 'f1': np.float64(0.8758689175769613), 'roc_auc': np.float64(0.6022222222222222)}\n"
     ]
    },
    {
     "name": "stderr",
     "output_type": "stream",
     "text": [
      "100%|██████████| 23/23 [00:05<00:00,  4.32it/s]\n"
     ]
    },
    {
     "name": "stdout",
     "output_type": "stream",
     "text": [
      "Epoch: 04, Train loss: 0.3507367453110457, Val metrics: {'average_precision': np.float64(0.8295781292026772), 'accuracy': 0.7791519434628975, 'f1': np.float64(0.8758689175769613), 'roc_auc': np.float64(0.5809795918367346)}\n"
     ]
    },
    {
     "name": "stderr",
     "output_type": "stream",
     "text": [
      "100%|██████████| 23/23 [00:05<00:00,  4.34it/s]\n"
     ]
    },
    {
     "name": "stdout",
     "output_type": "stream",
     "text": [
      "Epoch: 05, Train loss: 0.3505471559972206, Val metrics: {'average_precision': np.float64(0.8357632565289268), 'accuracy': 0.7791519434628975, 'f1': np.float64(0.8758689175769613), 'roc_auc': np.float64(0.5862222222222222)}\n"
     ]
    },
    {
     "name": "stderr",
     "output_type": "stream",
     "text": [
      "100%|██████████| 23/23 [00:05<00:00,  4.16it/s]\n"
     ]
    },
    {
     "name": "stdout",
     "output_type": "stream",
     "text": [
      "Epoch: 06, Train loss: 0.3506613762641327, Val metrics: {'average_precision': np.float64(0.8403520302217166), 'accuracy': 0.7791519434628975, 'f1': np.float64(0.8758689175769613), 'roc_auc': np.float64(0.599655328798186)}\n"
     ]
    },
    {
     "name": "stderr",
     "output_type": "stream",
     "text": [
      "100%|██████████| 23/23 [00:05<00:00,  4.34it/s]\n"
     ]
    },
    {
     "name": "stdout",
     "output_type": "stream",
     "text": [
      "Epoch: 07, Train loss: 0.3500293300943907, Val metrics: {'average_precision': np.float64(0.837996607380711), 'accuracy': 0.7791519434628975, 'f1': np.float64(0.8758689175769613), 'roc_auc': np.float64(0.5923990929705216)}\n"
     ]
    },
    {
     "name": "stderr",
     "output_type": "stream",
     "text": [
      "100%|██████████| 23/23 [00:05<00:00,  4.35it/s]\n"
     ]
    },
    {
     "name": "stdout",
     "output_type": "stream",
     "text": [
      "Epoch: 08, Train loss: 0.34991232629161223, Val metrics: {'average_precision': np.float64(0.842326427051736), 'accuracy': 0.7791519434628975, 'f1': np.float64(0.8758689175769613), 'roc_auc': np.float64(0.600689342403628)}\n"
     ]
    },
    {
     "name": "stderr",
     "output_type": "stream",
     "text": [
      "100%|██████████| 23/23 [00:05<00:00,  4.33it/s]\n"
     ]
    },
    {
     "name": "stdout",
     "output_type": "stream",
     "text": [
      "Epoch: 09, Train loss: 0.3485065476993206, Val metrics: {'average_precision': np.float64(0.8382857048078701), 'accuracy': 0.7791519434628975, 'f1': np.float64(0.8758689175769613), 'roc_auc': np.float64(0.5864852607709751)}\n"
     ]
    },
    {
     "name": "stderr",
     "output_type": "stream",
     "text": [
      "100%|██████████| 23/23 [00:05<00:00,  4.29it/s]\n"
     ]
    },
    {
     "name": "stdout",
     "output_type": "stream",
     "text": [
      "Epoch: 10, Train loss: 0.3478750622290251, Val metrics: {'average_precision': np.float64(0.8369280709552938), 'accuracy': 0.7791519434628975, 'f1': np.float64(0.8758689175769613), 'roc_auc': np.float64(0.5837278911564625)}\n",
      "Best val metrics: {'average_precision': np.float64(0.8405687111535609), 'accuracy': 0.7791519434628975, 'f1': np.float64(0.8758689175769613), 'roc_auc': np.float64(0.6022222222222222)}\n",
      "Best test metrics: {'average_precision': np.float64(0.8070335849142756), 'accuracy': 0.7051282051282052, 'f1': np.float64(0.8270676691729323), 'roc_auc': np.float64(0.6736934563021519)}\n",
      "\n",
      "Number of Layers = 9\n"
     ]
    },
    {
     "name": "stderr",
     "output_type": "stream",
     "text": [
      "100%|██████████| 23/23 [00:05<00:00,  3.99it/s]\n"
     ]
    },
    {
     "name": "stdout",
     "output_type": "stream",
     "text": [
      "Epoch: 01, Train loss: 0.3782063479668398, Val metrics: {'average_precision': np.float64(0.8350800430443854), 'accuracy': 0.7791519434628975, 'f1': np.float64(0.8758689175769613), 'roc_auc': np.float64(0.5976417233560091)}\n"
     ]
    },
    {
     "name": "stderr",
     "output_type": "stream",
     "text": [
      "100%|██████████| 23/23 [00:05<00:00,  4.02it/s]\n"
     ]
    },
    {
     "name": "stdout",
     "output_type": "stream",
     "text": [
      "Epoch: 02, Train loss: 0.3538362519051147, Val metrics: {'average_precision': np.float64(0.8362374382287049), 'accuracy': 0.7791519434628975, 'f1': np.float64(0.8758689175769613), 'roc_auc': np.float64(0.5982222222222222)}\n"
     ]
    },
    {
     "name": "stderr",
     "output_type": "stream",
     "text": [
      "100%|██████████| 23/23 [00:05<00:00,  3.88it/s]\n"
     ]
    },
    {
     "name": "stdout",
     "output_type": "stream",
     "text": [
      "Epoch: 03, Train loss: 0.3523515018413073, Val metrics: {'average_precision': np.float64(0.8337363491734984), 'accuracy': 0.7791519434628975, 'f1': np.float64(0.8758689175769613), 'roc_auc': np.float64(0.5837732426303854)}\n"
     ]
    },
    {
     "name": "stderr",
     "output_type": "stream",
     "text": [
      "100%|██████████| 23/23 [00:05<00:00,  3.99it/s]\n"
     ]
    },
    {
     "name": "stdout",
     "output_type": "stream",
     "text": [
      "Epoch: 04, Train loss: 0.35208179330483147, Val metrics: {'average_precision': np.float64(0.8359506508797638), 'accuracy': 0.7791519434628975, 'f1': np.float64(0.8758689175769613), 'roc_auc': np.float64(0.5981133786848073)}\n"
     ]
    },
    {
     "name": "stderr",
     "output_type": "stream",
     "text": [
      "100%|██████████| 23/23 [00:05<00:00,  3.91it/s]\n"
     ]
    },
    {
     "name": "stdout",
     "output_type": "stream",
     "text": [
      "Epoch: 05, Train loss: 0.35097244485328666, Val metrics: {'average_precision': np.float64(0.8341246307276649), 'accuracy': 0.7791519434628975, 'f1': np.float64(0.8758689175769613), 'roc_auc': np.float64(0.584453514739229)}\n"
     ]
    },
    {
     "name": "stderr",
     "output_type": "stream",
     "text": [
      "100%|██████████| 23/23 [00:05<00:00,  3.97it/s]\n"
     ]
    },
    {
     "name": "stdout",
     "output_type": "stream",
     "text": [
      "Epoch: 06, Train loss: 0.3515600695763407, Val metrics: {'average_precision': np.float64(0.8321746664851326), 'accuracy': 0.7791519434628975, 'f1': np.float64(0.8758689175769613), 'roc_auc': np.float64(0.5867301587301587)}\n"
     ]
    },
    {
     "name": "stderr",
     "output_type": "stream",
     "text": [
      "100%|██████████| 23/23 [00:05<00:00,  4.04it/s]\n"
     ]
    },
    {
     "name": "stdout",
     "output_type": "stream",
     "text": [
      "Epoch: 07, Train loss: 0.35071289464642, Val metrics: {'average_precision': np.float64(0.8366074190331876), 'accuracy': 0.7791519434628975, 'f1': np.float64(0.8758689175769613), 'roc_auc': np.float64(0.6055328798185942)}\n"
     ]
    },
    {
     "name": "stderr",
     "output_type": "stream",
     "text": [
      "100%|██████████| 23/23 [00:05<00:00,  4.08it/s]\n"
     ]
    },
    {
     "name": "stdout",
     "output_type": "stream",
     "text": [
      "Epoch: 08, Train loss: 0.34998932695756524, Val metrics: {'average_precision': np.float64(0.8378376640769807), 'accuracy': 0.7791519434628975, 'f1': np.float64(0.8758689175769613), 'roc_auc': np.float64(0.5883809523809523)}\n"
     ]
    },
    {
     "name": "stderr",
     "output_type": "stream",
     "text": [
      "100%|██████████| 23/23 [00:05<00:00,  4.09it/s]\n"
     ]
    },
    {
     "name": "stdout",
     "output_type": "stream",
     "text": [
      "Epoch: 09, Train loss: 0.3507116228882682, Val metrics: {'average_precision': np.float64(0.839617995709872), 'accuracy': 0.7402826855123675, 'f1': np.float64(0.8489208633093526), 'roc_auc': np.float64(0.5968253968253968)}\n"
     ]
    },
    {
     "name": "stderr",
     "output_type": "stream",
     "text": [
      "100%|██████████| 23/23 [00:05<00:00,  4.11it/s]\n"
     ]
    },
    {
     "name": "stdout",
     "output_type": "stream",
     "text": [
      "Epoch: 10, Train loss: 0.3491452565985885, Val metrics: {'average_precision': np.float64(0.8394256163719832), 'accuracy': 0.6819787985865724, 'f1': np.float64(0.8026315789473685), 'roc_auc': np.float64(0.6022222222222222)}\n",
      "Best val metrics: {'average_precision': np.float64(0.8363004859074424), 'accuracy': 0.7791519434628975, 'f1': np.float64(0.8758689175769613), 'roc_auc': np.float64(0.6055600907029479)}\n",
      "Best test metrics: {'average_precision': np.float64(0.7960046132974071), 'accuracy': 0.7051282051282052, 'f1': np.float64(0.8270676691729323), 'roc_auc': np.float64(0.6664324403454837)}\n",
      "\n",
      "Number of Layers = 10\n"
     ]
    },
    {
     "name": "stderr",
     "output_type": "stream",
     "text": [
      "100%|██████████| 23/23 [00:06<00:00,  3.82it/s]\n"
     ]
    },
    {
     "name": "stdout",
     "output_type": "stream",
     "text": [
      "Epoch: 01, Train loss: 0.370314563849087, Val metrics: {'average_precision': np.float64(0.8374315789499216), 'accuracy': 0.7791519434628975, 'f1': np.float64(0.8758689175769613), 'roc_auc': np.float64(0.5997913832199546)}\n"
     ]
    },
    {
     "name": "stderr",
     "output_type": "stream",
     "text": [
      "100%|██████████| 23/23 [00:06<00:00,  3.71it/s]\n"
     ]
    },
    {
     "name": "stdout",
     "output_type": "stream",
     "text": [
      "Epoch: 02, Train loss: 0.35394515026233103, Val metrics: {'average_precision': np.float64(0.8388504202227897), 'accuracy': 0.7791519434628975, 'f1': np.float64(0.8758689175769613), 'roc_auc': np.float64(0.5967074829931973)}\n"
     ]
    },
    {
     "name": "stderr",
     "output_type": "stream",
     "text": [
      "100%|██████████| 23/23 [00:06<00:00,  3.82it/s]\n"
     ]
    },
    {
     "name": "stdout",
     "output_type": "stream",
     "text": [
      "Epoch: 03, Train loss: 0.35595681506759413, Val metrics: {'average_precision': np.float64(0.83952849014773), 'accuracy': 0.7791519434628975, 'f1': np.float64(0.8758689175769613), 'roc_auc': np.float64(0.5984036281179137)}\n"
     ]
    },
    {
     "name": "stderr",
     "output_type": "stream",
     "text": [
      "100%|██████████| 23/23 [00:06<00:00,  3.80it/s]\n"
     ]
    },
    {
     "name": "stdout",
     "output_type": "stream",
     "text": [
      "Epoch: 04, Train loss: 0.3513331289395224, Val metrics: {'average_precision': np.float64(0.833142759488231), 'accuracy': 0.7791519434628975, 'f1': np.float64(0.8758689175769613), 'roc_auc': np.float64(0.5961904761904762)}\n"
     ]
    },
    {
     "name": "stderr",
     "output_type": "stream",
     "text": [
      "100%|██████████| 23/23 [00:06<00:00,  3.77it/s]\n"
     ]
    },
    {
     "name": "stdout",
     "output_type": "stream",
     "text": [
      "Epoch: 05, Train loss: 0.35044644861935464, Val metrics: {'average_precision': np.float64(0.83592435737553), 'accuracy': 0.7791519434628975, 'f1': np.float64(0.8758689175769613), 'roc_auc': np.float64(0.5928798185941043)}\n"
     ]
    },
    {
     "name": "stderr",
     "output_type": "stream",
     "text": [
      "100%|██████████| 23/23 [00:06<00:00,  3.81it/s]\n"
     ]
    },
    {
     "name": "stdout",
     "output_type": "stream",
     "text": [
      "Epoch: 06, Train loss: 0.35055124317510095, Val metrics: {'average_precision': np.float64(0.8393622547535651), 'accuracy': 0.7791519434628975, 'f1': np.float64(0.8758689175769613), 'roc_auc': np.float64(0.60162358276644)}\n"
     ]
    },
    {
     "name": "stderr",
     "output_type": "stream",
     "text": [
      "100%|██████████| 23/23 [00:06<00:00,  3.82it/s]\n"
     ]
    },
    {
     "name": "stdout",
     "output_type": "stream",
     "text": [
      "Epoch: 07, Train loss: 0.350125367800137, Val metrics: {'average_precision': np.float64(0.8373532443161827), 'accuracy': 0.6484098939929329, 'f1': np.float64(0.7611044417767107), 'roc_auc': np.float64(0.6016054421768708)}\n"
     ]
    },
    {
     "name": "stderr",
     "output_type": "stream",
     "text": [
      "100%|██████████| 23/23 [00:06<00:00,  3.82it/s]\n"
     ]
    },
    {
     "name": "stdout",
     "output_type": "stream",
     "text": [
      "Epoch: 08, Train loss: 0.35118712922952394, Val metrics: {'average_precision': np.float64(0.8333991695838181), 'accuracy': 0.7791519434628975, 'f1': np.float64(0.8758689175769613), 'roc_auc': np.float64(0.5866666666666667)}\n"
     ]
    },
    {
     "name": "stderr",
     "output_type": "stream",
     "text": [
      "100%|██████████| 23/23 [00:06<00:00,  3.83it/s]\n"
     ]
    },
    {
     "name": "stdout",
     "output_type": "stream",
     "text": [
      "Epoch: 09, Train loss: 0.34863358932178284, Val metrics: {'average_precision': np.float64(0.8398769991222675), 'accuracy': 0.7791519434628975, 'f1': np.float64(0.8758689175769613), 'roc_auc': np.float64(0.598984126984127)}\n"
     ]
    },
    {
     "name": "stderr",
     "output_type": "stream",
     "text": [
      "100%|██████████| 23/23 [00:06<00:00,  3.83it/s]\n"
     ]
    },
    {
     "name": "stdout",
     "output_type": "stream",
     "text": [
      "Epoch: 10, Train loss: 0.34961616057955136, Val metrics: {'average_precision': np.float64(0.8357978958475638), 'accuracy': 0.7791519434628975, 'f1': np.float64(0.8758689175769613), 'roc_auc': np.float64(0.5886530612244898)}\n",
      "Best val metrics: {'average_precision': np.float64(0.8394096811851752), 'accuracy': 0.7791519434628975, 'f1': np.float64(0.8758689175769613), 'roc_auc': np.float64(0.6017414965986395)}\n",
      "Best test metrics: {'average_precision': np.float64(0.8071003403453245), 'accuracy': 0.7051282051282052, 'f1': np.float64(0.8270676691729323), 'roc_auc': np.float64(0.6779241692285172)}\n"
     ]
    },
    {
     "data": {
      "image/png": "[encoded data removed]",
      "text/plain": [
       "<Figure size 1200x600 with 1 Axes>"
      ]
     },
     "metadata": {},
     "output_type": "display_data"
    }
   ],
   "source": [
    "from src.models.viz import plot_roc_auc_vs_layers\n",
    "\n",
    "# Iterate for each number of layers\n",
    "layers_list = []\n",
    "roc_auc_scores = []\n",
    "for layers in range(1, 11):\n",
    "    print(f\"\\nNumber of Layers = {layers}\")\n",
    "\n",
    "    # Define a new model, don't load in old weights.\n",
    "    num_model = RDLModel(\n",
    "        data=data,\n",
    "        col_stats_dict=col_stats_dict,\n",
    "        num_layers=layers,\n",
    "        channels=128,\n",
    "        out_channels=1,\n",
    "        aggr=\"sum\",\n",
    "        norm=\"batch_norm\",\n",
    "    ).to(device)\n",
    "    num_optimizer = torch.optim.Adam(num_model.parameters(), lr=0.005)\n",
    "    num_state_dict = training_run(\n",
    "        num_model,\n",
    "        device,\n",
    "        num_optimizer,\n",
    "        task,\n",
    "        loader_dict,\n",
    "        val_table,\n",
    "        loss_fn,\n",
    "        entity_table,\n",
    "        epochs=10,\n",
    "    )\n",
    "    num_model.load_state_dict(num_state_dict)\n",
    "\n",
    "    # Evaluate on val and test set\n",
    "    val_metrics = eval_model(num_model, loader_dict, \"val\", task, device, val_table)\n",
    "    test_metrics = eval_model(num_model, loader_dict, \"test\", task, device, None)\n",
    "\n",
    "    # Store the number of layers and corresponding test ROC AUC\n",
    "    layers_list.append(layers)\n",
    "    roc_auc_scores.append(test_metrics[\"roc_auc\"])\n",
    "plot_roc_auc_vs_layers(layers_list, roc_auc_scores)"
   ]
  },
  {
   "cell_type": "markdown",
   "metadata": {},
   "source": [
    "### Challenge\n",
    "Does this trend necessarily hold on larger and more diverse datasets? Depending on your compute availability, try out using different datasets, like `rel-amazon`, as well as across different types of tasks!"
   ]
  },
  {
   "cell_type": "markdown",
   "metadata": {},
   "source": [
    "### What about different GNN layers?\n",
    "Finally, let's explore the use of different GNN layers. In particular, let's explore the use of Graph Attention Networks, also known as GAT.\n",
    "\n",
    "In GAT, for a singular node, different importance is assigned to messages coming from different nodes. In particular, the formulation takes inspiration from cognitive attention, focusing only on important parts of the input data.\n",
    "\n",
    "To start, we first define our attention mechanism $a$. Then, for given nodes $u$ and $v$, at layer $l$, we we define the attention coefficients using a weight matrix $W^{l}$ and node embeddings $h_u$ and $h_v$ as follows:\n",
    "\n",
    "$e_{v_u} := a(W^{l} h_{u}^{(l - 1)}, W^{l} h_{v}^{(l - 1)})$.\n",
    "\n",
    "Then, we normalize all of the attention coefficients $e_{v, u}$ using softmax to obtain our attention weights $\\alpha_{v, u}$:\n",
    "\n",
    "$\\alpha_{v, u} := \\frac{\\exp e_{v, u}}{\\sum_{k \\in N(v)} \\exp e_{v, k}}$.\n",
    "\n",
    "Finally, we use the attention weights in the final update for our embedding:\n",
    "\n",
    "$h_{v}^{(l)} := \\sigma( \\sum_{u \\in N(v)} \\alpha_{v, u} W^{l} h_{u}^{(l - 1)})$.\n",
    "\n",
    "Overall, the benefits of attention are that we are able to implicitly specify different importance values of neighbors. From a computational standpoint, attention is also storage and computationally efficient.\n"
   ]
  },
  {
   "cell_type": "markdown",
   "metadata": {},
   "source": [
    "Let's now use GAT in our RDL pipeline. Note that this comes out of the box already for us with PyG, making our lives a lot easier."
   ]
  },
  {
   "cell_type": "code",
   "execution_count": 13,
   "metadata": {},
   "outputs": [
    {
     "name": "stderr",
     "output_type": "stream",
     "text": [
      "100%|██████████| 23/23 [00:03<00:00,  6.98it/s]\n"
     ]
    },
    {
     "name": "stdout",
     "output_type": "stream",
     "text": [
      "Epoch: 01, Train loss: 0.37306791847181114, Val metrics: {'average_precision': np.float64(0.843839898738286), 'accuracy': 0.7791519434628975, 'f1': np.float64(0.8758689175769613), 'roc_auc': np.float64(0.6048253968253968)}\n"
     ]
    },
    {
     "name": "stderr",
     "output_type": "stream",
     "text": [
      "100%|██████████| 23/23 [00:03<00:00,  7.50it/s]\n"
     ]
    },
    {
     "name": "stdout",
     "output_type": "stream",
     "text": [
      "Epoch: 02, Train loss: 0.3425046229679028, Val metrics: {'average_precision': np.float64(0.8829381759819872), 'accuracy': 0.7791519434628975, 'f1': np.float64(0.8758689175769613), 'roc_auc': np.float64(0.6472743764172336)}\n"
     ]
    },
    {
     "name": "stderr",
     "output_type": "stream",
     "text": [
      "100%|██████████| 23/23 [00:03<00:00,  7.51it/s]\n"
     ]
    },
    {
     "name": "stdout",
     "output_type": "stream",
     "text": [
      "Epoch: 03, Train loss: 0.3160285462543137, Val metrics: {'average_precision': np.float64(0.8960638009821149), 'accuracy': 0.765017667844523, 'f1': np.float64(0.8621761658031089), 'roc_auc': np.float64(0.70378231292517)}\n"
     ]
    },
    {
     "name": "stderr",
     "output_type": "stream",
     "text": [
      "100%|██████████| 23/23 [00:03<00:00,  7.49it/s]\n"
     ]
    },
    {
     "name": "stdout",
     "output_type": "stream",
     "text": [
      "Epoch: 04, Train loss: 0.3047607408030279, Val metrics: {'average_precision': np.float64(0.8935561960503128), 'accuracy': 0.773851590106007, 'f1': np.float64(0.8617710583153347), 'roc_auc': np.float64(0.71102947845805)}\n"
     ]
    },
    {
     "name": "stderr",
     "output_type": "stream",
     "text": [
      "100%|██████████| 23/23 [00:03<00:00,  7.49it/s]\n"
     ]
    },
    {
     "name": "stdout",
     "output_type": "stream",
     "text": [
      "Epoch: 05, Train loss: 0.30123056884391125, Val metrics: {'average_precision': np.float64(0.8990945584855692), 'accuracy': 0.7809187279151943, 'f1': np.float64(0.8649237472766884), 'roc_auc': np.float64(0.7177868480725623)}\n"
     ]
    },
    {
     "name": "stderr",
     "output_type": "stream",
     "text": [
      "100%|██████████| 23/23 [00:03<00:00,  7.44it/s]\n"
     ]
    },
    {
     "name": "stdout",
     "output_type": "stream",
     "text": [
      "Epoch: 06, Train loss: 0.29389917237524, Val metrics: {'average_precision': np.float64(0.8959272558507065), 'accuracy': 0.7703180212014135, 'f1': np.float64(0.86652977412731), 'roc_auc': np.float64(0.714766439909297)}\n"
     ]
    },
    {
     "name": "stderr",
     "output_type": "stream",
     "text": [
      "100%|██████████| 23/23 [00:03<00:00,  7.57it/s]\n"
     ]
    },
    {
     "name": "stdout",
     "output_type": "stream",
     "text": [
      "Epoch: 07, Train loss: 0.29348339209756324, Val metrics: {'average_precision': np.float64(0.8932150011854837), 'accuracy': 0.7579505300353356, 'f1': np.float64(0.8476084538375973), 'roc_auc': np.float64(0.7078004535147392)}\n"
     ]
    },
    {
     "name": "stderr",
     "output_type": "stream",
     "text": [
      "100%|██████████| 23/23 [00:03<00:00,  7.57it/s]\n"
     ]
    },
    {
     "name": "stdout",
     "output_type": "stream",
     "text": [
      "Epoch: 08, Train loss: 0.2895480457358059, Val metrics: {'average_precision': np.float64(0.8892303360608736), 'accuracy': 0.7632508833922261, 'f1': np.float64(0.8612836438923396), 'roc_auc': np.float64(0.6947936507936507)}\n"
     ]
    },
    {
     "name": "stderr",
     "output_type": "stream",
     "text": [
      "100%|██████████| 23/23 [00:03<00:00,  7.58it/s]\n"
     ]
    },
    {
     "name": "stdout",
     "output_type": "stream",
     "text": [
      "Epoch: 09, Train loss: 0.2831170370311117, Val metrics: {'average_precision': np.float64(0.8970785760783496), 'accuracy': 0.7703180212014135, 'f1': np.float64(0.8571428571428571), 'roc_auc': np.float64(0.7119455782312925)}\n"
     ]
    },
    {
     "name": "stderr",
     "output_type": "stream",
     "text": [
      "100%|██████████| 23/23 [00:03<00:00,  7.55it/s]\n"
     ]
    },
    {
     "name": "stdout",
     "output_type": "stream",
     "text": [
      "Epoch: 10, Train loss: 0.2799443618010267, Val metrics: {'average_precision': np.float64(0.8924470801901224), 'accuracy': 0.7614840989399293, 'f1': np.float64(0.8549946294307197), 'roc_auc': np.float64(0.699655328798186)}\n",
      "Best val metrics: {'average_precision': np.float64(0.8990987218247786), 'accuracy': 0.7791519434628975, 'f1': np.float64(0.8636859323882224), 'roc_auc': np.float64(0.7174784580498866)}\n",
      "Best test metrics: {'average_precision': np.float64(0.8350129803199209), 'accuracy': 0.7136752136752137, 'f1': np.float64(0.8061716489874639), 'roc_auc': np.float64(0.7089054799199728)}\n"
     ]
    },
    {
     "data": {
      "text/plain": [
       "{'average_precision': np.float64(0.8350129803199209),\n",
       " 'accuracy': 0.7136752136752137,\n",
       " 'f1': np.float64(0.8061716489874639),\n",
       " 'roc_auc': np.float64(0.7089054799199728)}"
      ]
     },
     "execution_count": 13,
     "metadata": {},
     "output_type": "execute_result"
    }
   ],
   "source": [
    "# Define a new model, don't load in old weights.\n",
    "from src.models.rdl.gat import RDLGATModel\n",
    "\n",
    "gcn_model = RDLGATModel(\n",
    "    data=data,\n",
    "    col_stats_dict=col_stats_dict,\n",
    "    num_layers=2,\n",
    "    channels=128,\n",
    "    out_channels=1,\n",
    "    aggr=\"sum\",\n",
    "    norm=\"batch_norm\",\n",
    ").to(device)\n",
    "gcn_optimizer = torch.optim.Adam(gcn_model.parameters(), lr=0.005)\n",
    "gcn_state_dict = training_run(\n",
    "    gcn_model,\n",
    "    device,\n",
    "    gcn_optimizer,\n",
    "    task,\n",
    "    loader_dict,\n",
    "    val_table,\n",
    "    loss_fn,\n",
    "    entity_table,\n",
    "    epochs=10,\n",
    ")\n",
    "gcn_model.load_state_dict(gcn_state_dict)\n",
    "\n",
    "# Evaluate on val and test set\n",
    "eval_model(gcn_model, loader_dict, \"val\", task, device, val_table)\n",
    "eval_model(gcn_model, loader_dict, \"test\", task, device, None)"
   ]
  },
  {
   "cell_type": "markdown",
   "metadata": {},
   "source": [
    "As we can see, we see no change from using GraphSAGE. This could perhaps be a consequence of the size of the dataset, consistent with other RDL pipelines -- even those with GraphSAGE but with different numbers of layers, for example -- but more exploration can be done.\n",
    "\n",
    "### Challenge\n",
    "Try performing all the above experiments with the GAT architecture instead? Does zero-shot/finetuning behavior differ? What about adding or subtracting layers? Definitely try it out!"
   ]
  },
  {
   "cell_type": "markdown",
   "metadata": {},
   "source": [
    "## Conclusion\n",
    "\n",
    "We hope you enjoyed going through this tutorial! Be sure to try out the challenges!"
   ]
  }
 ],
 "metadata": {
  "accelerator": "GPU",
  "colab": {
   "authorship_tag": "ABX9TyPZLbeQ8nLws8bu/8tbPPMT",
   "gpuType": "T4",
   "provenance": []
  },
  "kernelspec": {
   "display_name": "relben",
   "language": "python",
   "name": "python3"
  },
  "language_info": {
   "codemirror_mode": {
    "name": "ipython",
    "version": 3
   },
   "file_extension": ".py",
   "mimetype": "text/x-python",
   "name": "python",
   "nbconvert_exporter": "python",
   "pygments_lexer": "ipython3",
   "version": "3.10.15"
  }
 },
 "nbformat": 4,
 "nbformat_minor": 0
}
