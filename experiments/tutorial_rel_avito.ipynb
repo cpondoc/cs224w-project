{
 "cells": [
  {
   "cell_type": "markdown",
   "metadata": {
    "id": "T8rvGO8rI-ww"
   },
   "source": [
    "# Exploring the Impacts of Architecture and Scale on GNN Performance on Relational Data\n",
    "By: Joseph Guman, Atindra Jha, and Christopher Pondoc"
   ]
  },
  {
   "cell_type": "markdown",
   "metadata": {},
   "source": [
    "## Introduction\n",
    "Welcome back to Relbench! In this tutorial, we'll dive a bit deeper into the benchmark + Relational Deep Learning and explore several choices around architecture, scale, and generalizability. In particular, we'll look to answer the following questions:\n",
    "\n",
    "1. Can we train our Relational Deep Learning on one entity classification task and expect strong zero-shot performance on another entity classification task? What happens if we finetune the model?\n",
    "2. How does our choice of using embedding models to generate expressive node features impact our performance on node classification tasks?\n",
    "3. How can we alter and/or extend the architecture of our existing Relational Deep Learning model to improve performance on different tasks?\n",
    "\n",
    "This notebook already assumes you've looked through the tutorials on [loading in data](https://github.com/snap-stanford/relbench/blob/main/tutorials/load_data.ipynb) and [training a model](https://github.com/snap-stanford/relbench/blob/main/tutorials/train_model.ipynb), as our walkthrough uses those guides as a launchpad to explore deeper questions. If you haven't had a chance to look through those notebooks, we suggest starting there first.\n",
    "\n",
    "With all that being said, let's get started!"
   ]
  },
  {
   "cell_type": "markdown",
   "metadata": {},
   "source": [
    "## Question 0: Why Relational Deep Learning\n",
    "Before getting started, let's motivate the use of Relational Deep Learning by defining a non-GNN baseline to compare against. One of the main issues with older methods -- such as tabular methods or even just using standard statistical ML algorithms -- is that they either only work on one table or require lots of heavy feature engineering to reap the benefits of GNNs. On the other hand, Relational Deep Learning allows us to learn directly on relational data without feature engineering.\n",
    "\n",
    "For our baseline, let's use a classical statiscal model. In particular, let's use [LightGBM](https://lightgbm.readthedocs.io/en/stable/), which is a gradient boosting framework that uses tree-based learning algorithms."
   ]
  },
  {
   "cell_type": "code",
   "execution_count": 6,
   "metadata": {},
   "outputs": [
    {
     "name": "stderr",
     "output_type": "stream",
     "text": [
      "Downloading file 'rel-avito/db.zip' from 'https://relbench.stanford.edu/download/rel-avito/db.zip' to '/home/atindrajha/.cache/relbench'.\n",
      "100%|████████████████████████████████████████| 364M/364M [00:00<00:00, 366GB/s]\n",
      "Unzipping contents of '/home/atindrajha/.cache/relbench/rel-avito/db.zip' to '/home/atindrajha/.cache/relbench/rel-avito/.'\n",
      "Downloading file 'rel-avito/tasks/user-visits.zip' from 'https://relbench.stanford.edu/download/rel-avito/tasks/user-visits.zip' to '/home/atindrajha/.cache/relbench'.\n",
      "100%|████████████████████████████████████████| 696k/696k [00:00<00:00, 953MB/s]\n",
      "Unzipping contents of '/home/atindrajha/.cache/relbench/rel-avito/tasks/user-visits.zip' to '/home/atindrajha/.cache/relbench/rel-avito/tasks/.'\n"
     ]
    },
    {
     "name": "stdout",
     "output_type": "stream",
     "text": [
      "Loading Database object from /home/atindrajha/.cache/relbench/rel-avito/db...\n",
      "Done in 4.46 seconds.\n"
     ]
    },
    {
     "name": "stderr",
     "output_type": "stream",
     "text": [
      "[I 2024-12-10 05:33:58,929] A new study created in memory with name: no-name-46e67361-212a-440b-81ac-11b70bfb7337\n",
      "/home/atindrajha/miniconda3/envs/relben/lib/python3.10/site-packages/lightgbm/engine.py:186: LGBMDeprecationWarning: Argument 'categorical_feature' to train() is deprecated and will be removed in a future release. Set 'categorical_feature' when calling lightgbm.Dataset() instead. See https://github.com/microsoft/LightGBM/issues/6435.\n",
      "  _emit_dataset_kwarg_warning(\"train\", \"categorical_feature\")\n",
      "[I 2024-12-10 05:33:59,809] Trial 0 finished with value: 0.5316566155517655 and parameters: {'max_depth': 10, 'learning_rate': 0.07591286446746079, 'num_leaves': 177, 'subsample': 0.20735271420006968, 'colsample_bytree': 0.4603272246879903, 'lambda_l1': 5.062944847723688, 'lambda_l2': 3.0275437288710756e-05, 'min_data_in_leaf': 54}. Best is trial 0 with value: 0.5316566155517655.\n",
      "/home/atindrajha/miniconda3/envs/relben/lib/python3.10/site-packages/lightgbm/engine.py:186: LGBMDeprecationWarning: Argument 'categorical_feature' to train() is deprecated and will be removed in a future release. Set 'categorical_feature' when calling lightgbm.Dataset() instead. See https://github.com/microsoft/LightGBM/issues/6435.\n",
      "  _emit_dataset_kwarg_warning(\"train\", \"categorical_feature\")\n",
      "[LightGBM] [Fatal] Reducing `min_data_in_leaf` with `feature_pre_filter=true` may cause unexpected behaviour for features that were pre-filtered by the larger `min_data_in_leaf`.\n",
      "You need to set `feature_pre_filter=false` to dynamically change the `min_data_in_leaf`.\n",
      "[LightGBM] [Fatal] Reducing `min_data_in_leaf` with `feature_pre_filter=true` may cause unexpected behaviour for features that were pre-filtered by the larger `min_data_in_leaf`.\n",
      "You need to set `feature_pre_filter=false` to dynamically change the `min_data_in_leaf`.\n",
      "[I 2024-12-10 05:34:00,523] Trial 1 finished with value: 0.533123866654174 and parameters: {'max_depth': 7, 'learning_rate': 0.004253538450252621, 'num_leaves': 562, 'subsample': 0.25507261397533243, 'colsample_bytree': 0.44985419900861967, 'lambda_l1': 1.7967082995114027e-08, 'lambda_l2': 0.12071808196487774, 'min_data_in_leaf': 51}. Best is trial 1 with value: 0.533123866654174.\n",
      "/home/atindrajha/miniconda3/envs/relben/lib/python3.10/site-packages/lightgbm/engine.py:186: LGBMDeprecationWarning: Argument 'categorical_feature' to train() is deprecated and will be removed in a future release. Set 'categorical_feature' when calling lightgbm.Dataset() instead. See https://github.com/microsoft/LightGBM/issues/6435.\n",
      "  _emit_dataset_kwarg_warning(\"train\", \"categorical_feature\")\n",
      "[LightGBM] [Fatal] Reducing `min_data_in_leaf` with `feature_pre_filter=true` may cause unexpected behaviour for features that were pre-filtered by the larger `min_data_in_leaf`.\n",
      "You need to set `feature_pre_filter=false` to dynamically change the `min_data_in_leaf`.\n",
      "[LightGBM] [Fatal] Reducing `min_data_in_leaf` with `feature_pre_filter=true` may cause unexpected behaviour for features that were pre-filtered by the larger `min_data_in_leaf`.\n",
      "You need to set `feature_pre_filter=false` to dynamically change the `min_data_in_leaf`.\n",
      "[I 2024-12-10 05:34:02,966] Trial 2 finished with value: 0.5360165999917457 and parameters: {'max_depth': 11, 'learning_rate': 0.013166914550704668, 'num_leaves': 842, 'subsample': 0.1908638912541744, 'colsample_bytree': 0.42358412852116895, 'lambda_l1': 6.59162438783475e-05, 'lambda_l2': 0.00012391381126461955, 'min_data_in_leaf': 22}. Best is trial 2 with value: 0.5360165999917457.\n",
      "/home/atindrajha/miniconda3/envs/relben/lib/python3.10/site-packages/lightgbm/engine.py:186: LGBMDeprecationWarning: Argument 'categorical_feature' to train() is deprecated and will be removed in a future release. Set 'categorical_feature' when calling lightgbm.Dataset() instead. See https://github.com/microsoft/LightGBM/issues/6435.\n",
      "  _emit_dataset_kwarg_warning(\"train\", \"categorical_feature\")\n",
      "[I 2024-12-10 05:34:03,685] Trial 3 finished with value: 0.5334917785265347 and parameters: {'max_depth': 11, 'learning_rate': 0.001209849549489514, 'num_leaves': 507, 'subsample': 0.6437759606343688, 'colsample_bytree': 0.43703242335639575, 'lambda_l1': 0.0028808104570718983, 'lambda_l2': 0.25628166620268633, 'min_data_in_leaf': 93}. Best is trial 2 with value: 0.5360165999917457.\n",
      "/home/atindrajha/miniconda3/envs/relben/lib/python3.10/site-packages/lightgbm/engine.py:186: LGBMDeprecationWarning: Argument 'categorical_feature' to train() is deprecated and will be removed in a future release. Set 'categorical_feature' when calling lightgbm.Dataset() instead. See https://github.com/microsoft/LightGBM/issues/6435.\n",
      "  _emit_dataset_kwarg_warning(\"train\", \"categorical_feature\")\n",
      "[I 2024-12-10 05:34:04,535] Trial 4 finished with value: 0.532684980887776 and parameters: {'max_depth': 7, 'learning_rate': 0.009351687898466481, 'num_leaves': 853, 'subsample': 0.3137582923333711, 'colsample_bytree': 0.512245074756842, 'lambda_l1': 2.020439014870239e-06, 'lambda_l2': 3.116279019473781, 'min_data_in_leaf': 74}. Best is trial 2 with value: 0.5360165999917457.\n",
      "/home/atindrajha/miniconda3/envs/relben/lib/python3.10/site-packages/lightgbm/engine.py:186: LGBMDeprecationWarning: Argument 'categorical_feature' to train() is deprecated and will be removed in a future release. Set 'categorical_feature' when calling lightgbm.Dataset() instead. See https://github.com/microsoft/LightGBM/issues/6435.\n",
      "  _emit_dataset_kwarg_warning(\"train\", \"categorical_feature\")\n",
      "[I 2024-12-10 05:34:08,740] Trial 5 finished with value: 0.5315365986522834 and parameters: {'max_depth': 4, 'learning_rate': 0.005457247011189416, 'num_leaves': 626, 'subsample': 0.7722253343068121, 'colsample_bytree': 0.975121816067176, 'lambda_l1': 9.858476094892234e-08, 'lambda_l2': 7.345693945896926, 'min_data_in_leaf': 74}. Best is trial 2 with value: 0.5360165999917457.\n",
      "/home/atindrajha/miniconda3/envs/relben/lib/python3.10/site-packages/lightgbm/engine.py:186: LGBMDeprecationWarning: Argument 'categorical_feature' to train() is deprecated and will be removed in a future release. Set 'categorical_feature' when calling lightgbm.Dataset() instead. See https://github.com/microsoft/LightGBM/issues/6435.\n",
      "  _emit_dataset_kwarg_warning(\"train\", \"categorical_feature\")\n",
      "[I 2024-12-10 05:34:09,232] Trial 6 finished with value: 0.5328035557212641 and parameters: {'max_depth': 8, 'learning_rate': 0.012195546066995726, 'num_leaves': 892, 'subsample': 0.1628083301950865, 'colsample_bytree': 0.5274513302663812, 'lambda_l1': 0.2780336206522513, 'lambda_l2': 1.425606330404366, 'min_data_in_leaf': 59}. Best is trial 2 with value: 0.5360165999917457.\n",
      "/home/atindrajha/miniconda3/envs/relben/lib/python3.10/site-packages/lightgbm/engine.py:186: LGBMDeprecationWarning: Argument 'categorical_feature' to train() is deprecated and will be removed in a future release. Set 'categorical_feature' when calling lightgbm.Dataset() instead. See https://github.com/microsoft/LightGBM/issues/6435.\n",
      "  _emit_dataset_kwarg_warning(\"train\", \"categorical_feature\")\n",
      "[I 2024-12-10 05:34:09,610] Trial 7 finished with value: 0.5325440667930257 and parameters: {'max_depth': 4, 'learning_rate': 0.0033648114406791565, 'num_leaves': 501, 'subsample': 0.3096789048574476, 'colsample_bytree': 0.515865458374891, 'lambda_l1': 0.1206523123688761, 'lambda_l2': 7.219741959112225e-09, 'min_data_in_leaf': 46}. Best is trial 2 with value: 0.5360165999917457.\n",
      "/home/atindrajha/miniconda3/envs/relben/lib/python3.10/site-packages/lightgbm/engine.py:186: LGBMDeprecationWarning: Argument 'categorical_feature' to train() is deprecated and will be removed in a future release. Set 'categorical_feature' when calling lightgbm.Dataset() instead. See https://github.com/microsoft/LightGBM/issues/6435.\n",
      "  _emit_dataset_kwarg_warning(\"train\", \"categorical_feature\")\n",
      "[I 2024-12-10 05:34:10,505] Trial 8 finished with value: 0.5382835341152871 and parameters: {'max_depth': 11, 'learning_rate': 0.07441637471583594, 'num_leaves': 525, 'subsample': 0.6945974000142897, 'colsample_bytree': 0.5788812695902681, 'lambda_l1': 0.0004283318099045479, 'lambda_l2': 6.283180448714364e-08, 'min_data_in_leaf': 54}. Best is trial 8 with value: 0.5382835341152871.\n",
      "/home/atindrajha/miniconda3/envs/relben/lib/python3.10/site-packages/lightgbm/engine.py:186: LGBMDeprecationWarning: Argument 'categorical_feature' to train() is deprecated and will be removed in a future release. Set 'categorical_feature' when calling lightgbm.Dataset() instead. See https://github.com/microsoft/LightGBM/issues/6435.\n",
      "  _emit_dataset_kwarg_warning(\"train\", \"categorical_feature\")\n",
      "[LightGBM] [Fatal] Reducing `min_data_in_leaf` with `feature_pre_filter=true` may cause unexpected behaviour for features that were pre-filtered by the larger `min_data_in_leaf`.\n",
      "You need to set `feature_pre_filter=false` to dynamically change the `min_data_in_leaf`.\n",
      "[LightGBM] [Fatal] Reducing `min_data_in_leaf` with `feature_pre_filter=true` may cause unexpected behaviour for features that were pre-filtered by the larger `min_data_in_leaf`.\n",
      "You need to set `feature_pre_filter=false` to dynamically change the `min_data_in_leaf`.\n",
      "[I 2024-12-10 05:34:10,952] Trial 9 finished with value: 0.5319959668604557 and parameters: {'max_depth': 5, 'learning_rate': 0.09754720678465285, 'num_leaves': 753, 'subsample': 0.7236769758427433, 'colsample_bytree': 0.9787915231177134, 'lambda_l1': 2.16862340597963e-05, 'lambda_l2': 7.632831810840723e-05, 'min_data_in_leaf': 5}. Best is trial 8 with value: 0.5382835341152871.\n",
      "/home/atindrajha/miniconda3/envs/relben/lib/python3.10/site-packages/lightgbm/engine.py:186: LGBMDeprecationWarning: Argument 'categorical_feature' to train() is deprecated and will be removed in a future release. Set 'categorical_feature' when calling lightgbm.Dataset() instead. See https://github.com/microsoft/LightGBM/issues/6435.\n",
      "  _emit_dataset_kwarg_warning(\"train\", \"categorical_feature\")\n"
     ]
    },
    {
     "name": "stdout",
     "output_type": "stream",
     "text": [
      "Train: {'average_precision': np.float64(0.9303941469423928), 'accuracy': 0.9071, 'f1': np.float64(0.9512872948455771), 'roc_auc': np.float64(0.594062785875664)}\n",
      "Val: {'average_precision': np.float64(0.9129439438321935), 'accuracy': 0.9034991160479002, 'f1': np.float64(0.949303425917813), 'roc_auc': np.float64(0.5382835341152871)}\n",
      "Test: {'average_precision': np.float64(0.8612920046166976), 'accuracy': 0.8505909380276232, 'f1': np.float64(0.9192641340113671), 'roc_auc': np.float64(0.5308820751280316)}\n"
     ]
    }
   ],
   "source": [
    "# Run LightGBM baseline\n",
    "from src.models.baseline import train_model\n",
    "\n",
    "train_metrics, val_metrics, test_metrics = train_model(\"rel-avito\", \"user-visits\")\n",
    "\n",
    "# Print corresponding statistics\n",
    "print(f\"Train: {train_metrics}\")\n",
    "print(f\"Val: {val_metrics}\")\n",
    "print(f\"Test: {test_metrics}\")"
   ]
  },
  {
   "cell_type": "markdown",
   "metadata": {},
   "source": [
    "Great! It looks like just by taking together all of raw tables and merging them together, we're able to achieve reasonable baseline performance. Let's see if we can do better without having to merge together all of the tables, though, with Relational Deep Learning!"
   ]
  },
  {
   "cell_type": "markdown",
   "metadata": {},
   "source": [
    "## Question 1: Can we generalize?\n",
    "Let's take a look at our first question, which involves looking at whether our Relational Deep Learning model can generalize to other tasks with/without finetuning."
   ]
  },
  {
   "cell_type": "markdown",
   "metadata": {},
   "source": [
    "Let's first start by looking setting up Relbench. As with the other tutorials, we're taking a look at the `rel-f1` dataset and focusing on node classification tasks. We'll begin by training a model on the `driver-dnf` task, which predicts whether a driver will not finish a race in the next month."
   ]
  },
  {
   "cell_type": "code",
   "execution_count": 7,
   "metadata": {},
   "outputs": [],
   "source": [
    "from src.tasks.tasks import initialize_task, db_to_graph\n",
    "import torch\n",
    "from torch.nn import BCEWithLogitsLoss\n",
    "from torch_geometric.seed import seed_everything\n",
    "\n",
    "# Set up dataset and task, define metrics and loss\n",
    "dataset, task, train_table, val_table, test_table = initialize_task(\n",
    "    \"rel-avito\", \"user-visits\"\n",
    ")\n",
    "loss_fn = BCEWithLogitsLoss()\n",
    "\n",
    "# Set up device\n",
    "seed_everything(42)\n",
    "device = torch.device(\"cuda\" if torch.cuda.is_available() else \"cpu\")"
   ]
  },
  {
   "cell_type": "markdown",
   "metadata": {},
   "source": [
    "We can then preprocess all of our Relbench data."
   ]
  },
  {
   "cell_type": "code",
   "execution_count": 11,
   "metadata": {},
   "outputs": [
    {
     "name": "stderr",
     "output_type": "stream",
     "text": [
      "Embedding raw data in mini-batch: 100%|██████████| 15525/15525 [00:43<00:00, 356.08it/s]\n",
      "Embedding raw data in mini-batch: 100%|██████████| 46567/46567 [02:55<00:00, 264.73it/s]\n"
     ]
    }
   ],
   "source": [
    "import os\n",
    "from relbench.modeling.graph import make_pkey_fkey_graph\n",
    "from torch_frame.config.text_embedder import TextEmbedderConfig\n",
    "from src.embeddings.glove import GloveTextEmbedding\n",
    "\n",
    "# Preprocess the database data and set up our text embedder\n",
    "db, col_to_stype_dict = db_to_graph(dataset)\n",
    "text_embedder_cfg = TextEmbedderConfig(\n",
    "    text_embedder=GloveTextEmbedding(device=device), batch_size=128\n",
    ")\n",
    "\n",
    "# Load in data used to train model\n",
    "root_dir = \"./data\"\n",
    "data, col_stats_dict = make_pkey_fkey_graph(\n",
    "    db,\n",
    "    col_to_stype_dict=col_to_stype_dict,\n",
    "    text_embedder_cfg=text_embedder_cfg,\n",
    "    cache_dir=os.path.join(root_dir, f\"rel-avito_materialized_cache\"),\n",
    ")"
   ]
  },
  {
   "cell_type": "markdown",
   "metadata": {},
   "source": [
    "Next, let's load in the data and have our model set up."
   ]
  },
  {
   "cell_type": "code",
   "execution_count": 12,
   "metadata": {},
   "outputs": [],
   "source": [
    "from src.models.loader import get_loader\n",
    "from src.models.rdl.graph_sage import RDLModel\n",
    "\n",
    "# Set up data loader and model\n",
    "loader_dict, entity_table = get_loader(train_table, val_table, test_table, task, data)\n",
    "model = RDLModel(\n",
    "    data=data,\n",
    "    col_stats_dict=col_stats_dict,\n",
    "    num_layers=2,\n",
    "    channels=128,\n",
    "    out_channels=1,\n",
    "    aggr=\"sum\",\n",
    "    norm=\"batch_norm\",\n",
    ").to(device)\n",
    "\n",
    "# if you try out different RelBench tasks you will need to change these\n",
    "optimizer = torch.optim.Adam(model.parameters(), lr=0.005)\n",
    "epochs = 10"
   ]
  },
  {
   "cell_type": "markdown",
   "metadata": {},
   "source": [
    "Finalize, let's initialize our training run, and evaluate our model!"
   ]
  },
  {
   "cell_type": "code",
   "execution_count": 13,
   "metadata": {},
   "outputs": [
    {
     "name": "stderr",
     "output_type": "stream",
     "text": [
      "100%|██████████| 98/98 [00:11<00:00,  8.58it/s]\n"
     ]
    },
    {
     "name": "stdout",
     "output_type": "stream",
     "text": [
      "Epoch: 01, Train loss: 0.3011522589969635, Val metrics: {'average_precision': np.float64(0.9480965701898839), 'accuracy': 0.9034991160479002, 'f1': np.float64(0.949303425917813), 'roc_auc': np.float64(0.6763673956893048)}\n"
     ]
    },
    {
     "name": "stderr",
     "output_type": "stream",
     "text": [
      "100%|██████████| 98/98 [00:11<00:00,  8.66it/s]\n"
     ]
    },
    {
     "name": "stdout",
     "output_type": "stream",
     "text": [
      "Epoch: 02, Train loss: 0.29577107947349546, Val metrics: {'average_precision': np.float64(0.9507069215186927), 'accuracy': 0.9034991160479002, 'f1': np.float64(0.949303425917813), 'roc_auc': np.float64(0.6848994110474864)}\n"
     ]
    },
    {
     "name": "stderr",
     "output_type": "stream",
     "text": [
      "100%|██████████| 98/98 [00:11<00:00,  8.60it/s]\n"
     ]
    },
    {
     "name": "stdout",
     "output_type": "stream",
     "text": [
      "Epoch: 03, Train loss: 0.29435662059783935, Val metrics: {'average_precision': np.float64(0.9523664401575884), 'accuracy': 0.9034991160479002, 'f1': np.float64(0.949303425917813), 'roc_auc': np.float64(0.6935351849681899)}\n"
     ]
    },
    {
     "name": "stderr",
     "output_type": "stream",
     "text": [
      "100%|██████████| 98/98 [00:12<00:00,  7.85it/s]\n"
     ]
    },
    {
     "name": "stdout",
     "output_type": "stream",
     "text": [
      "Epoch: 04, Train loss: 0.293416542263031, Val metrics: {'average_precision': np.float64(0.9510705709978006), 'accuracy': 0.9034991160479002, 'f1': np.float64(0.949303425917813), 'roc_auc': np.float64(0.690763617078237)}\n"
     ]
    },
    {
     "name": "stderr",
     "output_type": "stream",
     "text": [
      "100%|██████████| 98/98 [00:11<00:00,  8.62it/s]\n"
     ]
    },
    {
     "name": "stdout",
     "output_type": "stream",
     "text": [
      "Epoch: 05, Train loss: 0.2931678270149231, Val metrics: {'average_precision': np.float64(0.9534016415030016), 'accuracy': 0.9034991160479002, 'f1': np.float64(0.949303425917813), 'roc_auc': np.float64(0.6953856874414097)}\n"
     ]
    },
    {
     "name": "stderr",
     "output_type": "stream",
     "text": [
      "100%|██████████| 98/98 [00:11<00:00,  8.66it/s]\n"
     ]
    },
    {
     "name": "stdout",
     "output_type": "stream",
     "text": [
      "Epoch: 06, Train loss: 0.29220681492805484, Val metrics: {'average_precision': np.float64(0.9529980298484715), 'accuracy': 0.9034991160479002, 'f1': np.float64(0.949303425917813), 'roc_auc': np.float64(0.6943184437509652)}\n"
     ]
    },
    {
     "name": "stderr",
     "output_type": "stream",
     "text": [
      "100%|██████████| 98/98 [00:11<00:00,  8.60it/s]\n"
     ]
    },
    {
     "name": "stdout",
     "output_type": "stream",
     "text": [
      "Epoch: 07, Train loss: 0.2920016995477676, Val metrics: {'average_precision': np.float64(0.9527587514381176), 'accuracy': 0.9034991160479002, 'f1': np.float64(0.949303425917813), 'roc_auc': np.float64(0.693961385658498)}\n"
     ]
    },
    {
     "name": "stderr",
     "output_type": "stream",
     "text": [
      "100%|██████████| 98/98 [00:11<00:00,  8.57it/s]\n"
     ]
    },
    {
     "name": "stdout",
     "output_type": "stream",
     "text": [
      "Epoch: 08, Train loss: 0.29175365707874296, Val metrics: {'average_precision': np.float64(0.9516926326296676), 'accuracy': 0.9034991160479002, 'f1': np.float64(0.949303425917813), 'roc_auc': np.float64(0.6917537868078731)}\n"
     ]
    },
    {
     "name": "stderr",
     "output_type": "stream",
     "text": [
      "100%|██████████| 98/98 [00:11<00:00,  8.57it/s]\n"
     ]
    },
    {
     "name": "stdout",
     "output_type": "stream",
     "text": [
      "Epoch: 09, Train loss: 0.2915800398826599, Val metrics: {'average_precision': np.float64(0.9507000053565878), 'accuracy': 0.9034991160479002, 'f1': np.float64(0.949303425917813), 'roc_auc': np.float64(0.6887607788371277)}\n"
     ]
    },
    {
     "name": "stderr",
     "output_type": "stream",
     "text": [
      "100%|██████████| 98/98 [00:11<00:00,  8.53it/s]\n"
     ]
    },
    {
     "name": "stdout",
     "output_type": "stream",
     "text": [
      "Epoch: 10, Train loss: 0.2910608741283417, Val metrics: {'average_precision': np.float64(0.9514329364479555), 'accuracy': 0.9034991160479002, 'f1': np.float64(0.949303425917813), 'roc_auc': np.float64(0.6904262246822025)}\n",
      "Best val metrics: {'average_precision': np.float64(0.9534335302642337), 'accuracy': 0.9034991160479002, 'f1': np.float64(0.949303425917813), 'roc_auc': np.float64(0.6954176808878451)}\n",
      "Best test metrics: {'average_precision': np.float64(0.9160877410269225), 'accuracy': 0.8505909380276232, 'f1': np.float64(0.9192641340113671), 'roc_auc': np.float64(0.6636236701389361)}\n"
     ]
    },
    {
     "data": {
      "text/plain": [
       "{'average_precision': np.float64(0.9160877410269225),\n",
       " 'accuracy': 0.8505909380276232,\n",
       " 'f1': np.float64(0.9192641340113671),\n",
       " 'roc_auc': np.float64(0.6636236701389361)}"
      ]
     },
     "execution_count": 13,
     "metadata": {},
     "output_type": "execute_result"
    }
   ],
   "source": [
    "from src.models.training import eval_model, training_run\n",
    "\n",
    "# Get model after a training run\n",
    "state_dict = training_run(\n",
    "    model, device, optimizer, task, loader_dict, val_table, loss_fn, entity_table\n",
    ")\n",
    "model.load_state_dict(state_dict)\n",
    "\n",
    "# Evaluate on val and test set\n",
    "eval_model(model, loader_dict, \"val\", task, device, val_table)\n",
    "eval_model(model, loader_dict, \"test\", task, device, None)"
   ]
  },
  {
   "cell_type": "markdown",
   "metadata": {},
   "source": [
    "As we can see, we are able to roughly replicate the results from the [core Relbench paper](https://huggingface.co/spaces/relbench/leaderboard). However, do the results generalize? To do so, let's load in the data for the other entity classification task within `rel-f1` -- `driver-top3` -- and see how we do. "
   ]
  },
  {
   "cell_type": "code",
   "execution_count": 14,
   "metadata": {},
   "outputs": [
    {
     "name": "stderr",
     "output_type": "stream",
     "text": [
      "Downloading file 'rel-avito/tasks/user-clicks.zip' from 'https://relbench.stanford.edu/download/rel-avito/tasks/user-clicks.zip' to '/home/atindrajha/.cache/relbench'.\n",
      "100%|████████████████████████████████████████| 603k/603k [00:00<00:00, 810MB/s]\n",
      "Unzipping contents of '/home/atindrajha/.cache/relbench/rel-avito/tasks/user-clicks.zip' to '/home/atindrajha/.cache/relbench/rel-avito/tasks/.'\n",
      "/home/atindrajha/miniconda3/envs/relben/lib/python3.10/site-packages/torch_frame/utils/io.py:98: FutureWarning: You are using `torch.load` with `weights_only=False` (the current default value), which uses the default pickle module implicitly. It is possible to construct malicious pickle data which will execute arbitrary code during unpickling (See https://github.com/pytorch/pytorch/blob/main/SECURITY.md#untrusted-models for more details). In a future release, the default value for `weights_only` will be flipped to `True`. This limits the functions that could be executed during unpickling. Arbitrary objects will no longer be allowed to be loaded via this mode unless they are explicitly allowlisted by the user via `torch.serialization.add_safe_globals`. We recommend you start setting `weights_only=True` for any use case where you don't have full control of the loaded file. Please open an issue on GitHub for any issues related to this experimental feature.\n",
      "  tf_dict, col_stats = torch.load(path)\n",
      "/home/atindrajha/miniconda3/envs/relben/lib/python3.10/site-packages/torch_frame/utils/io.py:98: FutureWarning: You are using `torch.load` with `weights_only=False` (the current default value), which uses the default pickle module implicitly. It is possible to construct malicious pickle data which will execute arbitrary code during unpickling (See https://github.com/pytorch/pytorch/blob/main/SECURITY.md#untrusted-models for more details). In a future release, the default value for `weights_only` will be flipped to `True`. This limits the functions that could be executed during unpickling. Arbitrary objects will no longer be allowed to be loaded via this mode unless they are explicitly allowlisted by the user via `torch.serialization.add_safe_globals`. We recommend you start setting `weights_only=True` for any use case where you don't have full control of the loaded file. Please open an issue on GitHub for any issues related to this experimental feature.\n",
      "  tf_dict, col_stats = torch.load(path)\n",
      "/home/atindrajha/miniconda3/envs/relben/lib/python3.10/site-packages/torch_frame/utils/io.py:98: FutureWarning: You are using `torch.load` with `weights_only=False` (the current default value), which uses the default pickle module implicitly. It is possible to construct malicious pickle data which will execute arbitrary code during unpickling (See https://github.com/pytorch/pytorch/blob/main/SECURITY.md#untrusted-models for more details). In a future release, the default value for `weights_only` will be flipped to `True`. This limits the functions that could be executed during unpickling. Arbitrary objects will no longer be allowed to be loaded via this mode unless they are explicitly allowlisted by the user via `torch.serialization.add_safe_globals`. We recommend you start setting `weights_only=True` for any use case where you don't have full control of the loaded file. Please open an issue on GitHub for any issues related to this experimental feature.\n",
      "  tf_dict, col_stats = torch.load(path)\n",
      "/home/atindrajha/miniconda3/envs/relben/lib/python3.10/site-packages/torch_frame/utils/io.py:98: FutureWarning: You are using `torch.load` with `weights_only=False` (the current default value), which uses the default pickle module implicitly. It is possible to construct malicious pickle data which will execute arbitrary code during unpickling (See https://github.com/pytorch/pytorch/blob/main/SECURITY.md#untrusted-models for more details). In a future release, the default value for `weights_only` will be flipped to `True`. This limits the functions that could be executed during unpickling. Arbitrary objects will no longer be allowed to be loaded via this mode unless they are explicitly allowlisted by the user via `torch.serialization.add_safe_globals`. We recommend you start setting `weights_only=True` for any use case where you don't have full control of the loaded file. Please open an issue on GitHub for any issues related to this experimental feature.\n",
      "  tf_dict, col_stats = torch.load(path)\n",
      "/home/atindrajha/miniconda3/envs/relben/lib/python3.10/site-packages/torch_frame/utils/io.py:98: FutureWarning: You are using `torch.load` with `weights_only=False` (the current default value), which uses the default pickle module implicitly. It is possible to construct malicious pickle data which will execute arbitrary code during unpickling (See https://github.com/pytorch/pytorch/blob/main/SECURITY.md#untrusted-models for more details). In a future release, the default value for `weights_only` will be flipped to `True`. This limits the functions that could be executed during unpickling. Arbitrary objects will no longer be allowed to be loaded via this mode unless they are explicitly allowlisted by the user via `torch.serialization.add_safe_globals`. We recommend you start setting `weights_only=True` for any use case where you don't have full control of the loaded file. Please open an issue on GitHub for any issues related to this experimental feature.\n",
      "  tf_dict, col_stats = torch.load(path)\n",
      "/home/atindrajha/miniconda3/envs/relben/lib/python3.10/site-packages/torch_frame/utils/io.py:98: FutureWarning: You are using `torch.load` with `weights_only=False` (the current default value), which uses the default pickle module implicitly. It is possible to construct malicious pickle data which will execute arbitrary code during unpickling (See https://github.com/pytorch/pytorch/blob/main/SECURITY.md#untrusted-models for more details). In a future release, the default value for `weights_only` will be flipped to `True`. This limits the functions that could be executed during unpickling. Arbitrary objects will no longer be allowed to be loaded via this mode unless they are explicitly allowlisted by the user via `torch.serialization.add_safe_globals`. We recommend you start setting `weights_only=True` for any use case where you don't have full control of the loaded file. Please open an issue on GitHub for any issues related to this experimental feature.\n",
      "  tf_dict, col_stats = torch.load(path)\n",
      "/home/atindrajha/miniconda3/envs/relben/lib/python3.10/site-packages/torch_frame/utils/io.py:98: FutureWarning: You are using `torch.load` with `weights_only=False` (the current default value), which uses the default pickle module implicitly. It is possible to construct malicious pickle data which will execute arbitrary code during unpickling (See https://github.com/pytorch/pytorch/blob/main/SECURITY.md#untrusted-models for more details). In a future release, the default value for `weights_only` will be flipped to `True`. This limits the functions that could be executed during unpickling. Arbitrary objects will no longer be allowed to be loaded via this mode unless they are explicitly allowlisted by the user via `torch.serialization.add_safe_globals`. We recommend you start setting `weights_only=True` for any use case where you don't have full control of the loaded file. Please open an issue on GitHub for any issues related to this experimental feature.\n",
      "  tf_dict, col_stats = torch.load(path)\n"
     ]
    },
    {
     "name": "stdout",
     "output_type": "stream",
     "text": [
      "Best test metrics: {'average_precision': np.float64(0.029305983113059285), 'accuracy': 0.015417951495957996, 'f1': np.float64(0.03036769533814839), 'roc_auc': np.float64(0.6474129983208194)}\n"
     ]
    }
   ],
   "source": [
    "# Logging Results\n",
    "part1_top3_labels = [\"Trained on User Visits, Zero-Shot on User Clicks\"]\n",
    "part1_top3_scores = []\n",
    "\n",
    "# Reuse functions to set up `driver-top3 task`\n",
    "dataset, task, train_table, val_table, test_table = initialize_task(\n",
    "    \"rel-avito\", \"user-clicks\"\n",
    ")\n",
    "db, col_to_stype_dict = db_to_graph(dataset)\n",
    "data, col_stats_dict = make_pkey_fkey_graph(\n",
    "    db,\n",
    "    col_to_stype_dict=col_to_stype_dict,\n",
    "    text_embedder_cfg=text_embedder_cfg,\n",
    "    cache_dir=os.path.join(root_dir, f\"rel-avito_materialized_cache\"),\n",
    ")\n",
    "\n",
    "loader_dict, entity_table = get_loader(train_table, val_table, test_table, task, data)\n",
    "model = RDLModel(\n",
    "    data=data,\n",
    "    col_stats_dict=col_stats_dict,\n",
    "    num_layers=2,\n",
    "    channels=128,\n",
    "    out_channels=1,\n",
    "    aggr=\"sum\",\n",
    "    norm=\"batch_norm\",\n",
    ").to(device)\n",
    "model.load_state_dict(state_dict)\n",
    "\n",
    "test_metrics = eval_model(model, loader_dict, \"test\", task, device, None)\n",
    "part1_top3_scores.append(test_metrics[\"roc_auc\"])"
   ]
  },
  {
   "cell_type": "markdown",
   "metadata": {},
   "source": [
    "Unfortunately, trying out our model zero-shot does not yield amazing results. However, what happens if we use this model as a starting point for finetuning on the task? Let's experiment on fine-tuning this model with fewer epochs on the `driver-top3` task and checking its performance."
   ]
  },
  {
   "cell_type": "code",
   "execution_count": 15,
   "metadata": {},
   "outputs": [
    {
     "name": "stderr",
     "output_type": "stream",
     "text": [
      "100%|██████████| 117/117 [00:14<00:00,  7.90it/s]\n"
     ]
    },
    {
     "name": "stdout",
     "output_type": "stream",
     "text": [
      "Epoch: 01, Train loss: 0.2334034409572375, Val metrics: {'average_precision': np.float64(0.053769921785753155), 'accuracy': 0.9648302884388424, 'f1': np.float64(0.0), 'roc_auc': np.float64(0.6157990018592817)}\n"
     ]
    },
    {
     "name": "stderr",
     "output_type": "stream",
     "text": [
      "100%|██████████| 117/117 [00:14<00:00,  8.00it/s]\n"
     ]
    },
    {
     "name": "stdout",
     "output_type": "stream",
     "text": [
      "Epoch: 02, Train loss: 0.15894010762433758, Val metrics: {'average_precision': np.float64(0.05817973345498606), 'accuracy': 0.9648302884388424, 'f1': np.float64(0.0), 'roc_auc': np.float64(0.6258583662095412)}\n"
     ]
    },
    {
     "name": "stderr",
     "output_type": "stream",
     "text": [
      "100%|██████████| 117/117 [00:14<00:00,  7.96it/s]\n"
     ]
    },
    {
     "name": "stdout",
     "output_type": "stream",
     "text": [
      "Epoch: 03, Train loss: 0.1583660256275356, Val metrics: {'average_precision': np.float64(0.06367939846668577), 'accuracy': 0.9648302884388424, 'f1': np.float64(0.0), 'roc_auc': np.float64(0.63169760106027)}\n"
     ]
    },
    {
     "name": "stderr",
     "output_type": "stream",
     "text": [
      "100%|██████████| 117/117 [00:14<00:00,  8.07it/s]\n"
     ]
    },
    {
     "name": "stdout",
     "output_type": "stream",
     "text": [
      "Epoch: 04, Train loss: 0.15812988054897917, Val metrics: {'average_precision': np.float64(0.06604753750499472), 'accuracy': 0.9648302884388424, 'f1': np.float64(0.0), 'roc_auc': np.float64(0.6332116908167508)}\n"
     ]
    },
    {
     "name": "stderr",
     "output_type": "stream",
     "text": [
      "100%|██████████| 117/117 [00:15<00:00,  7.54it/s]\n"
     ]
    },
    {
     "name": "stdout",
     "output_type": "stream",
     "text": [
      "Epoch: 05, Train loss: 0.15786859386703594, Val metrics: {'average_precision': np.float64(0.06813952641422835), 'accuracy': 0.9648302884388424, 'f1': np.float64(0.0), 'roc_auc': np.float64(0.6369930403361025)}\n",
      "Best val metrics: {'average_precision': np.float64(0.06813073216804698), 'accuracy': 0.9648302884388424, 'f1': np.float64(0.0), 'roc_auc': np.float64(0.6367829434708738)}\n",
      "Best test metrics: {'average_precision': np.float64(0.03570655066222605), 'accuracy': 0.984582048504042, 'f1': np.float64(0.0), 'roc_auc': np.float64(0.6738423177494406)}\n"
     ]
    }
   ],
   "source": [
    "# Logging Results\n",
    "part1_top3_labels.append(\"Trained on User Visits, Finetuned on User Clicks\")\n",
    "\n",
    "# Get model after a training run\n",
    "optimizer = torch.optim.Adam(model.parameters(), lr=0.005)\n",
    "state_dict = training_run(\n",
    "    model,\n",
    "    device,\n",
    "    optimizer,\n",
    "    task,\n",
    "    loader_dict,\n",
    "    val_table,\n",
    "    loss_fn,\n",
    "    entity_table,\n",
    "    epochs=5,\n",
    "    state_dict=state_dict,\n",
    ")\n",
    "model.load_state_dict(state_dict)\n",
    "\n",
    "# Evaluate on val and test set\n",
    "eval_model(model, loader_dict, \"val\", task, device, val_table)\n",
    "test_metrics = eval_model(model, loader_dict, \"test\", task, device, None)\n",
    "part1_top3_scores.append(test_metrics[\"roc_auc\"])"
   ]
  },
  {
   "cell_type": "markdown",
   "metadata": {},
   "source": [
    "Nice! It looks like after we finetune even after just one epoch. we're able to practically replicate the Relbench results. Finally, let's compare this approach to simply training on the task from scratch."
   ]
  },
  {
   "cell_type": "code",
   "execution_count": 16,
   "metadata": {},
   "outputs": [
    {
     "name": "stderr",
     "output_type": "stream",
     "text": [
      "100%|██████████| 117/117 [00:14<00:00,  7.95it/s]\n"
     ]
    },
    {
     "name": "stdout",
     "output_type": "stream",
     "text": [
      "Epoch: 01, Train loss: 0.16988240671786625, Val metrics: {'average_precision': np.float64(0.06386555502630002), 'accuracy': 0.9648302884388424, 'f1': np.float64(0.0), 'roc_auc': np.float64(0.6169798197987562)}\n"
     ]
    },
    {
     "name": "stderr",
     "output_type": "stream",
     "text": [
      "100%|██████████| 117/117 [00:14<00:00,  7.97it/s]\n"
     ]
    },
    {
     "name": "stdout",
     "output_type": "stream",
     "text": [
      "Epoch: 02, Train loss: 0.1597294359416763, Val metrics: {'average_precision': np.float64(0.06793630576856795), 'accuracy': 0.9648302884388424, 'f1': np.float64(0.0), 'roc_auc': np.float64(0.6316647960011323)}\n"
     ]
    },
    {
     "name": "stderr",
     "output_type": "stream",
     "text": [
      "100%|██████████| 117/117 [00:14<00:00,  8.01it/s]\n"
     ]
    },
    {
     "name": "stdout",
     "output_type": "stream",
     "text": [
      "Epoch: 03, Train loss: 0.15942406274522916, Val metrics: {'average_precision': np.float64(0.0673321475102239), 'accuracy': 0.9648302884388424, 'f1': np.float64(0.0), 'roc_auc': np.float64(0.6213280499346198)}\n"
     ]
    },
    {
     "name": "stderr",
     "output_type": "stream",
     "text": [
      "100%|██████████| 117/117 [00:14<00:00,  7.95it/s]\n"
     ]
    },
    {
     "name": "stdout",
     "output_type": "stream",
     "text": [
      "Epoch: 04, Train loss: 0.15922961761336532, Val metrics: {'average_precision': np.float64(0.07046906893837794), 'accuracy': 0.9648302884388424, 'f1': np.float64(0.0), 'roc_auc': np.float64(0.6244504742120711)}\n"
     ]
    },
    {
     "name": "stderr",
     "output_type": "stream",
     "text": [
      "100%|██████████| 117/117 [00:14<00:00,  8.01it/s]\n"
     ]
    },
    {
     "name": "stdout",
     "output_type": "stream",
     "text": [
      "Epoch: 05, Train loss: 0.15908782976777344, Val metrics: {'average_precision': np.float64(0.0699842271771561), 'accuracy': 0.9648302884388424, 'f1': np.float64(0.0), 'roc_auc': np.float64(0.6314103022991125)}\n"
     ]
    },
    {
     "name": "stderr",
     "output_type": "stream",
     "text": [
      "100%|██████████| 117/117 [00:14<00:00,  8.03it/s]\n"
     ]
    },
    {
     "name": "stdout",
     "output_type": "stream",
     "text": [
      "Epoch: 06, Train loss: 0.15810887773998106, Val metrics: {'average_precision': np.float64(0.06470453092676201), 'accuracy': 0.9648302884388424, 'f1': np.float64(0.0), 'roc_auc': np.float64(0.6384584971670747)}\n"
     ]
    },
    {
     "name": "stderr",
     "output_type": "stream",
     "text": [
      "100%|██████████| 117/117 [00:14<00:00,  7.92it/s]\n"
     ]
    },
    {
     "name": "stdout",
     "output_type": "stream",
     "text": [
      "Epoch: 07, Train loss: 0.15860653774133662, Val metrics: {'average_precision': np.float64(0.06941605675293815), 'accuracy': 0.9648302884388424, 'f1': np.float64(0.0), 'roc_auc': np.float64(0.6434413196631358)}\n"
     ]
    },
    {
     "name": "stderr",
     "output_type": "stream",
     "text": [
      "100%|██████████| 117/117 [00:14<00:00,  8.03it/s]\n"
     ]
    },
    {
     "name": "stdout",
     "output_type": "stream",
     "text": [
      "Epoch: 08, Train loss: 0.1577732623942778, Val metrics: {'average_precision': np.float64(0.06863579015572402), 'accuracy': 0.9648302884388424, 'f1': np.float64(0.0), 'roc_auc': np.float64(0.6373435848869491)}\n"
     ]
    },
    {
     "name": "stderr",
     "output_type": "stream",
     "text": [
      "100%|██████████| 117/117 [00:14<00:00,  8.00it/s]\n"
     ]
    },
    {
     "name": "stdout",
     "output_type": "stream",
     "text": [
      "Epoch: 09, Train loss: 0.1576428290129582, Val metrics: {'average_precision': np.float64(0.06975480247249642), 'accuracy': 0.9648302884388424, 'f1': np.float64(0.0), 'roc_auc': np.float64(0.6373547826098378)}\n"
     ]
    },
    {
     "name": "stderr",
     "output_type": "stream",
     "text": [
      "100%|██████████| 117/117 [00:14<00:00,  7.99it/s]\n"
     ]
    },
    {
     "name": "stdout",
     "output_type": "stream",
     "text": [
      "Epoch: 10, Train loss: 0.15752264101231306, Val metrics: {'average_precision': np.float64(0.07203948118081588), 'accuracy': 0.9648302884388424, 'f1': np.float64(0.0), 'roc_auc': np.float64(0.6414129556011929)}\n",
      "Best val metrics: {'average_precision': np.float64(0.06905970323751082), 'accuracy': 0.9648302884388424, 'f1': np.float64(0.0), 'roc_auc': np.float64(0.6437679253870439)}\n",
      "Best test metrics: {'average_precision': np.float64(0.03566880492185055), 'accuracy': 0.984582048504042, 'f1': np.float64(0.0), 'roc_auc': np.float64(0.6626739518848458)}\n"
     ]
    },
    {
     "data": {
      "image/png": "[encoded data removed]",
      "text/plain": [
       "<Figure size 640x480 with 1 Axes>"
      ]
     },
     "metadata": {},
     "output_type": "display_data"
    }
   ],
   "source": [
    "# Logging Results\n",
    "from src.models.viz import create_bar_graph\n",
    "part1_top3_labels.append(\"Trained on User Clicks Task\")\n",
    "\n",
    "# Define a new model, don't load in old weights.\n",
    "base_model = RDLModel(\n",
    "    data=data,\n",
    "    col_stats_dict=col_stats_dict,\n",
    "    num_layers=2,\n",
    "    channels=128,\n",
    "    out_channels=1,\n",
    "    aggr=\"sum\",\n",
    "    norm=\"batch_norm\",\n",
    ").to(device)\n",
    "base_optimizer = torch.optim.Adam(base_model.parameters(), lr=0.005)\n",
    "base_state_dict = training_run(\n",
    "    base_model,\n",
    "    device,\n",
    "    base_optimizer,\n",
    "    task,\n",
    "    loader_dict,\n",
    "    val_table,\n",
    "    loss_fn,\n",
    "    entity_table,\n",
    "    epochs=10,\n",
    ")\n",
    "base_model.load_state_dict(base_state_dict)\n",
    "\n",
    "# Evaluate on val and test set\n",
    "eval_model(base_model, loader_dict, \"val\", task, device, val_table)\n",
    "test_metrics = eval_model(base_model, loader_dict, \"test\", task, device, None)\n",
    "part1_top3_scores.append(test_metrics[\"roc_auc\"])\n",
    "\n",
    "# Finally, graph all of the results\n",
    "create_bar_graph(part1_top3_labels, part1_top3_scores, title='ROC AUC on User Clicks Task vs. Different Training Tasks', x_label=\"Model\", y_label=\"ROC AUC on User Clicks Task\")"
   ]
  },
  {
   "cell_type": "markdown",
   "metadata": {},
   "source": [
    "Ultimately, we don't see much of a difference from starting from random weights to using a model pre-initialized from another entity classification task.\n",
    "\n",
    "### Challenge\n",
    "Does this trend necessarily work on larger and more diverse datasets? Depending on your compute availability, try out using different datasets, like `rel-amazon`, as well as across different types of tasks!"
   ]
  },
  {
   "cell_type": "markdown",
   "metadata": {},
   "source": [
    "## Question 2: Different expressiveness of node features?\n",
    "Next, let's take a look at using different embedding models for node features.\n",
    "\n",
    "The embedding models are used to help turn the tabular data into usable node features. In the Relbench tutorial, the team uses GloVe embeddings, but the paper also mentions utilizing BERT-style embeddings. In traditional NLP, BERT embeddings are much more popular given that they are contextual -- the vector representation depends on the surrounding words, compared to static embeddings used by GloVe -- and can handle words outside of their vocabulary. In addition, their embedding size is $768$ compared to GloVe's $300$, which introduces an opportunity for more expressiveness."
   ]
  },
  {
   "cell_type": "markdown",
   "metadata": {},
   "source": [
    "As an investigation, let's switch out our GloVe embedding model with BERT and retrain a new model from scratch on the `driver-dnf` task."
   ]
  },
  {
   "cell_type": "code",
   "execution_count": 17,
   "metadata": {},
   "outputs": [
    {
     "name": "stderr",
     "output_type": "stream",
     "text": [
      "WARNING:sentence_transformers.SentenceTransformer:No sentence-transformers model found with name google-bert/bert-base-uncased. Creating a new one with mean pooling.\n",
      "/home/atindrajha/miniconda3/envs/relben/lib/python3.10/site-packages/torch_frame/utils/io.py:98: FutureWarning: You are using `torch.load` with `weights_only=False` (the current default value), which uses the default pickle module implicitly. It is possible to construct malicious pickle data which will execute arbitrary code during unpickling (See https://github.com/pytorch/pytorch/blob/main/SECURITY.md#untrusted-models for more details). In a future release, the default value for `weights_only` will be flipped to `True`. This limits the functions that could be executed during unpickling. Arbitrary objects will no longer be allowed to be loaded via this mode unless they are explicitly allowlisted by the user via `torch.serialization.add_safe_globals`. We recommend you start setting `weights_only=True` for any use case where you don't have full control of the loaded file. Please open an issue on GitHub for any issues related to this experimental feature.\n",
      "  tf_dict, col_stats = torch.load(path)\n",
      "/home/atindrajha/miniconda3/envs/relben/lib/python3.10/site-packages/torch_frame/utils/io.py:98: FutureWarning: You are using `torch.load` with `weights_only=False` (the current default value), which uses the default pickle module implicitly. It is possible to construct malicious pickle data which will execute arbitrary code during unpickling (See https://github.com/pytorch/pytorch/blob/main/SECURITY.md#untrusted-models for more details). In a future release, the default value for `weights_only` will be flipped to `True`. This limits the functions that could be executed during unpickling. Arbitrary objects will no longer be allowed to be loaded via this mode unless they are explicitly allowlisted by the user via `torch.serialization.add_safe_globals`. We recommend you start setting `weights_only=True` for any use case where you don't have full control of the loaded file. Please open an issue on GitHub for any issues related to this experimental feature.\n",
      "  tf_dict, col_stats = torch.load(path)\n",
      "/home/atindrajha/miniconda3/envs/relben/lib/python3.10/site-packages/torch_frame/utils/io.py:98: FutureWarning: You are using `torch.load` with `weights_only=False` (the current default value), which uses the default pickle module implicitly. It is possible to construct malicious pickle data which will execute arbitrary code during unpickling (See https://github.com/pytorch/pytorch/blob/main/SECURITY.md#untrusted-models for more details). In a future release, the default value for `weights_only` will be flipped to `True`. This limits the functions that could be executed during unpickling. Arbitrary objects will no longer be allowed to be loaded via this mode unless they are explicitly allowlisted by the user via `torch.serialization.add_safe_globals`. We recommend you start setting `weights_only=True` for any use case where you don't have full control of the loaded file. Please open an issue on GitHub for any issues related to this experimental feature.\n",
      "  tf_dict, col_stats = torch.load(path)\n",
      "/home/atindrajha/miniconda3/envs/relben/lib/python3.10/site-packages/torch_frame/utils/io.py:98: FutureWarning: You are using `torch.load` with `weights_only=False` (the current default value), which uses the default pickle module implicitly. It is possible to construct malicious pickle data which will execute arbitrary code during unpickling (See https://github.com/pytorch/pytorch/blob/main/SECURITY.md#untrusted-models for more details). In a future release, the default value for `weights_only` will be flipped to `True`. This limits the functions that could be executed during unpickling. Arbitrary objects will no longer be allowed to be loaded via this mode unless they are explicitly allowlisted by the user via `torch.serialization.add_safe_globals`. We recommend you start setting `weights_only=True` for any use case where you don't have full control of the loaded file. Please open an issue on GitHub for any issues related to this experimental feature.\n",
      "  tf_dict, col_stats = torch.load(path)\n",
      "/home/atindrajha/miniconda3/envs/relben/lib/python3.10/site-packages/torch_frame/utils/io.py:98: FutureWarning: You are using `torch.load` with `weights_only=False` (the current default value), which uses the default pickle module implicitly. It is possible to construct malicious pickle data which will execute arbitrary code during unpickling (See https://github.com/pytorch/pytorch/blob/main/SECURITY.md#untrusted-models for more details). In a future release, the default value for `weights_only` will be flipped to `True`. This limits the functions that could be executed during unpickling. Arbitrary objects will no longer be allowed to be loaded via this mode unless they are explicitly allowlisted by the user via `torch.serialization.add_safe_globals`. We recommend you start setting `weights_only=True` for any use case where you don't have full control of the loaded file. Please open an issue on GitHub for any issues related to this experimental feature.\n",
      "  tf_dict, col_stats = torch.load(path)\n",
      "/home/atindrajha/miniconda3/envs/relben/lib/python3.10/site-packages/torch_frame/utils/io.py:98: FutureWarning: You are using `torch.load` with `weights_only=False` (the current default value), which uses the default pickle module implicitly. It is possible to construct malicious pickle data which will execute arbitrary code during unpickling (See https://github.com/pytorch/pytorch/blob/main/SECURITY.md#untrusted-models for more details). In a future release, the default value for `weights_only` will be flipped to `True`. This limits the functions that could be executed during unpickling. Arbitrary objects will no longer be allowed to be loaded via this mode unless they are explicitly allowlisted by the user via `torch.serialization.add_safe_globals`. We recommend you start setting `weights_only=True` for any use case where you don't have full control of the loaded file. Please open an issue on GitHub for any issues related to this experimental feature.\n",
      "  tf_dict, col_stats = torch.load(path)\n",
      "/home/atindrajha/miniconda3/envs/relben/lib/python3.10/site-packages/torch_frame/utils/io.py:98: FutureWarning: You are using `torch.load` with `weights_only=False` (the current default value), which uses the default pickle module implicitly. It is possible to construct malicious pickle data which will execute arbitrary code during unpickling (See https://github.com/pytorch/pytorch/blob/main/SECURITY.md#untrusted-models for more details). In a future release, the default value for `weights_only` will be flipped to `True`. This limits the functions that could be executed during unpickling. Arbitrary objects will no longer be allowed to be loaded via this mode unless they are explicitly allowlisted by the user via `torch.serialization.add_safe_globals`. We recommend you start setting `weights_only=True` for any use case where you don't have full control of the loaded file. Please open an issue on GitHub for any issues related to this experimental feature.\n",
      "  tf_dict, col_stats = torch.load(path)\n",
      "100%|██████████| 98/98 [00:11<00:00,  8.36it/s]\n"
     ]
    },
    {
     "name": "stdout",
     "output_type": "stream",
     "text": [
      "Epoch: 01, Train loss: 0.30473184418678284, Val metrics: {'average_precision': np.float64(0.9496465359477773), 'accuracy': 0.9034991160479002, 'f1': np.float64(0.949303425917813), 'roc_auc': np.float64(0.684515815112234)}\n"
     ]
    },
    {
     "name": "stderr",
     "output_type": "stream",
     "text": [
      "100%|██████████| 98/98 [00:11<00:00,  8.45it/s]\n"
     ]
    },
    {
     "name": "stdout",
     "output_type": "stream",
     "text": [
      "Epoch: 02, Train loss: 0.29544564080238345, Val metrics: {'average_precision': np.float64(0.9513380624816157), 'accuracy': 0.9034991160479002, 'f1': np.float64(0.949303425917813), 'roc_auc': np.float64(0.691963607410014)}\n"
     ]
    },
    {
     "name": "stderr",
     "output_type": "stream",
     "text": [
      "100%|██████████| 98/98 [00:11<00:00,  8.50it/s]\n"
     ]
    },
    {
     "name": "stdout",
     "output_type": "stream",
     "text": [
      "Epoch: 03, Train loss: 0.2944862962436676, Val metrics: {'average_precision': np.float64(0.9497629783144875), 'accuracy': 0.9034991160479002, 'f1': np.float64(0.949303425917813), 'roc_auc': np.float64(0.6878951627721143)}\n"
     ]
    },
    {
     "name": "stderr",
     "output_type": "stream",
     "text": [
      "100%|██████████| 98/98 [00:11<00:00,  8.49it/s]\n"
     ]
    },
    {
     "name": "stdout",
     "output_type": "stream",
     "text": [
      "Epoch: 04, Train loss: 0.2934201670646667, Val metrics: {'average_precision': np.float64(0.9517890880326636), 'accuracy': 0.9034991160479002, 'f1': np.float64(0.949303425917813), 'roc_auc': np.float64(0.6919814928568346)}\n"
     ]
    },
    {
     "name": "stderr",
     "output_type": "stream",
     "text": [
      "100%|██████████| 98/98 [00:11<00:00,  8.49it/s]\n"
     ]
    },
    {
     "name": "stdout",
     "output_type": "stream",
     "text": [
      "Epoch: 05, Train loss: 0.2928858700656891, Val metrics: {'average_precision': np.float64(0.9532318492951156), 'accuracy': 0.9034991160479002, 'f1': np.float64(0.949303425917813), 'roc_auc': np.float64(0.6956634382850246)}\n"
     ]
    },
    {
     "name": "stderr",
     "output_type": "stream",
     "text": [
      "100%|██████████| 98/98 [00:12<00:00,  7.67it/s]\n"
     ]
    },
    {
     "name": "stdout",
     "output_type": "stream",
     "text": [
      "Epoch: 06, Train loss: 0.2925251246070862, Val metrics: {'average_precision': np.float64(0.9526049016749378), 'accuracy': 0.9034991160479002, 'f1': np.float64(0.949303425917813), 'roc_auc': np.float64(0.6929059273481026)}\n"
     ]
    },
    {
     "name": "stderr",
     "output_type": "stream",
     "text": [
      "100%|██████████| 98/98 [00:11<00:00,  8.40it/s]\n"
     ]
    },
    {
     "name": "stdout",
     "output_type": "stream",
     "text": [
      "Epoch: 07, Train loss: 0.2919646938276291, Val metrics: {'average_precision': np.float64(0.9525009437700976), 'accuracy': 0.9034991160479002, 'f1': np.float64(0.949303425917813), 'roc_auc': np.float64(0.6945644117153034)}\n"
     ]
    },
    {
     "name": "stderr",
     "output_type": "stream",
     "text": [
      "100%|██████████| 98/98 [00:11<00:00,  8.46it/s]\n"
     ]
    },
    {
     "name": "stdout",
     "output_type": "stream",
     "text": [
      "Epoch: 08, Train loss: 0.29136774874687194, Val metrics: {'average_precision': np.float64(0.9517375677334446), 'accuracy': 0.9034991160479002, 'f1': np.float64(0.949303425917813), 'roc_auc': np.float64(0.692158216130164)}\n"
     ]
    },
    {
     "name": "stderr",
     "output_type": "stream",
     "text": [
      "100%|██████████| 98/98 [00:11<00:00,  8.46it/s]\n"
     ]
    },
    {
     "name": "stdout",
     "output_type": "stream",
     "text": [
      "Epoch: 09, Train loss: 0.29169905879974367, Val metrics: {'average_precision': np.float64(0.9515559848705762), 'accuracy': 0.9034991160479002, 'f1': np.float64(0.949303425917813), 'roc_auc': np.float64(0.6938048257857939)}\n"
     ]
    },
    {
     "name": "stderr",
     "output_type": "stream",
     "text": [
      "100%|██████████| 98/98 [00:11<00:00,  8.49it/s]\n"
     ]
    },
    {
     "name": "stdout",
     "output_type": "stream",
     "text": [
      "Epoch: 10, Train loss: 0.2912075840473175, Val metrics: {'average_precision': np.float64(0.9521014201932264), 'accuracy': 0.9034991160479002, 'f1': np.float64(0.949303425917813), 'roc_auc': np.float64(0.6944630012956388)}\n",
      "Best val metrics: {'average_precision': np.float64(0.9533151186891111), 'accuracy': 0.9034991160479002, 'f1': np.float64(0.949303425917813), 'roc_auc': np.float64(0.695704696686431)}\n",
      "Best test metrics: {'average_precision': np.float64(0.9144037067589129), 'accuracy': 0.8505909380276232, 'f1': np.float64(0.9192641340113671), 'roc_auc': np.float64(0.6631975701279755)}\n"
     ]
    },
    {
     "data": {
      "text/plain": [
       "{'average_precision': np.float64(0.9144037067589129),\n",
       " 'accuracy': 0.8505909380276232,\n",
       " 'f1': np.float64(0.9192641340113671),\n",
       " 'roc_auc': np.float64(0.6631975701279755)}"
      ]
     },
     "execution_count": 17,
     "metadata": {},
     "output_type": "execute_result"
    }
   ],
   "source": [
    "from src.embeddings.bert import BertTextEmbedding\n",
    "\n",
    "dataset, task, train_table, val_table, test_table = initialize_task(\n",
    "    \"rel-avito\", \"user-visits\"\n",
    ")\n",
    "\n",
    "# Preprocess the database data and set up our text embedder\n",
    "db, col_to_stype_dict = db_to_graph(dataset)\n",
    "text_embedder_cfg = TextEmbedderConfig(\n",
    "    text_embedder=BertTextEmbedding(device=device), batch_size=128\n",
    ")\n",
    "\n",
    "# Load in data used to train model\n",
    "data, col_stats_dict = make_pkey_fkey_graph(\n",
    "    db,\n",
    "    col_to_stype_dict=col_to_stype_dict,\n",
    "    text_embedder_cfg=text_embedder_cfg,\n",
    "    cache_dir=os.path.join(root_dir, f\"rel-avito_materialized_cache\"),\n",
    ")\n",
    "loader_dict, entity_table = get_loader(train_table, val_table, test_table, task, data)\n",
    "\n",
    "# Initialize new, untrained model using BERT embeddings\n",
    "bert_model = RDLModel(\n",
    "    data=data,\n",
    "    col_stats_dict=col_stats_dict,\n",
    "    num_layers=2,\n",
    "    channels=128,\n",
    "    out_channels=1,\n",
    "    aggr=\"sum\",\n",
    "    norm=\"batch_norm\",\n",
    ").to(device)\n",
    "bert_optimizer = torch.optim.Adam(bert_model.parameters(), lr=0.005)\n",
    "bert_state_dict = training_run(\n",
    "    bert_model,\n",
    "    device,\n",
    "    bert_optimizer,\n",
    "    task,\n",
    "    loader_dict,\n",
    "    val_table,\n",
    "    loss_fn,\n",
    "    entity_table,\n",
    "    epochs=10,\n",
    ")\n",
    "bert_model.load_state_dict(bert_state_dict)\n",
    "\n",
    "# Evaluate on val and test set\n",
    "eval_model(bert_model, loader_dict, \"val\", task, device, val_table)\n",
    "eval_model(bert_model, loader_dict, \"test\", task, device, None)"
   ]
  },
  {
   "cell_type": "markdown",
   "metadata": {},
   "source": [
    "We ultimately don't see that drastic of a difference between using BERT embeddings and GloVe embeddings. Despite being trained differently, the fact that the models are close in size and perform similarly on [general embedding benchmarks](https://huggingface.co/spaces/mteb/leaderboard) may suggest that the results will not be that drastic. \n",
    "\n",
    "### Challenge\n",
    "We encourage you to try larger models with even larger embedding dimensions -- to do so, use our `CustomTextEmbedding` class! To use this class, import it as below, and then specify the name of a model as used on HuggingFace:\n",
    "\n",
    "```python\n",
    "from src.embeddings.custom import CustomTextEmbedding\n",
    "text_embedder_cfg = TextEmbedderConfig(\n",
    "    text_embedder=CustomTextEmbedding(model_name=<INSERT_HUGGINGFACE_MODEL_HERE>, device=device), batch_size=128\n",
    ")\n",
    "```"
   ]
  },
  {
   "cell_type": "markdown",
   "metadata": {},
   "source": [
    "## Question 3: Different RDL model architectures?\n",
    "Finally, we experiment with different RDL model architectures. In particular, we investigate what happens as we add or subtract GNN layers from our model."
   ]
  },
  {
   "cell_type": "markdown",
   "metadata": {},
   "source": [
    "### Changing the Number of GNN Layers\n",
    "\n",
    "First, we double the number of GNN layers in our RDL pipeline, moving from `num_layers=2` to `num_layers=4`. The idea is that by adding more layers, we can create a more expressive network that can understand more complex relationships."
   ]
  },
  {
   "cell_type": "code",
   "execution_count": 18,
   "metadata": {},
   "outputs": [
    {
     "name": "stderr",
     "output_type": "stream",
     "text": [
      "100%|██████████| 98/98 [00:14<00:00,  6.76it/s]\n"
     ]
    },
    {
     "name": "stdout",
     "output_type": "stream",
     "text": [
      "Epoch: 01, Train loss: 0.303983603143692, Val metrics: {'average_precision': np.float64(0.949134684933972), 'accuracy': 0.9034991160479002, 'f1': np.float64(0.949303425917813), 'roc_auc': np.float64(0.6813030069322028)}\n"
     ]
    },
    {
     "name": "stderr",
     "output_type": "stream",
     "text": [
      "100%|██████████| 98/98 [00:14<00:00,  6.78it/s]\n"
     ]
    },
    {
     "name": "stdout",
     "output_type": "stream",
     "text": [
      "Epoch: 02, Train loss: 0.2959644913768768, Val metrics: {'average_precision': np.float64(0.9499418935759227), 'accuracy': 0.9034991160479002, 'f1': np.float64(0.949303425917813), 'roc_auc': np.float64(0.6857433386951814)}\n"
     ]
    },
    {
     "name": "stderr",
     "output_type": "stream",
     "text": [
      "100%|██████████| 98/98 [00:14<00:00,  6.80it/s]\n"
     ]
    },
    {
     "name": "stdout",
     "output_type": "stream",
     "text": [
      "Epoch: 03, Train loss: 0.29542414442062376, Val metrics: {'average_precision': np.float64(0.9510329630583357), 'accuracy': 0.9034991160479002, 'f1': np.float64(0.949303425917813), 'roc_auc': np.float64(0.6893636517541815)}\n"
     ]
    },
    {
     "name": "stderr",
     "output_type": "stream",
     "text": [
      "100%|██████████| 98/98 [00:14<00:00,  6.78it/s]\n"
     ]
    },
    {
     "name": "stdout",
     "output_type": "stream",
     "text": [
      "Epoch: 04, Train loss: 0.2955069945526123, Val metrics: {'average_precision': np.float64(0.951321076761359), 'accuracy': 0.9034991160479002, 'f1': np.float64(0.949303425917813), 'roc_auc': np.float64(0.6889098412428271)}\n"
     ]
    },
    {
     "name": "stderr",
     "output_type": "stream",
     "text": [
      "100%|██████████| 98/98 [00:14<00:00,  6.74it/s]\n"
     ]
    },
    {
     "name": "stdout",
     "output_type": "stream",
     "text": [
      "Epoch: 05, Train loss: 0.29498878359794617, Val metrics: {'average_precision': np.float64(0.9502249785205068), 'accuracy': 0.9034991160479002, 'f1': np.float64(0.949303425917813), 'roc_auc': np.float64(0.6863070333591211)}\n"
     ]
    },
    {
     "name": "stderr",
     "output_type": "stream",
     "text": [
      "100%|██████████| 98/98 [00:14<00:00,  6.80it/s]\n"
     ]
    },
    {
     "name": "stdout",
     "output_type": "stream",
     "text": [
      "Epoch: 06, Train loss: 0.2951994306659699, Val metrics: {'average_precision': np.float64(0.9512234453376042), 'accuracy': 0.9034991160479002, 'f1': np.float64(0.949303425917813), 'roc_auc': np.float64(0.6872188784866444)}\n"
     ]
    },
    {
     "name": "stderr",
     "output_type": "stream",
     "text": [
      "100%|██████████| 98/98 [00:14<00:00,  6.78it/s]\n"
     ]
    },
    {
     "name": "stdout",
     "output_type": "stream",
     "text": [
      "Epoch: 07, Train loss: 0.2951007682323456, Val metrics: {'average_precision': np.float64(0.9512420271525327), 'accuracy': 0.9034991160479002, 'f1': np.float64(0.949303425917813), 'roc_auc': np.float64(0.6860325303544044)}\n"
     ]
    },
    {
     "name": "stderr",
     "output_type": "stream",
     "text": [
      "100%|██████████| 98/98 [00:14<00:00,  6.77it/s]\n"
     ]
    },
    {
     "name": "stdout",
     "output_type": "stream",
     "text": [
      "Epoch: 08, Train loss: 0.2947340405464172, Val metrics: {'average_precision': np.float64(0.9505508066164876), 'accuracy': 0.9034991160479002, 'f1': np.float64(0.949303425917813), 'roc_auc': np.float64(0.6884452726639239)}\n"
     ]
    },
    {
     "name": "stderr",
     "output_type": "stream",
     "text": [
      "100%|██████████| 98/98 [00:14<00:00,  6.65it/s]\n"
     ]
    },
    {
     "name": "stdout",
     "output_type": "stream",
     "text": [
      "Epoch: 09, Train loss: 0.2958124132728577, Val metrics: {'average_precision': np.float64(0.9515073443437798), 'accuracy': 0.9034991160479002, 'f1': np.float64(0.949303425917813), 'roc_auc': np.float64(0.6904863065114077)}\n"
     ]
    },
    {
     "name": "stderr",
     "output_type": "stream",
     "text": [
      "100%|██████████| 98/98 [00:14<00:00,  6.75it/s]\n"
     ]
    },
    {
     "name": "stdout",
     "output_type": "stream",
     "text": [
      "Epoch: 10, Train loss: 0.29464942566871644, Val metrics: {'average_precision': np.float64(0.9512231357017916), 'accuracy': 0.9034991160479002, 'f1': np.float64(0.949303425917813), 'roc_auc': np.float64(0.6895627398120654)}\n",
      "Best val metrics: {'average_precision': np.float64(0.9514998841637301), 'accuracy': 0.9034991160479002, 'f1': np.float64(0.949303425917813), 'roc_auc': np.float64(0.6904853430071374)}\n",
      "Best test metrics: {'average_precision': np.float64(0.9148140335039915), 'accuracy': 0.8505909380276232, 'f1': np.float64(0.9192641340113671), 'roc_auc': np.float64(0.6603311487439038)}\n"
     ]
    },
    {
     "data": {
      "text/plain": [
       "{'average_precision': np.float64(0.9148140335039915),\n",
       " 'accuracy': 0.8505909380276232,\n",
       " 'f1': np.float64(0.9192641340113671),\n",
       " 'roc_auc': np.float64(0.6603311487439038)}"
      ]
     },
     "execution_count": 18,
     "metadata": {},
     "output_type": "execute_result"
    }
   ],
   "source": [
    "# Define a new model, don't load in old weights.\n",
    "deep_model = RDLModel(\n",
    "    data=data,\n",
    "    col_stats_dict=col_stats_dict,\n",
    "    num_layers=4,\n",
    "    channels=128,\n",
    "    out_channels=1,\n",
    "    aggr=\"sum\",\n",
    "    norm=\"batch_norm\",\n",
    ").to(device)\n",
    "deep_optimizer = torch.optim.Adam(deep_model.parameters(), lr=0.005)\n",
    "deep_state_dict = training_run(\n",
    "    deep_model,\n",
    "    device,\n",
    "    deep_optimizer,\n",
    "    task,\n",
    "    loader_dict,\n",
    "    val_table,\n",
    "    loss_fn,\n",
    "    entity_table,\n",
    "    epochs=10,\n",
    ")\n",
    "deep_model.load_state_dict(deep_state_dict)\n",
    "\n",
    "# Evaluate on val and test set\n",
    "eval_model(deep_model, loader_dict, \"val\", task, device, val_table)\n",
    "eval_model(deep_model, loader_dict, \"test\", task, device, None)"
   ]
  },
  {
   "cell_type": "markdown",
   "metadata": {},
   "source": [
    "As we see, training using $4$ layers actually makes the model perform worse over time. Thus, given the simplicity of the task and the size of dataset, it is likely that we are overfitting. In particular, this is because of over-smoothing. Recall that a receptive field is the set of nodes that determine the embedding of a node of interest. However, if we have too many layers, we might have it so that all node embeddings converge to the same value."
   ]
  },
  {
   "cell_type": "markdown",
   "metadata": {},
   "source": [
    "Given that using double the amount of layers leads to less optimal results, we can try the opposite strategy and halve the number of layers in the network."
   ]
  },
  {
   "cell_type": "code",
   "execution_count": 19,
   "metadata": {},
   "outputs": [
    {
     "name": "stderr",
     "output_type": "stream",
     "text": [
      "100%|██████████| 98/98 [00:09<00:00, 10.85it/s]\n"
     ]
    },
    {
     "name": "stdout",
     "output_type": "stream",
     "text": [
      "Epoch: 01, Train loss: 0.303380972366333, Val metrics: {'average_precision': np.float64(0.9464615485309229), 'accuracy': 0.9034991160479002, 'f1': np.float64(0.949303425917813), 'roc_auc': np.float64(0.6725285522047926)}\n"
     ]
    },
    {
     "name": "stderr",
     "output_type": "stream",
     "text": [
      " 90%|████████▉ | 88/98 [00:08<00:00, 10.93it/s]"
     ]
    },
    {
     "name": "stderr",
     "output_type": "stream",
     "text": [
      "100%|██████████| 98/98 [00:08<00:00, 10.93it/s]\n"
     ]
    },
    {
     "name": "stdout",
     "output_type": "stream",
     "text": [
      "Epoch: 02, Train loss: 0.295808497877121, Val metrics: {'average_precision': np.float64(0.9495360586666967), 'accuracy': 0.9034991160479002, 'f1': np.float64(0.949303425917813), 'roc_auc': np.float64(0.6807321083191153)}\n"
     ]
    },
    {
     "name": "stderr",
     "output_type": "stream",
     "text": [
      "100%|██████████| 98/98 [00:08<00:00, 10.96it/s]\n"
     ]
    },
    {
     "name": "stdout",
     "output_type": "stream",
     "text": [
      "Epoch: 03, Train loss: 0.2950318732070923, Val metrics: {'average_precision': np.float64(0.9513510134509132), 'accuracy': 0.9034991160479002, 'f1': np.float64(0.949303425917813), 'roc_auc': np.float64(0.6895486509549196)}\n"
     ]
    },
    {
     "name": "stderr",
     "output_type": "stream",
     "text": [
      "100%|██████████| 98/98 [00:09<00:00, 10.88it/s]\n"
     ]
    },
    {
     "name": "stdout",
     "output_type": "stream",
     "text": [
      "Epoch: 04, Train loss: 0.29412517463684085, Val metrics: {'average_precision': np.float64(0.949935381668324), 'accuracy': 0.9034991160479002, 'f1': np.float64(0.949303425917813), 'roc_auc': np.float64(0.6864189210901233)}\n"
     ]
    },
    {
     "name": "stderr",
     "output_type": "stream",
     "text": [
      "100%|██████████| 98/98 [00:09<00:00, 10.88it/s]\n"
     ]
    },
    {
     "name": "stdout",
     "output_type": "stream",
     "text": [
      "Epoch: 05, Train loss: 0.29329397609710695, Val metrics: {'average_precision': np.float64(0.951582754242861), 'accuracy': 0.9034991160479002, 'f1': np.float64(0.949303425917813), 'roc_auc': np.float64(0.6895540555119859)}\n"
     ]
    },
    {
     "name": "stderr",
     "output_type": "stream",
     "text": [
      "100%|██████████| 98/98 [00:09<00:00, 10.84it/s]\n"
     ]
    },
    {
     "name": "stdout",
     "output_type": "stream",
     "text": [
      "Epoch: 06, Train loss: 0.29288578771591184, Val metrics: {'average_precision': np.float64(0.949489624320297), 'accuracy': 0.9034991160479002, 'f1': np.float64(0.949303425917813), 'roc_auc': np.float64(0.6851802884943629)}\n"
     ]
    },
    {
     "name": "stderr",
     "output_type": "stream",
     "text": [
      "100%|██████████| 98/98 [00:08<00:00, 10.96it/s]\n"
     ]
    },
    {
     "name": "stdout",
     "output_type": "stream",
     "text": [
      "Epoch: 07, Train loss: 0.2924335363864899, Val metrics: {'average_precision': np.float64(0.9497764042674597), 'accuracy': 0.9034991160479002, 'f1': np.float64(0.949303425917813), 'roc_auc': np.float64(0.6854870784633722)}\n"
     ]
    },
    {
     "name": "stderr",
     "output_type": "stream",
     "text": [
      "100%|██████████| 98/98 [00:08<00:00, 10.97it/s]\n"
     ]
    },
    {
     "name": "stdout",
     "output_type": "stream",
     "text": [
      "Epoch: 08, Train loss: 0.2927802843952179, Val metrics: {'average_precision': np.float64(0.9503901080875419), 'accuracy': 0.9034991160479002, 'f1': np.float64(0.949303425917813), 'roc_auc': np.float64(0.689552166788383)}\n"
     ]
    },
    {
     "name": "stderr",
     "output_type": "stream",
     "text": [
      "100%|██████████| 98/98 [00:08<00:00, 10.96it/s]\n"
     ]
    },
    {
     "name": "stdout",
     "output_type": "stream",
     "text": [
      "Epoch: 09, Train loss: 0.2932248085021973, Val metrics: {'average_precision': np.float64(0.9507414694506809), 'accuracy': 0.9034991160479002, 'f1': np.float64(0.949303425917813), 'roc_auc': np.float64(0.6899321128928892)}\n"
     ]
    },
    {
     "name": "stderr",
     "output_type": "stream",
     "text": [
      "100%|██████████| 98/98 [00:08<00:00, 10.96it/s]\n"
     ]
    },
    {
     "name": "stdout",
     "output_type": "stream",
     "text": [
      "Epoch: 10, Train loss: 0.2918308586597443, Val metrics: {'average_precision': np.float64(0.949645781801803), 'accuracy': 0.9034991160479002, 'f1': np.float64(0.949303425917813), 'roc_auc': np.float64(0.6893001561846803)}\n",
      "Best val metrics: {'average_precision': np.float64(0.9507476089742285), 'accuracy': 0.9034991160479002, 'f1': np.float64(0.949303425917813), 'roc_auc': np.float64(0.6898783608400827)}\n",
      "Best test metrics: {'average_precision': np.float64(0.9123451251656315), 'accuracy': 0.8505909380276232, 'f1': np.float64(0.9192641340113671), 'roc_auc': np.float64(0.6596394535864758)}\n"
     ]
    },
    {
     "data": {
      "text/plain": [
       "{'average_precision': np.float64(0.9123451251656315),\n",
       " 'accuracy': 0.8505909380276232,\n",
       " 'f1': np.float64(0.9192641340113671),\n",
       " 'roc_auc': np.float64(0.6596394535864758)}"
      ]
     },
     "execution_count": 19,
     "metadata": {},
     "output_type": "execute_result"
    }
   ],
   "source": [
    "# Define a new model, don't load in old weights.\n",
    "shallow_model = RDLModel(\n",
    "    data=data,\n",
    "    col_stats_dict=col_stats_dict,\n",
    "    num_layers=1,\n",
    "    channels=128,\n",
    "    out_channels=1,\n",
    "    aggr=\"sum\",\n",
    "    norm=\"batch_norm\",\n",
    ").to(device)\n",
    "shallow_optimizer = torch.optim.Adam(shallow_model.parameters(), lr=0.005)\n",
    "shallow_state_dict = training_run(\n",
    "    shallow_model,\n",
    "    device,\n",
    "    shallow_optimizer,\n",
    "    task,\n",
    "    loader_dict,\n",
    "    val_table,\n",
    "    loss_fn,\n",
    "    entity_table,\n",
    "    epochs=10,\n",
    ")\n",
    "shallow_model.load_state_dict(shallow_state_dict)\n",
    "\n",
    "# Evaluate on val and test set\n",
    "eval_model(shallow_model, loader_dict, \"val\", task, device, val_table)\n",
    "eval_model(shallow_model, loader_dict, \"test\", task, device, None)"
   ]
  },
  {
   "cell_type": "markdown",
   "metadata": {},
   "source": [
    "Interestingly enough, we see that even with half the number of layers, we do just about the same as with double the number of layers. Once again, this might be more task-specific as opposed to a general conclusion about GNNs and the RDL pipeline.\n",
    "\n",
    "Finally, we try one last experiment, where we iterate the number of layers from 1 to 10."
   ]
  },
  {
   "cell_type": "code",
   "execution_count": 20,
   "metadata": {},
   "outputs": [
    {
     "name": "stdout",
     "output_type": "stream",
     "text": [
      "\n",
      "Number of Layers = 1\n"
     ]
    },
    {
     "name": "stderr",
     "output_type": "stream",
     "text": [
      "100%|██████████| 98/98 [00:09<00:00, 10.75it/s]\n"
     ]
    },
    {
     "name": "stdout",
     "output_type": "stream",
     "text": [
      "Epoch: 01, Train loss: 0.30301559126853944, Val metrics: {'average_precision': np.float64(0.9446843454589428), 'accuracy': 0.9034991160479002, 'f1': np.float64(0.949303425917813), 'roc_auc': np.float64(0.6643794372721583)}\n"
     ]
    },
    {
     "name": "stderr",
     "output_type": "stream",
     "text": [
      "100%|██████████| 98/98 [00:09<00:00, 10.86it/s]\n"
     ]
    },
    {
     "name": "stdout",
     "output_type": "stream",
     "text": [
      "Epoch: 02, Train loss: 0.2960911612415314, Val metrics: {'average_precision': np.float64(0.9477987882519824), 'accuracy': 0.9034991160479002, 'f1': np.float64(0.949303425917813), 'roc_auc': np.float64(0.6758240813739719)}\n"
     ]
    },
    {
     "name": "stderr",
     "output_type": "stream",
     "text": [
      " 78%|███████▊  | 76/98 [00:07<00:02, 10.99it/s]"
     ]
    },
    {
     "name": "stderr",
     "output_type": "stream",
     "text": [
      "100%|██████████| 98/98 [00:09<00:00, 10.85it/s]\n"
     ]
    },
    {
     "name": "stdout",
     "output_type": "stream",
     "text": [
      "Epoch: 03, Train loss: 0.29479501175880435, Val metrics: {'average_precision': np.float64(0.9484800916300093), 'accuracy': 0.9034991160479002, 'f1': np.float64(0.949303425917813), 'roc_auc': np.float64(0.6810275212807466)}\n"
     ]
    },
    {
     "name": "stderr",
     "output_type": "stream",
     "text": [
      "100%|██████████| 98/98 [00:09<00:00, 10.86it/s]\n"
     ]
    },
    {
     "name": "stdout",
     "output_type": "stream",
     "text": [
      "Epoch: 04, Train loss: 0.29357361428260803, Val metrics: {'average_precision': np.float64(0.9486594367698813), 'accuracy': 0.9034991160479002, 'f1': np.float64(0.949303425917813), 'roc_auc': np.float64(0.6823347668660402)}\n"
     ]
    },
    {
     "name": "stderr",
     "output_type": "stream",
     "text": [
      "100%|██████████| 98/98 [00:08<00:00, 10.89it/s]\n"
     ]
    },
    {
     "name": "stdout",
     "output_type": "stream",
     "text": [
      "Epoch: 05, Train loss: 0.2941636466217041, Val metrics: {'average_precision': np.float64(0.9510163361035668), 'accuracy': 0.9034991160479002, 'f1': np.float64(0.949303425917813), 'roc_auc': np.float64(0.6870900050048624)}\n"
     ]
    },
    {
     "name": "stderr",
     "output_type": "stream",
     "text": [
      "100%|██████████| 98/98 [00:08<00:00, 10.89it/s]\n"
     ]
    },
    {
     "name": "stdout",
     "output_type": "stream",
     "text": [
      "Epoch: 06, Train loss: 0.2934983890724182, Val metrics: {'average_precision': np.float64(0.9500801625260954), 'accuracy': 0.9034991160479002, 'f1': np.float64(0.949303425917813), 'roc_auc': np.float64(0.6873568191178848)}\n"
     ]
    },
    {
     "name": "stderr",
     "output_type": "stream",
     "text": [
      "100%|██████████| 98/98 [00:09<00:00, 10.88it/s]\n"
     ]
    },
    {
     "name": "stdout",
     "output_type": "stream",
     "text": [
      "Epoch: 07, Train loss: 0.2930274577140808, Val metrics: {'average_precision': np.float64(0.9499611874606773), 'accuracy': 0.9034991160479002, 'f1': np.float64(0.949303425917813), 'roc_auc': np.float64(0.6867977633122536)}\n"
     ]
    },
    {
     "name": "stderr",
     "output_type": "stream",
     "text": [
      "100%|██████████| 98/98 [00:08<00:00, 10.91it/s]\n"
     ]
    },
    {
     "name": "stdout",
     "output_type": "stream",
     "text": [
      "Epoch: 08, Train loss: 0.2926535381507874, Val metrics: {'average_precision': np.float64(0.9516517786442062), 'accuracy': 0.9034991160479002, 'f1': np.float64(0.949303425917813), 'roc_auc': np.float64(0.6879285599996059)}\n"
     ]
    },
    {
     "name": "stderr",
     "output_type": "stream",
     "text": [
      "100%|██████████| 98/98 [00:09<00:00, 10.85it/s]\n"
     ]
    },
    {
     "name": "stdout",
     "output_type": "stream",
     "text": [
      "Epoch: 09, Train loss: 0.29267804520606994, Val metrics: {'average_precision': np.float64(0.951142959030391), 'accuracy': 0.9034991160479002, 'f1': np.float64(0.949303425917813), 'roc_auc': np.float64(0.688199630121558)}\n"
     ]
    },
    {
     "name": "stderr",
     "output_type": "stream",
     "text": [
      "100%|██████████| 98/98 [00:09<00:00, 10.88it/s]\n"
     ]
    },
    {
     "name": "stdout",
     "output_type": "stream",
     "text": [
      "Epoch: 10, Train loss: 0.29191982834815977, Val metrics: {'average_precision': np.float64(0.9489577291037786), 'accuracy': 0.9034991160479002, 'f1': np.float64(0.949303425917813), 'roc_auc': np.float64(0.6819257114470867)}\n",
      "Best val metrics: {'average_precision': np.float64(0.9511526959981742), 'accuracy': 0.9034991160479002, 'f1': np.float64(0.949303425917813), 'roc_auc': np.float64(0.6881961015264486)}\n",
      "Best test metrics: {'average_precision': np.float64(0.9145768201586175), 'accuracy': 0.8505909380276232, 'f1': np.float64(0.9192641340113671), 'roc_auc': np.float64(0.6594640529446203)}\n",
      "\n",
      "Number of Layers = 2\n"
     ]
    },
    {
     "name": "stderr",
     "output_type": "stream",
     "text": [
      "100%|██████████| 98/98 [00:11<00:00,  8.25it/s]\n"
     ]
    },
    {
     "name": "stdout",
     "output_type": "stream",
     "text": [
      "Epoch: 01, Train loss: 0.3029890931415558, Val metrics: {'average_precision': np.float64(0.9496508671358016), 'accuracy': 0.9034991160479002, 'f1': np.float64(0.949303425917813), 'roc_auc': np.float64(0.6821609085822299)}\n"
     ]
    },
    {
     "name": "stderr",
     "output_type": "stream",
     "text": [
      "100%|██████████| 98/98 [00:11<00:00,  8.30it/s]\n"
     ]
    },
    {
     "name": "stdout",
     "output_type": "stream",
     "text": [
      "Epoch: 02, Train loss: 0.29548684564590455, Val metrics: {'average_precision': np.float64(0.9502987443733407), 'accuracy': 0.9034991160479002, 'f1': np.float64(0.949303425917813), 'roc_auc': np.float64(0.6872426406714321)}\n"
     ]
    },
    {
     "name": "stderr",
     "output_type": "stream",
     "text": [
      "100%|██████████| 98/98 [00:11<00:00,  8.36it/s]\n"
     ]
    },
    {
     "name": "stdout",
     "output_type": "stream",
     "text": [
      "Epoch: 03, Train loss: 0.29467833965301515, Val metrics: {'average_precision': np.float64(0.9512619475412507), 'accuracy': 0.9034991160479002, 'f1': np.float64(0.949303425917813), 'roc_auc': np.float64(0.6867408846561855)}\n"
     ]
    },
    {
     "name": "stderr",
     "output_type": "stream",
     "text": [
      "100%|██████████| 98/98 [00:11<00:00,  8.29it/s]\n"
     ]
    },
    {
     "name": "stdout",
     "output_type": "stream",
     "text": [
      "Epoch: 04, Train loss: 0.29377176215171813, Val metrics: {'average_precision': np.float64(0.9510077118148619), 'accuracy': 0.9034991160479002, 'f1': np.float64(0.949303425917813), 'roc_auc': np.float64(0.6904996934780254)}\n"
     ]
    },
    {
     "name": "stderr",
     "output_type": "stream",
     "text": [
      "100%|██████████| 98/98 [00:11<00:00,  8.28it/s]\n"
     ]
    },
    {
     "name": "stdout",
     "output_type": "stream",
     "text": [
      "Epoch: 05, Train loss: 0.29316727188110353, Val metrics: {'average_precision': np.float64(0.9531149888815373), 'accuracy': 0.9034991160479002, 'f1': np.float64(0.949303425917813), 'roc_auc': np.float64(0.6947027862425066)}\n"
     ]
    },
    {
     "name": "stderr",
     "output_type": "stream",
     "text": [
      "100%|██████████| 98/98 [00:11<00:00,  8.31it/s]\n"
     ]
    },
    {
     "name": "stdout",
     "output_type": "stream",
     "text": [
      "Epoch: 06, Train loss: 0.2922903276538849, Val metrics: {'average_precision': np.float64(0.9513019928491286), 'accuracy': 0.9034991160479002, 'f1': np.float64(0.949303425917813), 'roc_auc': np.float64(0.6907027440269817)}\n"
     ]
    },
    {
     "name": "stderr",
     "output_type": "stream",
     "text": [
      "100%|██████████| 98/98 [00:11<00:00,  8.29it/s]\n"
     ]
    },
    {
     "name": "stdout",
     "output_type": "stream",
     "text": [
      "Epoch: 07, Train loss: 0.2918552239608765, Val metrics: {'average_precision': np.float64(0.9517028321200692), 'accuracy': 0.9034991160479002, 'f1': np.float64(0.949303425917813), 'roc_auc': np.float64(0.6918259922007456)}\n"
     ]
    },
    {
     "name": "stderr",
     "output_type": "stream",
     "text": [
      "100%|██████████| 98/98 [00:11<00:00,  8.24it/s]\n"
     ]
    },
    {
     "name": "stdout",
     "output_type": "stream",
     "text": [
      "Epoch: 08, Train loss: 0.29149073254585267, Val metrics: {'average_precision': np.float64(0.9529773839700204), 'accuracy': 0.9034991160479002, 'f1': np.float64(0.949303425917813), 'roc_auc': np.float64(0.6956983094826252)}\n"
     ]
    },
    {
     "name": "stderr",
     "output_type": "stream",
     "text": [
      "100%|██████████| 98/98 [00:12<00:00,  7.95it/s]\n"
     ]
    },
    {
     "name": "stdout",
     "output_type": "stream",
     "text": [
      "Epoch: 09, Train loss: 0.2913500706195831, Val metrics: {'average_precision': np.float64(0.9522084010865359), 'accuracy': 0.9034991160479002, 'f1': np.float64(0.949303425917813), 'roc_auc': np.float64(0.6944086685879409)}\n"
     ]
    },
    {
     "name": "stderr",
     "output_type": "stream",
     "text": [
      "100%|██████████| 98/98 [00:11<00:00,  8.28it/s]\n"
     ]
    },
    {
     "name": "stdout",
     "output_type": "stream",
     "text": [
      "Epoch: 10, Train loss: 0.2909697756099701, Val metrics: {'average_precision': np.float64(0.9528025980578053), 'accuracy': 0.9034991160479002, 'f1': np.float64(0.949303425917813), 'roc_auc': np.float64(0.6922678259073614)}\n",
      "Best val metrics: {'average_precision': np.float64(0.9529639135797533), 'accuracy': 0.9034991160479002, 'f1': np.float64(0.949303425917813), 'roc_auc': np.float64(0.6957013339927192)}\n",
      "Best test metrics: {'average_precision': np.float64(0.9148340839454865), 'accuracy': 0.8505909380276232, 'f1': np.float64(0.9192641340113671), 'roc_auc': np.float64(0.6602506476468186)}\n",
      "\n",
      "Number of Layers = 3\n"
     ]
    },
    {
     "name": "stderr",
     "output_type": "stream",
     "text": [
      "100%|██████████| 98/98 [00:13<00:00,  7.37it/s]\n"
     ]
    },
    {
     "name": "stdout",
     "output_type": "stream",
     "text": [
      "Epoch: 01, Train loss: 0.3047792381572723, Val metrics: {'average_precision': np.float64(0.9479540019881149), 'accuracy': 0.9034991160479002, 'f1': np.float64(0.949303425917813), 'roc_auc': np.float64(0.6769341148633385)}\n"
     ]
    },
    {
     "name": "stderr",
     "output_type": "stream",
     "text": [
      "100%|██████████| 98/98 [00:13<00:00,  7.38it/s]\n"
     ]
    },
    {
     "name": "stdout",
     "output_type": "stream",
     "text": [
      "Epoch: 02, Train loss: 0.2961140558719635, Val metrics: {'average_precision': np.float64(0.9504408554139074), 'accuracy': 0.9034991160479002, 'f1': np.float64(0.949303425917813), 'roc_auc': np.float64(0.6872693635580838)}\n"
     ]
    },
    {
     "name": "stderr",
     "output_type": "stream",
     "text": [
      "100%|██████████| 98/98 [00:13<00:00,  7.42it/s]\n"
     ]
    },
    {
     "name": "stdout",
     "output_type": "stream",
     "text": [
      "Epoch: 03, Train loss: 0.29531869975090025, Val metrics: {'average_precision': np.float64(0.9509261391576767), 'accuracy': 0.9034991160479002, 'f1': np.float64(0.949303425917813), 'roc_auc': np.float64(0.6876980336268861)}\n"
     ]
    },
    {
     "name": "stderr",
     "output_type": "stream",
     "text": [
      "100%|██████████| 98/98 [00:13<00:00,  7.38it/s]\n"
     ]
    },
    {
     "name": "stdout",
     "output_type": "stream",
     "text": [
      "Epoch: 04, Train loss: 0.2941321965694427, Val metrics: {'average_precision': np.float64(0.9505485917537578), 'accuracy': 0.9034991160479002, 'f1': np.float64(0.949303425917813), 'roc_auc': np.float64(0.6897239513047239)}\n"
     ]
    },
    {
     "name": "stderr",
     "output_type": "stream",
     "text": [
      "100%|██████████| 98/98 [00:13<00:00,  7.40it/s]\n"
     ]
    },
    {
     "name": "stdout",
     "output_type": "stream",
     "text": [
      "Epoch: 05, Train loss: 0.29304446471214296, Val metrics: {'average_precision': np.float64(0.950179226416281), 'accuracy': 0.9034991160479002, 'f1': np.float64(0.949303425917813), 'roc_auc': np.float64(0.688153082017899)}\n"
     ]
    },
    {
     "name": "stderr",
     "output_type": "stream",
     "text": [
      "100%|██████████| 98/98 [00:13<00:00,  7.39it/s]\n"
     ]
    },
    {
     "name": "stdout",
     "output_type": "stream",
     "text": [
      "Epoch: 06, Train loss: 0.29321520691871644, Val metrics: {'average_precision': np.float64(0.9515835490473272), 'accuracy': 0.9034991160479002, 'f1': np.float64(0.949303425917813), 'roc_auc': np.float64(0.6910275662017404)}\n"
     ]
    },
    {
     "name": "stderr",
     "output_type": "stream",
     "text": [
      "100%|██████████| 98/98 [00:13<00:00,  7.38it/s]\n"
     ]
    },
    {
     "name": "stdout",
     "output_type": "stream",
     "text": [
      "Epoch: 07, Train loss: 0.2926421847057343, Val metrics: {'average_precision': np.float64(0.9521692552652964), 'accuracy': 0.9034991160479002, 'f1': np.float64(0.949303425917813), 'roc_auc': np.float64(0.6924568705498705)}\n"
     ]
    },
    {
     "name": "stderr",
     "output_type": "stream",
     "text": [
      "100%|██████████| 98/98 [00:13<00:00,  7.37it/s]\n"
     ]
    },
    {
     "name": "stdout",
     "output_type": "stream",
     "text": [
      "Epoch: 08, Train loss: 0.2922558702325821, Val metrics: {'average_precision': np.float64(0.952444589594968), 'accuracy': 0.9034991160479002, 'f1': np.float64(0.949303425917813), 'roc_auc': np.float64(0.6932163799095041)}\n"
     ]
    },
    {
     "name": "stderr",
     "output_type": "stream",
     "text": [
      "100%|██████████| 98/98 [00:13<00:00,  7.42it/s]\n"
     ]
    },
    {
     "name": "stdout",
     "output_type": "stream",
     "text": [
      "Epoch: 09, Train loss: 0.2921290690135956, Val metrics: {'average_precision': np.float64(0.9510599006497196), 'accuracy': 0.9034991160479002, 'f1': np.float64(0.949303425917813), 'roc_auc': np.float64(0.6899336570520511)}\n"
     ]
    },
    {
     "name": "stderr",
     "output_type": "stream",
     "text": [
      "100%|██████████| 98/98 [00:13<00:00,  7.40it/s]\n"
     ]
    },
    {
     "name": "stdout",
     "output_type": "stream",
     "text": [
      "Epoch: 10, Train loss: 0.291865368347168, Val metrics: {'average_precision': np.float64(0.952206432051997), 'accuracy': 0.9034991160479002, 'f1': np.float64(0.949303425917813), 'roc_auc': np.float64(0.6928250631784426)}\n",
      "Best val metrics: {'average_precision': np.float64(0.952461344960537), 'accuracy': 0.9034991160479002, 'f1': np.float64(0.949303425917813), 'roc_auc': np.float64(0.6931955592841115)}\n",
      "Best test metrics: {'average_precision': np.float64(0.9153336078623291), 'accuracy': 0.8505909380276232, 'f1': np.float64(0.9192641340113671), 'roc_auc': np.float64(0.6608191527361408)}\n",
      "\n",
      "Number of Layers = 4\n"
     ]
    },
    {
     "name": "stderr",
     "output_type": "stream",
     "text": [
      "100%|██████████| 98/98 [00:14<00:00,  6.64it/s]\n"
     ]
    },
    {
     "name": "stdout",
     "output_type": "stream",
     "text": [
      "Epoch: 01, Train loss: 0.30348373708724974, Val metrics: {'average_precision': np.float64(0.9490435106853847), 'accuracy': 0.9034991160479002, 'f1': np.float64(0.949303425917813), 'roc_auc': np.float64(0.6813680083759277)}\n"
     ]
    },
    {
     "name": "stderr",
     "output_type": "stream",
     "text": [
      "100%|██████████| 98/98 [00:14<00:00,  6.68it/s]\n"
     ]
    },
    {
     "name": "stdout",
     "output_type": "stream",
     "text": [
      "Epoch: 02, Train loss: 0.29599448247909543, Val metrics: {'average_precision': np.float64(0.9496727668279124), 'accuracy': 0.9034991160479002, 'f1': np.float64(0.949303425917813), 'roc_auc': np.float64(0.6846304210738267)}\n"
     ]
    },
    {
     "name": "stderr",
     "output_type": "stream",
     "text": [
      "100%|██████████| 98/98 [00:14<00:00,  6.62it/s]\n"
     ]
    },
    {
     "name": "stdout",
     "output_type": "stream",
     "text": [
      "Epoch: 03, Train loss: 0.2956083804988861, Val metrics: {'average_precision': np.float64(0.9512048327244269), 'accuracy': 0.9034991160479002, 'f1': np.float64(0.949303425917813), 'roc_auc': np.float64(0.6887285110153041)}\n"
     ]
    },
    {
     "name": "stderr",
     "output_type": "stream",
     "text": [
      "100%|██████████| 98/98 [00:14<00:00,  6.66it/s]\n"
     ]
    },
    {
     "name": "stdout",
     "output_type": "stream",
     "text": [
      "Epoch: 04, Train loss: 0.29579768865585326, Val metrics: {'average_precision': np.float64(0.9509582806490733), 'accuracy': 0.9034991160479002, 'f1': np.float64(0.949303425917813), 'roc_auc': np.float64(0.6883050349364097)}\n"
     ]
    },
    {
     "name": "stderr",
     "output_type": "stream",
     "text": [
      "100%|██████████| 98/98 [00:14<00:00,  6.67it/s]\n"
     ]
    },
    {
     "name": "stdout",
     "output_type": "stream",
     "text": [
      "Epoch: 05, Train loss: 0.2951779151344299, Val metrics: {'average_precision': np.float64(0.9511849221870405), 'accuracy': 0.9034991160479002, 'f1': np.float64(0.949303425917813), 'roc_auc': np.float64(0.6887778922043672)}\n"
     ]
    },
    {
     "name": "stderr",
     "output_type": "stream",
     "text": [
      "100%|██████████| 98/98 [00:14<00:00,  6.68it/s]\n"
     ]
    },
    {
     "name": "stdout",
     "output_type": "stream",
     "text": [
      "Epoch: 06, Train loss: 0.29520102628707884, Val metrics: {'average_precision': np.float64(0.9512194485534193), 'accuracy': 0.9034991160479002, 'f1': np.float64(0.949303425917813), 'roc_auc': np.float64(0.688191150007814)}\n"
     ]
    },
    {
     "name": "stderr",
     "output_type": "stream",
     "text": [
      "100%|██████████| 98/98 [00:14<00:00,  6.66it/s]\n"
     ]
    },
    {
     "name": "stdout",
     "output_type": "stream",
     "text": [
      "Epoch: 07, Train loss: 0.29488406898498537, Val metrics: {'average_precision': np.float64(0.9508317608327144), 'accuracy': 0.9034991160479002, 'f1': np.float64(0.949303425917813), 'roc_auc': np.float64(0.6871692037797239)}\n"
     ]
    },
    {
     "name": "stderr",
     "output_type": "stream",
     "text": [
      "100%|██████████| 98/98 [00:14<00:00,  6.67it/s]\n"
     ]
    },
    {
     "name": "stdout",
     "output_type": "stream",
     "text": [
      "Epoch: 08, Train loss: 0.2948334258842468, Val metrics: {'average_precision': np.float64(0.9496535322139678), 'accuracy': 0.9034991160479002, 'f1': np.float64(0.949303425917813), 'roc_auc': np.float64(0.6846316398110164)}\n"
     ]
    },
    {
     "name": "stderr",
     "output_type": "stream",
     "text": [
      "100%|██████████| 98/98 [00:14<00:00,  6.65it/s]\n"
     ]
    },
    {
     "name": "stdout",
     "output_type": "stream",
     "text": [
      "Epoch: 09, Train loss: 0.2951410061454773, Val metrics: {'average_precision': np.float64(0.9512922234196365), 'accuracy': 0.9034991160479002, 'f1': np.float64(0.949303425917813), 'roc_auc': np.float64(0.6881680322861474)}\n"
     ]
    },
    {
     "name": "stderr",
     "output_type": "stream",
     "text": [
      "100%|██████████| 98/98 [00:14<00:00,  6.63it/s]\n"
     ]
    },
    {
     "name": "stdout",
     "output_type": "stream",
     "text": [
      "Epoch: 10, Train loss: 0.2945969623565674, Val metrics: {'average_precision': np.float64(0.951890971641346), 'accuracy': 0.9034991160479002, 'f1': np.float64(0.949303425917813), 'roc_auc': np.float64(0.690741067249816)}\n",
      "Best val metrics: {'average_precision': np.float64(0.9518761910200796), 'accuracy': 0.9034991160479002, 'f1': np.float64(0.949303425917813), 'roc_auc': np.float64(0.6907329317005129)}\n",
      "Best test metrics: {'average_precision': np.float64(0.9145928012909459), 'accuracy': 0.8505909380276232, 'f1': np.float64(0.9192641340113671), 'roc_auc': np.float64(0.6581677616339006)}\n",
      "\n",
      "Number of Layers = 5\n"
     ]
    },
    {
     "name": "stderr",
     "output_type": "stream",
     "text": [
      "100%|██████████| 98/98 [00:16<00:00,  6.06it/s]\n"
     ]
    },
    {
     "name": "stdout",
     "output_type": "stream",
     "text": [
      "Epoch: 01, Train loss: 0.30428280200004576, Val metrics: {'average_precision': np.float64(0.9489881817536318), 'accuracy': 0.9034991160479002, 'f1': np.float64(0.949303425917813), 'roc_auc': np.float64(0.6811818351037607)}\n"
     ]
    },
    {
     "name": "stderr",
     "output_type": "stream",
     "text": [
      "100%|██████████| 98/98 [00:16<00:00,  6.07it/s]\n"
     ]
    },
    {
     "name": "stdout",
     "output_type": "stream",
     "text": [
      "Epoch: 02, Train loss: 0.2965605520439148, Val metrics: {'average_precision': np.float64(0.9517417205299635), 'accuracy': 0.9034991160479002, 'f1': np.float64(0.949303425917813), 'roc_auc': np.float64(0.688998158213731)}\n"
     ]
    },
    {
     "name": "stderr",
     "output_type": "stream",
     "text": [
      "100%|██████████| 98/98 [00:16<00:00,  5.95it/s]\n"
     ]
    },
    {
     "name": "stdout",
     "output_type": "stream",
     "text": [
      "Epoch: 03, Train loss: 0.295606542634964, Val metrics: {'average_precision': np.float64(0.9503333214141999), 'accuracy': 0.9034991160479002, 'f1': np.float64(0.949303425917813), 'roc_auc': np.float64(0.6864737897869517)}\n"
     ]
    },
    {
     "name": "stderr",
     "output_type": "stream",
     "text": [
      "100%|██████████| 98/98 [00:16<00:00,  6.05it/s]\n"
     ]
    },
    {
     "name": "stdout",
     "output_type": "stream",
     "text": [
      "Epoch: 04, Train loss: 0.29544107038497924, Val metrics: {'average_precision': np.float64(0.9517384249170908), 'accuracy': 0.9034991160479002, 'f1': np.float64(0.949303425917813), 'roc_auc': np.float64(0.6872126827075281)}\n"
     ]
    },
    {
     "name": "stderr",
     "output_type": "stream",
     "text": [
      "100%|██████████| 98/98 [00:16<00:00,  6.06it/s]\n"
     ]
    },
    {
     "name": "stdout",
     "output_type": "stream",
     "text": [
      "Epoch: 05, Train loss: 0.29471483465194703, Val metrics: {'average_precision': np.float64(0.9497409930552958), 'accuracy': 0.9034991160479002, 'f1': np.float64(0.949303425917813), 'roc_auc': np.float64(0.6815152969128379)}\n"
     ]
    },
    {
     "name": "stderr",
     "output_type": "stream",
     "text": [
      "100%|██████████| 98/98 [00:16<00:00,  6.03it/s]\n"
     ]
    },
    {
     "name": "stdout",
     "output_type": "stream",
     "text": [
      "Epoch: 06, Train loss: 0.29499930852890016, Val metrics: {'average_precision': np.float64(0.950767432296499), 'accuracy': 0.9034991160479002, 'f1': np.float64(0.949303425917813), 'roc_auc': np.float64(0.6884206873529715)}\n"
     ]
    },
    {
     "name": "stderr",
     "output_type": "stream",
     "text": [
      "100%|██████████| 98/98 [00:16<00:00,  6.05it/s]\n"
     ]
    },
    {
     "name": "stdout",
     "output_type": "stream",
     "text": [
      "Epoch: 07, Train loss: 0.29546929595947263, Val metrics: {'average_precision': np.float64(0.9500639772491171), 'accuracy': 0.9034991160479002, 'f1': np.float64(0.949303425917813), 'roc_auc': np.float64(0.6848254317858247)}\n"
     ]
    },
    {
     "name": "stderr",
     "output_type": "stream",
     "text": [
      "100%|██████████| 98/98 [00:16<00:00,  6.05it/s]\n"
     ]
    },
    {
     "name": "stdout",
     "output_type": "stream",
     "text": [
      "Epoch: 08, Train loss: 0.2947525657367706, Val metrics: {'average_precision': np.float64(0.9508710358832564), 'accuracy': 0.9034991160479002, 'f1': np.float64(0.949303425917813), 'roc_auc': np.float64(0.6879686124254685)}\n"
     ]
    },
    {
     "name": "stderr",
     "output_type": "stream",
     "text": [
      "100%|██████████| 98/98 [00:16<00:00,  6.07it/s]\n"
     ]
    },
    {
     "name": "stdout",
     "output_type": "stream",
     "text": [
      "Epoch: 09, Train loss: 0.29474442193984984, Val metrics: {'average_precision': np.float64(0.9513151832027024), 'accuracy': 0.9034991160479002, 'f1': np.float64(0.949303425917813), 'roc_auc': np.float64(0.6874831530321199)}\n"
     ]
    },
    {
     "name": "stderr",
     "output_type": "stream",
     "text": [
      "100%|██████████| 98/98 [00:16<00:00,  6.01it/s]\n"
     ]
    },
    {
     "name": "stdout",
     "output_type": "stream",
     "text": [
      "Epoch: 10, Train loss: 0.29489679127693175, Val metrics: {'average_precision': np.float64(0.952266472043433), 'accuracy': 0.9034991160479002, 'f1': np.float64(0.949303425917813), 'roc_auc': np.float64(0.6884970211383138)}\n",
      "Best val metrics: {'average_precision': np.float64(0.9517421565582092), 'accuracy': 0.9034991160479002, 'f1': np.float64(0.949303425917813), 'roc_auc': np.float64(0.6889985346822869)}\n",
      "Best test metrics: {'average_precision': np.float64(0.9144210760647843), 'accuracy': 0.8505909380276232, 'f1': np.float64(0.9192641340113671), 'roc_auc': np.float64(0.6613399141764505)}\n",
      "\n",
      "Number of Layers = 6\n"
     ]
    },
    {
     "name": "stderr",
     "output_type": "stream",
     "text": [
      "100%|██████████| 98/98 [00:17<00:00,  5.53it/s]\n"
     ]
    },
    {
     "name": "stdout",
     "output_type": "stream",
     "text": [
      "Epoch: 01, Train loss: 0.3020045892620087, Val metrics: {'average_precision': np.float64(0.9478524362817742), 'accuracy': 0.9034991160479002, 'f1': np.float64(0.949303425917813), 'roc_auc': np.float64(0.6766870813015623)}\n"
     ]
    },
    {
     "name": "stderr",
     "output_type": "stream",
     "text": [
      "100%|██████████| 98/98 [00:17<00:00,  5.45it/s]\n"
     ]
    },
    {
     "name": "stdout",
     "output_type": "stream",
     "text": [
      "Epoch: 02, Train loss: 0.29585211285591123, Val metrics: {'average_precision': np.float64(0.9493352109191848), 'accuracy': 0.9034991160479002, 'f1': np.float64(0.949303425917813), 'roc_auc': np.float64(0.6839563062681708)}\n"
     ]
    },
    {
     "name": "stderr",
     "output_type": "stream",
     "text": [
      "100%|██████████| 98/98 [00:17<00:00,  5.47it/s]\n"
     ]
    },
    {
     "name": "stdout",
     "output_type": "stream",
     "text": [
      "Epoch: 03, Train loss: 0.29571266677856445, Val metrics: {'average_precision': np.float64(0.9499454904956037), 'accuracy': 0.9034991160479002, 'f1': np.float64(0.949303425917813), 'roc_auc': np.float64(0.6783479138116206)}\n"
     ]
    },
    {
     "name": "stderr",
     "output_type": "stream",
     "text": [
      "100%|██████████| 98/98 [00:17<00:00,  5.55it/s]\n"
     ]
    },
    {
     "name": "stdout",
     "output_type": "stream",
     "text": [
      "Epoch: 04, Train loss: 0.29569878887176515, Val metrics: {'average_precision': np.float64(0.9514884076716548), 'accuracy': 0.9034991160479002, 'f1': np.float64(0.949303425917813), 'roc_auc': np.float64(0.6903758097998158)}\n"
     ]
    },
    {
     "name": "stderr",
     "output_type": "stream",
     "text": [
      "100%|██████████| 98/98 [00:17<00:00,  5.57it/s]\n"
     ]
    },
    {
     "name": "stdout",
     "output_type": "stream",
     "text": [
      "Epoch: 05, Train loss: 0.2952263244533539, Val metrics: {'average_precision': np.float64(0.9512313368364751), 'accuracy': 0.9034991160479002, 'f1': np.float64(0.949303425917813), 'roc_auc': np.float64(0.6871552489198607)}\n"
     ]
    },
    {
     "name": "stderr",
     "output_type": "stream",
     "text": [
      "100%|██████████| 98/98 [00:17<00:00,  5.52it/s]\n"
     ]
    },
    {
     "name": "stdout",
     "output_type": "stream",
     "text": [
      "Epoch: 06, Train loss: 0.29517049785614013, Val metrics: {'average_precision': np.float64(0.9513061968681322), 'accuracy': 0.9034991160479002, 'f1': np.float64(0.949303425917813), 'roc_auc': np.float64(0.6897402925923828)}\n"
     ]
    },
    {
     "name": "stderr",
     "output_type": "stream",
     "text": [
      "100%|██████████| 98/98 [00:17<00:00,  5.45it/s]\n"
     ]
    },
    {
     "name": "stdout",
     "output_type": "stream",
     "text": [
      "Epoch: 07, Train loss: 0.29511532002449037, Val metrics: {'average_precision': np.float64(0.9517548649553482), 'accuracy': 0.9034991160479002, 'f1': np.float64(0.949303425917813), 'roc_auc': np.float64(0.6907083400087377)}\n"
     ]
    },
    {
     "name": "stderr",
     "output_type": "stream",
     "text": [
      "100%|██████████| 98/98 [00:17<00:00,  5.54it/s]\n"
     ]
    },
    {
     "name": "stdout",
     "output_type": "stream",
     "text": [
      "Epoch: 08, Train loss: 0.29570613012313846, Val metrics: {'average_precision': np.float64(0.9510904330220636), 'accuracy': 0.9034991160479002, 'f1': np.float64(0.949303425917813), 'roc_auc': np.float64(0.6890847332199606)}\n"
     ]
    },
    {
     "name": "stderr",
     "output_type": "stream",
     "text": [
      "100%|██████████| 98/98 [00:17<00:00,  5.53it/s]\n"
     ]
    },
    {
     "name": "stdout",
     "output_type": "stream",
     "text": [
      "Epoch: 09, Train loss: 0.2947099430656433, Val metrics: {'average_precision': np.float64(0.9511397678142579), 'accuracy': 0.9034991160479002, 'f1': np.float64(0.949303425917813), 'roc_auc': np.float64(0.6866244218751049)}\n"
     ]
    },
    {
     "name": "stderr",
     "output_type": "stream",
     "text": [
      "100%|██████████| 98/98 [00:17<00:00,  5.52it/s]\n"
     ]
    },
    {
     "name": "stdout",
     "output_type": "stream",
     "text": [
      "Epoch: 10, Train loss: 0.2952330599784851, Val metrics: {'average_precision': np.float64(0.9517035894138125), 'accuracy': 0.9034991160479002, 'f1': np.float64(0.949303425917813), 'roc_auc': np.float64(0.68932758096186)}\n",
      "Best val metrics: {'average_precision': np.float64(0.9517584634564382), 'accuracy': 0.9034991160479002, 'f1': np.float64(0.949303425917813), 'roc_auc': np.float64(0.6907087420005855)}\n",
      "Best test metrics: {'average_precision': np.float64(0.9153514004957831), 'accuracy': 0.8505909380276232, 'f1': np.float64(0.9192641340113671), 'roc_auc': np.float64(0.6613043174280391)}\n",
      "\n",
      "Number of Layers = 7\n"
     ]
    },
    {
     "name": "stderr",
     "output_type": "stream",
     "text": [
      "100%|██████████| 98/98 [00:19<00:00,  5.02it/s]\n"
     ]
    },
    {
     "name": "stdout",
     "output_type": "stream",
     "text": [
      "Epoch: 01, Train loss: 0.3033747375869751, Val metrics: {'average_precision': np.float64(0.9464520821149562), 'accuracy': 0.9034991160479002, 'f1': np.float64(0.949303425917813), 'roc_auc': np.float64(0.6734869964825585)}\n"
     ]
    },
    {
     "name": "stderr",
     "output_type": "stream",
     "text": [
      "100%|██████████| 98/98 [00:19<00:00,  5.13it/s]\n"
     ]
    },
    {
     "name": "stdout",
     "output_type": "stream",
     "text": [
      "Epoch: 02, Train loss: 0.29622079355239866, Val metrics: {'average_precision': np.float64(0.9503703444725752), 'accuracy': 0.9034991160479002, 'f1': np.float64(0.949303425917813), 'roc_auc': np.float64(0.6871730386543365)}\n"
     ]
    },
    {
     "name": "stderr",
     "output_type": "stream",
     "text": [
      "100%|██████████| 98/98 [00:19<00:00,  5.13it/s]\n"
     ]
    },
    {
     "name": "stdout",
     "output_type": "stream",
     "text": [
      "Epoch: 03, Train loss: 0.29579625522613523, Val metrics: {'average_precision': np.float64(0.9482786196313483), 'accuracy': 0.9034991160479002, 'f1': np.float64(0.949303425917813), 'roc_auc': np.float64(0.6816433472684551)}\n"
     ]
    },
    {
     "name": "stderr",
     "output_type": "stream",
     "text": [
      "100%|██████████| 98/98 [00:19<00:00,  5.13it/s]\n"
     ]
    },
    {
     "name": "stdout",
     "output_type": "stream",
     "text": [
      "Epoch: 04, Train loss: 0.29558452243804934, Val metrics: {'average_precision': np.float64(0.9526203469519099), 'accuracy': 0.9034991160479002, 'f1': np.float64(0.949303425917813), 'roc_auc': np.float64(0.6916478013381301)}\n"
     ]
    },
    {
     "name": "stderr",
     "output_type": "stream",
     "text": [
      "100%|██████████| 98/98 [00:19<00:00,  5.13it/s]\n"
     ]
    },
    {
     "name": "stdout",
     "output_type": "stream",
     "text": [
      "Epoch: 05, Train loss: 0.2949721086883545, Val metrics: {'average_precision': np.float64(0.9497643454368778), 'accuracy': 0.9034991160479002, 'f1': np.float64(0.949303425917813), 'roc_auc': np.float64(0.6863148052015142)}\n"
     ]
    },
    {
     "name": "stderr",
     "output_type": "stream",
     "text": [
      "100%|██████████| 98/98 [00:19<00:00,  5.13it/s]\n"
     ]
    },
    {
     "name": "stdout",
     "output_type": "stream",
     "text": [
      "Epoch: 06, Train loss: 0.29512376040458677, Val metrics: {'average_precision': np.float64(0.9507478880094506), 'accuracy': 0.9034991160479002, 'f1': np.float64(0.949303425917813), 'roc_auc': np.float64(0.689712829530265)}\n"
     ]
    },
    {
     "name": "stderr",
     "output_type": "stream",
     "text": [
      "100%|██████████| 98/98 [00:19<00:00,  5.05it/s]\n"
     ]
    },
    {
     "name": "stdout",
     "output_type": "stream",
     "text": [
      "Epoch: 07, Train loss: 0.29500192847251894, Val metrics: {'average_precision': np.float64(0.950213982409911), 'accuracy': 0.9034991160479002, 'f1': np.float64(0.949303425917813), 'roc_auc': np.float64(0.6878619059227284)}\n"
     ]
    },
    {
     "name": "stderr",
     "output_type": "stream",
     "text": [
      "100%|██████████| 98/98 [00:19<00:00,  5.11it/s]\n"
     ]
    },
    {
     "name": "stdout",
     "output_type": "stream",
     "text": [
      "Epoch: 08, Train loss: 0.29484689618110654, Val metrics: {'average_precision': np.float64(0.9505992622150246), 'accuracy': 0.9034991160479002, 'f1': np.float64(0.949303425917813), 'roc_auc': np.float64(0.6878377545077388)}\n"
     ]
    },
    {
     "name": "stderr",
     "output_type": "stream",
     "text": [
      "100%|██████████| 98/98 [00:19<00:00,  5.10it/s]\n"
     ]
    },
    {
     "name": "stdout",
     "output_type": "stream",
     "text": [
      "Epoch: 09, Train loss: 0.294773887052536, Val metrics: {'average_precision': np.float64(0.9510637316495767), 'accuracy': 0.9034991160479002, 'f1': np.float64(0.949303425917813), 'roc_auc': np.float64(0.6867596697990467)}\n"
     ]
    },
    {
     "name": "stderr",
     "output_type": "stream",
     "text": [
      "100%|██████████| 98/98 [00:19<00:00,  5.06it/s]\n"
     ]
    },
    {
     "name": "stdout",
     "output_type": "stream",
     "text": [
      "Epoch: 10, Train loss: 0.2947316271781921, Val metrics: {'average_precision': np.float64(0.9516346181417349), 'accuracy': 0.9034991160479002, 'f1': np.float64(0.949303425917813), 'roc_auc': np.float64(0.6886973406950335)}\n",
      "Best val metrics: {'average_precision': np.float64(0.9526216995002161), 'accuracy': 0.9034991160479002, 'f1': np.float64(0.949303425917813), 'roc_auc': np.float64(0.6916468186913907)}\n",
      "Best test metrics: {'average_precision': np.float64(0.9149809763903552), 'accuracy': 0.8505909380276232, 'f1': np.float64(0.9192641340113671), 'roc_auc': np.float64(0.6588656206652067)}\n",
      "\n",
      "Number of Layers = 8\n"
     ]
    },
    {
     "name": "stderr",
     "output_type": "stream",
     "text": [
      "100%|██████████| 98/98 [00:20<00:00,  4.76it/s]\n"
     ]
    },
    {
     "name": "stdout",
     "output_type": "stream",
     "text": [
      "Epoch: 01, Train loss: 0.3032815810108185, Val metrics: {'average_precision': np.float64(0.9481681710282921), 'accuracy': 0.9034991160479002, 'f1': np.float64(0.949303425917813), 'roc_auc': np.float64(0.677541888252443)}\n"
     ]
    },
    {
     "name": "stderr",
     "output_type": "stream",
     "text": [
      "100%|██████████| 98/98 [00:20<00:00,  4.74it/s]\n"
     ]
    },
    {
     "name": "stdout",
     "output_type": "stream",
     "text": [
      "Epoch: 02, Train loss: 0.2959813572883606, Val metrics: {'average_precision': np.float64(0.9502949292840142), 'accuracy': 0.9034991160479002, 'f1': np.float64(0.949303425917813), 'roc_auc': np.float64(0.6855365043181965)}\n"
     ]
    },
    {
     "name": "stderr",
     "output_type": "stream",
     "text": [
      "100%|██████████| 98/98 [00:20<00:00,  4.75it/s]\n"
     ]
    },
    {
     "name": "stdout",
     "output_type": "stream",
     "text": [
      "Epoch: 03, Train loss: 0.295036630525589, Val metrics: {'average_precision': np.float64(0.950466094358431), 'accuracy': 0.9034991160479002, 'f1': np.float64(0.949303425917813), 'roc_auc': np.float64(0.688085087968195)}\n"
     ]
    },
    {
     "name": "stderr",
     "output_type": "stream",
     "text": [
      "100%|██████████| 98/98 [00:20<00:00,  4.69it/s]\n"
     ]
    },
    {
     "name": "stdout",
     "output_type": "stream",
     "text": [
      "Epoch: 04, Train loss: 0.29491184187889097, Val metrics: {'average_precision': np.float64(0.9498929260655657), 'accuracy': 0.9034991160479002, 'f1': np.float64(0.949303425917813), 'roc_auc': np.float64(0.686033410907976)}\n"
     ]
    },
    {
     "name": "stderr",
     "output_type": "stream",
     "text": [
      "100%|██████████| 98/98 [00:20<00:00,  4.75it/s]\n"
     ]
    },
    {
     "name": "stdout",
     "output_type": "stream",
     "text": [
      "Epoch: 05, Train loss: 0.2951403332233429, Val metrics: {'average_precision': np.float64(0.9503928799251115), 'accuracy': 0.9034991160479002, 'f1': np.float64(0.949303425917813), 'roc_auc': np.float64(0.6878728554149667)}\n"
     ]
    },
    {
     "name": "stderr",
     "output_type": "stream",
     "text": [
      "100%|██████████| 98/98 [00:20<00:00,  4.77it/s]\n"
     ]
    },
    {
     "name": "stdout",
     "output_type": "stream",
     "text": [
      "Epoch: 06, Train loss: 0.2948067297935486, Val metrics: {'average_precision': np.float64(0.9508284122441484), 'accuracy': 0.9034991160479002, 'f1': np.float64(0.949303425917813), 'roc_auc': np.float64(0.688696811086726)}\n"
     ]
    },
    {
     "name": "stderr",
     "output_type": "stream",
     "text": [
      "100%|██████████| 98/98 [00:20<00:00,  4.74it/s]\n"
     ]
    },
    {
     "name": "stdout",
     "output_type": "stream",
     "text": [
      "Epoch: 07, Train loss: 0.2947564647483826, Val metrics: {'average_precision': np.float64(0.9511058057329792), 'accuracy': 0.9034991160479002, 'f1': np.float64(0.949303425917813), 'roc_auc': np.float64(0.689493061225094)}\n"
     ]
    },
    {
     "name": "stderr",
     "output_type": "stream",
     "text": [
      "100%|██████████| 98/98 [00:21<00:00,  4.66it/s]\n"
     ]
    },
    {
     "name": "stdout",
     "output_type": "stream",
     "text": [
      "Epoch: 08, Train loss: 0.2949414488697052, Val metrics: {'average_precision': np.float64(0.9504713108805993), 'accuracy': 0.9034991160479002, 'f1': np.float64(0.949303425917813), 'roc_auc': np.float64(0.6877294272759611)}\n"
     ]
    },
    {
     "name": "stderr",
     "output_type": "stream",
     "text": [
      "100%|██████████| 98/98 [00:20<00:00,  4.74it/s]\n"
     ]
    },
    {
     "name": "stdout",
     "output_type": "stream",
     "text": [
      "Epoch: 09, Train loss: 0.294719252576828, Val metrics: {'average_precision': np.float64(0.9516043826121952), 'accuracy': 0.9034991160479002, 'f1': np.float64(0.949303425917813), 'roc_auc': np.float64(0.6912342665814427)}\n"
     ]
    },
    {
     "name": "stderr",
     "output_type": "stream",
     "text": [
      "100%|██████████| 98/98 [00:20<00:00,  4.75it/s]\n"
     ]
    },
    {
     "name": "stdout",
     "output_type": "stream",
     "text": [
      "Epoch: 10, Train loss: 0.2950069156742096, Val metrics: {'average_precision': np.float64(0.9523897402990893), 'accuracy': 0.9034991160479002, 'f1': np.float64(0.949303425917813), 'roc_auc': np.float64(0.690893651869802)}\n",
      "Best val metrics: {'average_precision': np.float64(0.9516138598576946), 'accuracy': 0.9034991160479002, 'f1': np.float64(0.949303425917813), 'roc_auc': np.float64(0.6912358490255424)}\n",
      "Best test metrics: {'average_precision': np.float64(0.9145157602556949), 'accuracy': 0.8505909380276232, 'f1': np.float64(0.9192641340113671), 'roc_auc': np.float64(0.6614629866939054)}\n",
      "\n",
      "Number of Layers = 9\n"
     ]
    },
    {
     "name": "stderr",
     "output_type": "stream",
     "text": [
      "100%|██████████| 98/98 [00:22<00:00,  4.45it/s]\n"
     ]
    },
    {
     "name": "stdout",
     "output_type": "stream",
     "text": [
      "Epoch: 01, Train loss: 0.3025192330741882, Val metrics: {'average_precision': np.float64(0.9483814701396253), 'accuracy': 0.9034991160479002, 'f1': np.float64(0.949303425917813), 'roc_auc': np.float64(0.680222191231274)}\n"
     ]
    },
    {
     "name": "stderr",
     "output_type": "stream",
     "text": [
      "100%|██████████| 98/98 [00:22<00:00,  4.39it/s]\n"
     ]
    },
    {
     "name": "stdout",
     "output_type": "stream",
     "text": [
      "Epoch: 02, Train loss: 0.2958023808002472, Val metrics: {'average_precision': np.float64(0.9498991635954748), 'accuracy': 0.9034991160479002, 'f1': np.float64(0.949303425917813), 'roc_auc': np.float64(0.6834207765568767)}\n"
     ]
    },
    {
     "name": "stderr",
     "output_type": "stream",
     "text": [
      "100%|██████████| 98/98 [00:22<00:00,  4.44it/s]\n"
     ]
    },
    {
     "name": "stdout",
     "output_type": "stream",
     "text": [
      "Epoch: 03, Train loss: 0.2957021852827072, Val metrics: {'average_precision': np.float64(0.9510586913796049), 'accuracy': 0.9034991160479002, 'f1': np.float64(0.949303425917813), 'roc_auc': np.float64(0.6902542040754112)}\n"
     ]
    },
    {
     "name": "stderr",
     "output_type": "stream",
     "text": [
      "100%|██████████| 98/98 [00:22<00:00,  4.45it/s]\n"
     ]
    },
    {
     "name": "stdout",
     "output_type": "stream",
     "text": [
      "Epoch: 04, Train loss: 0.29503731501579283, Val metrics: {'average_precision': np.float64(0.9504236948085575), 'accuracy': 0.9034991160479002, 'f1': np.float64(0.949303425917813), 'roc_auc': np.float64(0.6894666573795915)}\n"
     ]
    },
    {
     "name": "stderr",
     "output_type": "stream",
     "text": [
      "100%|██████████| 98/98 [00:22<00:00,  4.44it/s]\n"
     ]
    },
    {
     "name": "stdout",
     "output_type": "stream",
     "text": [
      "Epoch: 05, Train loss: 0.29514624671936035, Val metrics: {'average_precision': np.float64(0.9480794155622846), 'accuracy': 0.9034991160479002, 'f1': np.float64(0.949303425917813), 'roc_auc': np.float64(0.679468360804095)}\n"
     ]
    },
    {
     "name": "stderr",
     "output_type": "stream",
     "text": [
      "100%|██████████| 98/98 [00:21<00:00,  4.47it/s]\n"
     ]
    },
    {
     "name": "stdout",
     "output_type": "stream",
     "text": [
      "Epoch: 06, Train loss: 0.2955756003475189, Val metrics: {'average_precision': np.float64(0.9510813209221751), 'accuracy': 0.9034991160479002, 'f1': np.float64(0.949303425917813), 'roc_auc': np.float64(0.6881532862042344)}\n"
     ]
    },
    {
     "name": "stderr",
     "output_type": "stream",
     "text": [
      "100%|██████████| 98/98 [00:22<00:00,  4.39it/s]\n"
     ]
    },
    {
     "name": "stdout",
     "output_type": "stream",
     "text": [
      "Epoch: 07, Train loss: 0.2950395352935791, Val metrics: {'average_precision': np.float64(0.950738492775791), 'accuracy': 0.9034991160479002, 'f1': np.float64(0.949303425917813), 'roc_auc': np.float64(0.6898213545675552)}\n"
     ]
    },
    {
     "name": "stderr",
     "output_type": "stream",
     "text": [
      "100%|██████████| 98/98 [00:22<00:00,  4.44it/s]\n"
     ]
    },
    {
     "name": "stdout",
     "output_type": "stream",
     "text": [
      "Epoch: 08, Train loss: 0.29482030385017394, Val metrics: {'average_precision': np.float64(0.9500149369260753), 'accuracy': 0.9034991160479002, 'f1': np.float64(0.949303425917813), 'roc_auc': np.float64(0.6890239303577582)}\n"
     ]
    },
    {
     "name": "stderr",
     "output_type": "stream",
     "text": [
      "100%|██████████| 98/98 [00:22<00:00,  4.44it/s]\n"
     ]
    },
    {
     "name": "stdout",
     "output_type": "stream",
     "text": [
      "Epoch: 09, Train loss: 0.2945759368133545, Val metrics: {'average_precision': np.float64(0.9514914632917656), 'accuracy': 0.9034991160479002, 'f1': np.float64(0.949303425917813), 'roc_auc': np.float64(0.6898950913579435)}\n"
     ]
    },
    {
     "name": "stderr",
     "output_type": "stream",
     "text": [
      "100%|██████████| 98/98 [00:22<00:00,  4.41it/s]\n"
     ]
    },
    {
     "name": "stdout",
     "output_type": "stream",
     "text": [
      "Epoch: 10, Train loss: 0.2947147167682648, Val metrics: {'average_precision': np.float64(0.9515063798272), 'accuracy': 0.9034991160479002, 'f1': np.float64(0.949303425917813), 'roc_auc': np.float64(0.6909547035841006)}\n",
      "Best val metrics: {'average_precision': np.float64(0.9515048991777844), 'accuracy': 0.9034991160479002, 'f1': np.float64(0.949303425917813), 'roc_auc': np.float64(0.6909573516256384)}\n",
      "Best test metrics: {'average_precision': np.float64(0.913196698979949), 'accuracy': 0.8505909380276232, 'f1': np.float64(0.9192641340113671), 'roc_auc': np.float64(0.6590319427798637)}\n",
      "\n",
      "Number of Layers = 10\n"
     ]
    },
    {
     "name": "stderr",
     "output_type": "stream",
     "text": [
      "100%|██████████| 98/98 [00:23<00:00,  4.12it/s]\n"
     ]
    },
    {
     "name": "stdout",
     "output_type": "stream",
     "text": [
      "Epoch: 01, Train loss: 0.3021432099342346, Val metrics: {'average_precision': np.float64(0.9484467563653451), 'accuracy': 0.9034991160479002, 'f1': np.float64(0.949303425917813), 'roc_auc': np.float64(0.6812934548401975)}\n"
     ]
    },
    {
     "name": "stderr",
     "output_type": "stream",
     "text": [
      "100%|██████████| 98/98 [00:23<00:00,  4.17it/s]\n"
     ]
    },
    {
     "name": "stdout",
     "output_type": "stream",
     "text": [
      "Epoch: 02, Train loss: 0.2960095536994934, Val metrics: {'average_precision': np.float64(0.9496434786008663), 'accuracy': 0.9034991160479002, 'f1': np.float64(0.949303425917813), 'roc_auc': np.float64(0.6850010447959551)}\n"
     ]
    },
    {
     "name": "stderr",
     "output_type": "stream",
     "text": [
      "100%|██████████| 98/98 [00:23<00:00,  4.13it/s]\n"
     ]
    },
    {
     "name": "stdout",
     "output_type": "stream",
     "text": [
      "Epoch: 03, Train loss: 0.2950097000312805, Val metrics: {'average_precision': np.float64(0.9507540744259629), 'accuracy': 0.9034991160479002, 'f1': np.float64(0.949303425917813), 'roc_auc': np.float64(0.6900151082574256)}\n"
     ]
    },
    {
     "name": "stderr",
     "output_type": "stream",
     "text": [
      "100%|██████████| 98/98 [00:23<00:00,  4.16it/s]\n"
     ]
    },
    {
     "name": "stdout",
     "output_type": "stream",
     "text": [
      "Epoch: 04, Train loss: 0.29525656801223754, Val metrics: {'average_precision': np.float64(0.9490627214565539), 'accuracy': 0.9034991160479002, 'f1': np.float64(0.949303425917813), 'roc_auc': np.float64(0.6832045687509302)}\n"
     ]
    },
    {
     "name": "stderr",
     "output_type": "stream",
     "text": [
      "100%|██████████| 98/98 [00:23<00:00,  4.12it/s]\n"
     ]
    },
    {
     "name": "stdout",
     "output_type": "stream",
     "text": [
      "Epoch: 05, Train loss: 0.29545194519042967, Val metrics: {'average_precision': np.float64(0.9508024413787741), 'accuracy': 0.9034991160479002, 'f1': np.float64(0.949303425917813), 'roc_auc': np.float64(0.6881617407946866)}\n"
     ]
    },
    {
     "name": "stderr",
     "output_type": "stream",
     "text": [
      "100%|██████████| 98/98 [00:23<00:00,  4.15it/s]\n"
     ]
    },
    {
     "name": "stdout",
     "output_type": "stream",
     "text": [
      "Epoch: 06, Train loss: 0.29506825013160703, Val metrics: {'average_precision': np.float64(0.9501055692697451), 'accuracy': 0.9034991160479002, 'f1': np.float64(0.949303425917813), 'roc_auc': np.float64(0.6846619997667681)}\n"
     ]
    },
    {
     "name": "stderr",
     "output_type": "stream",
     "text": [
      "100%|██████████| 98/98 [00:23<00:00,  4.16it/s]\n"
     ]
    },
    {
     "name": "stdout",
     "output_type": "stream",
     "text": [
      "Epoch: 07, Train loss: 0.29480674755096437, Val metrics: {'average_precision': np.float64(0.950358023270185), 'accuracy': 0.9034991160479002, 'f1': np.float64(0.949303425917813), 'roc_auc': np.float64(0.6871223111116238)}\n"
     ]
    },
    {
     "name": "stderr",
     "output_type": "stream",
     "text": [
      "100%|██████████| 98/98 [00:23<00:00,  4.17it/s]\n"
     ]
    },
    {
     "name": "stdout",
     "output_type": "stream",
     "text": [
      "Epoch: 08, Train loss: 0.2949229953956604, Val metrics: {'average_precision': np.float64(0.9504463615597012), 'accuracy': 0.9034991160479002, 'f1': np.float64(0.949303425917813), 'roc_auc': np.float64(0.6860943477674611)}\n"
     ]
    },
    {
     "name": "stderr",
     "output_type": "stream",
     "text": [
      "100%|██████████| 98/98 [00:23<00:00,  4.16it/s]\n"
     ]
    },
    {
     "name": "stdout",
     "output_type": "stream",
     "text": [
      "Epoch: 09, Train loss: 0.2948346040248871, Val metrics: {'average_precision': np.float64(0.9508260595916583), 'accuracy': 0.9034991160479002, 'f1': np.float64(0.949303425917813), 'roc_auc': np.float64(0.6877509497918818)}\n"
     ]
    },
    {
     "name": "stderr",
     "output_type": "stream",
     "text": [
      "100%|██████████| 98/98 [00:23<00:00,  4.11it/s]\n"
     ]
    },
    {
     "name": "stdout",
     "output_type": "stream",
     "text": [
      "Epoch: 10, Train loss: 0.29469165494918825, Val metrics: {'average_precision': np.float64(0.9519162678106913), 'accuracy': 0.9034991160479002, 'f1': np.float64(0.949303425917813), 'roc_auc': np.float64(0.690905073542941)}\n",
      "Best val metrics: {'average_precision': np.float64(0.9519068598188958), 'accuracy': 0.9034991160479002, 'f1': np.float64(0.949303425917813), 'roc_auc': np.float64(0.6909085064257057)}\n",
      "Best test metrics: {'average_precision': np.float64(0.9137193852647978), 'accuracy': 0.8505909380276232, 'f1': np.float64(0.9192641340113671), 'roc_auc': np.float64(0.6605761996535233)}\n"
     ]
    },
    {
     "data": {
      "image/png": "[encoded data removed]",
      "text/plain": [
       "<Figure size 1200x600 with 1 Axes>"
      ]
     },
     "metadata": {},
     "output_type": "display_data"
    }
   ],
   "source": [
    "from src.models.viz import plot_roc_auc_vs_layers\n",
    "\n",
    "# Iterate for each number of layers\n",
    "layers_list = []\n",
    "roc_auc_scores = []\n",
    "for layers in range(1, 11):\n",
    "    print(f\"\\nNumber of Layers = {layers}\")\n",
    "\n",
    "    # Define a new model, don't load in old weights.\n",
    "    num_model = RDLModel(\n",
    "        data=data,\n",
    "        col_stats_dict=col_stats_dict,\n",
    "        num_layers=layers,\n",
    "        channels=128,\n",
    "        out_channels=1,\n",
    "        aggr=\"sum\",\n",
    "        norm=\"batch_norm\",\n",
    "    ).to(device)\n",
    "    num_optimizer = torch.optim.Adam(num_model.parameters(), lr=0.005)\n",
    "    num_state_dict = training_run(\n",
    "        num_model,\n",
    "        device,\n",
    "        num_optimizer,\n",
    "        task,\n",
    "        loader_dict,\n",
    "        val_table,\n",
    "        loss_fn,\n",
    "        entity_table,\n",
    "        epochs=10,\n",
    "    )\n",
    "    num_model.load_state_dict(num_state_dict)\n",
    "\n",
    "    # Evaluate on val and test set\n",
    "    val_metrics = eval_model(num_model, loader_dict, \"val\", task, device, val_table)\n",
    "    test_metrics = eval_model(num_model, loader_dict, \"test\", task, device, None)\n",
    "\n",
    "    # Store the number of layers and corresponding test ROC AUC\n",
    "    layers_list.append(layers)\n",
    "    roc_auc_scores.append(test_metrics[\"roc_auc\"])\n",
    "plot_roc_auc_vs_layers(layers_list, roc_auc_scores)"
   ]
  },
  {
   "cell_type": "markdown",
   "metadata": {},
   "source": [
    "### Challenge\n",
    "Does this trend necessarily hold on larger and more diverse datasets? Depending on your compute availability, try out using different datasets, like `rel-amazon`, as well as across different types of tasks!"
   ]
  },
  {
   "cell_type": "markdown",
   "metadata": {},
   "source": [
    "### What about different GNN layers?\n",
    "Finally, let's explore the use of different GNN layers. In particular, let's explore the use of Graph Attention Networks, also known as GAT.\n",
    "\n",
    "In GAT, for a singular node, different importance is assigned to messages coming from different nodes. In particular, the formulation takes inspiration from cognitive attention, focusing only on important parts of the input data.\n",
    "\n",
    "To start, we first define our attention mechanism $a$. Then, for given nodes $u$ and $v$, at layer $l$, we we define the attention coefficients using a weight matrix $W^{l}$ and node embeddings $h_u$ and $h_v$ as follows:\n",
    "\n",
    "$e_{v_u} := a(W^{l} h_{u}^{(l - 1)}, W^{l} h_{v}^{(l - 1)})$.\n",
    "\n",
    "Then, we normalize all of the attention coefficients $e_{v, u}$ using softmax to obtain our attention weights $\\alpha_{v, u}$:\n",
    "\n",
    "$\\alpha_{v, u} := \\frac{\\exp e_{v, u}}{\\sum_{k \\in N(v)} \\exp e_{v, k}}$.\n",
    "\n",
    "Finally, we use the attention weights in the final update for our embedding:\n",
    "\n",
    "$h_{v}^{(l)} := \\sigma( \\sum_{u \\in N(v)} \\alpha_{v, u} W^{l} h_{u}^{(l - 1)})$.\n",
    "\n",
    "Overall, the benefits of attention are that we are able to implicitly specify different importance values of neighbors. From a computational standpoint, attention is also storage and computationally efficient.\n"
   ]
  },
  {
   "cell_type": "markdown",
   "metadata": {},
   "source": [
    "Let's now use GAT in our RDL pipeline. Note that this comes out of the box already for us with PyG, making our lives a lot easier."
   ]
  },
  {
   "cell_type": "code",
   "execution_count": 21,
   "metadata": {},
   "outputs": [
    {
     "name": "stderr",
     "output_type": "stream",
     "text": [
      "100%|██████████| 98/98 [00:14<00:00,  6.65it/s]\n"
     ]
    },
    {
     "name": "stdout",
     "output_type": "stream",
     "text": [
      "Epoch: 01, Train loss: 0.3092704020500183, Val metrics: {'average_precision': np.float64(0.931314485176838), 'accuracy': 0.9034991160479002, 'f1': np.float64(0.949303425917813), 'roc_auc': np.float64(0.6141996754509245)}\n"
     ]
    },
    {
     "name": "stderr",
     "output_type": "stream",
     "text": [
      "100%|██████████| 98/98 [00:14<00:00,  6.75it/s]\n"
     ]
    },
    {
     "name": "stdout",
     "output_type": "stream",
     "text": [
      "Epoch: 02, Train loss: 0.30342929342746733, Val metrics: {'average_precision': np.float64(0.9331149311202773), 'accuracy': 0.9034991160479002, 'f1': np.float64(0.949303425917813), 'roc_auc': np.float64(0.6242724808963903)}\n"
     ]
    },
    {
     "name": "stderr",
     "output_type": "stream",
     "text": [
      "100%|██████████| 98/98 [00:14<00:00,  6.74it/s]\n"
     ]
    },
    {
     "name": "stdout",
     "output_type": "stream",
     "text": [
      "Epoch: 03, Train loss: 0.300401547832489, Val metrics: {'average_precision': np.float64(0.9406272047041391), 'accuracy': 0.9034991160479002, 'f1': np.float64(0.949303425917813), 'roc_auc': np.float64(0.6517649139422232)}\n"
     ]
    },
    {
     "name": "stderr",
     "output_type": "stream",
     "text": [
      "100%|██████████| 98/98 [00:14<00:00,  6.79it/s]\n"
     ]
    },
    {
     "name": "stdout",
     "output_type": "stream",
     "text": [
      "Epoch: 04, Train loss: 0.29793893871307375, Val metrics: {'average_precision': np.float64(0.940516241002927), 'accuracy': 0.9034991160479002, 'f1': np.float64(0.949303425917813), 'roc_auc': np.float64(0.6494260105162599)}\n"
     ]
    },
    {
     "name": "stderr",
     "output_type": "stream",
     "text": [
      "100%|██████████| 98/98 [00:14<00:00,  6.75it/s]\n"
     ]
    },
    {
     "name": "stdout",
     "output_type": "stream",
     "text": [
      "Epoch: 05, Train loss: 0.2977857624053955, Val metrics: {'average_precision': np.float64(0.9419001927608364), 'accuracy': 0.9034991160479002, 'f1': np.float64(0.949303425917813), 'roc_auc': np.float64(0.6557761545020828)}\n"
     ]
    },
    {
     "name": "stderr",
     "output_type": "stream",
     "text": [
      "100%|██████████| 98/98 [00:14<00:00,  6.67it/s]\n"
     ]
    },
    {
     "name": "stdout",
     "output_type": "stream",
     "text": [
      "Epoch: 06, Train loss: 0.29764677718162535, Val metrics: {'average_precision': np.float64(0.9404842902080781), 'accuracy': 0.9034991160479002, 'f1': np.float64(0.949303425917813), 'roc_auc': np.float64(0.6481631435548112)}\n"
     ]
    },
    {
     "name": "stderr",
     "output_type": "stream",
     "text": [
      "100%|██████████| 98/98 [00:14<00:00,  6.73it/s]\n"
     ]
    },
    {
     "name": "stdout",
     "output_type": "stream",
     "text": [
      "Epoch: 07, Train loss: 0.29678841374874115, Val metrics: {'average_precision': np.float64(0.9418272280347302), 'accuracy': 0.9034991160479002, 'f1': np.float64(0.949303425917813), 'roc_auc': np.float64(0.655986957750963)}\n"
     ]
    },
    {
     "name": "stderr",
     "output_type": "stream",
     "text": [
      "100%|██████████| 98/98 [00:14<00:00,  6.79it/s]\n"
     ]
    },
    {
     "name": "stdout",
     "output_type": "stream",
     "text": [
      "Epoch: 08, Train loss: 0.2965826305580139, Val metrics: {'average_precision': np.float64(0.942478899658439), 'accuracy': 0.9034991160479002, 'f1': np.float64(0.949303425917813), 'roc_auc': np.float64(0.6601548794191634)}\n"
     ]
    },
    {
     "name": "stderr",
     "output_type": "stream",
     "text": [
      "100%|██████████| 98/98 [00:14<00:00,  6.76it/s]\n"
     ]
    },
    {
     "name": "stdout",
     "output_type": "stream",
     "text": [
      "Epoch: 09, Train loss: 0.29613960445404053, Val metrics: {'average_precision': np.float64(0.942635300454244), 'accuracy': 0.9034991160479002, 'f1': np.float64(0.949303425917813), 'roc_auc': np.float64(0.6588633051351153)}\n"
     ]
    },
    {
     "name": "stderr",
     "output_type": "stream",
     "text": [
      "100%|██████████| 98/98 [00:14<00:00,  6.78it/s]\n"
     ]
    },
    {
     "name": "stdout",
     "output_type": "stream",
     "text": [
      "Epoch: 10, Train loss: 0.29491244676589967, Val metrics: {'average_precision': np.float64(0.9424932122383862), 'accuracy': 0.9034991160479002, 'f1': np.float64(0.949303425917813), 'roc_auc': np.float64(0.6589056929421895)}\n",
      "Best val metrics: {'average_precision': np.float64(0.9422258012274802), 'accuracy': 0.9034991160479002, 'f1': np.float64(0.949303425917813), 'roc_auc': np.float64(0.6597603276108497)}\n",
      "Best test metrics: {'average_precision': np.float64(0.9040323753027851), 'accuracy': 0.8505909380276232, 'f1': np.float64(0.9192641340113671), 'roc_auc': np.float64(0.6478599409673892)}\n"
     ]
    },
    {
     "data": {
      "text/plain": [
       "{'average_precision': np.float64(0.9040323753027851),\n",
       " 'accuracy': 0.8505909380276232,\n",
       " 'f1': np.float64(0.9192641340113671),\n",
       " 'roc_auc': np.float64(0.6478599409673892)}"
      ]
     },
     "execution_count": 21,
     "metadata": {},
     "output_type": "execute_result"
    }
   ],
   "source": [
    "# Define a new model, don't load in old weights.\n",
    "from src.models.rdl.gat import RDLGATModel\n",
    "\n",
    "gcn_model = RDLGATModel(\n",
    "    data=data,\n",
    "    col_stats_dict=col_stats_dict,\n",
    "    num_layers=2,\n",
    "    channels=128,\n",
    "    out_channels=1,\n",
    "    aggr=\"sum\",\n",
    "    norm=\"batch_norm\",\n",
    ").to(device)\n",
    "gcn_optimizer = torch.optim.Adam(gcn_model.parameters(), lr=0.005)\n",
    "gcn_state_dict = training_run(\n",
    "    gcn_model,\n",
    "    device,\n",
    "    gcn_optimizer,\n",
    "    task,\n",
    "    loader_dict,\n",
    "    val_table,\n",
    "    loss_fn,\n",
    "    entity_table,\n",
    "    epochs=10,\n",
    ")\n",
    "gcn_model.load_state_dict(gcn_state_dict)\n",
    "\n",
    "# Evaluate on val and test set\n",
    "eval_model(gcn_model, loader_dict, \"val\", task, device, val_table)\n",
    "eval_model(gcn_model, loader_dict, \"test\", task, device, None)"
   ]
  },
  {
   "cell_type": "markdown",
   "metadata": {},
   "source": [
    "As we can see, we see no change from using GraphSAGE. This could perhaps be a consequence of the size of the dataset, consistent with other RDL pipelines -- even those with GraphSAGE but with different numbers of layers, for example -- but more exploration can be done.\n",
    "\n",
    "### Challenge\n",
    "Try performing all the above experiments with the GAT architecture instead? Does zero-shot/finetuning behavior differ? What about adding or subtracting layers? Definitely try it out!"
   ]
  },
  {
   "cell_type": "markdown",
   "metadata": {},
   "source": [
    "## Conclusion\n",
    "\n",
    "We hope you enjoyed going through this tutorial! Be sure to try out the challenges!"
   ]
  }
 ],
 "metadata": {
  "accelerator": "GPU",
  "colab": {
   "authorship_tag": "ABX9TyPZLbeQ8nLws8bu/8tbPPMT",
   "gpuType": "T4",
   "provenance": []
  },
  "kernelspec": {
   "display_name": "relben",
   "language": "python",
   "name": "python3"
  },
  "language_info": {
   "codemirror_mode": {
    "name": "ipython",
    "version": 3
   },
   "file_extension": ".py",
   "mimetype": "text/x-python",
   "name": "python",
   "nbconvert_exporter": "python",
   "pygments_lexer": "ipython3",
   "version": "3.10.15"
  }
 },
 "nbformat": 4,
 "nbformat_minor": 0
}
